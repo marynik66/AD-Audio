{
  "nbformat": 4,
  "nbformat_minor": 0,
  "metadata": {
    "colab": {
      "name": "Vggish_All Experiments.ipynb",
      "provenance": [],
      "collapsed_sections": [],
      "toc_visible": true,
      "machine_shape": "hm"
    },
    "kernelspec": {
      "name": "python3",
      "display_name": "Python 3"
    },
    "accelerator": "GPU"
  },
  "cells": [
    {
      "cell_type": "code",
      "metadata": {
        "id": "J2fooOhpUztc",
        "colab_type": "code",
        "colab": {
          "base_uri": "https://localhost:8080/",
          "height": 34
        },
        "outputId": "2e6d4574-889f-48cf-c905-b6f1293961dd"
      },
      "source": [
        "from google.colab import drive\n",
        "drive.mount('/content/drive')"
      ],
      "execution_count": null,
      "outputs": [
        {
          "output_type": "stream",
          "text": [
            "Mounted at /content/drive\n"
          ],
          "name": "stdout"
        }
      ]
    },
    {
      "cell_type": "markdown",
      "metadata": {
        "id": "iOtzneCaS624",
        "colab_type": "text"
      },
      "source": [
        "\n",
        "**Vggish training code:**"
      ]
    },
    {
      "cell_type": "code",
      "metadata": {
        "id": "SIofbRyWO123",
        "colab_type": "code",
        "colab": {
          "base_uri": "https://localhost:8080/",
          "height": 34
        },
        "outputId": "f5c1f7cf-8992-4c01-87f1-eb8010c8e46e"
      },
      "source": [
        "%tensorflow_version 1.x"
      ],
      "execution_count": null,
      "outputs": [
        {
          "output_type": "stream",
          "text": [
            "TensorFlow 1.x selected.\n"
          ],
          "name": "stdout"
        }
      ]
    },
    {
      "cell_type": "code",
      "metadata": {
        "id": "30gha4CSVQT_",
        "colab_type": "code",
        "colab": {
          "base_uri": "https://localhost:8080/",
          "height": 717
        },
        "outputId": "ed79dc70-d305-4edb-d087-1813faed1269"
      },
      "source": [
        "!pip install numpy scipy\n",
        "!pip install resampy tensorflow six"
      ],
      "execution_count": null,
      "outputs": [
        {
          "output_type": "stream",
          "text": [
            "Requirement already satisfied: numpy in /usr/local/lib/python3.6/dist-packages (1.18.5)\n",
            "Requirement already satisfied: scipy in /usr/local/lib/python3.6/dist-packages (1.4.1)\n",
            "Requirement already satisfied: resampy in /usr/local/lib/python3.6/dist-packages (0.2.2)\n",
            "Requirement already satisfied: tensorflow in /tensorflow-1.15.2/python3.6 (1.15.2)\n",
            "Requirement already satisfied: six in /usr/local/lib/python3.6/dist-packages (1.15.0)\n",
            "Requirement already satisfied: scipy>=0.13 in /usr/local/lib/python3.6/dist-packages (from resampy) (1.4.1)\n",
            "Requirement already satisfied: numpy>=1.10 in /usr/local/lib/python3.6/dist-packages (from resampy) (1.18.5)\n",
            "Requirement already satisfied: numba>=0.32 in /usr/local/lib/python3.6/dist-packages (from resampy) (0.48.0)\n",
            "Collecting gast==0.2.2\n",
            "  Downloading https://files.pythonhosted.org/packages/4e/35/11749bf99b2d4e3cceb4d55ca22590b0d7c2c62b9de38ac4a4a7f4687421/gast-0.2.2.tar.gz\n",
            "Requirement already satisfied: termcolor>=1.1.0 in /usr/local/lib/python3.6/dist-packages (from tensorflow) (1.1.0)\n",
            "Requirement already satisfied: tensorflow-estimator==1.15.1 in /tensorflow-1.15.2/python3.6 (from tensorflow) (1.15.1)\n",
            "Requirement already satisfied: wrapt>=1.11.1 in /usr/local/lib/python3.6/dist-packages (from tensorflow) (1.12.1)\n",
            "Requirement already satisfied: protobuf>=3.6.1 in /usr/local/lib/python3.6/dist-packages (from tensorflow) (3.12.4)\n",
            "Requirement already satisfied: keras-preprocessing>=1.0.5 in /usr/local/lib/python3.6/dist-packages (from tensorflow) (1.1.2)\n",
            "Requirement already satisfied: wheel>=0.26; python_version >= \"3\" in /usr/local/lib/python3.6/dist-packages (from tensorflow) (0.34.2)\n",
            "Requirement already satisfied: keras-applications>=1.0.8 in /tensorflow-1.15.2/python3.6 (from tensorflow) (1.0.8)\n",
            "Requirement already satisfied: grpcio>=1.8.6 in /usr/local/lib/python3.6/dist-packages (from tensorflow) (1.31.0)\n",
            "Requirement already satisfied: opt-einsum>=2.3.2 in /usr/local/lib/python3.6/dist-packages (from tensorflow) (3.3.0)\n",
            "Requirement already satisfied: tensorboard<1.16.0,>=1.15.0 in /tensorflow-1.15.2/python3.6 (from tensorflow) (1.15.0)\n",
            "Requirement already satisfied: astor>=0.6.0 in /usr/local/lib/python3.6/dist-packages (from tensorflow) (0.8.1)\n",
            "Requirement already satisfied: google-pasta>=0.1.6 in /usr/local/lib/python3.6/dist-packages (from tensorflow) (0.2.0)\n",
            "Requirement already satisfied: absl-py>=0.7.0 in /usr/local/lib/python3.6/dist-packages (from tensorflow) (0.9.0)\n",
            "Requirement already satisfied: llvmlite<0.32.0,>=0.31.0dev0 in /usr/local/lib/python3.6/dist-packages (from numba>=0.32->resampy) (0.31.0)\n",
            "Requirement already satisfied: setuptools in /usr/local/lib/python3.6/dist-packages (from numba>=0.32->resampy) (49.2.0)\n",
            "Requirement already satisfied: h5py in /usr/local/lib/python3.6/dist-packages (from keras-applications>=1.0.8->tensorflow) (2.10.0)\n",
            "Requirement already satisfied: markdown>=2.6.8 in /usr/local/lib/python3.6/dist-packages (from tensorboard<1.16.0,>=1.15.0->tensorflow) (3.2.2)\n",
            "Requirement already satisfied: werkzeug>=0.11.15 in /usr/local/lib/python3.6/dist-packages (from tensorboard<1.16.0,>=1.15.0->tensorflow) (1.0.1)\n",
            "Requirement already satisfied: importlib-metadata; python_version < \"3.8\" in /usr/local/lib/python3.6/dist-packages (from markdown>=2.6.8->tensorboard<1.16.0,>=1.15.0->tensorflow) (1.7.0)\n",
            "Requirement already satisfied: zipp>=0.5 in /usr/local/lib/python3.6/dist-packages (from importlib-metadata; python_version < \"3.8\"->markdown>=2.6.8->tensorboard<1.16.0,>=1.15.0->tensorflow) (3.1.0)\n",
            "Building wheels for collected packages: gast\n",
            "  Building wheel for gast (setup.py) ... \u001b[?25l\u001b[?25hdone\n",
            "  Created wheel for gast: filename=gast-0.2.2-cp36-none-any.whl size=7540 sha256=75482f2d46839148c2b1fda2ed0c2534d546aadcec6a6619aed7d2a29f22d5d5\n",
            "  Stored in directory: /root/.cache/pip/wheels/5c/2e/7e/a1d4d4fcebe6c381f378ce7743a3ced3699feb89bcfbdadadd\n",
            "Successfully built gast\n",
            "Installing collected packages: gast\n",
            "  Found existing installation: gast 0.3.3\n",
            "    Uninstalling gast-0.3.3:\n",
            "      Successfully uninstalled gast-0.3.3\n",
            "Successfully installed gast-0.2.2\n"
          ],
          "name": "stdout"
        }
      ]
    },
    {
      "cell_type": "code",
      "metadata": {
        "id": "XIxpmAt6Y2Tq",
        "colab_type": "code",
        "colab": {
          "base_uri": "https://localhost:8080/",
          "height": 102
        },
        "outputId": "42d2b184-62da-4cf2-e7b8-6688f1b42851"
      },
      "source": [
        "!git clone https://github.com/tensorflow/models.git\n"
      ],
      "execution_count": null,
      "outputs": [
        {
          "output_type": "stream",
          "text": [
            "Cloning into 'models'...\n",
            "remote: Enumerating objects: 41935, done.\u001b[K\n",
            "remote: Total 41935 (delta 0), reused 0 (delta 0), pack-reused 41935\u001b[K\n",
            "Receiving objects: 100% (41935/41935), 549.25 MiB | 46.93 MiB/s, done.\n",
            "Resolving deltas: 100% (28498/28498), done.\n"
          ],
          "name": "stdout"
        }
      ]
    },
    {
      "cell_type": "code",
      "metadata": {
        "id": "URMcb0VsY5Hx",
        "colab_type": "code",
        "colab": {
          "base_uri": "https://localhost:8080/",
          "height": 34
        },
        "outputId": "fd01486e-d9a4-465c-f1f7-ce6d00893659"
      },
      "source": [
        "# Check to see where are in the kernel's file system.\n",
        "!pwd"
      ],
      "execution_count": null,
      "outputs": [
        {
          "output_type": "stream",
          "text": [
            "/content\n"
          ],
          "name": "stdout"
        }
      ]
    },
    {
      "cell_type": "code",
      "metadata": {
        "id": "Je4LFMZJY9oC",
        "colab_type": "code",
        "colab": {
          "base_uri": "https://localhost:8080/",
          "height": 119
        },
        "outputId": "05876203-e5f7-43d6-c629-64429a81feb1"
      },
      "source": [
        "# Grab the VGGish model\n",
        "!curl -O https://storage.googleapis.com/audioset/vggish_model.ckpt\n",
        "!curl -O https://storage.googleapis.com/audioset/vggish_pca_params.npz"
      ],
      "execution_count": null,
      "outputs": [
        {
          "output_type": "stream",
          "text": [
            "  % Total    % Received % Xferd  Average Speed   Time    Time     Time  Current\n",
            "                                 Dload  Upload   Total   Spent    Left  Speed\n",
            "100  277M  100  277M    0     0  90.1M      0  0:00:03  0:00:03 --:--:-- 90.1M\n",
            "  % Total    % Received % Xferd  Average Speed   Time    Time     Time  Current\n",
            "                                 Dload  Upload   Total   Spent    Left  Speed\n",
            "100 73020  100 73020    0     0   300k      0 --:--:-- --:--:-- --:--:--  299k\n"
          ],
          "name": "stdout"
        }
      ]
    },
    {
      "cell_type": "code",
      "metadata": {
        "id": "P6s1gBvaZAJ4",
        "colab_type": "code",
        "colab": {}
      },
      "source": [
        "!ls"
      ],
      "execution_count": null,
      "outputs": []
    },
    {
      "cell_type": "code",
      "metadata": {
        "id": "E7NFwtE2ZBI_",
        "colab_type": "code",
        "colab": {
          "base_uri": "https://localhost:8080/",
          "height": 34
        },
        "outputId": "fa487379-7a4e-4619-e354-3fcd307a419f"
      },
      "source": [
        "# Verify the location of the AudioSet source files\n",
        "!ls models/research/audioset"
      ],
      "execution_count": null,
      "outputs": [
        {
          "output_type": "stream",
          "text": [
            "README.md  vggish  yamnet\n"
          ],
          "name": "stdout"
        }
      ]
    },
    {
      "cell_type": "code",
      "metadata": {
        "id": "1hb9i03KZFSS",
        "colab_type": "code",
        "colab": {}
      },
      "source": [
        "!cp models/research/audioset/vggish/* ."
      ],
      "execution_count": null,
      "outputs": []
    },
    {
      "cell_type": "code",
      "metadata": {
        "id": "a5I4zZ5vZGFK",
        "colab_type": "code",
        "colab": {}
      },
      "source": [
        "!ls"
      ],
      "execution_count": null,
      "outputs": []
    },
    {
      "cell_type": "code",
      "metadata": {
        "id": "qyjGj_NeTN-G",
        "colab_type": "code",
        "colab": {
          "base_uri": "https://localhost:8080/",
          "height": 156
        },
        "outputId": "7eaa7dce-45a9-4090-cd32-97520995fe65"
      },
      "source": [
        "!pip install tf_slim"
      ],
      "execution_count": null,
      "outputs": [
        {
          "output_type": "stream",
          "text": [
            "Collecting tf_slim\n",
            "\u001b[?25l  Downloading https://files.pythonhosted.org/packages/02/97/b0f4a64df018ca018cc035d44f2ef08f91e2e8aa67271f6f19633a015ff7/tf_slim-1.1.0-py2.py3-none-any.whl (352kB)\n",
            "\u001b[K     |████████████████████████████████| 358kB 2.8MB/s \n",
            "\u001b[?25hRequirement already satisfied: absl-py>=0.2.2 in /usr/local/lib/python3.6/dist-packages (from tf_slim) (0.9.0)\n",
            "Requirement already satisfied: six in /usr/local/lib/python3.6/dist-packages (from absl-py>=0.2.2->tf_slim) (1.15.0)\n",
            "Installing collected packages: tf-slim\n",
            "Successfully installed tf-slim-1.1.0\n"
          ],
          "name": "stdout"
        }
      ]
    },
    {
      "cell_type": "code",
      "metadata": {
        "id": "gvHbk_XPZJyc",
        "colab_type": "code",
        "colab": {
          "base_uri": "https://localhost:8080/",
          "height": 139
        },
        "outputId": "8a5fb20f-bca8-4b32-d7bd-6d009a903438"
      },
      "source": [
        "!pip install soundfile"
      ],
      "execution_count": null,
      "outputs": [
        {
          "output_type": "stream",
          "text": [
            "Collecting soundfile\n",
            "  Downloading https://files.pythonhosted.org/packages/eb/f2/3cbbbf3b96fb9fa91582c438b574cff3f45b29c772f94c400e2c99ef5db9/SoundFile-0.10.3.post1-py2.py3-none-any.whl\n",
            "Requirement already satisfied: cffi>=1.0 in /usr/local/lib/python3.6/dist-packages (from soundfile) (1.14.1)\n",
            "Requirement already satisfied: pycparser in /usr/local/lib/python3.6/dist-packages (from cffi>=1.0->soundfile) (2.20)\n",
            "Installing collected packages: soundfile\n",
            "Successfully installed soundfile-0.10.3.post1\n"
          ],
          "name": "stdout"
        }
      ]
    },
    {
      "cell_type": "code",
      "metadata": {
        "id": "C26tkr75ZL59",
        "colab_type": "code",
        "colab": {}
      },
      "source": [
        "from vggish_smoke_test import *"
      ],
      "execution_count": null,
      "outputs": []
    },
    {
      "cell_type": "code",
      "metadata": {
        "id": "WQzg7OBZDxvG",
        "colab_type": "code",
        "colab": {
          "base_uri": "https://localhost:8080/",
          "height": 1000
        },
        "outputId": "3ae8fda9-419e-4743-89cb-d7b9a5c116e6"
      },
      "source": [
        "!python /content/vggish_train_demo.py"
      ],
      "execution_count": null,
      "outputs": [
        {
          "output_type": "stream",
          "text": [
            "2020-08-03 16:46:28.552248: I tensorflow/stream_executor/platform/default/dso_loader.cc:48] Successfully opened dynamic library libcudart.so.10.1\n",
            "WARNING:tensorflow:From /usr/local/lib/python3.6/dist-packages/tensorflow/python/compat/v2_compat.py:96: disable_resource_variables (from tensorflow.python.ops.variable_scope) is deprecated and will be removed in a future version.\n",
            "Instructions for updating:\n",
            "non-resource variables are not supported in the long term\n",
            "2020-08-03 16:46:30.419895: I tensorflow/stream_executor/platform/default/dso_loader.cc:48] Successfully opened dynamic library libcuda.so.1\n",
            "2020-08-03 16:46:30.422325: I tensorflow/stream_executor/cuda/cuda_gpu_executor.cc:982] successful NUMA node read from SysFS had negative value (-1), but there must be at least one NUMA node, so returning NUMA node zero\n",
            "2020-08-03 16:46:30.422808: I tensorflow/core/common_runtime/gpu/gpu_device.cc:1716] Found device 0 with properties: \n",
            "pciBusID: 0000:00:04.0 name: Tesla P100-PCIE-16GB computeCapability: 6.0\n",
            "coreClock: 1.3285GHz coreCount: 56 deviceMemorySize: 15.90GiB deviceMemoryBandwidth: 681.88GiB/s\n",
            "2020-08-03 16:46:30.422841: I tensorflow/stream_executor/platform/default/dso_loader.cc:48] Successfully opened dynamic library libcudart.so.10.1\n",
            "2020-08-03 16:46:30.424699: I tensorflow/stream_executor/platform/default/dso_loader.cc:48] Successfully opened dynamic library libcublas.so.10\n",
            "2020-08-03 16:46:30.434543: I tensorflow/stream_executor/platform/default/dso_loader.cc:48] Successfully opened dynamic library libcufft.so.10\n",
            "2020-08-03 16:46:30.434943: I tensorflow/stream_executor/platform/default/dso_loader.cc:48] Successfully opened dynamic library libcurand.so.10\n",
            "2020-08-03 16:46:30.443817: I tensorflow/stream_executor/platform/default/dso_loader.cc:48] Successfully opened dynamic library libcusolver.so.10\n",
            "2020-08-03 16:46:30.444892: I tensorflow/stream_executor/platform/default/dso_loader.cc:48] Successfully opened dynamic library libcusparse.so.10\n",
            "2020-08-03 16:46:30.453519: I tensorflow/stream_executor/platform/default/dso_loader.cc:48] Successfully opened dynamic library libcudnn.so.7\n",
            "2020-08-03 16:46:30.453681: I tensorflow/stream_executor/cuda/cuda_gpu_executor.cc:982] successful NUMA node read from SysFS had negative value (-1), but there must be at least one NUMA node, so returning NUMA node zero\n",
            "2020-08-03 16:46:30.454240: I tensorflow/stream_executor/cuda/cuda_gpu_executor.cc:982] successful NUMA node read from SysFS had negative value (-1), but there must be at least one NUMA node, so returning NUMA node zero\n",
            "2020-08-03 16:46:30.454676: I tensorflow/core/common_runtime/gpu/gpu_device.cc:1858] Adding visible gpu devices: 0\n",
            "2020-08-03 16:46:30.460735: I tensorflow/core/platform/profile_utils/cpu_utils.cc:104] CPU Frequency: 2200000000 Hz\n",
            "2020-08-03 16:46:30.461042: I tensorflow/compiler/xla/service/service.cc:168] XLA service 0x75208c0 initialized for platform Host (this does not guarantee that XLA will be used). Devices:\n",
            "2020-08-03 16:46:30.461072: I tensorflow/compiler/xla/service/service.cc:176]   StreamExecutor device (0): Host, Default Version\n",
            "2020-08-03 16:46:30.558528: I tensorflow/stream_executor/cuda/cuda_gpu_executor.cc:982] successful NUMA node read from SysFS had negative value (-1), but there must be at least one NUMA node, so returning NUMA node zero\n",
            "2020-08-03 16:46:30.559146: I tensorflow/compiler/xla/service/service.cc:168] XLA service 0x7520540 initialized for platform CUDA (this does not guarantee that XLA will be used). Devices:\n",
            "2020-08-03 16:46:30.559197: I tensorflow/compiler/xla/service/service.cc:176]   StreamExecutor device (0): Tesla P100-PCIE-16GB, Compute Capability 6.0\n",
            "2020-08-03 16:46:30.559417: I tensorflow/stream_executor/cuda/cuda_gpu_executor.cc:982] successful NUMA node read from SysFS had negative value (-1), but there must be at least one NUMA node, so returning NUMA node zero\n",
            "2020-08-03 16:46:30.559897: I tensorflow/core/common_runtime/gpu/gpu_device.cc:1716] Found device 0 with properties: \n",
            "pciBusID: 0000:00:04.0 name: Tesla P100-PCIE-16GB computeCapability: 6.0\n",
            "coreClock: 1.3285GHz coreCount: 56 deviceMemorySize: 15.90GiB deviceMemoryBandwidth: 681.88GiB/s\n",
            "2020-08-03 16:46:30.559941: I tensorflow/stream_executor/platform/default/dso_loader.cc:48] Successfully opened dynamic library libcudart.so.10.1\n",
            "2020-08-03 16:46:30.559995: I tensorflow/stream_executor/platform/default/dso_loader.cc:48] Successfully opened dynamic library libcublas.so.10\n",
            "2020-08-03 16:46:30.560020: I tensorflow/stream_executor/platform/default/dso_loader.cc:48] Successfully opened dynamic library libcufft.so.10\n",
            "2020-08-03 16:46:30.560045: I tensorflow/stream_executor/platform/default/dso_loader.cc:48] Successfully opened dynamic library libcurand.so.10\n",
            "2020-08-03 16:46:30.560078: I tensorflow/stream_executor/platform/default/dso_loader.cc:48] Successfully opened dynamic library libcusolver.so.10\n",
            "2020-08-03 16:46:30.560127: I tensorflow/stream_executor/platform/default/dso_loader.cc:48] Successfully opened dynamic library libcusparse.so.10\n",
            "2020-08-03 16:46:30.560148: I tensorflow/stream_executor/platform/default/dso_loader.cc:48] Successfully opened dynamic library libcudnn.so.7\n",
            "2020-08-03 16:46:30.560221: I tensorflow/stream_executor/cuda/cuda_gpu_executor.cc:982] successful NUMA node read from SysFS had negative value (-1), but there must be at least one NUMA node, so returning NUMA node zero\n",
            "2020-08-03 16:46:30.560803: I tensorflow/stream_executor/cuda/cuda_gpu_executor.cc:982] successful NUMA node read from SysFS had negative value (-1), but there must be at least one NUMA node, so returning NUMA node zero\n",
            "2020-08-03 16:46:30.561276: I tensorflow/core/common_runtime/gpu/gpu_device.cc:1858] Adding visible gpu devices: 0\n",
            "2020-08-03 16:46:30.561328: I tensorflow/stream_executor/platform/default/dso_loader.cc:48] Successfully opened dynamic library libcudart.so.10.1\n",
            "2020-08-03 16:46:31.171766: I tensorflow/core/common_runtime/gpu/gpu_device.cc:1257] Device interconnect StreamExecutor with strength 1 edge matrix:\n",
            "2020-08-03 16:46:31.171828: I tensorflow/core/common_runtime/gpu/gpu_device.cc:1263]      0 \n",
            "2020-08-03 16:46:31.171838: I tensorflow/core/common_runtime/gpu/gpu_device.cc:1276] 0:   N \n",
            "2020-08-03 16:46:31.172059: I tensorflow/stream_executor/cuda/cuda_gpu_executor.cc:982] successful NUMA node read from SysFS had negative value (-1), but there must be at least one NUMA node, so returning NUMA node zero\n",
            "2020-08-03 16:46:31.172621: I tensorflow/stream_executor/cuda/cuda_gpu_executor.cc:982] successful NUMA node read from SysFS had negative value (-1), but there must be at least one NUMA node, so returning NUMA node zero\n",
            "2020-08-03 16:46:31.173075: W tensorflow/core/common_runtime/gpu/gpu_bfc_allocator.cc:39] Overriding allow_growth setting because the TF_FORCE_GPU_ALLOW_GROWTH environment variable is set. Original config value was 0.\n",
            "2020-08-03 16:46:31.173123: I tensorflow/core/common_runtime/gpu/gpu_device.cc:1402] Created TensorFlow device (/job:localhost/replica:0/task:0/device:GPU:0 with 10485 MB memory) -> physical GPU (device: 0, name: Tesla P100-PCIE-16GB, pci bus id: 0000:00:04.0, compute capability: 6.0)\n",
            "WARNING:tensorflow:From /usr/local/lib/python3.6/dist-packages/tf_slim/layers/layers.py:1089: Layer.apply (from tensorflow.python.keras.engine.base_layer_v1) is deprecated and will be removed in a future version.\n",
            "Instructions for updating:\n",
            "Please use `layer.__call__` method instead.\n",
            "W0803 16:46:31.186168 140097478526848 deprecation.py:323] From /usr/local/lib/python3.6/dist-packages/tf_slim/layers/layers.py:1089: Layer.apply (from tensorflow.python.keras.engine.base_layer_v1) is deprecated and will be removed in a future version.\n",
            "Instructions for updating:\n",
            "Please use `layer.__call__` method instead.\n",
            "WARNING:tensorflow:From /usr/local/lib/python3.6/dist-packages/tf_slim/layers/layers.py:1666: flatten (from tensorflow.python.keras.legacy_tf_layers.core) is deprecated and will be removed in a future version.\n",
            "Instructions for updating:\n",
            "Use keras.layers.Flatten instead.\n",
            "W0803 16:46:31.276667 140097478526848 deprecation.py:323] From /usr/local/lib/python3.6/dist-packages/tf_slim/layers/layers.py:1666: flatten (from tensorflow.python.keras.legacy_tf_layers.core) is deprecated and will be removed in a future version.\n",
            "Instructions for updating:\n",
            "Use keras.layers.Flatten instead.\n",
            "INFO:tensorflow:Restoring parameters from vggish_model.ckpt\n",
            "I0803 16:46:33.352478 140097478526848 saver.py:1293] Restoring parameters from vggish_model.ckpt\n",
            "2020-08-03 16:46:35.104020: I tensorflow/stream_executor/platform/default/dso_loader.cc:48] Successfully opened dynamic library libcublas.so.10\n",
            "2020-08-03 16:46:35.335523: I tensorflow/stream_executor/platform/default/dso_loader.cc:48] Successfully opened dynamic library libcudnn.so.7\n",
            "Step 1: loss 0.660677\n",
            "Step 2: loss 0.661586\n",
            "Step 3: loss 0.649515\n",
            "Step 4: loss 0.614828\n",
            "Step 5: loss 0.605791\n",
            "Step 6: loss 0.589624\n",
            "Step 7: loss 0.568553\n",
            "Step 8: loss 0.566143\n",
            "Step 9: loss 0.536995\n",
            "Step 10: loss 0.520948\n",
            "Step 11: loss 0.498078\n",
            "Step 12: loss 0.481177\n",
            "Step 13: loss 0.462443\n",
            "Step 14: loss 0.466474\n",
            "Step 15: loss 0.469974\n",
            "Step 16: loss 0.407797\n",
            "Step 17: loss 0.430637\n",
            "Step 18: loss 0.382062\n",
            "Step 19: loss 0.356891\n",
            "Step 20: loss 0.352363\n",
            "Step 21: loss 0.322857\n",
            "Step 22: loss 0.35724\n",
            "Step 23: loss 0.286274\n",
            "Step 24: loss 0.365293\n",
            "Step 25: loss 0.38662\n",
            "Step 26: loss 0.289901\n",
            "Step 27: loss 0.314846\n",
            "Step 28: loss 0.289071\n",
            "Step 29: loss 0.24852\n",
            "Step 30: loss 0.196634\n"
          ],
          "name": "stdout"
        }
      ]
    },
    {
      "cell_type": "markdown",
      "metadata": {
        "id": "SxJZSzmqWHoR",
        "colab_type": "text"
      },
      "source": [
        "**Original code taken to train Vggish**"
      ]
    },
    {
      "cell_type": "code",
      "metadata": {
        "id": "0Sc-sbslJmC_",
        "colab_type": "code",
        "colab": {}
      },
      "source": [
        "#!/usr/bin/env python\n",
        "'''Compute VGGish features for a batch of files'''\n",
        "\n",
        "import argparse\n",
        "\n",
        "import os\n",
        "import sys\n",
        "\n",
        "import librosa\n",
        "import pandas as pd\n",
        "import numpy as np\n",
        "import tensorflow as tf\n",
        "from tqdm import tqdm\n",
        "\n",
        "import vggish_input\n",
        "import vggish_slim\n",
        "import vggish_postprocess\n",
        "import vggish_params\n",
        "\n",
        "\n",
        "MODEL_PARAMS = 'vggish_model.ckpt'\n",
        "PCA_PARAMS = 'vggish_pca_params.npz'\n",
        "\n",
        "input_list='/content/drive/My Drive/Dementia_Audio/Audio_Dementia/AD/*.wav'\n",
        "output_path='/content/drive/My Drive/Dementia_Audio/Audio_Dementia/AD/'\n",
        "\n",
        "def load_input(filename):\n",
        "\n",
        "    y, sr = librosa.load(filename, sr=vggish_params.SAMPLE_RATE, mono=True)\n",
        "    y = librosa.util.normalize(y)\n",
        "\n",
        "    return vggish_input.waveform_to_examples(y, sr)\n",
        "\n",
        "\n",
        "def run_model(files_in, outpath):\n",
        "\n",
        "    pproc = vggish_postprocess.Postprocessor(PCA_PARAMS)\n",
        "\n",
        "    with tf.Graph().as_default(), tf.Session() as sess:\n",
        "\n",
        "        vggish_slim.define_vggish_slim(training=False)\n",
        "        vggish_slim.load_vggish_slim_checkpoint(sess, MODEL_PARAMS)\n",
        "        features_tensor = sess.graph.get_tensor_by_name(vggish_params.INPUT_TENSOR_NAME)\n",
        "        embedding_tensor = sess.graph.get_tensor_by_name(vggish_params.OUTPUT_TENSOR_NAME)\n",
        "\n",
        "        for file_in in tqdm(files_in):\n",
        "\n",
        "            file_out = os.path.join(outpath, os.path.extsep.join([os.path.basename(file_in), 'npz']))\n",
        "            input_data = load_input(file_in)\n",
        "\n",
        "            [embedding] = sess.run([embedding_tensor], feed_dict={features_tensor: input_data})\n",
        "\n",
        "            emb_pca = pproc.postprocess(embedding)\n",
        "\n",
        "            np.savez(file_out, features=embedding, features_z=emb_pca)\n",
        "\n",
        "\n",
        "def process_args(args):\n",
        "\n",
        "    parser = argparse.ArgumentParser(description='VGGish feature extractor')\n",
        "\n",
        "    parser.add_argument(dest='input_list', action='store',\n",
        "                        type=str, help='Path to input CSV file')\n",
        "\n",
        "    parser.add_argument(dest='output_path', type=str, action='store',\n",
        "                        help='Path to store output files in NPZ format')\n",
        "\n",
        "    return parser.parse_args(args)\n",
        "\n",
        "\n",
        "def load_files_in(input_list):\n",
        "\n",
        "    files_in = pd.read_table(input_list, header=None)\n",
        "    return list(files_in[0])\n",
        "\n",
        "\n",
        "if __name__ == '__main__':\n",
        "    args = process_args(sys.argv[1:])\n",
        "\n",
        "    files_in = load_files_in(args.input_list)\n",
        "\n",
        "    run_model(files_in, args.output_path)"
      ],
      "execution_count": null,
      "outputs": []
    },
    {
      "cell_type": "markdown",
      "metadata": {
        "id": "-WiYNRM-V_R1",
        "colab_type": "text"
      },
      "source": [
        "**Use this code to train VGGISH features**"
      ]
    },
    {
      "cell_type": "code",
      "metadata": {
        "id": "pIAcIo8CXZTN",
        "colab_type": "code",
        "colab": {}
      },
      "source": [
        "import argparse\n",
        "\n",
        "import os\n",
        "import sys\n",
        "import pickle\n",
        "from glob import iglob\n",
        "import glob\n",
        "import re\n",
        "\n",
        "\n",
        "import librosa\n",
        "import pandas as pd\n",
        "import numpy as np\n",
        "import tensorflow as tf\n",
        "from tqdm import tqdm\n",
        "\n",
        "import vggish_input\n",
        "import vggish_slim\n",
        "import vggish_postprocess\n",
        "import vggish_params\n",
        "\n",
        "\n",
        "MODEL_PARAMS = 'vggish_model.ckpt'\n",
        "PCA_PARAMS = 'vggish_pca_params.npz'\n",
        "\n",
        "input_list='/content/drive/My Drive/Dementia_Audio/Audio_Dementia/AD/*.wav'\n",
        "output_path='/content/drive/My Drive/Dementia_Audio/Audio_Dementia/AD_NEW/'\n",
        "\n",
        "def load_input(filename):\n",
        "\n",
        "    y, sr = librosa.load(filename, sr=vggish_params.SAMPLE_RATE, mono=True)\n",
        "    y = librosa.util.normalize(y)\n",
        "\n",
        "    return vggish_input.waveform_to_examples(y, sr)\n",
        "\n",
        "\n",
        "def run_model(files_in, outpath):\n",
        "\n",
        "    pproc = vggish_postprocess.Postprocessor(PCA_PARAMS)\n",
        "\n",
        "    with tf.Graph().as_default(), tf.compat.v1.Session() as sess:\n",
        "\n",
        "        vggish_slim.define_vggish_slim(training=False)\n",
        "        vggish_slim.load_vggish_slim_checkpoint(sess, MODEL_PARAMS)\n",
        "        features_tensor = sess.graph.get_tensor_by_name(vggish_params.INPUT_TENSOR_NAME)\n",
        "        embedding_tensor = sess.graph.get_tensor_by_name(vggish_params.OUTPUT_TENSOR_NAME)\n",
        "\n",
        "        for file_in in glob.glob(files_in):\n",
        "\n",
        "            file_out = os.path.join(outpath, os.path.extsep.join([re.sub('.wav', '', os.path.basename(file_in)), 'npz']))\n",
        "            input_data = load_input(file_in)\n",
        "\n",
        "            [embedding] = sess.run([embedding_tensor], feed_dict={features_tensor: input_data})\n",
        "\n",
        "            emb_pca = pproc.postprocess(embedding)\n",
        "            #return embedding, emb_pca\n",
        "            np.savez(file_out, features=embedding, features_z=emb_pca)"
      ],
      "execution_count": null,
      "outputs": []
    },
    {
      "cell_type": "code",
      "metadata": {
        "id": "TTKXmRHLMp_Q",
        "colab_type": "code",
        "colab": {
          "base_uri": "https://localhost:8080/",
          "height": 156
        },
        "outputId": "1354c4aa-ccfd-4f9a-a3df-47d4001597f4"
      },
      "source": [
        "input_list='/content/drive/My Drive/Dementia_Audio/Audio_Dementia/Control_AUG/*.wav'\n",
        "output_path='/content/drive/My Drive/Dementia_Audio/Audio_Dementia/Control_AUG/'\n",
        "\n",
        "run_model(input_list, output_path)"
      ],
      "execution_count": null,
      "outputs": [
        {
          "output_type": "stream",
          "text": [
            "WARNING:tensorflow:From /usr/local/lib/python3.6/dist-packages/tf_slim/layers/layers.py:1089: Layer.apply (from tensorflow.python.keras.engine.base_layer) is deprecated and will be removed in a future version.\n",
            "Instructions for updating:\n",
            "Please use `layer.__call__` method instead.\n",
            "WARNING:tensorflow:From /usr/local/lib/python3.6/dist-packages/tf_slim/layers/layers.py:1666: flatten (from tensorflow.python.layers.core) is deprecated and will be removed in a future version.\n",
            "Instructions for updating:\n",
            "Use keras.layers.flatten instead.\n",
            "INFO:tensorflow:Restoring parameters from vggish_model.ckpt\n"
          ],
          "name": "stdout"
        }
      ]
    },
    {
      "cell_type": "markdown",
      "metadata": {
        "id": "4uX9EaoGWTSL",
        "colab_type": "text"
      },
      "source": [
        "**Load and Pad Vggish embeddings FOR Longitudinal Data**\n",
        "\n"
      ]
    },
    {
      "cell_type": "code",
      "metadata": {
        "id": "YmUEQ1P08FvS",
        "colab_type": "code",
        "colab": {}
      },
      "source": [
        "#AD_files = glob.glob('/content/drive/My Drive/Dementia_Audio/Audio_Dementia/AD/*.npz')\n",
        "import os\n",
        "import sys\n",
        "import pickle\n",
        "from glob import iglob\n",
        "import glob\n",
        "import re\n",
        "\n",
        "\n",
        "import librosa\n",
        "import pandas as pd\n",
        "import numpy as np\n",
        "import tensorflow as tf\n",
        "def create_tensor(file_list,k):\n",
        "  output_array = np.zeros((len(file_list),k,128), dtype=np.float32)\n",
        "  i=0\n",
        "  for filename in file_list:\n",
        "      with np.load(filename, 'rb') as f:\n",
        "            ff = f['features']\n",
        "            pad_size = k - len(ff)\n",
        "            if pad_size < 0:\n",
        "                ff= ff[0:k,]\n",
        "            else:\n",
        "                ff = np.pad(\n",
        "                ff, ((0,pad_size),(0,0)),\n",
        "                mode='constant', constant_values= 0\n",
        "                )\n",
        "      output_array[i]= ff\n",
        "      i=i+1\n",
        "  return output_array"
      ],
      "execution_count": null,
      "outputs": []
    },
    {
      "cell_type": "code",
      "metadata": {
        "id": "WykVhDECdBtF",
        "colab_type": "code",
        "colab": {}
      },
      "source": [
        "AD_files = glob.glob('/content/drive/My Drive/Dementia_Audio/Audio_Dementia/AD_NEW/*.npz')\n",
        "Control_files=glob.glob('/content/drive/My Drive/Dementia_Audio/Audio_Dementia/Control/*.npz')\n",
        "    \n",
        "k=120    \n",
        "XA = create_tensor(AD_files,k)\n",
        "XC = create_tensor(Control_files,k)\n"
      ],
      "execution_count": null,
      "outputs": []
    },
    {
      "cell_type": "code",
      "metadata": {
        "id": "GKtc5ogNQwug",
        "colab_type": "code",
        "colab": {}
      },
      "source": [
        "def get_data(file_list):\n",
        "    def load_into(_filename, _x):\n",
        "        with open(_filename, 'rb') as f:\n",
        "            audio_element = pickle.load(f)\n",
        "            _x.append(audio_element)\n",
        "            #_y.append(int(audio_element['class_id']))\n",
        "\n",
        "    x = []\n",
        "    for filename in file_list:\n",
        "        load_into(filename, x)\n",
        "    return np.array(x)"
      ],
      "execution_count": null,
      "outputs": []
    },
    {
      "cell_type": "code",
      "metadata": {
        "id": "VhzIEkj5QfNU",
        "colab_type": "code",
        "colab": {}
      },
      "source": [
        "import os\n",
        "import sys\n",
        "import pickle\n",
        "from glob import iglob\n",
        "import glob\n",
        "import re\n",
        "\n",
        "\n",
        "import librosa\n",
        "import pandas as pd\n",
        "import numpy as np\n",
        "import tensorflow as tf\n",
        "\n",
        "\n",
        "OUTPUT_DIR = '/content/drive/My Drive/Dementia_Audio/Audio_Dementia'\n",
        "OUTPUT_DIR_AD = '/content/drive/My Drive/Dementia_Audio/Audio_Dementia/90-Sec-AD'\n",
        "OUTPUT_DIR_Control = '/content/drive/My Drive/Dementia_Audio/Audio_Dementia/90-Sec-Control'\n",
        "\n",
        "AD_files = glob.glob(os.path.join(OUTPUT_DIR_AD, '**.pkl'))\n",
        "Control_files=glob.glob(os.path.join(OUTPUT_DIR_Control, '**.pkl'))\n",
        "\n",
        "XA = get_data(AD_files)    \n",
        "XC = get_data(Control_files)"
      ],
      "execution_count": null,
      "outputs": []
    },
    {
      "cell_type": "code",
      "metadata": {
        "id": "Yw_pVLJ1YK1q",
        "colab_type": "code",
        "colab": {}
      },
      "source": [
        "# Python 3.x\n",
        "from itertools import zip_longest as iterzip\n",
        "\n",
        "# Generator function\n",
        "def split_overlap(seq, size, overlap):\n",
        "    for x in iterzip(*[seq[i::size-overlap] for i in range(size)]):\n",
        "        yield tuple(i for i in x if i!=None) if x[-1]==None else x\n",
        "        #      assuming that your initial list is  ^\n",
        "        #      not containing the `None`, use of `iterzip` is based\n",
        "        #      on the same assumption  "
      ],
      "execution_count": null,
      "outputs": []
    },
    {
      "cell_type": "code",
      "metadata": {
        "id": "LTdDhe1KYP6u",
        "colab_type": "code",
        "colab": {}
      },
      "source": [
        "audio_chunks=list(split_overlap(XA[0],16000,8000))"
      ],
      "execution_count": null,
      "outputs": []
    },
    {
      "cell_type": "code",
      "metadata": {
        "id": "XkNwb6HgZbh8",
        "colab_type": "code",
        "colab": {
          "base_uri": "https://localhost:8080/",
          "height": 34
        },
        "outputId": "a4865d6d-c2fd-4616-9736-4f16aefed86a"
      },
      "source": [
        "len(audio_chunks[:89])"
      ],
      "execution_count": null,
      "outputs": [
        {
          "output_type": "execute_result",
          "data": {
            "text/plain": [
              "89"
            ]
          },
          "metadata": {
            "tags": []
          },
          "execution_count": 57
        }
      ]
    },
    {
      "cell_type": "code",
      "metadata": {
        "id": "UR4Kwc0i4_J4",
        "colab_type": "code",
        "colab": {}
      },
      "source": [
        "XA_chunks=[]\n",
        "for audio in XA:\n",
        "  audio_chunks=list(split_overlap(audio,16000,8000))\n",
        "  for chunk in audio_chunks:\n",
        "    XA_chunks.append(np.array(chunk))"
      ],
      "execution_count": null,
      "outputs": []
    },
    {
      "cell_type": "code",
      "metadata": {
        "id": "r5rppUa372Uh",
        "colab_type": "code",
        "colab": {}
      },
      "source": [
        "XC_chunks=[]\n",
        "for audio in XC:\n",
        "  audio_chunks=list(split_overlap(audio,16000,8000))\n",
        "  for chunk in audio_chunks:\n",
        "    XC_chunks.append(np.array(chunk))"
      ],
      "execution_count": null,
      "outputs": []
    },
    {
      "cell_type": "code",
      "metadata": {
        "id": "gBkg8gF48xvZ",
        "colab_type": "code",
        "colab": {
          "base_uri": "https://localhost:8080/",
          "height": 34
        },
        "outputId": "9b72b7cf-ee2e-4944-b59c-55b9d71753a4"
      },
      "source": [
        "len(XA_chunks)"
      ],
      "execution_count": null,
      "outputs": [
        {
          "output_type": "execute_result",
          "data": {
            "text/plain": [
              "27810"
            ]
          },
          "metadata": {
            "tags": []
          },
          "execution_count": 64
        }
      ]
    },
    {
      "cell_type": "code",
      "metadata": {
        "id": "TxvwVX_u0sRd",
        "colab_type": "code",
        "colab": {}
      },
      "source": [
        "XAA=[]\n",
        "XCC=[]\n",
        "for k in XA:\n",
        "  kk=np.split(k, 18)\n",
        "  XAA.append(kk)\n",
        "\n",
        "for k in XC:\n",
        "  kk=np.split(k, 18)\n",
        "  XCC.append(kk)\n",
        "\n",
        "XAA=np.array(XAA)\n",
        "XCC=np.array(XCC)"
      ],
      "execution_count": null,
      "outputs": []
    },
    {
      "cell_type": "markdown",
      "metadata": {
        "id": "unkEDK00CIQr",
        "colab_type": "text"
      },
      "source": [
        "**Creating tensors for longitudinal data**"
      ]
    },
    {
      "cell_type": "code",
      "metadata": {
        "id": "0klql1ckCH0o",
        "colab_type": "code",
        "colab": {}
      },
      "source": [
        "import pathlib\n",
        "import os\n",
        "import sys\n",
        "import pickle\n",
        "from glob import iglob\n",
        "import glob\n",
        "import re\n",
        "\n",
        "\n",
        "import librosa\n",
        "import pandas as pd\n",
        "import numpy as np\n",
        "import tensorflow as tf\n",
        "\n",
        "XA= np.empty((169, 5, 120, 128),dtype=None)\n",
        "\n",
        "kk=-1\n",
        "#Y = np.empty((0, 25, 100), dtype=None)\n",
        "for i in range(720):\n",
        "  J=[]\n",
        "  for j in range(5):\n",
        "      filename=pathlib.Path('/content/drive/My Drive/Dementia_Audio/Audio_Dementia/AD_NEW/{:03}-{}.npz'.format(i, j), newline='')\n",
        "      if filename.exists ():\n",
        "        J.append(j)\n",
        "  if J :\n",
        "    kk=kk+1\n",
        "    if kk<169:\n",
        "      #jj=max(J)\n",
        "      for g in J:\n",
        "        filename = pathlib.Path('/content/drive/My Drive/Dementia_Audio/Audio_Dementia/AD_NEW/{:03}-{}.npz'.format(i, g), newline='')\n",
        "        with np.load(filename, 'rb') as f:\n",
        "            ff = f['features']\n",
        "            k=120\n",
        "            pad_size = k - len(ff)\n",
        "            if pad_size < 0:\n",
        "                ff= ff[0:k,]\n",
        "            else:\n",
        "                ff = np.pad(\n",
        "                ff, ((0,pad_size),(0,0)),\n",
        "                mode='constant', constant_values= 0\n",
        "                )\n",
        "            XA[kk,g]=ff"
      ],
      "execution_count": null,
      "outputs": []
    },
    {
      "cell_type": "code",
      "metadata": {
        "id": "ClUbXEAskCTd",
        "colab_type": "code",
        "colab": {}
      },
      "source": [
        "import pathlib\n",
        "import os\n",
        "import sys\n",
        "import pickle\n",
        "from glob import iglob\n",
        "import glob\n",
        "import re\n",
        "\n",
        "\n",
        "import librosa\n",
        "import pandas as pd\n",
        "import numpy as np\n",
        "import tensorflow as tf\n",
        "\n",
        "XA_AUG= np.empty((169, 5, 120, 128),dtype=None)\n",
        "\n",
        "kk=-1\n",
        "#Y = np.empty((0, 25, 100), dtype=None)\n",
        "for i in range(720):\n",
        "  J=[]\n",
        "  for j in range(5):\n",
        "      filename=pathlib.Path('/content/drive/My Drive/Dementia_Audio/Audio_Dementia/AD_AUG/{:03}-{}.npz'.format(i, j), newline='')\n",
        "      if filename.exists ():\n",
        "        J.append(j)\n",
        "  if J :\n",
        "    kk=kk+1\n",
        "    if kk<169:\n",
        "      #jj=max(J)\n",
        "      for g in J:\n",
        "        filename = pathlib.Path('/content/drive/My Drive/Dementia_Audio/Audio_Dementia/AD_AUG/{:03}-{}.npz'.format(i, g), newline='')\n",
        "        with np.load(filename, 'rb') as f:\n",
        "            ff = f['features']\n",
        "            k=120\n",
        "            pad_size = k - len(ff)\n",
        "            if pad_size < 0:\n",
        "                ff= ff[0:k,]\n",
        "            else:\n",
        "                ff = np.pad(\n",
        "                ff, ((0,pad_size),(0,0)),\n",
        "                mode='constant', constant_values= 0\n",
        "                )\n",
        "            XA_AUG[kk,g]=ff"
      ],
      "execution_count": null,
      "outputs": []
    },
    {
      "cell_type": "code",
      "metadata": {
        "id": "uDdq6n_pGSxr",
        "colab_type": "code",
        "colab": {}
      },
      "source": [
        "import pathlib\n",
        "import os\n",
        "import sys\n",
        "import pickle\n",
        "from glob import iglob\n",
        "import glob\n",
        "import re\n",
        "\n",
        "\n",
        "import librosa\n",
        "import pandas as pd\n",
        "import numpy as np\n",
        "import tensorflow as tf\n",
        "\n",
        "XC= np.empty((99, 5, 120, 128),dtype=None)\n",
        "\n",
        "kk=-1\n",
        "#Y = np.empty((0, 25, 100), dtype=None)\n",
        "for i in range(720):\n",
        "  J=[]\n",
        "  for j in range(5):\n",
        "      filename=pathlib.Path('/content/drive/My Drive/Dementia_Audio/Audio_Dementia/Control/{:03}-{}.npz'.format(i, j), newline='')\n",
        "      if filename.exists ():\n",
        "        J.append(j)\n",
        "  if J :\n",
        "    kk=kk+1\n",
        "    if kk<99:\n",
        "      #jj=max(J)\n",
        "      for g in J:\n",
        "        filename = pathlib.Path('/content/drive/My Drive/Dementia_Audio/Audio_Dementia/Control/{:03}-{}.npz'.format(i, g), newline='')\n",
        "        with np.load(filename, 'rb') as f:\n",
        "            ff = f['features']\n",
        "            k=120\n",
        "            pad_size = k - len(ff)\n",
        "            if pad_size < 0:\n",
        "                ff= ff[0:k,]\n",
        "            else:\n",
        "                ff = np.pad(\n",
        "                ff, ((0,pad_size),(0,0)),\n",
        "                mode='constant', constant_values= 0\n",
        "                )\n",
        "            XC[kk,g]=ff"
      ],
      "execution_count": null,
      "outputs": []
    },
    {
      "cell_type": "code",
      "metadata": {
        "id": "tACNl_qmlEa7",
        "colab_type": "code",
        "colab": {}
      },
      "source": [
        "import pathlib\n",
        "import os\n",
        "import sys\n",
        "import pickle\n",
        "from glob import iglob\n",
        "import glob\n",
        "import re\n",
        "\n",
        "\n",
        "import librosa\n",
        "import pandas as pd\n",
        "import numpy as np\n",
        "import tensorflow as tf\n",
        "\n",
        "XC_AUG= np.empty((99, 5, 120, 128),dtype=None)\n",
        "\n",
        "kk=-1\n",
        "#Y = np.empty((0, 25, 100), dtype=None)\n",
        "for i in range(720):\n",
        "  J=[]\n",
        "  for j in range(5):\n",
        "      filename=pathlib.Path('/content/drive/My Drive/Dementia_Audio/Audio_Dementia/Control_AUG/{:03}-{}.npz'.format(i, j), newline='')\n",
        "      if filename.exists ():\n",
        "        J.append(j)\n",
        "  if J :\n",
        "    kk=kk+1\n",
        "    if kk<99:\n",
        "      #jj=max(J)\n",
        "      for g in J:\n",
        "        filename = pathlib.Path('/content/drive/My Drive/Dementia_Audio/Audio_Dementia/Control_AUG/{:03}-{}.npz'.format(i, g), newline='')\n",
        "        with np.load(filename, 'rb') as f:\n",
        "            ff = f['features']\n",
        "            k=120\n",
        "            pad_size = k - len(ff)\n",
        "            if pad_size < 0:\n",
        "                ff= ff[0:k,]\n",
        "            else:\n",
        "                ff = np.pad(\n",
        "                ff, ((0,pad_size),(0,0)),\n",
        "                mode='constant', constant_values= 0\n",
        "                )\n",
        "            XC_AUG[kk,g]=ff"
      ],
      "execution_count": null,
      "outputs": []
    },
    {
      "cell_type": "code",
      "metadata": {
        "id": "c5hXyjRJRMd-",
        "colab_type": "code",
        "colab": {
          "base_uri": "https://localhost:8080/",
          "height": 34
        },
        "outputId": "45735963-0ad1-47e8-ae37-e94a55793d42"
      },
      "source": [
        "XA.shape"
      ],
      "execution_count": null,
      "outputs": [
        {
          "output_type": "execute_result",
          "data": {
            "text/plain": [
              "(169, 5, 120, 128)"
            ]
          },
          "metadata": {
            "tags": []
          },
          "execution_count": 9
        }
      ]
    },
    {
      "cell_type": "code",
      "metadata": {
        "id": "FysFrGRylbVs",
        "colab_type": "code",
        "colab": {
          "base_uri": "https://localhost:8080/",
          "height": 34
        },
        "outputId": "5a59d733-e8a7-451d-ef58-de0a12504ebb"
      },
      "source": [
        "from keras.utils import to_categorical\n",
        "num_classes=2\n",
        "y_AD=np.ones(len(XA))\n",
        "y_AD_AUG=np.ones(len(XA_AUG))\n",
        "#y_AD = to_categorical(y_AD, num_classes=num_classes)\n",
        "y_Control=np.zeros(len(XC))\n",
        "y_Control_AUG=np.zeros(len(XC_AUG))\n",
        "#y_Control = to_categorical(y_Control, num_classes=num_classes)   \n",
        "X=np.concatenate((XA,XA_AUG[:29],XC,XC_AUG))  \n",
        "y=np.concatenate((y_AD,y_AD_AUG[:29],y_Control,y_Control_AUG))"
      ],
      "execution_count": null,
      "outputs": [
        {
          "output_type": "stream",
          "text": [
            "Using TensorFlow backend.\n"
          ],
          "name": "stderr"
        }
      ]
    },
    {
      "cell_type": "code",
      "metadata": {
        "id": "Km2skQNbapXq",
        "colab_type": "code",
        "colab": {}
      },
      "source": [
        "from keras.utils import to_categorical\n",
        "num_classes=2\n",
        "y_AD=np.ones(len(XA))\n",
        "#y_AD = to_categorical(y_AD, num_classes=num_classes)\n",
        "y_Control=np.zeros(len(XC))\n",
        "#y_Control = to_categorical(y_Control, num_classes=num_classes)   \n",
        "X=np.concatenate((XA,XC))  \n",
        "y=np.concatenate((y_AD,y_Control))"
      ],
      "execution_count": null,
      "outputs": []
    },
    {
      "cell_type": "code",
      "metadata": {
        "id": "v0KAceOOGdiA",
        "colab_type": "code",
        "colab": {
          "base_uri": "https://localhost:8080/",
          "height": 34
        },
        "outputId": "47959b26-c553-4a76-95f7-3dbd4e5f4607"
      },
      "source": [
        "from keras.utils import to_categorical\n",
        "num_classes=2\n",
        "y_AD=np.ones(169)\n",
        "#y_AD = to_categorical(y_AD, num_classes=num_classes)\n",
        "y_Control=np.zeros(99)\n",
        "#y_Control = to_categorical(y_Control, num_classes=num_classes)   \n",
        "X=np.concatenate((XA,XC))  \n",
        "y=np.concatenate((y_AD,y_Control))"
      ],
      "execution_count": null,
      "outputs": [
        {
          "output_type": "stream",
          "text": [
            "Using TensorFlow backend.\n"
          ],
          "name": "stderr"
        }
      ]
    },
    {
      "cell_type": "code",
      "metadata": {
        "id": "zidojvhNOG52",
        "colab_type": "code",
        "colab": {}
      },
      "source": [
        "A=np.zeros((268,5))\n",
        "for i in range(268):\n",
        "  for j in range(5):\n",
        "    if not np.any(X[i][j]):\n",
        "      A[i][j]=0\n",
        "      K[i][j]=0\n",
        "    else:\n",
        "      A[i][j]=1\n"
      ],
      "execution_count": null,
      "outputs": []
    },
    {
      "cell_type": "code",
      "metadata": {
        "id": "HY2lSCCkStLw",
        "colab_type": "code",
        "colab": {}
      },
      "source": [
        "row_sums = K.sum(axis=1)\n",
        "new_matrix = K / row_sums[:, np.newaxis]"
      ],
      "execution_count": null,
      "outputs": []
    },
    {
      "cell_type": "code",
      "metadata": {
        "id": "NND6A3O2dc8T",
        "colab_type": "code",
        "colab": {}
      },
      "source": [
        "X=X.reshape((198,45,16000,1))"
      ],
      "execution_count": null,
      "outputs": []
    },
    {
      "cell_type": "code",
      "metadata": {
        "id": "mzZ5qv_KNbI4",
        "colab_type": "code",
        "colab": {}
      },
      "source": [
        "X=X.reshape((268,5,24,5,128))"
      ],
      "execution_count": null,
      "outputs": []
    },
    {
      "cell_type": "code",
      "metadata": {
        "id": "sd4Tf9GNKqRT",
        "colab_type": "code",
        "colab": {}
      },
      "source": [
        "X=X.reshape((396,5,24,5,128))"
      ],
      "execution_count": null,
      "outputs": []
    },
    {
      "cell_type": "markdown",
      "metadata": {
        "id": "tvrzL-3hA1-1",
        "colab_type": "text"
      },
      "source": [
        "**Interpretable HAN model for AUDIO Longitudinal data**"
      ]
    },
    {
      "cell_type": "code",
      "metadata": {
        "id": "ixuekqwRA1kV",
        "colab_type": "code",
        "colab": {
          "base_uri": "https://localhost:8080/",
          "height": 102
        },
        "outputId": "6f208720-01c0-47e7-f4f7-da2b102b9dd0"
      },
      "source": [
        "!git clone https://github.com/charlesdong1991/interpretable-han-for-document-classification-with-keras.git"
      ],
      "execution_count": null,
      "outputs": [
        {
          "output_type": "stream",
          "text": [
            "Cloning into 'interpretable-han-for-document-classification-with-keras'...\n",
            "remote: Enumerating objects: 141, done.\u001b[K\n",
            "remote: Total 141 (delta 0), reused 0 (delta 0), pack-reused 141\u001b[K\n",
            "Receiving objects: 100% (141/141), 119.87 KiB | 3.53 MiB/s, done.\n",
            "Resolving deltas: 100% (69/69), done.\n"
          ],
          "name": "stdout"
        }
      ]
    },
    {
      "cell_type": "code",
      "metadata": {
        "id": "0P_CJsDcBHbX",
        "colab_type": "code",
        "colab": {
          "base_uri": "https://localhost:8080/",
          "height": 34
        },
        "outputId": "60751a83-4315-450d-d92b-d58aa2dcdca6"
      },
      "source": [
        "cd /content/interpretable-han-for-document-classification-with-keras"
      ],
      "execution_count": null,
      "outputs": [
        {
          "output_type": "stream",
          "text": [
            "/content/interpretable-han-for-document-classification-with-keras\n"
          ],
          "name": "stdout"
        }
      ]
    },
    {
      "cell_type": "code",
      "metadata": {
        "id": "hgA84vjCBKNt",
        "colab_type": "code",
        "colab": {
          "base_uri": "https://localhost:8080/",
          "height": 1000
        },
        "outputId": "792c35d6-1183-49e6-9d2c-6db74b93baf7"
      },
      "source": [
        "!python setup.py install"
      ],
      "execution_count": null,
      "outputs": [
        {
          "output_type": "stream",
          "text": [
            "running install\n",
            "running bdist_egg\n",
            "running egg_info\n",
            "creating hierachical_attention_network_for_document_classification.egg-info\n",
            "writing hierachical_attention_network_for_document_classification.egg-info/PKG-INFO\n",
            "writing dependency_links to hierachical_attention_network_for_document_classification.egg-info/dependency_links.txt\n",
            "writing requirements to hierachical_attention_network_for_document_classification.egg-info/requires.txt\n",
            "writing top-level names to hierachical_attention_network_for_document_classification.egg-info/top_level.txt\n",
            "writing manifest file 'hierachical_attention_network_for_document_classification.egg-info/SOURCES.txt'\n",
            "writing manifest file 'hierachical_attention_network_for_document_classification.egg-info/SOURCES.txt'\n",
            "installing library code to build/bdist.linux-x86_64/egg\n",
            "running install_lib\n",
            "running build_py\n",
            "creating build\n",
            "creating build/lib\n",
            "creating build/lib/han\n",
            "copying han/__init__.py -> build/lib/han\n",
            "copying han/model.py -> build/lib/han\n",
            "copying han/utils.py -> build/lib/han\n",
            "copying han/attention.py -> build/lib/han\n",
            "creating build/bdist.linux-x86_64\n",
            "creating build/bdist.linux-x86_64/egg\n",
            "creating build/bdist.linux-x86_64/egg/han\n",
            "copying build/lib/han/__init__.py -> build/bdist.linux-x86_64/egg/han\n",
            "copying build/lib/han/model.py -> build/bdist.linux-x86_64/egg/han\n",
            "copying build/lib/han/utils.py -> build/bdist.linux-x86_64/egg/han\n",
            "copying build/lib/han/attention.py -> build/bdist.linux-x86_64/egg/han\n",
            "byte-compiling build/bdist.linux-x86_64/egg/han/__init__.py to __init__.cpython-36.pyc\n",
            "byte-compiling build/bdist.linux-x86_64/egg/han/model.py to model.cpython-36.pyc\n",
            "byte-compiling build/bdist.linux-x86_64/egg/han/utils.py to utils.cpython-36.pyc\n",
            "byte-compiling build/bdist.linux-x86_64/egg/han/attention.py to attention.cpython-36.pyc\n",
            "creating build/bdist.linux-x86_64/egg/EGG-INFO\n",
            "copying hierachical_attention_network_for_document_classification.egg-info/PKG-INFO -> build/bdist.linux-x86_64/egg/EGG-INFO\n",
            "copying hierachical_attention_network_for_document_classification.egg-info/SOURCES.txt -> build/bdist.linux-x86_64/egg/EGG-INFO\n",
            "copying hierachical_attention_network_for_document_classification.egg-info/dependency_links.txt -> build/bdist.linux-x86_64/egg/EGG-INFO\n",
            "copying hierachical_attention_network_for_document_classification.egg-info/requires.txt -> build/bdist.linux-x86_64/egg/EGG-INFO\n",
            "copying hierachical_attention_network_for_document_classification.egg-info/top_level.txt -> build/bdist.linux-x86_64/egg/EGG-INFO\n",
            "zip_safe flag not set; analyzing archive contents...\n",
            "creating dist\n",
            "creating 'dist/hierachical_attention_network_for_document_classification-0.1.0-py3.6.egg' and adding 'build/bdist.linux-x86_64/egg' to it\n",
            "removing 'build/bdist.linux-x86_64/egg' (and everything under it)\n",
            "Processing hierachical_attention_network_for_document_classification-0.1.0-py3.6.egg\n",
            "Copying hierachical_attention_network_for_document_classification-0.1.0-py3.6.egg to /usr/local/lib/python3.6/dist-packages\n",
            "Adding hierachical-attention-network-for-document-classification 0.1.0 to easy-install.pth file\n",
            "\n",
            "Installed /usr/local/lib/python3.6/dist-packages/hierachical_attention_network_for_document_classification-0.1.0-py3.6.egg\n",
            "Processing dependencies for hierachical-attention-network-for-document-classification==0.1.0\n",
            "Searching for pandas==1.0.5\n",
            "Best match: pandas 1.0.5\n",
            "Adding pandas 1.0.5 to easy-install.pth file\n",
            "\n",
            "Using /usr/local/lib/python3.6/dist-packages\n",
            "Searching for Keras==2.4.3\n",
            "Best match: Keras 2.4.3\n",
            "Adding Keras 2.4.3 to easy-install.pth file\n",
            "\n",
            "Using /usr/local/lib/python3.6/dist-packages\n",
            "Searching for pytz==2018.9\n",
            "Best match: pytz 2018.9\n",
            "Adding pytz 2018.9 to easy-install.pth file\n",
            "\n",
            "Using /usr/local/lib/python3.6/dist-packages\n",
            "Searching for python-dateutil==2.8.1\n",
            "Best match: python-dateutil 2.8.1\n",
            "Adding python-dateutil 2.8.1 to easy-install.pth file\n",
            "\n",
            "Using /usr/local/lib/python3.6/dist-packages\n",
            "Searching for numpy==1.18.5\n",
            "Best match: numpy 1.18.5\n",
            "Adding numpy 1.18.5 to easy-install.pth file\n",
            "Installing f2py script to /usr/local/bin\n",
            "Installing f2py3 script to /usr/local/bin\n",
            "Installing f2py3.6 script to /usr/local/bin\n",
            "\n",
            "Using /usr/local/lib/python3.6/dist-packages\n",
            "Searching for h5py==2.10.0\n",
            "Best match: h5py 2.10.0\n",
            "Adding h5py 2.10.0 to easy-install.pth file\n",
            "\n",
            "Using /usr/local/lib/python3.6/dist-packages\n",
            "Searching for scipy==1.4.1\n",
            "Best match: scipy 1.4.1\n",
            "Adding scipy 1.4.1 to easy-install.pth file\n",
            "\n",
            "Using /usr/local/lib/python3.6/dist-packages\n",
            "Searching for PyYAML==3.13\n",
            "Best match: PyYAML 3.13\n",
            "Adding PyYAML 3.13 to easy-install.pth file\n",
            "\n",
            "Using /usr/local/lib/python3.6/dist-packages\n",
            "Searching for six==1.15.0\n",
            "Best match: six 1.15.0\n",
            "Adding six 1.15.0 to easy-install.pth file\n",
            "\n",
            "Using /usr/local/lib/python3.6/dist-packages\n",
            "Finished processing dependencies for hierachical-attention-network-for-document-classification==0.1.0\n"
          ],
          "name": "stdout"
        }
      ]
    },
    {
      "cell_type": "code",
      "metadata": {
        "id": "E9sz2z6mBNA-",
        "colab_type": "code",
        "colab": {
          "base_uri": "https://localhost:8080/",
          "height": 51
        },
        "outputId": "885c1915-4fd2-490b-f191-f61dbfd5331c"
      },
      "source": [
        "import sys\n",
        "import re\n",
        "import numpy as np\n",
        "import pandas as pd\n",
        "import logging\n",
        "import sys\n",
        "from keras.preprocessing.text import Tokenizer\n",
        "from keras.preprocessing.sequence import pad_sequences\n",
        "from keras.callbacks import ModelCheckpoint\n",
        "from keras.utils import to_categorical\n",
        "from nltk.tokenize import sent_tokenize\n",
        "from sklearn.model_selection import train_test_split\n",
        "from han.Maryam_HAN_AUD_Vggish_4 import HAN\n",
        "#from han.onestage_HAN_AUD_Vggish import HAN\n",
        "#from han.Dense_onestage_HAN_AUD_Vggish import HAN\n",
        "#from han.NOATT_onestage_HAN_AUD_Vggish import HAN\n",
        "#from han.twostage_CNN_GRU_ATT import HAN\n",
        "#from han.Maryam_HAN_AUD_onestage_CNN import HAN\n",
        "\n",
        "import nltk\n",
        "nltk.download('punkt')\n",
        "\n",
        "# Create a logger to provide info on the state of the\n",
        "# script\n",
        "stdout = logging.StreamHandler(sys.stdout)\n",
        "stdout.setFormatter(logging.Formatter(\n",
        "    '%(asctime)s - %(name)s - %(levelname)s - %(message)s'\n",
        "))\n",
        "logger = logging.getLogger('default')\n",
        "logger.setLevel(logging.INFO)\n",
        "logger.addHandler(stdout)\n",
        "\n",
        "\n",
        "max_doc_num = 5\n",
        "max_sent_length = 100\n",
        "max_sent_num = 25\n",
        "MAX_VOC_SIZE = 20000\n",
        "GLOVE_DIM = 100\n",
        "TEST_SPLIT = 0.1\n",
        "\n",
        "Special_value= 0\n",
        "sys.path.insert(0,'content/interpretable-han-for-document-classification-with-keras')"
      ],
      "execution_count": null,
      "outputs": [
        {
          "output_type": "stream",
          "text": [
            "[nltk_data] Downloading package punkt to /root/nltk_data...\n",
            "[nltk_data]   Unzipping tokenizers/punkt.zip.\n"
          ],
          "name": "stdout"
        }
      ]
    },
    {
      "cell_type": "code",
      "metadata": {
        "id": "VKL_zxRlQLaw",
        "colab_type": "code",
        "colab": {}
      },
      "source": [
        "del han_model"
      ],
      "execution_count": null,
      "outputs": []
    },
    {
      "cell_type": "code",
      "metadata": {
        "id": "tLhFiVh_C2Wk",
        "colab_type": "code",
        "colab": {}
      },
      "source": [
        "han_model = HAN(max_sent_length=5,\n",
        "                 max_sent_num=24, max_doc_num=5, word_embed_dim=100, sent_embed_dim=100, doc_embed_dim=100)\n"
      ],
      "execution_count": null,
      "outputs": []
    },
    {
      "cell_type": "code",
      "metadata": {
        "id": "SVpjcxkg-4XN",
        "colab_type": "code",
        "colab": {}
      },
      "source": [
        "han_model = HAN(max_sent_length=720000,\n",
        "                 max_sent_num=1, max_doc_num=5, word_embed_dim=100, sent_embed_dim=100, doc_embed_dim=100)\n"
      ],
      "execution_count": null,
      "outputs": []
    },
    {
      "cell_type": "code",
      "metadata": {
        "id": "accAno1La1u9",
        "colab_type": "code",
        "colab": {
          "base_uri": "https://localhost:8080/",
          "height": 88
        },
        "outputId": "6352c6a1-7c60-4650-8db9-e378e0871d50"
      },
      "source": [
        "han_model = HAN(max_sent_length=120,\n",
        "                 max_sent_num=1, max_doc_num=1, word_embed_dim=100, sent_embed_dim=100, doc_embed_dim=100)\n"
      ],
      "execution_count": null,
      "outputs": [
        {
          "output_type": "stream",
          "text": [
            "WARNING:tensorflow:From /tensorflow-1.15.2/python3.6/tensorflow_core/python/ops/resource_variable_ops.py:1630: calling BaseResourceVariable.__init__ (from tensorflow.python.ops.resource_variable_ops) with constraint is deprecated and will be removed in a future version.\n",
            "Instructions for updating:\n",
            "If using Keras pass *_constraint arguments to layers.\n"
          ],
          "name": "stdout"
        }
      ]
    },
    {
      "cell_type": "markdown",
      "metadata": {
        "id": "vgBgdVyLiSjG",
        "colab_type": "text"
      },
      "source": [
        "# New Section"
      ]
    },
    {
      "cell_type": "code",
      "metadata": {
        "id": "HZ1LcJXRC-gl",
        "colab_type": "code",
        "colab": {}
      },
      "source": [
        "checkpoint_path='/content/model.{epoch:02d}-{val_loss:.2f}.hdf5'"
      ],
      "execution_count": null,
      "outputs": []
    },
    {
      "cell_type": "markdown",
      "metadata": {
        "id": "9XQRLZi3RQt7",
        "colab_type": "text"
      },
      "source": [
        "**Cross Validation**"
      ]
    },
    {
      "cell_type": "code",
      "metadata": {
        "id": "cihuq2c3oyl8",
        "colab_type": "code",
        "colab": {}
      },
      "source": [
        "#####K-fold Cross Validation#####\n",
        "from sklearn.model_selection import StratifiedKFold\n",
        "TEST_SPLIT=0.1\n",
        "\n",
        "#X_train, X_test, y_train, y_test= train_test_split(X, y, test_size=TEST_SPLIT, random_state=0, stratify=y)\n",
        "\n",
        "kFold = StratifiedKFold(n_splits=11)\n",
        "scores = []\n",
        "idx = 0\n",
        "for train, test in kFold.split(X, y):\n",
        "  idx = idx+1\n",
        "  print(\"fold:\", idx)\n",
        "  X_tr=X[train]\n",
        "  y_tr=y[train]\n",
        "  X_test=X[test]\n",
        "  y_test=y[test]\n",
        "  X_train, X_val, y_train, y_val= train_test_split(X_tr, y_tr, test_size=TEST_SPLIT, random_state=0, stratify=y_tr)\n",
        "  del X_tr\n",
        "  y_train=to_categorical(y_train, num_classes=2)\n",
        "  y_val=to_categorical(y_val, num_classes=2)\n",
        "  y_test=to_categorical(y_test, num_classes=2)\n",
        "\n",
        "  R=han_model.train_model(checkpoint_path, np.array(X_train), np.array(y_train), np.array(X_val), np.array(y_val), np.array(X_test), np.array(y_test), epochs=20,batch_size=10)\n",
        "  scores.append(R)\n",
        "  del X_train\n",
        "  del X_test\n",
        "print(scores)\n",
        "#print(scores.mean())"
      ],
      "execution_count": null,
      "outputs": []
    },
    {
      "cell_type": "code",
      "metadata": {
        "id": "5OujzyVQP5ZQ",
        "colab_type": "code",
        "colab": {}
      },
      "source": [
        "RR=np.array(scores)\n",
        "sss=pd.DataFrame(RR)\n",
        "ssss=sss.to_csv('/content/drive/My Drive/Dementia_Audio/Audio_Dementia/NEWRESULT_AUG_BEST.csv')"
      ],
      "execution_count": null,
      "outputs": []
    },
    {
      "cell_type": "code",
      "metadata": {
        "id": "lwuOhB62Fnjr",
        "colab_type": "code",
        "colab": {}
      },
      "source": [
        "scores=np.array(pd.read_csv('/content/drive/My Drive/Dementia_Audio/Audio_Dementia/NEWRESULT_Onestage_BGRU_ATT.csv'))"
      ],
      "execution_count": null,
      "outputs": []
    },
    {
      "cell_type": "code",
      "metadata": {
        "id": "B6KDwqBUsrXb",
        "colab_type": "code",
        "colab": {}
      },
      "source": [
        "c=[]\n",
        "for i in range(11):\n",
        "  c.append(scores[i][0][1])\n"
      ],
      "execution_count": null,
      "outputs": []
    },
    {
      "cell_type": "code",
      "metadata": {
        "id": "RrQWTkz3WaXh",
        "colab_type": "code",
        "colab": {
          "base_uri": "https://localhost:8080/",
          "height": 34
        },
        "outputId": "00f33ac5-c0dd-430a-ad3c-db2d20e28c23"
      },
      "source": [
        "np.mean(c)"
      ],
      "execution_count": null,
      "outputs": [
        {
          "output_type": "execute_result",
          "data": {
            "text/plain": [
              "0.9040403962135315"
            ]
          },
          "metadata": {
            "tags": []
          },
          "execution_count": 41
        }
      ]
    },
    {
      "cell_type": "code",
      "metadata": {
        "id": "HpvtxHggGM7o",
        "colab_type": "code",
        "colab": {}
      },
      "source": [
        "scores[i][6]"
      ],
      "execution_count": null,
      "outputs": []
    },
    {
      "cell_type": "code",
      "metadata": {
        "id": "DcwIxRV9FSGm",
        "colab_type": "code",
        "colab": {}
      },
      "source": [
        "Total=np.zeros((2,2))\n",
        "for i in range(11):\n",
        "  Total=Total+scores[i][5]\n",
        "Total=Total.astype(int)"
      ],
      "execution_count": null,
      "outputs": []
    },
    {
      "cell_type": "code",
      "metadata": {
        "id": "VHltMaHgFbKG",
        "colab_type": "code",
        "colab": {
          "base_uri": "https://localhost:8080/",
          "height": 515
        },
        "outputId": "112bb8a6-b536-45a4-9513-0be01a6888bf"
      },
      "source": [
        "from sklearn.metrics import confusion_matrix\n",
        "import seaborn as sns\n",
        "import matplotlib.pyplot as plt\n",
        "\n",
        "#cm = confusion_matrix(y_test, y_pred)\n",
        "# Normalise\n",
        "#cmn = (Total.astype('float') / Total.sum(axis=1)[:, np.newaxis])*100\n",
        "fig, ax = plt.subplots(figsize=(8,8))\n",
        "sns.set(font_scale=1.5)\n",
        "sns.heatmap(Total, annot=True, fmt='d',  xticklabels=['Healthy','AD'], yticklabels=['Healthy','AD'],cmap=\"Purples\")\n",
        "plt.ylabel('Actual')\n",
        "plt.xlabel('Predicted')\n",
        "plt.show(block=False)"
      ],
      "execution_count": null,
      "outputs": [
        {
          "output_type": "display_data",
          "data": {
            "image/png": "[encoded data removed]",
            "text/plain": [
              "<Figure size 576x576 with 2 Axes>"
            ]
          },
          "metadata": {
            "tags": []
          }
        }
      ]
    },
    {
      "cell_type": "code",
      "metadata": {
        "id": "QSyZZVdbtFuQ",
        "colab_type": "code",
        "colab": {
          "base_uri": "https://localhost:8080/",
          "height": 204
        },
        "outputId": "4c423b30-29d7-4dbf-ae08-4c96b7fa86b9"
      },
      "source": [
        "c"
      ],
      "execution_count": null,
      "outputs": [
        {
          "output_type": "execute_result",
          "data": {
            "text/plain": [
              "[0.7200000286102295,\n",
              " 0.8799999952316284,\n",
              " 0.8399999737739563,\n",
              " 0.9200000166893005,\n",
              " 0.875,\n",
              " 0.7083333134651184,\n",
              " 0.9583333134651184,\n",
              " 0.9583333134651184,\n",
              " 0.9583333134651184,\n",
              " 0.9583333134651184,\n",
              " 0.9583333134651184]"
            ]
          },
          "metadata": {
            "tags": []
          },
          "execution_count": 15
        }
      ]
    },
    {
      "cell_type": "code",
      "metadata": {
        "id": "F-3IoUnTtKYy",
        "colab_type": "code",
        "colab": {
          "base_uri": "https://localhost:8080/",
          "height": 34
        },
        "outputId": "3cf22c8a-d970-4faf-e9f0-9a20fe9f8d80"
      },
      "source": [
        "np.mean(c)"
      ],
      "execution_count": null,
      "outputs": [
        {
          "output_type": "execute_result",
          "data": {
            "text/plain": [
              "0.8849999904632568"
            ]
          },
          "metadata": {
            "tags": []
          },
          "execution_count": 16
        }
      ]
    },
    {
      "cell_type": "code",
      "metadata": {
        "id": "S2Gilf3lpMNW",
        "colab_type": "code",
        "colab": {
          "base_uri": "https://localhost:8080/",
          "height": 204
        },
        "outputId": "59b934f5-a4f6-46a1-a02b-10a39c22ad8f"
      },
      "source": [
        "scores"
      ],
      "execution_count": null,
      "outputs": [
        {
          "output_type": "execute_result",
          "data": {
            "text/plain": [
              "[[0.6701180458068847, 0.7200000286102295],\n",
              " [0.35115572810173035, 0.8799999952316284],\n",
              " [0.4542328417301178, 0.8399999737739563],\n",
              " [0.3680244520306587, 0.9200000166893005],\n",
              " [0.25214419544984895, 0.875],\n",
              " [0.913515567779541, 0.7083333134651184],\n",
              " [0.10278299544006586, 0.9583333134651184],\n",
              " [0.2535734906171759, 0.9583333134651184],\n",
              " [0.13641733769327402, 0.9583333134651184],\n",
              " [0.16225015884265304, 0.9583333134651184],\n",
              " [0.12959324258069196, 0.9583333134651184]]"
            ]
          },
          "metadata": {
            "tags": []
          },
          "execution_count": 17
        }
      ]
    },
    {
      "cell_type": "code",
      "metadata": {
        "id": "DGJPX3eXkQMA",
        "colab_type": "code",
        "colab": {}
      },
      "source": [
        "#####K-fold Cross Validation#####\n",
        "from sklearn.model_selection import StratifiedKFold\n",
        "TEST_SPLIT=0.1\n",
        "\n",
        "#X_train, X_test, y_train, y_test= train_test_split(X, y, test_size=TEST_SPLIT, random_state=0, stratify=y)\n",
        "\n",
        "kFold = StratifiedKFold(n_splits=11)\n",
        "scores = []\n",
        "idx = 0\n",
        "for train, test in kFold.split(X, y):\n",
        "  idx = idx+1\n",
        "  print(\"fold:\", idx)\n",
        "  X_trr=X[train]\n",
        "  y_tr=np.repeat(y[train], 89)\n",
        "  X_tr=[]\n",
        "  for audio in X_trr:\n",
        "    audio_chunks=list(split_overlap(audio,16000,8000))\n",
        "    for chunk in audio_chunks[:89]:\n",
        "        X_tr.append(np.array(chunk))\n",
        "  X_te=X[test]\n",
        "  y_test=np.repeat(y[test], 89)\n",
        "  X_test=[]\n",
        "  for audio in X_te:\n",
        "    audio_chunks=list(split_overlap(audio,16000,8000))\n",
        "    for chunk in audio_chunks[:89]:\n",
        "        X_test.append(np.array(chunk))\n",
        "  #X_tr=np.array(X_tr).reshape(len(X_tr),1)\n",
        "  #X_test=np.array(X_test).reshape(len(X_test),1)\n",
        "  X_train, X_val, y_train, y_val= train_test_split(X_tr, y_tr, test_size=TEST_SPLIT, random_state=0, stratify=y_tr)\n",
        "  y_train=to_categorical(y_train, num_classes=2)\n",
        "  y_val=to_categorical(y_val, num_classes=2)\n",
        "  y_test=to_categorical(y_test, num_classes=2)\n",
        "\n",
        "  R=han_model.train_model(checkpoint_path, np.array(X_train), np.array(y_train), np.array(X_val), np.array(y_val), np.array(X_test), np.array(y_test), epochs=10,batch_size=32)\n",
        "  scores.append(R)\n",
        "print(scores)\n",
        "#print(scores.mean())"
      ],
      "execution_count": null,
      "outputs": []
    },
    {
      "cell_type": "code",
      "metadata": {
        "id": "XyM1mAGGbvqb",
        "colab_type": "code",
        "colab": {
          "base_uri": "https://localhost:8080/",
          "height": 1000
        },
        "outputId": "9d4d4e16-50d6-409b-9cda-b14b933efe22"
      },
      "source": [
        "#####K-fold Cross Validation#####\n",
        "from sklearn.model_selection import StratifiedKFold\n",
        "TEST_SPLIT=0.1\n",
        "\n",
        "#X_train, X_test, y_train, y_test= train_test_split(X, y, test_size=TEST_SPLIT, random_state=0, stratify=y)\n",
        "\n",
        "kFold = StratifiedKFold(n_splits=11)\n",
        "scores = []\n",
        "idx = 0\n",
        "for train, test in kFold.split(X, y):\n",
        "  idx = idx+1\n",
        "  print(\"fold:\", idx)\n",
        "  X_trr=X[train]\n",
        "  y_tr=np.repeat(y[train], 45)\n",
        "  X_tr=[]\n",
        "  for audio in X_trr:\n",
        "    audio_chunks=list(split_overlap(audio,16000,0))\n",
        "    for chunk in audio_chunks[:45]:\n",
        "        X_tr.append(np.array(chunk))\n",
        "  X_te=X[test]\n",
        "  y_test=np.repeat(y[test], 45)\n",
        "  X_test=[]\n",
        "  for audio in X_te:\n",
        "    audio_chunks=list(split_overlap(audio,16000,0))\n",
        "    for chunk in audio_chunks[:45]:\n",
        "        X_test.append(np.array(chunk))\n",
        "  #X_tr=np.array(X_tr).reshape(len(X_tr),1)\n",
        "  #X_test=np.array(X_test).reshape(len(X_test),1)\n",
        "  X_train, X_val, y_train, y_val= train_test_split(X_tr, y_tr, test_size=TEST_SPLIT, random_state=0, stratify=y_tr)\n",
        "  y_train=to_categorical(y_train, num_classes=2)\n",
        "  y_val=to_categorical(y_val, num_classes=2)\n",
        "  y_test=to_categorical(y_test, num_classes=2)\n",
        "\n",
        "  R=han_model.train_model(checkpoint_path, np.array(X_train), np.array(y_train), np.array(X_val), np.array(y_val), np.array(X_test), np.array(y_test), epochs=10,batch_size=32)\n",
        "  scores.append(R)\n",
        "print(scores)\n",
        "#print(scores.mean())"
      ],
      "execution_count": null,
      "outputs": [
        {
          "output_type": "stream",
          "text": [
            "fold: 1\n",
            "Train on 20290 samples, validate on 2255 samples\n",
            "Epoch 1/10\n",
            "20290/20290 [==============================] - 22s 1ms/step - loss: 0.7436 - acc: 0.5821 - val_loss: 0.7434 - val_acc: 0.5796\n",
            "\n",
            "Epoch 00001: val_loss improved from inf to 0.74338, saving model to /content/model.01-0.74.hdf5\n",
            "Epoch 2/10\n",
            "20290/20290 [==============================] - 14s 714us/step - loss: 0.7026 - acc: 0.5962 - val_loss: 0.8160 - val_acc: 0.5667\n",
            "\n",
            "Epoch 00002: val_loss did not improve from 0.74338\n",
            "Epoch 3/10\n",
            "20290/20290 [==============================] - 15s 715us/step - loss: 0.6841 - acc: 0.6084 - val_loss: 0.8420 - val_acc: 0.4882\n",
            "\n",
            "Epoch 00003: val_loss did not improve from 0.74338\n",
            "Epoch 4/10\n",
            "20290/20290 [==============================] - 14s 712us/step - loss: 0.6729 - acc: 0.6146 - val_loss: 0.6713 - val_acc: 0.6129\n",
            "\n",
            "Epoch 00004: val_loss improved from 0.74338 to 0.67126, saving model to /content/model.04-0.67.hdf5\n",
            "Epoch 5/10\n",
            "20290/20290 [==============================] - 14s 714us/step - loss: 0.6632 - acc: 0.6231 - val_loss: 0.7307 - val_acc: 0.5641\n",
            "\n",
            "Epoch 00005: val_loss did not improve from 0.67126\n",
            "Epoch 6/10\n",
            "20290/20290 [==============================] - 14s 712us/step - loss: 0.6538 - acc: 0.6310 - val_loss: 0.7674 - val_acc: 0.5814\n",
            "\n",
            "Epoch 00006: val_loss did not improve from 0.67126\n",
            "Epoch 7/10\n",
            "20290/20290 [==============================] - 14s 711us/step - loss: 0.6438 - acc: 0.6365 - val_loss: 0.8252 - val_acc: 0.5933\n",
            "\n",
            "Epoch 00007: val_loss did not improve from 0.67126\n",
            "Epoch 8/10\n",
            "20290/20290 [==============================] - 14s 710us/step - loss: 0.6375 - acc: 0.6415 - val_loss: 0.6987 - val_acc: 0.5920\n",
            "\n",
            "Epoch 00008: val_loss did not improve from 0.67126\n",
            "Epoch 9/10\n",
            "20290/20290 [==============================] - 14s 713us/step - loss: 0.6295 - acc: 0.6484 - val_loss: 0.7449 - val_acc: 0.5663\n",
            "\n",
            "Epoch 00009: val_loss did not improve from 0.67126\n",
            "Epoch 10/10\n",
            "20290/20290 [==============================] - 14s 712us/step - loss: 0.6236 - acc: 0.6496 - val_loss: 0.8048 - val_acc: 0.5663\n",
            "\n",
            "Epoch 00010: val_loss did not improve from 0.67126\n",
            "2295/2295 [==============================] - 1s 459us/step\n",
            "Precision: 0.628319\n",
            "Recall: 0.326437\n",
            "F1 score: 0.429652\n",
            "Cohens kappa: 0.066786\n",
            "ROC AUC: 0.578422\n",
            "test loss, test acc: [0.8509777394774692, 0.5071895718574524]\n",
            "fold: 2\n",
            "Train on 20290 samples, validate on 2255 samples\n",
            "Epoch 1/10\n",
            "20290/20290 [==============================] - 15s 747us/step - loss: 0.6967 - acc: 0.5957 - val_loss: 0.7624 - val_acc: 0.5561\n",
            "\n",
            "Epoch 00001: val_loss improved from inf to 0.76238, saving model to /content/model.01-0.76.hdf5\n",
            "Epoch 2/10\n",
            "20290/20290 [==============================] - 15s 716us/step - loss: 0.6610 - acc: 0.6185 - val_loss: 0.6691 - val_acc: 0.6151\n",
            "\n",
            "Epoch 00002: val_loss improved from 0.76238 to 0.66913, saving model to /content/model.02-0.67.hdf5\n",
            "Epoch 3/10\n",
            "20290/20290 [==============================] - 14s 714us/step - loss: 0.6443 - acc: 0.6321 - val_loss: 1.5317 - val_acc: 0.4918\n",
            "\n",
            "Epoch 00003: val_loss did not improve from 0.66913\n",
            "Epoch 4/10\n",
            "20290/20290 [==============================] - 14s 713us/step - loss: 0.6357 - acc: 0.6371 - val_loss: 0.8102 - val_acc: 0.5561\n",
            "\n",
            "Epoch 00004: val_loss did not improve from 0.66913\n",
            "Epoch 5/10\n",
            "20290/20290 [==============================] - 14s 714us/step - loss: 0.6234 - acc: 0.6497 - val_loss: 0.7149 - val_acc: 0.6013\n",
            "\n",
            "Epoch 00005: val_loss did not improve from 0.66913\n",
            "Epoch 6/10\n",
            "20290/20290 [==============================] - 14s 714us/step - loss: 0.6166 - acc: 0.6508 - val_loss: 0.8321 - val_acc: 0.5415\n",
            "\n",
            "Epoch 00006: val_loss did not improve from 0.66913\n",
            "Epoch 7/10\n",
            "20290/20290 [==============================] - 14s 714us/step - loss: 0.6077 - acc: 0.6590 - val_loss: 1.8033 - val_acc: 0.4541\n",
            "\n",
            "Epoch 00007: val_loss did not improve from 0.66913\n",
            "Epoch 8/10\n",
            "20290/20290 [==============================] - 14s 713us/step - loss: 0.5990 - acc: 0.6663 - val_loss: 0.7348 - val_acc: 0.5796\n",
            "\n",
            "Epoch 00008: val_loss did not improve from 0.66913\n",
            "Epoch 9/10\n",
            "20290/20290 [==============================] - 15s 715us/step - loss: 0.5887 - acc: 0.6781 - val_loss: 0.6809 - val_acc: 0.6475\n",
            "\n",
            "Epoch 00009: val_loss did not improve from 0.66913\n",
            "Epoch 10/10\n",
            "20290/20290 [==============================] - 14s 713us/step - loss: 0.5795 - acc: 0.6798 - val_loss: 0.6672 - val_acc: 0.6470\n",
            "\n",
            "Epoch 00010: val_loss improved from 0.66913 to 0.66722, saving model to /content/model.10-0.67.hdf5\n",
            "2295/2295 [==============================] - 1s 460us/step\n",
            "Precision: 0.574661\n",
            "Recall: 0.403175\n",
            "F1 score: 0.473881\n",
            "Cohens kappa: 0.038636\n",
            "ROC AUC: 0.543715\n",
            "test loss, test acc: [0.7653857476538563, 0.5084967613220215]\n",
            "fold: 3\n",
            "Train on 20331 samples, validate on 2259 samples\n",
            "Epoch 1/10\n",
            "20331/20331 [==============================] - 15s 756us/step - loss: 0.6886 - acc: 0.6014 - val_loss: 0.7310 - val_acc: 0.5206\n",
            "\n",
            "Epoch 00001: val_loss improved from inf to 0.73098, saving model to /content/model.01-0.73.hdf5\n",
            "Epoch 2/10\n",
            "20331/20331 [==============================] - 14s 711us/step - loss: 0.6454 - acc: 0.6348 - val_loss: 0.7318 - val_acc: 0.5910\n",
            "\n",
            "Epoch 00002: val_loss did not improve from 0.73098\n",
            "Epoch 3/10\n",
            "20331/20331 [==============================] - 14s 711us/step - loss: 0.6228 - acc: 0.6507 - val_loss: 0.7185 - val_acc: 0.5724\n",
            "\n",
            "Epoch 00003: val_loss improved from 0.73098 to 0.71853, saving model to /content/model.03-0.72.hdf5\n",
            "Epoch 4/10\n",
            "20331/20331 [==============================] - 14s 711us/step - loss: 0.6112 - acc: 0.6571 - val_loss: 0.6502 - val_acc: 0.6370\n",
            "\n",
            "Epoch 00004: val_loss improved from 0.71853 to 0.65024, saving model to /content/model.04-0.65.hdf5\n",
            "Epoch 5/10\n",
            "20331/20331 [==============================] - 15s 716us/step - loss: 0.5978 - acc: 0.6673 - val_loss: 0.8350 - val_acc: 0.5821\n",
            "\n",
            "Epoch 00005: val_loss did not improve from 0.65024\n",
            "Epoch 6/10\n",
            "20331/20331 [==============================] - 14s 712us/step - loss: 0.5857 - acc: 0.6741 - val_loss: 0.6552 - val_acc: 0.6352\n",
            "\n",
            "Epoch 00006: val_loss did not improve from 0.65024\n",
            "Epoch 7/10\n",
            "20331/20331 [==============================] - 14s 709us/step - loss: 0.5726 - acc: 0.6837 - val_loss: 0.6327 - val_acc: 0.6498\n",
            "\n",
            "Epoch 00007: val_loss improved from 0.65024 to 0.63275, saving model to /content/model.07-0.63.hdf5\n",
            "Epoch 8/10\n",
            "20331/20331 [==============================] - 14s 710us/step - loss: 0.5623 - acc: 0.6921 - val_loss: 0.8767 - val_acc: 0.5454\n",
            "\n",
            "Epoch 00008: val_loss did not improve from 0.63275\n",
            "Epoch 9/10\n",
            "20331/20331 [==============================] - 15s 722us/step - loss: 0.5481 - acc: 0.7026 - val_loss: 0.7735 - val_acc: 0.5848\n",
            "\n",
            "Epoch 00009: val_loss did not improve from 0.63275\n",
            "Epoch 10/10\n",
            "20331/20331 [==============================] - 14s 710us/step - loss: 0.5407 - acc: 0.7029 - val_loss: 0.8875 - val_acc: 0.6082\n",
            "\n",
            "Epoch 00010: val_loss did not improve from 0.63275\n",
            "2250/2250 [==============================] - 1s 457us/step\n",
            "Precision: 0.584198\n",
            "Recall: 0.580952\n",
            "F1 score: 0.582571\n",
            "Cohens kappa: 0.054648\n",
            "ROC AUC: 0.561992\n",
            "test loss, test acc: [0.9753801657507817, 0.5337777733802795]\n",
            "fold: 4\n",
            "Train on 20331 samples, validate on 2259 samples\n",
            "Epoch 1/10\n",
            "20331/20331 [==============================] - 15s 753us/step - loss: 0.6862 - acc: 0.6091 - val_loss: 0.8547 - val_acc: 0.5166\n",
            "\n",
            "Epoch 00001: val_loss improved from inf to 0.85475, saving model to /content/model.01-0.85.hdf5\n",
            "Epoch 2/10\n",
            "20331/20331 [==============================] - 15s 718us/step - loss: 0.6273 - acc: 0.6506 - val_loss: 0.9124 - val_acc: 0.5055\n",
            "\n",
            "Epoch 00002: val_loss did not improve from 0.85475\n",
            "Epoch 3/10\n",
            "20331/20331 [==============================] - 15s 720us/step - loss: 0.6038 - acc: 0.6630 - val_loss: 0.9677 - val_acc: 0.5175\n",
            "\n",
            "Epoch 00003: val_loss did not improve from 0.85475\n",
            "Epoch 4/10\n",
            "20331/20331 [==============================] - 15s 719us/step - loss: 0.5805 - acc: 0.6841 - val_loss: 0.9652 - val_acc: 0.5193\n",
            "\n",
            "Epoch 00004: val_loss did not improve from 0.85475\n",
            "Epoch 5/10\n",
            "20331/20331 [==============================] - 15s 721us/step - loss: 0.5624 - acc: 0.6967 - val_loss: 0.6820 - val_acc: 0.6383\n",
            "\n",
            "Epoch 00005: val_loss improved from 0.85475 to 0.68198, saving model to /content/model.05-0.68.hdf5\n",
            "Epoch 6/10\n",
            "20331/20331 [==============================] - 15s 726us/step - loss: 0.5466 - acc: 0.7038 - val_loss: 0.7739 - val_acc: 0.6264\n",
            "\n",
            "Epoch 00006: val_loss did not improve from 0.68198\n",
            "Epoch 7/10\n",
            "20331/20331 [==============================] - 15s 716us/step - loss: 0.5290 - acc: 0.7168 - val_loss: 0.6964 - val_acc: 0.6392\n",
            "\n",
            "Epoch 00007: val_loss did not improve from 0.68198\n",
            "Epoch 8/10\n",
            "20331/20331 [==============================] - 15s 719us/step - loss: 0.5169 - acc: 0.7223 - val_loss: 1.3947 - val_acc: 0.5865\n",
            "\n",
            "Epoch 00008: val_loss did not improve from 0.68198\n",
            "Epoch 9/10\n",
            "20331/20331 [==============================] - 15s 720us/step - loss: 0.5056 - acc: 0.7313 - val_loss: 1.1831 - val_acc: 0.5888\n",
            "\n",
            "Epoch 00009: val_loss did not improve from 0.68198\n",
            "Epoch 10/10\n",
            "20331/20331 [==============================] - 15s 719us/step - loss: 0.4920 - acc: 0.7386 - val_loss: 0.7227 - val_acc: 0.6379\n",
            "\n",
            "Epoch 00010: val_loss did not improve from 0.68198\n",
            "2250/2250 [==============================] - 1s 454us/step\n",
            "Precision: 0.608696\n",
            "Recall: 0.922222\n",
            "F1 score: 0.733354\n",
            "Cohens kappa: 0.180344\n",
            "ROC AUC: 0.644052\n",
            "test loss, test acc: [0.7181355749732918, 0.6244444251060486]\n",
            "fold: 5\n",
            "Train on 20331 samples, validate on 2259 samples\n",
            "Epoch 1/10\n",
            "20331/20331 [==============================] - 15s 753us/step - loss: 0.6742 - acc: 0.6116 - val_loss: 0.6500 - val_acc: 0.6472\n",
            "\n",
            "Epoch 00001: val_loss improved from inf to 0.65003, saving model to /content/model.01-0.65.hdf5\n",
            "Epoch 2/10\n",
            "20331/20331 [==============================] - 15s 724us/step - loss: 0.6125 - acc: 0.6616 - val_loss: 1.0284 - val_acc: 0.5347\n",
            "\n",
            "Epoch 00002: val_loss did not improve from 0.65003\n",
            "Epoch 3/10\n",
            "20331/20331 [==============================] - 15s 721us/step - loss: 0.5691 - acc: 0.6909 - val_loss: 1.9808 - val_acc: 0.5007\n",
            "\n",
            "Epoch 00003: val_loss did not improve from 0.65003\n",
            "Epoch 4/10\n",
            "20331/20331 [==============================] - 15s 719us/step - loss: 0.5448 - acc: 0.7056 - val_loss: 1.2100 - val_acc: 0.5741\n",
            "\n",
            "Epoch 00004: val_loss did not improve from 0.65003\n",
            "Epoch 5/10\n",
            "20331/20331 [==============================] - 15s 720us/step - loss: 0.5214 - acc: 0.7201 - val_loss: 1.0496 - val_acc: 0.5387\n",
            "\n",
            "Epoch 00005: val_loss did not improve from 0.65003\n",
            "Epoch 6/10\n",
            "20331/20331 [==============================] - 15s 719us/step - loss: 0.5000 - acc: 0.7335 - val_loss: 0.7334 - val_acc: 0.6206\n",
            "\n",
            "Epoch 00006: val_loss did not improve from 0.65003\n",
            "Epoch 7/10\n",
            "20331/20331 [==============================] - 15s 719us/step - loss: 0.4877 - acc: 0.7413 - val_loss: 0.8513 - val_acc: 0.5834\n",
            "\n",
            "Epoch 00007: val_loss did not improve from 0.65003\n",
            "Epoch 8/10\n",
            "20331/20331 [==============================] - 15s 721us/step - loss: 0.4679 - acc: 0.7498 - val_loss: 1.3383 - val_acc: 0.5516\n",
            "\n",
            "Epoch 00008: val_loss did not improve from 0.65003\n",
            "Epoch 9/10\n",
            "20331/20331 [==============================] - 15s 724us/step - loss: 0.4552 - acc: 0.7568 - val_loss: 0.7282 - val_acc: 0.6543\n",
            "\n",
            "Epoch 00009: val_loss did not improve from 0.65003\n",
            "Epoch 10/10\n",
            "20331/20331 [==============================] - 15s 721us/step - loss: 0.4456 - acc: 0.7633 - val_loss: 1.2515 - val_acc: 0.5467\n",
            "\n",
            "Epoch 00010: val_loss did not improve from 0.65003\n",
            "2250/2250 [==============================] - 1s 449us/step\n",
            "Precision: 0.606040\n",
            "Recall: 0.700794\n",
            "F1 score: 0.649982\n",
            "Cohens kappa: 0.123632\n",
            "ROC AUC: 0.578153\n",
            "test loss, test acc: [1.151914318535063, 0.5773333311080933]\n",
            "fold: 6\n",
            "Train on 20331 samples, validate on 2259 samples\n",
            "Epoch 1/10\n",
            "20331/20331 [==============================] - 15s 757us/step - loss: 0.6731 - acc: 0.6166 - val_loss: 0.6823 - val_acc: 0.6073\n",
            "\n",
            "Epoch 00001: val_loss improved from inf to 0.68235, saving model to /content/model.01-0.68.hdf5\n",
            "Epoch 2/10\n",
            "20331/20331 [==============================] - 15s 718us/step - loss: 0.6061 - acc: 0.6631 - val_loss: 0.9110 - val_acc: 0.5772\n",
            "\n",
            "Epoch 00002: val_loss did not improve from 0.68235\n",
            "Epoch 3/10\n",
            "20331/20331 [==============================] - 15s 717us/step - loss: 0.5609 - acc: 0.6982 - val_loss: 0.6567 - val_acc: 0.6432\n",
            "\n",
            "Epoch 00003: val_loss improved from 0.68235 to 0.65674, saving model to /content/model.03-0.66.hdf5\n",
            "Epoch 4/10\n",
            "20331/20331 [==============================] - 15s 716us/step - loss: 0.5355 - acc: 0.7120 - val_loss: 0.7754 - val_acc: 0.6242\n",
            "\n",
            "Epoch 00004: val_loss did not improve from 0.65674\n",
            "Epoch 5/10\n",
            "20331/20331 [==============================] - 15s 718us/step - loss: 0.5099 - acc: 0.7253 - val_loss: 0.7375 - val_acc: 0.6228\n",
            "\n",
            "Epoch 00005: val_loss did not improve from 0.65674\n",
            "Epoch 6/10\n",
            "20331/20331 [==============================] - 15s 718us/step - loss: 0.4959 - acc: 0.7342 - val_loss: 0.7000 - val_acc: 0.6441\n",
            "\n",
            "Epoch 00006: val_loss did not improve from 0.65674\n",
            "Epoch 7/10\n",
            "20331/20331 [==============================] - 15s 718us/step - loss: 0.4776 - acc: 0.7430 - val_loss: 0.7113 - val_acc: 0.6397\n",
            "\n",
            "Epoch 00007: val_loss did not improve from 0.65674\n",
            "Epoch 8/10\n",
            "20331/20331 [==============================] - 15s 716us/step - loss: 0.4687 - acc: 0.7506 - val_loss: 1.2498 - val_acc: 0.5427\n",
            "\n",
            "Epoch 00008: val_loss did not improve from 0.65674\n",
            "Epoch 9/10\n",
            "20331/20331 [==============================] - 15s 719us/step - loss: 0.4495 - acc: 0.7558 - val_loss: 1.3306 - val_acc: 0.5830\n",
            "\n",
            "Epoch 00009: val_loss did not improve from 0.65674\n",
            "Epoch 10/10\n",
            "20331/20331 [==============================] - 15s 718us/step - loss: 0.4383 - acc: 0.7605 - val_loss: 1.5247 - val_acc: 0.5494\n",
            "\n",
            "Epoch 00010: val_loss did not improve from 0.65674\n",
            "2250/2250 [==============================] - 1s 456us/step\n",
            "Precision: 0.559967\n",
            "Recall: 0.537302\n",
            "F1 score: 0.548400\n",
            "Cohens kappa: -0.000072\n",
            "ROC AUC: 0.622248\n",
            "test loss, test acc: [1.406838978735937, 0.504444420337677]\n",
            "fold: 7\n",
            "Train on 20331 samples, validate on 2259 samples\n",
            "Epoch 1/10\n",
            "20331/20331 [==============================] - 15s 752us/step - loss: 0.6494 - acc: 0.6434 - val_loss: 0.6765 - val_acc: 0.6246\n",
            "\n",
            "Epoch 00001: val_loss improved from inf to 0.67648, saving model to /content/model.01-0.68.hdf5\n",
            "Epoch 2/10\n",
            "20331/20331 [==============================] - 15s 718us/step - loss: 0.5662 - acc: 0.6967 - val_loss: 1.0454 - val_acc: 0.5857\n",
            "\n",
            "Epoch 00002: val_loss did not improve from 0.67648\n",
            "Epoch 3/10\n",
            "20331/20331 [==============================] - 15s 716us/step - loss: 0.5181 - acc: 0.7261 - val_loss: 0.6746 - val_acc: 0.6405\n",
            "\n",
            "Epoch 00003: val_loss improved from 0.67648 to 0.67464, saving model to /content/model.03-0.67.hdf5\n",
            "Epoch 4/10\n",
            "20331/20331 [==============================] - 15s 718us/step - loss: 0.4906 - acc: 0.7407 - val_loss: 0.8419 - val_acc: 0.6388\n",
            "\n",
            "Epoch 00004: val_loss did not improve from 0.67464\n",
            "Epoch 5/10\n",
            "20331/20331 [==============================] - 15s 718us/step - loss: 0.4690 - acc: 0.7510 - val_loss: 2.1779 - val_acc: 0.5688\n",
            "\n",
            "Epoch 00005: val_loss did not improve from 0.67464\n",
            "Epoch 6/10\n",
            "20331/20331 [==============================] - 15s 718us/step - loss: 0.4520 - acc: 0.7601 - val_loss: 0.7703 - val_acc: 0.6529\n",
            "\n",
            "Epoch 00006: val_loss did not improve from 0.67464\n",
            "Epoch 7/10\n",
            "20331/20331 [==============================] - 15s 716us/step - loss: 0.4389 - acc: 0.7673 - val_loss: 0.9578 - val_acc: 0.5927\n",
            "\n",
            "Epoch 00007: val_loss did not improve from 0.67464\n",
            "Epoch 8/10\n",
            "20331/20331 [==============================] - 15s 716us/step - loss: 0.4294 - acc: 0.7718 - val_loss: 2.4810 - val_acc: 0.5011\n",
            "\n",
            "Epoch 00008: val_loss did not improve from 0.67464\n",
            "Epoch 9/10\n",
            "20331/20331 [==============================] - 15s 716us/step - loss: 0.4175 - acc: 0.7761 - val_loss: 0.7650 - val_acc: 0.6552\n",
            "\n",
            "Epoch 00009: val_loss did not improve from 0.67464\n",
            "Epoch 10/10\n",
            "20331/20331 [==============================] - 15s 716us/step - loss: 0.4100 - acc: 0.7805 - val_loss: 1.6969 - val_acc: 0.5905\n",
            "\n",
            "Epoch 00010: val_loss did not improve from 0.67464\n",
            "2250/2250 [==============================] - 1s 449us/step\n",
            "Precision: 0.559015\n",
            "Recall: 0.954762\n",
            "F1 score: 0.705158\n",
            "Cohens kappa: -0.004233\n",
            "ROC AUC: 0.687024\n",
            "test loss, test acc: [1.5654839524543949, 0.5528888702392578]\n",
            "fold: 8\n",
            "Train on 20331 samples, validate on 2259 samples\n",
            "Epoch 1/10\n",
            "20331/20331 [==============================] - 15s 757us/step - loss: 0.6581 - acc: 0.6375 - val_loss: 0.6871 - val_acc: 0.6007\n",
            "\n",
            "Epoch 00001: val_loss improved from inf to 0.68710, saving model to /content/model.01-0.69.hdf5\n",
            "Epoch 2/10\n",
            "20331/20331 [==============================] - 15s 721us/step - loss: 0.5582 - acc: 0.7006 - val_loss: 0.8089 - val_acc: 0.5985\n",
            "\n",
            "Epoch 00002: val_loss did not improve from 0.68710\n",
            "Epoch 3/10\n",
            "20331/20331 [==============================] - 15s 720us/step - loss: 0.5114 - acc: 0.7287 - val_loss: 1.1686 - val_acc: 0.5923\n",
            "\n",
            "Epoch 00003: val_loss did not improve from 0.68710\n",
            "Epoch 4/10\n",
            "20331/20331 [==============================] - 15s 722us/step - loss: 0.4754 - acc: 0.7470 - val_loss: 0.7735 - val_acc: 0.6344\n",
            "\n",
            "Epoch 00004: val_loss did not improve from 0.68710\n",
            "Epoch 5/10\n",
            "20331/20331 [==============================] - 15s 720us/step - loss: 0.4499 - acc: 0.7588 - val_loss: 0.9018 - val_acc: 0.6286\n",
            "\n",
            "Epoch 00005: val_loss did not improve from 0.68710\n",
            "Epoch 6/10\n",
            "20331/20331 [==============================] - 15s 723us/step - loss: 0.4338 - acc: 0.7676 - val_loss: 2.9986 - val_acc: 0.5657\n",
            "\n",
            "Epoch 00006: val_loss did not improve from 0.68710\n",
            "Epoch 7/10\n",
            "20331/20331 [==============================] - 15s 719us/step - loss: 0.4288 - acc: 0.7664 - val_loss: 0.9792 - val_acc: 0.5865\n",
            "\n",
            "Epoch 00007: val_loss did not improve from 0.68710\n",
            "Epoch 8/10\n",
            "20331/20331 [==============================] - 15s 724us/step - loss: 0.4102 - acc: 0.7780 - val_loss: 0.9347 - val_acc: 0.6122\n",
            "\n",
            "Epoch 00008: val_loss did not improve from 0.68710\n",
            "Epoch 9/10\n",
            "20331/20331 [==============================] - 15s 720us/step - loss: 0.4032 - acc: 0.7868 - val_loss: 1.4662 - val_acc: 0.5387\n",
            "\n",
            "Epoch 00009: val_loss did not improve from 0.68710\n",
            "Epoch 10/10\n",
            "20331/20331 [==============================] - 15s 720us/step - loss: 0.3922 - acc: 0.7859 - val_loss: 1.1401 - val_acc: 0.6290\n",
            "\n",
            "Epoch 00010: val_loss did not improve from 0.68710\n",
            "2250/2250 [==============================] - 1s 458us/step\n",
            "Precision: 0.786604\n",
            "Recall: 0.801587\n",
            "F1 score: 0.794025\n",
            "Cohens kappa: 0.526186\n",
            "ROC AUC: 0.803013\n",
            "test loss, test acc: [0.7071160997119215, 0.7671111226081848]\n",
            "fold: 9\n",
            "Train on 20331 samples, validate on 2259 samples\n",
            "Epoch 1/10\n",
            "20331/20331 [==============================] - 15s 752us/step - loss: 0.6627 - acc: 0.6297 - val_loss: 0.6724 - val_acc: 0.6286\n",
            "\n",
            "Epoch 00001: val_loss improved from inf to 0.67241, saving model to /content/model.01-0.67.hdf5\n",
            "Epoch 2/10\n",
            "20331/20331 [==============================] - 15s 721us/step - loss: 0.5599 - acc: 0.6998 - val_loss: 0.6792 - val_acc: 0.6304\n",
            "\n",
            "Epoch 00002: val_loss did not improve from 0.67241\n",
            "Epoch 3/10\n",
            "20331/20331 [==============================] - 15s 718us/step - loss: 0.5104 - acc: 0.7281 - val_loss: 0.8763 - val_acc: 0.6060\n",
            "\n",
            "Epoch 00003: val_loss did not improve from 0.67241\n",
            "Epoch 4/10\n",
            "20331/20331 [==============================] - 15s 717us/step - loss: 0.4725 - acc: 0.7444 - val_loss: 0.7081 - val_acc: 0.6432\n",
            "\n",
            "Epoch 00004: val_loss did not improve from 0.67241\n",
            "Epoch 5/10\n",
            "20331/20331 [==============================] - 15s 720us/step - loss: 0.4503 - acc: 0.7542 - val_loss: 0.8924 - val_acc: 0.6268\n",
            "\n",
            "Epoch 00005: val_loss did not improve from 0.67241\n",
            "Epoch 6/10\n",
            "20331/20331 [==============================] - 15s 718us/step - loss: 0.4320 - acc: 0.7679 - val_loss: 0.7555 - val_acc: 0.6428\n",
            "\n",
            "Epoch 00006: val_loss did not improve from 0.67241\n",
            "Epoch 7/10\n",
            "20331/20331 [==============================] - 15s 717us/step - loss: 0.4116 - acc: 0.7786 - val_loss: 1.1029 - val_acc: 0.6047\n",
            "\n",
            "Epoch 00007: val_loss did not improve from 0.67241\n",
            "Epoch 8/10\n",
            "20331/20331 [==============================] - 15s 724us/step - loss: 0.4077 - acc: 0.7734 - val_loss: 1.2731 - val_acc: 0.5724\n",
            "\n",
            "Epoch 00008: val_loss did not improve from 0.67241\n",
            "Epoch 9/10\n",
            "20331/20331 [==============================] - 15s 723us/step - loss: 0.3985 - acc: 0.7807 - val_loss: 0.9971 - val_acc: 0.6282\n",
            "\n",
            "Epoch 00009: val_loss did not improve from 0.67241\n",
            "Epoch 10/10\n",
            "20331/20331 [==============================] - 15s 718us/step - loss: 0.3875 - acc: 0.7843 - val_loss: 0.8660 - val_acc: 0.6476\n",
            "\n",
            "Epoch 00010: val_loss did not improve from 0.67241\n",
            "2250/2250 [==============================] - 1s 464us/step\n",
            "Precision: 0.758278\n",
            "Recall: 0.908730\n",
            "F1 score: 0.826715\n",
            "Cohens kappa: 0.555061\n",
            "ROC AUC: 0.867027\n",
            "test loss, test acc: [0.5264824318885803, 0.7866666913032532]\n",
            "fold: 10\n",
            "Train on 20331 samples, validate on 2259 samples\n",
            "Epoch 1/10\n",
            "20331/20331 [==============================] - 15s 754us/step - loss: 0.6223 - acc: 0.6641 - val_loss: 0.7530 - val_acc: 0.6344\n",
            "\n",
            "Epoch 00001: val_loss improved from inf to 0.75304, saving model to /content/model.01-0.75.hdf5\n",
            "Epoch 2/10\n",
            "20331/20331 [==============================] - 15s 721us/step - loss: 0.5129 - acc: 0.7273 - val_loss: 1.7035 - val_acc: 0.5715\n",
            "\n",
            "Epoch 00002: val_loss did not improve from 0.75304\n",
            "Epoch 3/10\n",
            "20331/20331 [==============================] - 15s 721us/step - loss: 0.4668 - acc: 0.7482 - val_loss: 0.9420 - val_acc: 0.6202\n",
            "\n",
            "Epoch 00003: val_loss did not improve from 0.75304\n",
            "Epoch 4/10\n",
            "20331/20331 [==============================] - 15s 731us/step - loss: 0.4369 - acc: 0.7677 - val_loss: 0.8257 - val_acc: 0.6335\n",
            "\n",
            "Epoch 00004: val_loss did not improve from 0.75304\n",
            "Epoch 5/10\n",
            "20331/20331 [==============================] - 15s 718us/step - loss: 0.4162 - acc: 0.7738 - val_loss: 0.7438 - val_acc: 0.6653\n",
            "\n",
            "Epoch 00005: val_loss improved from 0.75304 to 0.74380, saving model to /content/model.05-0.74.hdf5\n",
            "Epoch 6/10\n",
            "20331/20331 [==============================] - 15s 720us/step - loss: 0.4053 - acc: 0.7833 - val_loss: 0.9372 - val_acc: 0.6348\n",
            "\n",
            "Epoch 00006: val_loss did not improve from 0.74380\n",
            "Epoch 7/10\n",
            "20331/20331 [==============================] - 15s 719us/step - loss: 0.3953 - acc: 0.7813 - val_loss: 0.8301 - val_acc: 0.6609\n",
            "\n",
            "Epoch 00007: val_loss did not improve from 0.74380\n",
            "Epoch 8/10\n",
            "20331/20331 [==============================] - 15s 718us/step - loss: 0.3889 - acc: 0.7886 - val_loss: 1.7344 - val_acc: 0.5888\n",
            "\n",
            "Epoch 00008: val_loss did not improve from 0.74380\n",
            "Epoch 9/10\n",
            "20331/20331 [==============================] - 15s 718us/step - loss: 0.3809 - acc: 0.7924 - val_loss: 0.7727 - val_acc: 0.6569\n",
            "\n",
            "Epoch 00009: val_loss did not improve from 0.74380\n",
            "Epoch 10/10\n",
            "20331/20331 [==============================] - 15s 719us/step - loss: 0.3742 - acc: 0.7919 - val_loss: 0.9852 - val_acc: 0.6326\n",
            "\n",
            "Epoch 00010: val_loss did not improve from 0.74380\n",
            "2250/2250 [==============================] - 1s 454us/step\n",
            "Precision: 0.673684\n",
            "Recall: 0.965079\n",
            "F1 score: 0.793475\n",
            "Cohens kappa: 0.393329\n",
            "ROC AUC: 0.831368\n",
            "test loss, test acc: [0.7437760666178332, 0.718666672706604]\n",
            "fold: 11\n",
            "Train on 20331 samples, validate on 2259 samples\n",
            "Epoch 1/10\n",
            "20331/20331 [==============================] - 15s 757us/step - loss: 0.6114 - acc: 0.6761 - val_loss: 0.9968 - val_acc: 0.5759\n",
            "\n",
            "Epoch 00001: val_loss improved from inf to 0.99683, saving model to /content/model.01-1.00.hdf5\n",
            "Epoch 2/10\n",
            "20331/20331 [==============================] - 15s 721us/step - loss: 0.4934 - acc: 0.7430 - val_loss: 0.8418 - val_acc: 0.6087\n",
            "\n",
            "Epoch 00002: val_loss improved from 0.99683 to 0.84175, saving model to /content/model.02-0.84.hdf5\n",
            "Epoch 3/10\n",
            "20331/20331 [==============================] - 15s 720us/step - loss: 0.4472 - acc: 0.7613 - val_loss: 0.7571 - val_acc: 0.6729\n",
            "\n",
            "Epoch 00003: val_loss improved from 0.84175 to 0.75712, saving model to /content/model.03-0.76.hdf5\n",
            "Epoch 4/10\n",
            "20331/20331 [==============================] - 15s 720us/step - loss: 0.4229 - acc: 0.7735 - val_loss: 1.0787 - val_acc: 0.6255\n",
            "\n",
            "Epoch 00004: val_loss did not improve from 0.75712\n",
            "Epoch 5/10\n",
            "20331/20331 [==============================] - 15s 718us/step - loss: 0.4100 - acc: 0.7801 - val_loss: 1.0424 - val_acc: 0.6379\n",
            "\n",
            "Epoch 00005: val_loss did not improve from 0.75712\n",
            "Epoch 6/10\n",
            "20331/20331 [==============================] - 15s 718us/step - loss: 0.3907 - acc: 0.7878 - val_loss: 0.8814 - val_acc: 0.6543\n",
            "\n",
            "Epoch 00006: val_loss did not improve from 0.75712\n",
            "Epoch 7/10\n",
            "20331/20331 [==============================] - 15s 721us/step - loss: 0.3821 - acc: 0.7898 - val_loss: 1.7613 - val_acc: 0.5458\n",
            "\n",
            "Epoch 00007: val_loss did not improve from 0.75712\n",
            "Epoch 8/10\n",
            "20331/20331 [==============================] - 15s 721us/step - loss: 0.3781 - acc: 0.7925 - val_loss: 1.1936 - val_acc: 0.6220\n",
            "\n",
            "Epoch 00008: val_loss did not improve from 0.75712\n",
            "Epoch 9/10\n",
            "20331/20331 [==============================] - 15s 724us/step - loss: 0.3708 - acc: 0.7951 - val_loss: 0.8128 - val_acc: 0.6556\n",
            "\n",
            "Epoch 00009: val_loss did not improve from 0.75712\n",
            "Epoch 10/10\n",
            "20331/20331 [==============================] - 15s 720us/step - loss: 0.3658 - acc: 0.7986 - val_loss: 0.8792 - val_acc: 0.6507\n",
            "\n",
            "Epoch 00010: val_loss did not improve from 0.75712\n",
            "2250/2250 [==============================] - 1s 461us/step\n",
            "Precision: 0.811348\n",
            "Recall: 0.907937\n",
            "F1 score: 0.856929\n",
            "Cohens kappa: 0.649798\n",
            "ROC AUC: 0.908173\n",
            "test loss, test acc: [0.45499084858430755, 0.8302222490310669]\n",
            "[(0.5071895718574524, [1, 1, 1, 1, 1, 1, 1, 0, 0, 1, 1, 0, 1, 1, 1, 1, 1, 1, 1, 1, 1, 0, 0, 1, 1, 1, 0, 0, 0, 0, 0, 0, 0, 0, 0, 0, 0, 0, 0, 0, 0, 0, 0, 0, 0, 1, 1, 0, 1, 0, 1, 1, 0, 0, 1, 0, 0, 0, 0, 0, 0, 0, 1, 0, 0, 0, 1, 0, 1, 1, 1, 1, 0, 0, 0, 0, 0, 0, 0, 0, 0, 0, 0, 0, 0, 0, 0, 0, 0, 0, 0, 0, 1, 1, 0, 0, 1, 1, 1, 1, 0, 0, 1, 1, 1, 1, 1, 1, 0, 0, 0, 1, 0, 1, 1, 0, 0, 0, 0, 0, 0, 0, 0, 0, 0, 0, 0, 0, 0, 0, 0, 0, 0, 0, 0, 0, 1, 0, 0, 1, 0, 0, 0, 0, 0, 0, 1, 0, 0, 0, 0, 1, 0, 1, 1, 1, 0, 0, 0, 1, 1, 1, 0, 0, 0, 0, 0, 0, 0, 0, 0, 0, 0, 0, 0, 0, 0, 0, 0, 0, 0, 0, 0, 1, 0, 0, 1, 0, 1, 0, 0, 0, 0, 0, 0, 1, 1, 1, 1, 0, 0, 0, 1, 0, 0, 0, 0, 0, 0, 0, 0, 0, 0, 0, 0, 0, 0, 0, 0, 0, 0, 0, 0, 0, 0, 0, 1, 0, 1, 1, 1, 1, 0, 1, 0, 0, 1, 1, 0, 1, 0, 1, 0, 0, 0, 0, 0, 0, 0, 0, 0, 0, 0, 0, 0, 0, 0, 0, 0, 0, 0, 0, 0, 0, 0, 0, 0, 0, 0, 0, 1, 1, 1, 1, 1, 0, 1, 1, 0, 1, 0, 0, 1, 1, 1, 1, 0, 1, 1, 1, 1, 1, 1, 1, 1, 1, 1, 1, 1, 1, 0, 0, 0, 0, 0, 0, 0, 0, 0, 0, 0, 0, 0, 0, 0, 1, 0, 0, 1, 1, 0, 1, 1, 1, 1, 1, 1, 0, 1, 0, 1, 1, 1, 1, 1, 1, 1, 0, 0, 0, 0, 0, 0, 0, 0, 0, 0, 0, 0, 0, 0, 0, 0, 0, 0, 0, 0, 0, 0, 0, 0, 0, 0, 1, 0, 1, 0, 0, 0, 0, 1, 0, 0, 0, 0, 0, 0, 0, 0, 0, 0, 0, 0, 1, 1, 0, 0, 0, 0, 0, 0, 0, 0, 0, 0, 0, 0, 0, 0, 0, 0, 0, 0, 0, 0, 0, 0, 0, 0, 0, 1, 0, 0, 0, 0, 0, 0, 0, 0, 0, 1, 0, 1, 0, 0, 0, 1, 0, 0, 1, 1, 0, 1, 1, 0, 0, 0, 0, 0, 0, 0, 0, 0, 0, 0, 0, 0, 0, 0, 0, 0, 0, 0, 1, 0, 0, 0, 0, 0, 0, 0, 0, 0, 0, 0, 0, 0, 0, 0, 0, 0, 0, 0, 0, 1, 0, 1, 0, 0, 0, 0, 0, 0, 0, 0, 0, 0, 0, 0, 0, 0, 0, 0, 0, 0, 0, 1, 0, 0, 0, 0, 0, 0, 1, 1, 0, 0, 0, 0, 0, 0, 1, 1, 1, 1, 0, 0, 0, 1, 1, 1, 1, 0, 1, 1, 0, 0, 0, 0, 0, 0, 0, 0, 0, 0, 0, 0, 0, 0, 0, 1, 1, 1, 1, 1, 1, 1, 1, 1, 1, 1, 1, 1, 1, 1, 1, 0, 1, 0, 1, 1, 1, 0, 1, 1, 1, 1, 0, 1, 0, 0, 0, 0, 0, 0, 0, 0, 0, 0, 0, 0, 0, 0, 0, 0, 0, 0, 0, 1, 0, 0, 1, 1, 1, 1, 1, 1, 1, 0, 1, 1, 1, 0, 1, 1, 1, 1, 1, 1, 1, 1, 1, 1, 0, 1, 0, 0, 0, 0, 0, 0, 0, 0, 0, 0, 0, 0, 0, 0, 0, 1, 1, 1, 1, 1, 1, 1, 1, 1, 1, 1, 1, 1, 1, 1, 1, 1, 1, 1, 1, 1, 1, 1, 1, 1, 1, 1, 1, 0, 0, 0, 0, 0, 0, 0, 0, 0, 0, 0, 0, 0, 0, 0, 0, 0, 0, 0, 1, 1, 0, 0, 0, 0, 0, 1, 1, 1, 1, 1, 1, 0, 1, 0, 0, 1, 1, 1, 1, 1, 1, 0, 0, 1, 0, 0, 0, 0, 0, 0, 0, 0, 0, 0, 0, 0, 0, 0, 0, 0, 0, 1, 1, 1, 1, 1, 1, 1, 1, 1, 1, 1, 1, 1, 1, 1, 1, 1, 1, 1, 1, 1, 1, 1, 1, 1, 1, 1, 1, 0, 0, 0, 0, 0, 0, 0, 0, 0, 0, 0, 0, 0, 0, 0, 0, 0, 1, 1, 1, 1, 1, 1, 1, 1, 1, 1, 1, 1, 1, 1, 1, 1, 1, 1, 1, 1, 1, 0, 0, 0, 0, 0, 0, 0, 0, 0, 0, 0, 0, 0, 0, 0, 0, 0, 0, 0, 0, 0, 0, 0, 0, 0, 1, 1, 1, 0, 1, 1, 1, 1, 0, 0, 1, 1, 1, 1, 1, 1, 1, 1, 1, 1, 0, 1, 0, 1, 1, 1, 1, 1, 1, 1, 0, 0, 0, 0, 0, 0, 0, 0, 0, 0, 0, 0, 0, 0, 1, 1, 0, 0, 0, 0, 0, 1, 0, 1, 1, 0, 0, 0, 1, 1, 0, 1, 0, 1, 0, 0, 1, 1, 1, 1, 0, 0, 0, 0, 0, 0, 0, 0, 0, 0, 0, 0, 0, 0, 0, 0, 0, 0, 0, 1, 0, 0, 0, 0, 0, 1, 1, 0, 1, 0, 0, 0, 1, 1, 0, 1, 0, 0, 0, 0, 0, 1, 1, 1, 1, 0, 0, 0, 0, 0, 0, 0, 0, 0, 0, 0, 0, 0, 0, 0, 0, 0, 0, 0, 0, 1, 0, 0, 0, 0, 1, 0, 0, 1, 0, 1, 1, 0, 1, 1, 1, 1, 1, 0, 1, 0, 0, 1, 0, 0, 0, 1, 0, 0, 0, 0, 0, 0, 0, 0, 0, 0, 0, 0, 0, 0, 0, 0, 0, 0, 0, 0, 0, 0, 0, 0, 0, 0, 0, 0, 0, 0, 0, 1, 0, 1, 1, 1, 0, 0, 0, 0, 0, 0, 0, 0, 0, 0, 0, 0, 0, 0, 0, 0, 0, 0, 0, 0, 0, 0, 0, 0, 0, 0, 0, 0, 0, 0, 0, 0, 0, 1, 0, 1, 0, 0, 0, 0, 0, 0, 0, 1, 1, 1, 0, 0, 0, 0, 0, 0, 0, 0, 0, 0, 0, 0, 0, 0, 0, 0, 0, 0, 0, 0, 0, 0, 0, 0, 0, 0, 0, 0, 0, 0, 0, 0, 0, 1, 1, 1, 0, 0, 0, 1, 0, 0, 1, 0, 1, 0, 1, 0, 0, 0, 0, 0, 0, 0, 0, 0, 0, 0, 0, 0, 0, 0, 0, 0, 0, 0, 0, 0, 0, 0, 0, 1, 0, 0, 0, 0, 0, 1, 0, 1, 0, 1, 1, 0, 0, 1, 0, 1, 0, 1, 1, 0, 0, 0, 0, 0, 0, 0, 0, 0, 0, 0, 0, 0, 0, 0, 0, 0, 0, 0, 0, 0, 0, 0, 0, 1, 1, 1, 1, 1, 1, 1, 1, 1, 1, 1, 1, 1, 1, 1, 1, 1, 1, 1, 1, 1, 1, 1, 1, 1, 1, 1, 1, 1, 1, 0, 0, 0, 0, 0, 0, 0, 0, 0, 0, 0, 0, 0, 0, 0, 0, 0, 1, 1, 0, 0, 0, 0, 1, 0, 0, 0, 0, 1, 1, 1, 1, 1, 1, 1, 1, 0, 0, 0, 0, 0, 0, 0, 0, 0, 0, 0, 0, 0, 0, 0, 0, 0, 0, 0, 0, 0, 0, 0, 0, 1, 0, 0, 0, 1, 0, 0, 0, 0, 0, 1, 1, 1, 0, 0, 1, 1, 1, 1, 0, 0, 0, 0, 0, 0, 0, 1, 0, 1, 0, 0, 0, 0, 0, 0, 0, 0, 0, 0, 0, 0, 0, 0, 0, 0, 0, 0, 0, 0, 0, 0, 0, 0, 1, 0, 0, 1, 1, 1, 1, 0, 0, 0, 0, 0, 0, 0, 0, 0, 0, 0, 0, 0, 0, 0, 0, 0, 0, 0, 0, 0, 0, 0, 0, 0, 0, 0, 0, 0, 0, 0, 0, 1, 0, 1, 0, 0, 1, 0, 0, 0, 1, 0, 1, 0, 0, 1, 1, 1, 1, 1, 1, 1, 1, 1, 1, 0, 0, 1, 1, 1, 1, 1, 1, 0, 1, 1, 1, 1, 0, 0, 0, 0, 0, 0, 0, 1, 1, 1, 1, 0, 0, 0, 0, 1, 0, 1, 1, 1, 1, 0, 1, 1, 1, 1, 0, 0, 1, 1, 1, 1, 1, 1, 0, 0, 0, 0, 0, 0, 0, 0, 0, 0, 0, 0, 0, 0, 0, 0, 0, 0, 1, 1, 1, 1, 1, 1, 1, 1, 1, 1, 1, 1, 1, 1, 1, 1, 1, 1, 1, 1, 1, 1, 1, 1, 1, 1, 1, 1, 0, 0, 0, 0, 0, 0, 0, 0, 0, 0, 0, 0, 0, 0, 0, 0, 0, 1, 0, 0, 0, 0, 0, 0, 0, 0, 0, 0, 0, 1, 0, 0, 0, 0, 1, 0, 1, 0, 0, 0, 0, 0, 0, 0, 0, 0, 0, 0, 0, 0, 0, 0, 0, 0, 0, 0, 0, 0, 0, 0, 0, 0, 0, 0, 0, 0, 0, 0, 0, 0, 0, 0, 0, 0, 0, 0, 0, 0, 0, 0, 0, 0, 0, 0, 0, 0, 0, 0, 0, 0, 0, 0, 0, 0, 0, 0, 0, 0, 0, 0, 0, 0, 0, 0, 0, 0, 1, 0, 0, 1, 0, 0, 1, 0, 0, 0, 1, 0, 1, 0, 0, 0, 0, 0, 0, 0, 0, 0, 0, 0, 0, 0, 0, 0, 0, 0, 0, 0, 0, 0, 0, 0, 0, 0, 0, 0, 0, 0, 0, 0, 0, 0, 0, 0, 0, 1, 0, 1, 0, 1, 1, 1, 1, 1, 1, 1, 1, 1, 1, 1, 1, 1, 1, 1, 1, 1, 1, 0, 0, 0, 0, 0, 0, 0, 0, 0, 0, 0, 0, 0, 0, 0, 0, 0, 0, 0, 0, 0, 0, 0, 0, 0, 0, 0, 0, 0, 0, 0, 0, 0, 0, 0, 0, 0, 0, 0, 0, 0, 0, 0, 0, 0, 0, 0, 0, 0, 0, 0, 0, 0, 0, 0, 0, 0, 0, 0, 0, 0, 0, 0, 0, 1, 1, 0, 0, 0, 0, 0, 0, 1, 0, 0, 1, 1, 1, 1, 0, 0, 0, 0, 0, 1, 0, 0, 0, 1, 1, 1, 0, 0, 0, 0, 0, 0, 0, 0, 0, 0, 0, 0, 0, 0, 0, 0, 0, 0, 0, 0, 0, 1, 0, 0, 0, 0, 0, 0, 0, 0, 0, 0, 0, 0, 0, 0, 1, 0, 0, 1, 0, 1, 1, 0, 1, 0, 0, 0, 0, 0, 0, 0, 0, 0, 0, 0, 0, 0, 0, 0, 0, 0, 0, 1, 1, 1, 0, 1, 0, 0, 0, 0, 0, 0, 0, 0, 0, 0, 0, 0, 0, 0, 0, 1, 0, 0, 0, 0, 0, 1, 1, 1, 1, 1, 1, 0, 0, 0, 1, 0, 1, 0, 0, 0, 0, 0, 0, 0, 0, 0, 0, 0, 0, 0, 0, 0, 0, 1, 1, 1, 1, 1, 0, 0, 0, 0, 0, 0, 0, 0, 0, 0, 0, 0, 0, 0, 0, 0, 0, 0, 0, 0, 0, 0, 0, 0, 0, 0, 0, 0, 0, 0, 0, 1, 1, 1, 1, 1, 1, 1, 1, 1, 1, 1, 1, 1, 1, 1, 1, 1, 1, 1, 1, 1, 1, 1, 1, 1, 1, 1, 1, 1, 0, 0, 0, 0, 0, 0, 0, 0, 0, 0, 0, 0, 0, 0, 0, 0, 1, 1, 0, 1, 1, 0, 1, 1, 1, 1, 1, 1, 1, 1, 0, 0, 0, 0, 0, 0, 0, 0, 0, 0, 0, 0, 0, 0, 0, 0, 0, 0, 0, 0, 0, 0, 0, 0, 0, 0, 0, 0, 0, 0, 0, 1, 1, 1, 1, 0, 1, 1, 1, 1, 1, 1, 1, 1, 1, 1, 1, 1, 1, 1, 1, 1, 1, 1, 1, 1, 0, 1, 0, 0, 0, 0, 0, 0, 0, 0, 0, 0, 0, 0, 0, 0, 0, 0, 0, 0, 0, 0, 1, 0, 0, 0, 0, 0, 0, 0, 0, 0, 0, 0, 0, 0, 1, 0, 0, 0, 0, 0, 1, 1, 1, 0, 0, 0, 0, 0, 0, 0, 0, 0, 0, 0, 0, 0, 0, 0, 0, 0, 0, 0, 0, 0, 0, 0, 0, 0, 0, 0, 0, 0, 0, 0, 1, 1, 1, 0, 0, 1, 1, 1, 1, 1, 1, 1, 1, 0, 0, 0, 0, 0, 0, 0, 0, 0, 0, 0, 0, 0, 0, 0, 0, 0, 0, 0, 0, 0, 0, 0, 1, 0, 0, 1, 0, 0, 0, 0, 0, 0, 0, 0, 0, 0, 0, 0, 0, 0, 0, 0, 0, 0, 0, 0, 0, 0, 0, 0, 0, 0, 0, 0, 0, 0, 1, 0, 0, 0, 1, 0, 0, 0, 0, 0, 1, 1, 0, 0, 1, 1, 1, 0, 0, 0, 0, 1, 1, 1, 0, 0, 1, 0, 0, 1, 1, 0, 1, 1, 1, 1, 0, 1, 1, 1, 0, 0, 0, 0, 0, 0, 0, 0, 0, 0, 0, 0, 0, 0, 1, 0, 0, 0, 0, 0, 0, 0, 0, 0, 0, 0, 0, 0, 0, 0, 0, 0, 0, 0, 0, 0, 0, 0, 0, 0, 0, 0, 0, 0, 0, 0, 0, 0, 0, 0, 0, 0, 0, 0, 0, 0, 0, 0, 0, 0, 1, 0, 0, 0, 0, 0, 0, 0, 0, 0, 1, 0, 0, 0, 1, 0, 0, 1, 1, 0, 0, 0, 0, 1, 0, 0, 0, 0, 0, 0, 0, 0, 0, 0, 0, 0, 0, 0, 0, 0, 0, 0, 0, 0]), (0.5084967613220215, [1, 0, 1, 0, 0, 1, 0, 1, 1, 1, 0, 0, 0, 1, 1, 1, 1, 0, 1, 1, 0, 0, 0, 1, 0, 0, 0, 0, 0, 0, 0, 0, 0, 0, 0, 0, 0, 0, 0, 0, 0, 0, 0, 0, 0, 1, 1, 1, 1, 0, 0, 1, 1, 1, 0, 0, 1, 0, 0, 0, 1, 0, 0, 1, 0, 0, 1, 1, 1, 1, 1, 1, 0, 0, 0, 1, 0, 0, 0, 0, 0, 0, 0, 0, 0, 0, 0, 0, 0, 0, 1, 1, 1, 1, 1, 1, 1, 1, 1, 1, 0, 0, 0, 0, 0, 1, 1, 1, 1, 1, 1, 1, 1, 0, 1, 1, 1, 1, 0, 1, 1, 0, 0, 0, 0, 0, 0, 0, 0, 0, 0, 0, 0, 0, 0, 1, 1, 1, 1, 1, 1, 1, 1, 1, 1, 1, 1, 1, 1, 1, 1, 1, 1, 1, 0, 1, 0, 1, 1, 1, 1, 1, 1, 1, 1, 0, 0, 0, 0, 0, 0, 0, 0, 0, 0, 0, 0, 0, 0, 0, 1, 1, 1, 0, 0, 0, 0, 0, 1, 1, 0, 1, 0, 1, 1, 0, 1, 1, 0, 1, 1, 0, 1, 1, 0, 1, 1, 1, 0, 0, 0, 0, 0, 0, 0, 0, 0, 0, 0, 0, 0, 0, 0, 0, 0, 1, 1, 1, 1, 1, 0, 1, 1, 1, 1, 0, 1, 1, 1, 1, 1, 1, 1, 0, 0, 0, 0, 0, 0, 0, 0, 0, 0, 0, 0, 0, 0, 0, 0, 0, 0, 0, 0, 0, 0, 0, 0, 0, 0, 0, 1, 1, 1, 0, 1, 0, 1, 0, 1, 0, 1, 1, 0, 1, 1, 1, 1, 1, 1, 0, 0, 0, 0, 0, 0, 0, 0, 0, 0, 0, 0, 0, 0, 0, 0, 0, 0, 0, 0, 0, 0, 0, 0, 0, 0, 1, 0, 1, 1, 1, 0, 0, 1, 1, 1, 1, 0, 1, 1, 1, 1, 1, 1, 0, 0, 0, 0, 0, 0, 0, 0, 0, 0, 0, 0, 0, 0, 0, 0, 0, 0, 0, 0, 0, 0, 0, 0, 0, 0, 0, 1, 0, 1, 1, 1, 1, 1, 1, 1, 1, 1, 1, 1, 1, 1, 1, 1, 1, 1, 1, 0, 0, 0, 0, 0, 0, 0, 0, 0, 0, 0, 0, 0, 0, 0, 0, 0, 0, 0, 0, 0, 0, 0, 0, 0, 1, 1, 1, 1, 1, 1, 1, 1, 1, 1, 1, 1, 1, 1, 1, 1, 1, 1, 1, 1, 1, 1, 1, 0, 0, 0, 0, 0, 0, 0, 0, 0, 0, 0, 0, 0, 0, 0, 0, 0, 0, 0, 0, 0, 0, 1, 1, 1, 0, 0, 0, 0, 0, 1, 1, 1, 1, 1, 1, 1, 1, 1, 1, 1, 1, 1, 1, 1, 0, 0, 0, 0, 0, 0, 0, 0, 0, 0, 0, 0, 0, 0, 0, 0, 0, 0, 0, 0, 0, 0, 1, 1, 1, 1, 1, 1, 1, 1, 1, 1, 1, 1, 1, 1, 1, 1, 1, 1, 1, 1, 0, 0, 0, 0, 0, 0, 0, 0, 0, 0, 0, 0, 0, 0, 0, 0, 0, 0, 0, 0, 0, 0, 0, 0, 0, 1, 1, 1, 1, 1, 0, 1, 1, 1, 1, 1, 0, 1, 1, 1, 1, 1, 1, 1, 1, 1, 1, 1, 0, 0, 0, 0, 0, 0, 0, 0, 0, 0, 0, 0, 0, 0, 0, 0, 0, 0, 0, 0, 0, 0, 1, 1, 0, 1, 0, 1, 0, 1, 1, 1, 1, 1, 1, 1, 0, 1, 1, 0, 0, 0, 0, 0, 0, 0, 0, 0, 0, 0, 0, 0, 0, 0, 0, 0, 0, 0, 0, 0, 0, 0, 0, 0, 0, 0, 0, 1, 1, 1, 1, 1, 0, 1, 0, 0, 0, 0, 0, 0, 0, 1, 1, 0, 0, 1, 0, 1, 1, 1, 1, 1, 1, 1, 0, 1, 1, 0, 0, 0, 0, 0, 0, 0, 0, 0, 0, 0, 0, 0, 0, 0, 1, 1, 1, 1, 1, 1, 0, 0, 1, 0, 0, 0, 0, 0, 0, 0, 0, 0, 0, 0, 0, 0, 0, 0, 0, 1, 0, 0, 0, 0, 0, 0, 0, 0, 0, 0, 0, 0, 0, 0, 0, 0, 0, 0, 0, 1, 1, 1, 1, 1, 1, 1, 1, 1, 1, 1, 1, 1, 1, 1, 1, 1, 0, 0, 1, 1, 0, 1, 1, 1, 1, 1, 1, 0, 0, 0, 0, 0, 0, 0, 0, 0, 0, 0, 0, 0, 0, 0, 0, 0, 1, 1, 1, 0, 1, 1, 1, 1, 1, 0, 0, 0, 1, 1, 1, 0, 1, 0, 1, 1, 1, 1, 1, 1, 1, 1, 1, 0, 0, 0, 0, 0, 0, 0, 0, 0, 0, 0, 0, 0, 0, 0, 0, 0, 0, 1, 1, 1, 0, 1, 1, 1, 1, 1, 1, 1, 1, 1, 1, 1, 1, 1, 1, 1, 1, 1, 1, 1, 1, 1, 0, 0, 0, 0, 0, 0, 0, 0, 0, 0, 0, 0, 0, 0, 0, 0, 0, 0, 0, 0, 1, 1, 1, 1, 1, 1, 1, 1, 1, 1, 1, 1, 1, 1, 1, 1, 1, 1, 1, 1, 1, 0, 0, 0, 0, 0, 0, 0, 0, 0, 0, 0, 0, 0, 0, 0, 0, 0, 0, 0, 0, 0, 0, 0, 0, 1, 1, 1, 1, 1, 1, 0, 1, 0, 1, 1, 1, 1, 1, 1, 1, 1, 1, 0, 0, 0, 0, 0, 0, 0, 0, 0, 0, 0, 0, 0, 0, 0, 0, 0, 0, 0, 0, 0, 0, 0, 0, 0, 0, 0, 1, 1, 1, 1, 0, 1, 0, 0, 1, 0, 0, 0, 0, 0, 0, 0, 0, 0, 0, 0, 0, 1, 1, 1, 1, 0, 0, 0, 0, 0, 0, 0, 0, 0, 0, 0, 0, 0, 0, 0, 0, 0, 0, 0, 0, 1, 1, 1, 1, 1, 0, 1, 1, 1, 1, 1, 0, 1, 1, 1, 1, 1, 1, 1, 1, 1, 1, 1, 1, 1, 1, 0, 1, 1, 1, 1, 0, 0, 0, 0, 0, 0, 0, 0, 0, 0, 0, 0, 0, 0, 1, 0, 1, 1, 0, 1, 1, 1, 1, 1, 1, 1, 0, 1, 1, 1, 1, 0, 0, 0, 0, 0, 0, 0, 0, 0, 0, 0, 0, 0, 0, 0, 0, 0, 0, 0, 0, 0, 0, 0, 0, 0, 0, 0, 0, 1, 1, 1, 1, 1, 1, 1, 1, 1, 1, 1, 1, 1, 1, 1, 1, 1, 1, 1, 1, 1, 1, 1, 1, 1, 1, 1, 1, 1, 1, 1, 0, 0, 0, 0, 0, 0, 0, 0, 0, 0, 0, 0, 0, 0, 1, 1, 0, 0, 0, 1, 1, 0, 0, 1, 1, 0, 0, 0, 1, 1, 1, 1, 1, 1, 0, 1, 0, 1, 0, 0, 0, 0, 0, 0, 0, 0, 0, 0, 0, 0, 0, 0, 0, 0, 0, 0, 0, 0, 0, 1, 1, 1, 1, 0, 0, 1, 1, 0, 1, 1, 1, 1, 0, 1, 0, 0, 0, 0, 0, 0, 0, 0, 0, 0, 0, 0, 0, 0, 0, 0, 0, 0, 0, 0, 0, 0, 0, 0, 0, 0, 0, 0, 0, 0, 0, 0, 0, 0, 1, 1, 1, 1, 0, 1, 1, 1, 1, 1, 0, 1, 0, 0, 0, 0, 0, 0, 0, 0, 0, 0, 0, 0, 0, 0, 0, 0, 0, 0, 0, 0, 0, 0, 0, 0, 0, 0, 0, 0, 0, 1, 1, 1, 1, 1, 1, 1, 1, 1, 1, 1, 1, 1, 1, 1, 1, 1, 1, 1, 1, 1, 1, 0, 0, 0, 0, 0, 0, 0, 0, 0, 0, 0, 0, 0, 0, 0, 0, 0, 0, 0, 0, 0, 0, 0, 1, 0, 0, 1, 0, 0, 1, 0, 0, 0, 0, 1, 0, 1, 0, 0, 0, 0, 1, 0, 1, 1, 1, 1, 1, 0, 0, 0, 0, 0, 0, 0, 0, 0, 0, 0, 0, 0, 0, 0, 0, 0, 0, 0, 0, 1, 1, 0, 0, 0, 0, 0, 0, 1, 1, 1, 1, 1, 1, 1, 1, 1, 1, 0, 0, 0, 0, 0, 0, 0, 0, 0, 0, 0, 0, 0, 0, 0, 0, 0, 0, 0, 0, 0, 0, 0, 0, 0, 0, 0, 1, 1, 1, 1, 0, 0, 1, 1, 0, 1, 1, 0, 0, 0, 1, 0, 0, 1, 1, 1, 0, 0, 0, 0, 0, 0, 1, 0, 0, 0, 0, 1, 0, 0, 0, 0, 1, 1, 0, 1, 0, 1, 1, 1, 0, 1, 0, 1, 1, 1, 1, 1, 1, 1, 1, 1, 0, 1, 1, 1, 0, 1, 1, 1, 0, 0, 0, 0, 0, 0, 0, 0, 0, 0, 0, 0, 0, 0, 0, 0, 0, 0, 0, 0, 0, 0, 0, 0, 0, 0, 1, 0, 1, 1, 1, 0, 1, 1, 1, 0, 1, 1, 1, 1, 1, 1, 1, 1, 0, 1, 1, 1, 1, 0, 0, 0, 0, 0, 0, 0, 0, 0, 0, 0, 0, 0, 0, 0, 0, 0, 0, 0, 0, 0, 0, 1, 1, 1, 1, 1, 0, 1, 0, 1, 0, 0, 0, 0, 0, 1, 0, 1, 1, 1, 1, 1, 1, 1, 0, 1, 1, 0, 0, 0, 0, 0, 0, 0, 0, 0, 0, 0, 0, 0, 0, 0, 0, 0, 0, 0, 0, 0, 1, 0, 1, 0, 1, 0, 0, 0, 1, 1, 0, 0, 0, 1, 1, 0, 0, 0, 0, 0, 0, 0, 0, 0, 0, 0, 0, 0, 0, 0, 0, 0, 0, 0, 0, 0, 0, 0, 0, 0, 0, 0, 0, 1, 0, 0, 0, 0, 0, 0, 0, 0, 0, 0, 0, 0, 0, 1, 1, 0, 0, 0, 1, 1, 1, 0, 1, 0, 0, 0, 0, 0, 0, 0, 0, 0, 0, 0, 0, 0, 0, 0, 0, 0, 0, 0, 0, 0, 1, 0, 0, 0, 0, 0, 0, 0, 0, 0, 0, 0, 0, 0, 0, 0, 0, 0, 0, 0, 0, 0, 0, 0, 0, 0, 0, 0, 0, 0, 0, 0, 0, 0, 0, 0, 0, 0, 0, 0, 0, 0, 0, 0, 0, 1, 0, 1, 1, 0, 0, 1, 1, 1, 1, 1, 0, 0, 1, 1, 1, 1, 0, 0, 0, 0, 0, 0, 0, 0, 0, 0, 0, 0, 0, 0, 0, 0, 0, 0, 0, 0, 0, 0, 0, 0, 0, 0, 0, 0, 1, 1, 1, 1, 1, 1, 1, 0, 1, 0, 0, 1, 0, 0, 1, 1, 1, 1, 1, 1, 0, 0, 0, 0, 0, 0, 0, 0, 0, 0, 0, 0, 0, 0, 0, 0, 0, 0, 0, 0, 0, 0, 0, 0, 0, 1, 1, 0, 0, 0, 0, 0, 0, 0, 0, 1, 1, 0, 1, 1, 0, 1, 1, 1, 0, 0, 1, 0, 1, 1, 1, 0, 0, 1, 1, 0, 0, 1, 1, 1, 1, 1, 0, 1, 1, 1, 1, 1, 1, 1, 1, 1, 1, 1, 1, 1, 1, 1, 1, 1, 1, 0, 1, 1, 1, 1, 1, 1, 1, 1, 1, 1, 1, 1, 1, 1, 0, 1, 1, 1, 1, 0, 0, 0, 0, 0, 0, 0, 0, 0, 0, 0, 0, 0, 0, 0, 0, 0, 0, 1, 1, 0, 0, 1, 1, 0, 1, 0, 0, 1, 1, 0, 0, 0, 0, 1, 0, 0, 1, 0, 0, 1, 0, 0, 1, 1, 1, 1, 0, 1, 1, 1, 1, 1, 0, 1, 1, 1, 1, 0, 1, 1, 0, 0, 1, 1, 1, 1, 0, 1, 1, 1, 1, 1, 1, 1, 1, 1, 0, 0, 0, 0, 0, 0, 0, 0, 0, 0, 0, 0, 0, 0, 0, 0, 0, 0, 0, 0, 0, 0, 0, 0, 0, 0, 0, 1, 1, 1, 1, 1, 1, 1, 1, 1, 1, 1, 1, 1, 0, 0, 1, 1, 0, 0, 1, 1, 1, 1, 0, 0, 0, 0, 0, 0, 0, 0, 0, 0, 0, 0, 0, 0, 0, 0, 0, 0, 0, 0, 0, 0, 0, 1, 1, 0, 0, 0, 0, 0, 0, 0, 0, 0, 0, 0, 0, 0, 0, 0, 0, 0, 0, 0, 0, 1, 1, 1, 1, 1, 1, 1, 0, 0, 0, 0, 0, 0, 0, 0, 0, 0, 0, 0, 0, 0, 0, 0, 1, 1, 1, 0, 0, 0, 1, 0, 0, 0, 1, 1, 1, 1, 1, 1, 1, 1, 1, 1, 0, 1, 1, 1, 1, 1, 0, 0, 0, 0, 0, 0, 0, 0, 0, 0, 0, 0, 0, 0, 0, 0, 0, 0, 1, 1, 1, 1, 1, 0, 0, 1, 1, 0, 1, 0, 0, 1, 0, 1, 0, 1, 0, 1, 1, 1, 1, 0, 1, 1, 1, 1, 0, 1, 0, 1, 0, 1, 1, 1, 0, 1, 1, 1, 1, 1, 1, 0, 0, 0, 0, 0, 1, 0, 0, 1, 0, 0, 1, 0, 0, 1, 1, 1, 1, 1, 1, 1, 1, 0, 1, 1, 1, 1, 1, 1, 1, 1, 0, 0, 0, 0, 0, 0, 0, 0, 0, 0, 0, 0, 0, 0, 0, 0, 0, 0, 1, 0, 0, 0, 0, 0, 0, 1, 0, 0, 1, 0, 0, 0, 0, 0, 0, 0, 0, 0, 0, 0, 0, 0, 0, 0, 0, 0, 0, 0, 0, 0, 0, 0, 0, 0, 0, 0, 0, 0, 0, 0, 0, 1, 1, 1, 1, 1, 1, 1, 1, 0, 0, 1, 1, 1, 1, 0, 1, 0, 1, 1, 1, 1, 1, 1, 1, 1, 1, 1, 1, 0, 0, 0, 0, 0, 0, 0, 0, 0, 0, 0, 0, 0, 0, 0, 0, 0]), (0.5337777733802795, [1, 1, 1, 1, 1, 1, 1, 1, 1, 1, 1, 1, 1, 1, 1, 1, 1, 1, 1, 1, 1, 1, 1, 0, 0, 0, 0, 0, 0, 0, 0, 0, 0, 0, 0, 0, 0, 0, 0, 0, 0, 0, 0, 0, 0, 1, 1, 1, 1, 1, 1, 1, 1, 1, 1, 1, 1, 1, 1, 1, 1, 1, 1, 1, 1, 0, 0, 0, 0, 0, 0, 0, 0, 0, 0, 0, 0, 0, 0, 0, 0, 0, 0, 0, 0, 0, 0, 0, 0, 0, 1, 1, 1, 1, 1, 1, 1, 1, 1, 1, 1, 1, 1, 1, 1, 1, 1, 1, 1, 1, 1, 1, 1, 0, 0, 0, 0, 0, 0, 0, 0, 0, 0, 0, 0, 0, 0, 0, 0, 0, 0, 0, 0, 0, 0, 1, 1, 1, 1, 1, 1, 1, 1, 1, 1, 1, 1, 1, 1, 1, 1, 1, 1, 1, 1, 1, 1, 1, 1, 1, 1, 1, 1, 1, 1, 0, 0, 0, 0, 0, 0, 0, 0, 0, 0, 0, 0, 0, 0, 0, 1, 1, 1, 1, 1, 1, 1, 1, 1, 1, 1, 1, 1, 1, 1, 1, 1, 1, 1, 1, 1, 1, 1, 1, 1, 1, 0, 0, 0, 0, 0, 0, 0, 0, 0, 0, 0, 0, 0, 0, 0, 0, 0, 0, 0, 1, 1, 1, 1, 1, 1, 1, 1, 1, 1, 1, 0, 1, 1, 1, 1, 1, 1, 1, 1, 1, 1, 1, 1, 1, 1, 1, 1, 1, 1, 1, 1, 0, 0, 0, 0, 0, 0, 0, 0, 0, 0, 0, 0, 0, 1, 1, 1, 1, 1, 1, 1, 1, 1, 1, 1, 1, 1, 1, 1, 1, 1, 1, 1, 1, 1, 1, 1, 0, 0, 0, 0, 0, 0, 0, 0, 0, 0, 0, 0, 0, 0, 0, 0, 0, 0, 0, 0, 0, 0, 1, 1, 1, 1, 1, 1, 1, 1, 1, 1, 1, 1, 1, 1, 1, 1, 1, 1, 1, 1, 1, 1, 1, 1, 1, 1, 1, 1, 1, 1, 1, 1, 0, 0, 0, 0, 0, 0, 0, 0, 0, 0, 0, 0, 0, 1, 1, 1, 1, 1, 1, 1, 1, 1, 1, 1, 1, 1, 1, 1, 1, 1, 1, 1, 1, 1, 1, 1, 1, 1, 1, 1, 1, 0, 0, 0, 0, 0, 0, 0, 0, 0, 0, 0, 0, 0, 0, 0, 0, 0, 1, 1, 1, 1, 1, 1, 1, 1, 1, 1, 1, 1, 1, 1, 1, 1, 1, 1, 1, 1, 1, 1, 1, 1, 1, 1, 1, 1, 0, 0, 0, 0, 0, 0, 0, 0, 0, 0, 0, 0, 0, 0, 0, 0, 0, 1, 1, 1, 1, 1, 1, 1, 1, 1, 1, 1, 1, 1, 1, 1, 1, 1, 1, 1, 1, 0, 0, 0, 0, 0, 0, 0, 0, 0, 0, 0, 0, 0, 0, 0, 0, 0, 0, 0, 0, 0, 0, 0, 0, 0, 1, 1, 1, 1, 1, 1, 1, 1, 1, 1, 1, 1, 1, 1, 1, 0, 0, 0, 0, 0, 0, 0, 0, 0, 0, 0, 0, 0, 0, 0, 0, 0, 0, 0, 0, 0, 0, 0, 0, 0, 0, 0, 0, 0, 0, 1, 1, 1, 1, 1, 1, 1, 1, 1, 1, 1, 1, 1, 1, 1, 1, 1, 1, 1, 1, 1, 1, 1, 1, 1, 1, 1, 1, 1, 1, 1, 1, 0, 0, 0, 0, 0, 0, 0, 0, 0, 0, 0, 0, 0, 1, 1, 1, 1, 1, 1, 1, 1, 1, 1, 1, 1, 1, 1, 1, 1, 1, 1, 1, 1, 1, 1, 1, 1, 1, 1, 0, 0, 0, 0, 0, 0, 0, 0, 0, 0, 0, 0, 0, 0, 0, 0, 0, 0, 0, 1, 1, 1, 1, 1, 1, 1, 1, 1, 1, 1, 1, 1, 1, 1, 1, 1, 1, 1, 1, 1, 1, 1, 1, 1, 1, 0, 0, 0, 0, 0, 0, 0, 0, 0, 0, 0, 0, 0, 0, 0, 0, 0, 0, 0, 1, 1, 1, 1, 1, 1, 1, 1, 1, 1, 1, 1, 1, 1, 1, 1, 1, 1, 1, 1, 1, 1, 1, 1, 1, 1, 0, 0, 0, 0, 0, 0, 0, 0, 0, 0, 0, 0, 0, 0, 0, 0, 0, 0, 0, 1, 1, 1, 1, 1, 1, 1, 1, 1, 1, 1, 1, 1, 1, 1, 1, 1, 1, 1, 1, 1, 1, 1, 1, 0, 0, 0, 0, 0, 0, 0, 0, 0, 0, 0, 0, 0, 0, 0, 0, 0, 0, 0, 0, 0, 1, 1, 1, 1, 1, 1, 1, 1, 1, 1, 1, 1, 1, 1, 1, 1, 1, 1, 1, 1, 1, 0, 0, 0, 0, 0, 0, 0, 0, 0, 0, 0, 0, 0, 0, 0, 0, 0, 0, 0, 0, 0, 0, 0, 0, 1, 1, 1, 1, 1, 1, 1, 1, 1, 1, 1, 1, 1, 1, 1, 1, 1, 1, 1, 1, 1, 1, 1, 1, 1, 1, 1, 1, 1, 1, 1, 0, 0, 0, 0, 0, 0, 0, 0, 0, 0, 0, 0, 0, 0, 1, 1, 1, 1, 1, 1, 1, 1, 1, 1, 1, 1, 1, 1, 1, 1, 1, 1, 1, 1, 1, 1, 1, 1, 1, 1, 0, 0, 0, 0, 0, 0, 0, 0, 0, 0, 0, 0, 0, 0, 0, 0, 0, 0, 0, 1, 1, 1, 1, 1, 1, 1, 1, 1, 1, 1, 1, 1, 1, 1, 1, 1, 1, 1, 1, 1, 1, 1, 1, 1, 1, 1, 1, 1, 1, 1, 0, 0, 0, 0, 0, 0, 0, 0, 0, 0, 0, 0, 0, 0, 1, 1, 1, 1, 1, 1, 1, 1, 1, 1, 1, 1, 1, 1, 1, 1, 1, 1, 1, 1, 1, 1, 1, 1, 1, 1, 1, 1, 0, 0, 0, 0, 0, 0, 0, 0, 0, 0, 0, 0, 0, 0, 0, 0, 0, 1, 1, 1, 1, 1, 1, 1, 1, 1, 1, 1, 1, 1, 1, 1, 0, 1, 1, 0, 1, 1, 1, 1, 1, 1, 1, 1, 1, 1, 1, 1, 1, 1, 0, 0, 0, 0, 0, 0, 0, 0, 0, 0, 0, 0, 1, 1, 1, 1, 1, 1, 1, 1, 1, 1, 1, 0, 1, 1, 1, 1, 1, 1, 0, 1, 1, 1, 1, 1, 1, 1, 1, 1, 1, 1, 1, 1, 1, 1, 1, 1, 1, 1, 0, 0, 0, 0, 0, 0, 0, 1, 1, 1, 1, 1, 1, 1, 1, 1, 1, 1, 1, 1, 1, 1, 1, 1, 1, 1, 1, 1, 1, 1, 1, 1, 1, 0, 0, 0, 0, 0, 0, 0, 0, 0, 0, 0, 0, 0, 0, 0, 0, 0, 0, 0, 1, 1, 1, 1, 1, 1, 1, 1, 1, 1, 1, 1, 1, 1, 1, 1, 1, 1, 1, 1, 1, 0, 0, 0, 0, 0, 0, 0, 0, 0, 0, 0, 0, 0, 0, 0, 0, 0, 0, 0, 0, 0, 0, 0, 0, 1, 1, 1, 1, 1, 1, 1, 1, 1, 1, 1, 1, 1, 1, 1, 1, 1, 1, 1, 0, 0, 0, 0, 0, 0, 0, 0, 0, 0, 0, 0, 0, 0, 0, 0, 0, 0, 0, 0, 0, 0, 0, 0, 0, 0, 1, 1, 1, 1, 1, 1, 1, 1, 1, 1, 1, 1, 1, 1, 1, 1, 1, 1, 1, 1, 1, 1, 1, 1, 1, 1, 1, 1, 1, 0, 0, 0, 0, 0, 0, 0, 0, 0, 0, 0, 0, 0, 0, 0, 0, 1, 1, 1, 1, 1, 1, 1, 1, 1, 1, 1, 1, 1, 1, 1, 1, 1, 1, 1, 0, 0, 0, 0, 0, 0, 0, 0, 0, 0, 0, 0, 0, 0, 0, 0, 0, 0, 0, 0, 0, 0, 0, 0, 0, 0, 1, 1, 1, 1, 1, 1, 0, 1, 0, 1, 0, 0, 0, 1, 1, 0, 0, 0, 0, 0, 0, 0, 0, 0, 0, 0, 0, 0, 0, 0, 0, 0, 0, 0, 0, 0, 0, 0, 0, 0, 0, 0, 0, 0, 0, 0, 0, 0, 0, 0, 0, 0, 0, 0, 0, 0, 0, 0, 0, 0, 0, 0, 0, 0, 0, 0, 0, 1, 0, 0, 0, 0, 0, 0, 0, 0, 0, 0, 0, 0, 0, 0, 0, 0, 0, 0, 0, 0, 0, 0, 1, 1, 1, 1, 1, 1, 1, 1, 1, 1, 1, 1, 1, 1, 1, 1, 1, 1, 1, 1, 1, 1, 1, 1, 1, 0, 0, 0, 0, 0, 0, 0, 0, 0, 0, 0, 0, 0, 0, 0, 0, 0, 0, 0, 0, 1, 1, 1, 1, 1, 1, 1, 1, 1, 1, 1, 1, 1, 1, 1, 1, 1, 1, 1, 1, 1, 1, 1, 1, 0, 0, 0, 0, 0, 0, 0, 0, 0, 0, 0, 0, 0, 0, 0, 0, 0, 0, 0, 0, 0, 1, 1, 1, 1, 0, 1, 1, 1, 1, 1, 1, 1, 1, 1, 1, 1, 1, 0, 1, 1, 1, 1, 1, 1, 1, 1, 1, 1, 1, 0, 1, 1, 1, 1, 1, 0, 0, 0, 0, 0, 0, 0, 0, 0, 0, 1, 1, 1, 1, 1, 1, 1, 1, 1, 1, 1, 1, 1, 1, 0, 1, 1, 1, 1, 1, 1, 1, 1, 1, 1, 1, 1, 1, 1, 1, 1, 1, 1, 1, 1, 0, 1, 1, 1, 0, 0, 0, 0, 0, 0, 1, 1, 1, 1, 1, 1, 1, 1, 1, 1, 1, 1, 1, 1, 1, 1, 1, 1, 1, 1, 1, 1, 1, 1, 1, 1, 1, 0, 0, 0, 0, 0, 0, 0, 0, 0, 0, 0, 0, 0, 0, 0, 0, 0, 0, 1, 0, 1, 1, 0, 1, 1, 1, 1, 1, 1, 1, 1, 1, 1, 1, 0, 1, 1, 0, 0, 1, 1, 1, 1, 1, 1, 0, 0, 0, 0, 0, 0, 0, 0, 0, 0, 0, 0, 0, 0, 0, 0, 0, 0, 1, 1, 1, 1, 1, 1, 1, 1, 1, 1, 1, 1, 1, 1, 1, 1, 1, 1, 1, 1, 1, 1, 1, 0, 0, 0, 0, 0, 0, 0, 0, 0, 0, 0, 0, 0, 0, 0, 0, 0, 0, 0, 0, 0, 0, 1, 1, 1, 1, 1, 1, 1, 1, 1, 1, 1, 1, 1, 1, 1, 1, 1, 1, 1, 1, 1, 1, 1, 1, 1, 1, 1, 1, 1, 1, 0, 0, 0, 0, 0, 0, 0, 0, 0, 0, 0, 0, 0, 0, 0, 1, 1, 1, 1, 1, 1, 1, 1, 1, 1, 1, 1, 1, 1, 0, 0, 0, 0, 0, 0, 0, 0, 0, 0, 0, 0, 0, 0, 0, 0, 0, 0, 0, 0, 0, 0, 0, 0, 0, 0, 0, 0, 0, 0, 0, 1, 1, 1, 1, 1, 1, 1, 1, 1, 1, 1, 1, 1, 1, 1, 1, 1, 1, 1, 1, 1, 1, 1, 1, 1, 0, 1, 1, 0, 0, 0, 0, 0, 0, 0, 0, 0, 0, 0, 0, 0, 0, 0, 0, 0, 1, 1, 1, 1, 1, 0, 1, 1, 1, 1, 1, 1, 1, 1, 1, 1, 1, 1, 1, 1, 1, 0, 1, 1, 1, 1, 1, 1, 0, 1, 1, 1, 1, 1, 1, 1, 1, 1, 1, 1, 1, 1, 1, 0, 0, 1, 1, 1, 1, 1, 1, 1, 0, 1, 1, 1, 0, 1, 1, 1, 1, 1, 1, 1, 1, 1, 1, 1, 1, 1, 0, 0, 0, 0, 0, 0, 0, 0, 0, 0, 0, 0, 0, 0, 0, 0, 0, 0, 0, 0, 1, 1, 1, 1, 1, 0, 1, 1, 1, 1, 1, 1, 1, 1, 1, 1, 0, 0, 1, 1, 1, 0, 0, 0, 0, 0, 0, 0, 0, 0, 0, 0, 0, 0, 0, 0, 0, 0, 0, 0, 0, 0, 0, 0, 0, 1, 1, 0, 1, 1, 0, 0, 0, 0, 0, 1, 0, 1, 1, 1, 1, 1, 0, 1, 1, 1, 1, 1, 1, 1, 0, 0, 0, 0, 0, 0, 0, 0, 0, 0, 0, 0, 0, 0, 0, 0, 0, 0, 0, 0, 1, 1, 1, 1, 1, 1, 1, 1, 1, 1, 1, 1, 1, 1, 1, 1, 1, 1, 1, 1, 1, 1, 1, 0, 0, 0, 0, 0, 0, 0, 0, 0, 0, 0, 0, 0, 0, 0, 0, 0, 0, 0, 0, 0, 0, 1, 1, 1, 1, 1, 1, 1, 1, 1, 1, 1, 1, 1, 1, 1, 1, 1, 1, 1, 1, 1, 1, 1, 1, 1, 1, 1, 1, 1, 0, 0, 0, 0, 0, 0, 0, 0, 0, 0, 0, 0, 0, 0, 0, 0, 1, 1, 1, 1, 1, 1, 1, 1, 1, 1, 1, 1, 1, 1, 1, 1, 1, 1, 1, 1, 1, 1, 1, 1, 1, 1, 1, 0, 0, 0, 0, 0, 0, 0, 0, 0, 0, 0, 0, 0, 0, 0, 0, 0, 0, 1, 1, 0, 0, 1, 1, 1, 1, 1, 1, 1, 1, 1, 1, 1, 1, 1, 1, 1, 1, 1, 1, 1, 1, 1, 1, 1, 1, 1, 1, 1, 0, 0, 0, 0, 0, 0, 0, 0, 0, 0, 0, 0, 0, 0, 1, 1, 1, 1, 1, 1, 1, 1, 1, 1, 1, 1, 1, 1, 1, 1, 1, 1, 1, 1, 1, 1, 1, 1, 0, 0, 0, 0, 0, 0, 0, 0, 0, 0, 0, 0, 0, 0, 0, 0, 0, 0, 0, 0, 0]), (0.6244444251060486, [1, 1, 1, 0, 0, 1, 1, 0, 1, 1, 1, 1, 0, 0, 0, 0, 1, 1, 1, 0, 1, 0, 1, 1, 0, 1, 0, 1, 1, 1, 1, 1, 1, 1, 1, 1, 1, 1, 1, 1, 1, 1, 1, 1, 1, 1, 1, 1, 1, 0, 1, 1, 1, 1, 1, 1, 1, 0, 1, 1, 1, 1, 1, 1, 1, 1, 1, 1, 1, 1, 1, 1, 1, 1, 1, 1, 1, 1, 1, 1, 1, 1, 1, 1, 1, 1, 1, 1, 1, 1, 0, 1, 1, 1, 1, 1, 1, 1, 1, 1, 1, 1, 1, 1, 0, 1, 1, 1, 1, 1, 1, 1, 1, 1, 1, 1, 1, 1, 1, 1, 1, 1, 1, 1, 1, 1, 1, 1, 1, 1, 1, 1, 1, 1, 1, 1, 1, 1, 1, 1, 1, 1, 1, 1, 1, 1, 1, 1, 1, 1, 1, 1, 1, 1, 1, 1, 1, 1, 1, 1, 1, 1, 1, 1, 1, 1, 1, 1, 1, 1, 1, 1, 1, 1, 1, 1, 1, 1, 1, 1, 1, 0, 0, 1, 0, 1, 1, 0, 0, 0, 1, 0, 1, 1, 1, 1, 1, 1, 1, 1, 1, 1, 1, 1, 1, 1, 1, 1, 1, 1, 1, 1, 1, 1, 1, 1, 1, 1, 1, 1, 1, 1, 1, 1, 1, 1, 1, 1, 1, 1, 1, 1, 1, 1, 1, 1, 1, 1, 1, 1, 1, 1, 1, 1, 1, 0, 1, 0, 1, 1, 1, 1, 1, 1, 1, 1, 1, 1, 1, 1, 1, 1, 1, 1, 1, 1, 1, 1, 1, 1, 1, 1, 1, 1, 0, 0, 0, 1, 1, 1, 1, 1, 1, 1, 1, 1, 1, 1, 0, 1, 1, 1, 1, 1, 1, 1, 1, 0, 1, 1, 1, 1, 1, 1, 1, 1, 1, 1, 1, 1, 1, 1, 1, 1, 1, 1, 0, 1, 1, 0, 0, 0, 0, 0, 0, 0, 1, 0, 0, 0, 0, 0, 0, 1, 1, 1, 1, 1, 1, 1, 1, 1, 1, 1, 1, 1, 1, 1, 1, 1, 1, 1, 1, 1, 1, 1, 1, 1, 1, 1, 1, 1, 1, 0, 0, 1, 1, 1, 1, 1, 1, 1, 1, 1, 1, 1, 1, 1, 1, 1, 1, 1, 1, 1, 1, 1, 1, 1, 1, 1, 1, 1, 1, 1, 1, 1, 1, 1, 1, 1, 1, 1, 1, 1, 1, 0, 1, 1, 1, 1, 1, 1, 1, 1, 1, 1, 1, 0, 1, 1, 1, 1, 1, 1, 1, 1, 1, 1, 1, 1, 1, 1, 1, 1, 1, 1, 1, 1, 1, 1, 1, 1, 1, 1, 1, 1, 1, 1, 1, 1, 1, 1, 1, 1, 1, 1, 1, 1, 0, 0, 0, 0, 1, 1, 0, 0, 1, 1, 1, 0, 1, 1, 1, 1, 0, 1, 1, 1, 1, 1, 1, 1, 1, 1, 1, 1, 1, 1, 1, 1, 1, 1, 1, 1, 1, 1, 1, 1, 1, 1, 1, 1, 1, 1, 1, 1, 1, 1, 1, 1, 0, 1, 1, 1, 1, 1, 1, 1, 1, 1, 1, 1, 1, 1, 1, 1, 1, 1, 1, 1, 1, 1, 1, 1, 1, 1, 1, 1, 1, 1, 1, 1, 1, 1, 1, 1, 1, 1, 1, 1, 1, 1, 1, 1, 1, 1, 1, 1, 0, 1, 1, 1, 1, 1, 1, 1, 1, 1, 1, 1, 1, 1, 1, 1, 1, 1, 1, 1, 1, 1, 1, 1, 1, 1, 1, 1, 1, 1, 1, 1, 1, 1, 1, 1, 1, 1, 1, 1, 1, 1, 1, 1, 1, 1, 1, 0, 1, 1, 1, 1, 1, 1, 1, 1, 1, 1, 1, 1, 1, 1, 1, 1, 1, 1, 1, 1, 1, 1, 1, 1, 1, 1, 1, 1, 1, 1, 1, 1, 1, 1, 1, 1, 1, 1, 1, 1, 1, 1, 1, 1, 1, 1, 1, 1, 1, 1, 1, 1, 1, 1, 1, 1, 1, 1, 1, 1, 1, 1, 1, 1, 1, 1, 1, 1, 1, 1, 1, 1, 1, 1, 1, 0, 0, 1, 0, 0, 0, 1, 0, 1, 0, 1, 1, 1, 1, 1, 1, 1, 1, 1, 1, 1, 1, 1, 1, 1, 1, 1, 1, 1, 1, 1, 1, 1, 1, 1, 1, 1, 1, 1, 1, 1, 1, 1, 1, 1, 1, 1, 0, 0, 1, 1, 1, 1, 1, 1, 1, 1, 1, 1, 1, 1, 0, 1, 1, 1, 1, 1, 1, 1, 1, 1, 1, 1, 1, 1, 1, 1, 1, 1, 1, 1, 1, 1, 1, 1, 1, 1, 1, 1, 1, 1, 1, 1, 1, 1, 1, 1, 1, 1, 1, 1, 1, 1, 1, 1, 1, 1, 1, 1, 1, 1, 1, 1, 1, 1, 1, 1, 1, 1, 1, 1, 1, 1, 1, 1, 1, 1, 1, 1, 1, 1, 1, 1, 1, 1, 1, 1, 1, 0, 1, 1, 0, 1, 1, 0, 0, 1, 1, 1, 1, 1, 1, 1, 1, 1, 1, 1, 1, 1, 1, 1, 1, 1, 1, 1, 1, 1, 1, 1, 1, 1, 1, 1, 1, 1, 1, 1, 1, 1, 1, 1, 1, 1, 1, 1, 1, 1, 1, 1, 1, 1, 1, 1, 1, 1, 1, 1, 1, 1, 1, 1, 0, 1, 1, 1, 1, 1, 1, 1, 1, 1, 1, 1, 1, 1, 1, 1, 1, 1, 1, 1, 1, 1, 1, 1, 1, 1, 1, 1, 1, 1, 1, 1, 1, 1, 1, 1, 1, 1, 1, 1, 1, 1, 1, 1, 1, 1, 1, 1, 1, 1, 1, 1, 1, 1, 1, 1, 1, 1, 1, 1, 1, 1, 1, 1, 1, 1, 0, 0, 0, 1, 0, 0, 1, 1, 1, 1, 1, 1, 1, 1, 1, 1, 1, 1, 1, 1, 1, 1, 1, 1, 1, 1, 1, 1, 1, 1, 1, 1, 1, 1, 1, 1, 1, 1, 1, 1, 1, 1, 1, 1, 1, 1, 1, 0, 1, 1, 1, 0, 1, 1, 1, 0, 0, 0, 1, 1, 1, 1, 1, 1, 1, 1, 1, 1, 1, 1, 1, 1, 1, 1, 1, 1, 1, 1, 1, 1, 1, 1, 1, 1, 1, 1, 1, 1, 0, 1, 1, 0, 1, 1, 1, 1, 0, 1, 1, 1, 1, 1, 1, 1, 1, 1, 0, 1, 0, 1, 1, 1, 1, 1, 1, 1, 1, 1, 1, 1, 1, 1, 1, 1, 1, 1, 1, 1, 1, 1, 1, 1, 1, 0, 1, 1, 1, 1, 1, 1, 1, 1, 1, 1, 1, 1, 1, 1, 1, 1, 1, 1, 1, 1, 1, 1, 1, 1, 1, 1, 1, 1, 1, 1, 1, 1, 1, 1, 1, 1, 1, 1, 1, 1, 1, 1, 1, 0, 1, 1, 1, 1, 1, 1, 1, 1, 1, 1, 1, 1, 1, 1, 1, 1, 1, 1, 1, 1, 1, 1, 1, 1, 1, 1, 1, 1, 1, 1, 1, 1, 1, 1, 1, 1, 1, 1, 1, 1, 1, 1, 1, 1, 1, 1, 1, 1, 0, 1, 1, 0, 1, 1, 1, 1, 1, 1, 1, 1, 1, 0, 1, 1, 1, 1, 1, 0, 1, 1, 1, 1, 1, 1, 0, 1, 1, 0, 1, 1, 1, 0, 1, 1, 1, 1, 1, 1, 1, 1, 1, 1, 1, 1, 1, 1, 1, 1, 1, 1, 1, 1, 1, 1, 1, 1, 1, 1, 1, 1, 1, 1, 0, 1, 1, 1, 1, 1, 1, 1, 1, 1, 1, 1, 1, 1, 1, 1, 1, 1, 1, 1, 1, 1, 1, 0, 1, 1, 1, 1, 1, 1, 1, 0, 1, 1, 0, 1, 1, 1, 1, 0, 1, 1, 1, 1, 1, 1, 1, 0, 1, 1, 1, 1, 1, 1, 1, 1, 1, 1, 1, 1, 1, 1, 1, 1, 1, 1, 1, 1, 1, 0, 0, 1, 0, 1, 0, 1, 0, 0, 1, 1, 0, 1, 1, 0, 1, 1, 1, 1, 1, 1, 1, 1, 1, 1, 1, 1, 1, 1, 1, 1, 1, 1, 1, 1, 1, 1, 1, 1, 1, 1, 1, 1, 0, 1, 0, 0, 0, 0, 0, 0, 0, 0, 1, 0, 0, 0, 0, 0, 0, 0, 0, 1, 1, 0, 0, 1, 1, 0, 0, 0, 0, 1, 0, 0, 0, 0, 0, 0, 0, 0, 0, 1, 0, 1, 1, 1, 1, 0, 1, 1, 0, 1, 0, 0, 0, 1, 0, 0, 1, 0, 1, 0, 1, 1, 1, 0, 1, 0, 1, 1, 1, 1, 1, 1, 1, 1, 1, 1, 1, 1, 1, 1, 1, 1, 1, 1, 1, 1, 1, 1, 1, 1, 1, 1, 1, 1, 0, 0, 0, 0, 1, 0, 0, 1, 1, 1, 1, 0, 0, 0, 1, 1, 1, 1, 1, 1, 0, 1, 1, 0, 1, 1, 0, 1, 0, 0, 1, 0, 1, 1, 1, 1, 1, 1, 1, 1, 1, 1, 0, 0, 0, 0, 0, 0, 0, 0, 0, 0, 0, 0, 0, 1, 0, 0, 0, 1, 0, 0, 0, 0, 0, 0, 0, 1, 0, 1, 0, 1, 1, 1, 1, 1, 1, 1, 1, 1, 1, 1, 1, 1, 1, 1, 0, 0, 0, 1, 1, 0, 0, 0, 0, 1, 1, 1, 0, 0, 1, 1, 1, 1, 1, 1, 1, 1, 1, 1, 1, 1, 1, 1, 1, 1, 1, 1, 1, 1, 1, 1, 1, 1, 1, 1, 1, 1, 1, 1, 1, 1, 1, 0, 1, 1, 0, 0, 0, 1, 1, 0, 0, 0, 0, 0, 0, 1, 0, 1, 1, 0, 0, 1, 0, 0, 1, 1, 1, 0, 1, 1, 0, 1, 1, 1, 1, 1, 1, 1, 1, 1, 1, 1, 1, 1, 1, 1, 1, 1, 1, 0, 0, 0, 0, 0, 0, 0, 0, 0, 1, 0, 0, 1, 1, 1, 1, 1, 1, 1, 1, 1, 1, 1, 1, 1, 1, 1, 1, 1, 1, 1, 1, 1, 1, 1, 1, 1, 1, 1, 1, 1, 0, 0, 1, 0, 0, 0, 0, 1, 1, 0, 1, 0, 0, 1, 1, 1, 1, 1, 1, 1, 1, 1, 1, 1, 1, 1, 1, 1, 1, 1, 1, 1, 1, 1, 1, 1, 1, 1, 1, 1, 1, 1, 1, 1, 1, 1, 1, 0, 0, 0, 0, 0, 1, 1, 0, 1, 1, 1, 1, 1, 0, 1, 1, 1, 1, 1, 1, 1, 1, 1, 1, 1, 1, 1, 1, 1, 1, 1, 1, 1, 1, 1, 1, 1, 1, 1, 1, 1, 1, 1, 1, 0, 1, 1, 1, 1, 1, 0, 0, 1, 0, 0, 0, 0, 0, 0, 0, 1, 0, 0, 1, 0, 0, 0, 0, 0, 1, 1, 1, 1, 1, 1, 1, 1, 1, 1, 1, 1, 1, 1, 1, 1, 1, 1, 1, 0, 1, 1, 1, 1, 0, 0, 1, 1, 0, 0, 0, 0, 0, 0, 1, 0, 0, 0, 1, 1, 1, 1, 0, 1, 1, 1, 1, 1, 1, 1, 1, 1, 1, 1, 1, 1, 1, 1, 1, 1, 1, 1, 1, 1, 0, 1, 0, 0, 0, 0, 0, 1, 0, 0, 0, 1, 1, 1, 1, 0, 1, 1, 1, 1, 1, 1, 1, 1, 1, 1, 1, 1, 1, 1, 1, 1, 1, 1, 1, 1, 1, 1, 1, 1, 1, 1, 1, 1, 0, 1, 1, 1, 1, 1, 0, 0, 0, 1, 0, 0, 1, 0, 0, 0, 1, 1, 1, 1, 1, 1, 1, 1, 1, 1, 1, 1, 1, 1, 1, 1, 1, 1, 1, 1, 1, 1, 1, 0, 0, 1, 1, 1, 1, 1, 1, 1, 0, 1, 1, 1, 1, 1, 1, 0, 0, 1, 1, 1, 1, 0, 1, 1, 0, 0, 1, 1, 0, 1, 0, 1, 1, 1, 1, 1, 1, 1, 1, 1, 1, 1, 1, 1, 1, 1, 1, 1, 1, 1, 1, 1, 1, 1, 1, 1, 1, 1, 1, 1, 1, 1, 1, 1, 1, 1, 1, 1, 1, 1, 1, 1, 1, 1, 1, 1, 1, 1, 1, 1, 1, 1, 1, 1, 1, 1, 1, 1, 1, 1, 1, 1, 1, 1, 1, 1, 1, 1, 0, 1, 1, 0, 0, 1, 1, 1, 1, 1, 1, 0, 1, 1, 1, 1, 1, 1, 1, 1, 1, 1, 1, 1, 1, 0, 1, 0, 1, 1, 1, 1, 1, 1, 1, 1, 1, 1, 1, 1, 1, 1, 0, 1, 1, 1, 1, 1, 1, 1, 1, 1, 0, 1, 1, 1, 1, 1, 1, 1, 1, 1, 1, 1, 1, 1, 1, 1, 1, 1, 1, 0, 1, 1, 1, 1, 1, 1, 1, 1, 1, 1, 1, 1, 1, 1, 1, 0, 0, 1, 0, 0, 0, 1, 0, 0, 1, 1, 0, 1, 1, 1, 1, 1, 1, 1, 1, 1, 1, 0, 1, 1, 1, 1, 1, 1, 1, 1, 1, 1, 1, 1, 1, 1, 1, 1, 1, 1, 1, 1, 1, 1, 1, 0, 1, 1, 0, 0, 1, 0, 0, 0, 1, 1, 0, 0, 0, 0, 1, 0, 1, 1, 1, 1, 1, 1, 1, 1, 1, 1, 1, 1, 1, 1, 1, 1, 1, 1, 1, 1, 1, 1, 1, 1, 0, 1, 1, 1, 0, 0, 1, 1, 0, 1, 0, 1, 1, 1, 1, 1, 1, 1, 1, 1, 1, 1, 1, 1, 1, 1, 1, 1, 1, 1, 1, 1, 1, 1, 1, 1, 1, 1, 1, 1, 1, 1, 1, 1, 1, 1, 1, 1]), (0.5773333311080933, [0, 1, 1, 0, 0, 0, 0, 0, 0, 0, 0, 1, 0, 1, 1, 1, 0, 0, 0, 1, 0, 0, 0, 0, 0, 0, 1, 1, 1, 1, 1, 1, 1, 1, 1, 1, 1, 1, 1, 1, 1, 1, 1, 1, 1, 0, 1, 0, 0, 0, 0, 0, 0, 0, 0, 0, 0, 1, 0, 0, 1, 1, 1, 0, 0, 0, 0, 1, 1, 1, 1, 1, 0, 1, 1, 1, 1, 1, 1, 1, 1, 1, 1, 1, 1, 1, 1, 1, 1, 1, 1, 0, 1, 0, 1, 0, 0, 0, 1, 1, 1, 0, 0, 1, 1, 1, 1, 1, 1, 1, 1, 1, 1, 0, 1, 0, 0, 1, 1, 0, 0, 0, 1, 1, 1, 0, 0, 1, 0, 1, 1, 1, 1, 1, 1, 0, 0, 0, 0, 0, 0, 1, 0, 0, 0, 0, 0, 0, 0, 1, 1, 1, 1, 1, 1, 1, 1, 1, 1, 1, 1, 1, 1, 1, 1, 1, 1, 1, 1, 1, 1, 1, 1, 1, 1, 1, 1, 1, 1, 1, 0, 0, 0, 0, 0, 1, 0, 0, 0, 0, 0, 0, 0, 0, 0, 0, 0, 0, 0, 0, 0, 0, 1, 0, 0, 1, 1, 1, 1, 1, 1, 1, 1, 1, 1, 1, 1, 1, 1, 1, 1, 1, 1, 1, 1, 1, 0, 1, 1, 0, 0, 0, 0, 0, 0, 1, 0, 1, 0, 1, 1, 1, 1, 1, 1, 1, 0, 1, 1, 1, 1, 1, 1, 1, 1, 1, 1, 1, 1, 1, 1, 1, 1, 1, 1, 1, 1, 1, 1, 1, 1, 0, 1, 0, 0, 0, 1, 0, 0, 0, 1, 1, 1, 1, 0, 0, 0, 1, 1, 1, 1, 1, 1, 1, 1, 1, 1, 1, 1, 1, 1, 1, 1, 1, 1, 1, 1, 1, 1, 1, 1, 1, 1, 1, 1, 1, 0, 0, 1, 0, 1, 1, 1, 1, 0, 0, 0, 0, 1, 1, 1, 1, 0, 0, 1, 1, 1, 1, 0, 1, 1, 1, 1, 1, 1, 1, 1, 1, 1, 1, 1, 1, 1, 1, 1, 1, 1, 1, 1, 1, 0, 0, 0, 0, 1, 1, 1, 1, 0, 1, 0, 0, 1, 1, 1, 1, 1, 0, 1, 0, 1, 1, 0, 1, 1, 1, 1, 0, 1, 1, 1, 1, 1, 1, 1, 1, 1, 1, 1, 1, 1, 1, 1, 1, 1, 0, 1, 1, 1, 1, 0, 0, 1, 0, 0, 0, 0, 1, 1, 0, 1, 1, 1, 0, 0, 1, 1, 1, 1, 1, 1, 1, 1, 1, 1, 1, 1, 1, 1, 1, 1, 1, 1, 1, 1, 1, 1, 1, 1, 1, 0, 1, 1, 1, 0, 0, 0, 0, 0, 0, 0, 0, 0, 0, 0, 1, 0, 0, 0, 0, 1, 0, 0, 1, 0, 0, 1, 0, 1, 1, 1, 1, 1, 1, 1, 1, 1, 1, 1, 1, 1, 1, 1, 1, 1, 0, 0, 1, 0, 0, 0, 1, 0, 0, 0, 1, 1, 0, 0, 0, 1, 0, 1, 1, 1, 1, 1, 1, 1, 1, 1, 1, 1, 1, 1, 1, 1, 1, 1, 1, 1, 1, 1, 1, 1, 1, 1, 1, 1, 1, 0, 1, 1, 0, 0, 0, 0, 1, 1, 0, 0, 0, 0, 0, 0, 1, 0, 1, 1, 0, 0, 0, 1, 1, 0, 1, 1, 0, 0, 1, 1, 1, 1, 1, 1, 1, 1, 1, 1, 1, 1, 1, 1, 1, 1, 0, 0, 0, 1, 0, 0, 1, 0, 0, 0, 0, 0, 1, 0, 1, 1, 1, 1, 0, 1, 1, 1, 1, 1, 0, 1, 1, 1, 1, 1, 1, 0, 0, 1, 1, 1, 1, 1, 1, 1, 1, 1, 1, 1, 1, 1, 0, 0, 0, 0, 1, 0, 0, 1, 0, 0, 1, 1, 1, 1, 1, 1, 1, 1, 1, 1, 1, 1, 1, 1, 1, 1, 1, 1, 1, 1, 1, 1, 1, 1, 1, 1, 1, 1, 1, 1, 1, 1, 1, 1, 1, 0, 0, 0, 0, 0, 0, 0, 0, 1, 0, 0, 1, 1, 1, 1, 0, 1, 1, 1, 1, 1, 1, 1, 1, 1, 1, 1, 1, 1, 1, 1, 1, 1, 1, 1, 1, 1, 1, 1, 1, 1, 1, 1, 1, 0, 0, 0, 0, 0, 0, 1, 0, 1, 0, 0, 0, 0, 1, 0, 1, 1, 1, 1, 1, 1, 1, 1, 1, 1, 1, 1, 1, 1, 1, 1, 1, 1, 1, 1, 1, 1, 1, 1, 1, 1, 1, 1, 1, 1, 0, 0, 0, 0, 0, 0, 0, 0, 1, 0, 0, 0, 1, 0, 0, 0, 0, 1, 0, 1, 0, 0, 1, 0, 1, 1, 0, 1, 1, 1, 1, 1, 1, 1, 1, 1, 1, 1, 1, 1, 1, 1, 1, 1, 1, 0, 0, 0, 0, 0, 0, 0, 1, 1, 0, 0, 0, 0, 0, 1, 1, 1, 1, 1, 1, 1, 1, 1, 1, 1, 1, 1, 1, 1, 1, 1, 1, 1, 1, 1, 1, 1, 1, 1, 1, 1, 1, 1, 1, 1, 0, 1, 0, 0, 1, 1, 0, 1, 0, 0, 1, 0, 0, 0, 1, 1, 1, 1, 1, 1, 1, 1, 1, 1, 1, 1, 1, 1, 1, 1, 1, 1, 1, 1, 1, 1, 1, 1, 1, 1, 1, 1, 1, 1, 1, 0, 0, 1, 1, 1, 0, 0, 0, 0, 0, 0, 1, 1, 0, 0, 0, 1, 0, 0, 1, 1, 1, 1, 1, 1, 1, 1, 1, 1, 1, 1, 1, 1, 1, 1, 1, 1, 1, 1, 1, 1, 1, 1, 1, 1, 0, 0, 0, 0, 0, 0, 0, 0, 0, 1, 1, 0, 1, 1, 0, 0, 0, 0, 1, 1, 1, 1, 1, 1, 1, 1, 1, 1, 1, 1, 1, 1, 1, 1, 1, 1, 1, 1, 1, 1, 1, 1, 1, 1, 1, 0, 0, 0, 1, 1, 1, 1, 1, 1, 1, 0, 1, 1, 1, 1, 0, 0, 1, 0, 1, 0, 0, 1, 1, 1, 1, 0, 0, 1, 1, 1, 1, 1, 1, 1, 1, 1, 1, 1, 1, 1, 1, 1, 1, 1, 0, 0, 0, 0, 1, 1, 1, 1, 0, 0, 0, 0, 0, 0, 0, 1, 1, 0, 1, 1, 1, 1, 1, 1, 1, 1, 1, 1, 1, 1, 1, 1, 1, 1, 1, 1, 1, 1, 1, 1, 1, 1, 1, 1, 1, 0, 0, 1, 1, 1, 1, 1, 1, 1, 0, 1, 1, 1, 1, 0, 1, 1, 1, 0, 0, 1, 1, 1, 1, 1, 1, 1, 1, 1, 1, 1, 1, 1, 1, 1, 1, 1, 1, 1, 1, 1, 1, 1, 1, 1, 1, 0, 0, 0, 0, 0, 0, 0, 0, 0, 0, 0, 0, 1, 1, 1, 1, 1, 1, 1, 1, 1, 1, 1, 1, 1, 1, 1, 1, 1, 1, 1, 1, 1, 1, 1, 1, 1, 1, 1, 1, 1, 1, 1, 1, 0, 0, 0, 0, 1, 0, 0, 1, 1, 1, 1, 0, 1, 0, 0, 0, 1, 0, 1, 1, 1, 1, 1, 1, 1, 1, 1, 1, 1, 1, 1, 1, 1, 1, 1, 1, 1, 1, 1, 1, 1, 1, 1, 1, 1, 0, 0, 0, 0, 0, 0, 0, 0, 0, 0, 0, 0, 0, 0, 1, 0, 0, 1, 1, 0, 0, 0, 0, 1, 1, 1, 1, 1, 1, 1, 1, 1, 1, 1, 1, 1, 1, 1, 1, 1, 1, 1, 1, 1, 1, 0, 1, 0, 0, 0, 0, 0, 0, 0, 0, 0, 0, 0, 0, 0, 0, 1, 0, 0, 0, 0, 1, 1, 1, 0, 1, 1, 1, 1, 1, 1, 1, 1, 1, 1, 1, 1, 1, 1, 1, 1, 1, 1, 1, 1, 1, 0, 0, 0, 0, 1, 0, 1, 1, 0, 0, 0, 0, 0, 0, 0, 0, 0, 0, 0, 0, 1, 1, 1, 1, 0, 1, 1, 1, 1, 1, 1, 1, 1, 1, 1, 1, 1, 1, 1, 1, 1, 1, 1, 1, 0, 1, 0, 0, 0, 0, 0, 0, 0, 0, 0, 0, 0, 1, 1, 1, 1, 0, 1, 1, 1, 1, 1, 1, 1, 1, 1, 1, 1, 1, 1, 1, 1, 1, 1, 1, 1, 1, 1, 1, 1, 1, 1, 1, 1, 1, 0, 0, 0, 0, 0, 0, 0, 0, 0, 0, 0, 0, 0, 0, 0, 0, 1, 1, 1, 1, 1, 1, 1, 1, 1, 1, 1, 1, 1, 1, 1, 1, 1, 1, 1, 1, 1, 1, 1, 1, 1, 1, 1, 1, 0, 0, 0, 0, 1, 0, 0, 0, 0, 1, 1, 1, 1, 1, 1, 1, 1, 1, 0, 0, 0, 0, 0, 1, 1, 1, 1, 1, 1, 1, 1, 1, 1, 1, 1, 1, 1, 1, 1, 1, 1, 1, 1, 1, 1, 0, 0, 1, 0, 0, 0, 0, 0, 0, 0, 0, 0, 0, 0, 0, 0, 0, 0, 0, 1, 0, 0, 0, 0, 0, 0, 0, 1, 1, 1, 1, 1, 1, 1, 1, 1, 1, 1, 1, 1, 1, 1, 1, 1, 1, 0, 0, 0, 0, 1, 1, 0, 1, 0, 0, 0, 0, 0, 0, 0, 0, 0, 0, 0, 0, 0, 0, 0, 1, 0, 0, 0, 1, 0, 0, 0, 1, 0, 0, 0, 1, 1, 1, 0, 0, 0, 1, 1, 1, 1, 0, 0, 0, 0, 0, 0, 0, 0, 0, 0, 0, 0, 0, 0, 0, 1, 1, 0, 1, 0, 0, 0, 0, 1, 1, 1, 1, 1, 1, 1, 1, 1, 1, 1, 1, 1, 1, 1, 1, 1, 1, 1, 1, 1, 1, 0, 1, 1, 0, 0, 0, 0, 0, 0, 0, 0, 0, 1, 1, 0, 1, 1, 1, 1, 0, 1, 0, 1, 1, 0, 0, 0, 1, 1, 1, 1, 1, 1, 1, 1, 1, 1, 1, 1, 1, 1, 1, 1, 1, 1, 0, 0, 0, 1, 0, 0, 0, 0, 0, 0, 0, 0, 0, 1, 0, 1, 0, 1, 1, 1, 1, 1, 0, 1, 0, 0, 1, 1, 1, 1, 1, 1, 1, 1, 1, 1, 1, 1, 1, 1, 1, 1, 1, 1, 1, 0, 0, 1, 0, 0, 0, 0, 0, 0, 0, 1, 0, 0, 0, 0, 0, 0, 1, 1, 1, 1, 1, 0, 0, 1, 1, 1, 1, 1, 1, 1, 1, 1, 1, 1, 1, 1, 1, 1, 1, 1, 1, 1, 1, 1, 1, 1, 0, 0, 0, 0, 1, 0, 0, 0, 0, 0, 1, 0, 1, 1, 1, 1, 1, 1, 1, 1, 0, 0, 1, 1, 0, 1, 1, 1, 1, 1, 1, 1, 1, 1, 1, 1, 1, 1, 1, 1, 1, 1, 1, 0, 0, 0, 0, 0, 0, 0, 0, 0, 0, 0, 0, 0, 0, 0, 0, 0, 0, 0, 0, 0, 1, 1, 0, 0, 0, 0, 0, 0, 0, 0, 0, 1, 1, 1, 1, 1, 1, 1, 1, 1, 1, 1, 1, 1, 0, 1, 0, 0, 0, 0, 0, 0, 0, 0, 0, 0, 0, 0, 0, 0, 0, 0, 0, 0, 0, 0, 0, 0, 0, 0, 0, 1, 0, 1, 0, 1, 0, 1, 1, 1, 1, 1, 1, 1, 1, 1, 1, 1, 1, 0, 0, 0, 0, 1, 1, 0, 0, 0, 0, 0, 0, 0, 1, 0, 1, 0, 0, 1, 1, 1, 1, 0, 1, 0, 1, 1, 1, 1, 1, 1, 1, 1, 1, 1, 1, 1, 1, 1, 1, 1, 1, 1, 1, 1, 0, 0, 0, 0, 0, 0, 0, 0, 0, 1, 0, 0, 0, 1, 0, 1, 1, 0, 1, 1, 0, 0, 0, 0, 1, 1, 1, 1, 1, 1, 1, 1, 1, 1, 1, 1, 1, 1, 1, 1, 1, 1, 1, 1, 1, 0, 1, 0, 0, 0, 0, 0, 0, 1, 1, 1, 1, 1, 1, 1, 1, 1, 1, 1, 1, 1, 1, 1, 1, 1, 1, 1, 1, 1, 1, 1, 1, 1, 1, 1, 1, 1, 1, 1, 1, 1, 1, 1, 1, 1, 0, 1, 0, 0, 0, 0, 0, 0, 1, 1, 1, 1, 0, 1, 1, 1, 1, 1, 1, 1, 1, 1, 1, 1, 1, 1, 1, 1, 1, 1, 1, 1, 1, 1, 1, 1, 1, 1, 1, 1, 1, 1, 1, 1, 1, 0, 0, 0, 0, 0, 0, 0, 0, 0, 0, 0, 0, 0, 0, 0, 0, 1, 0, 0, 0, 0, 0, 1, 0, 0, 1, 1, 1, 0, 0, 0, 1, 1, 1, 1, 1, 1, 1, 1, 1, 1, 1, 1, 1, 1, 1, 0, 0, 0, 0, 0, 0, 0, 0, 0, 0, 1, 0, 1, 1, 0, 1, 1, 1, 1, 0, 0, 1, 1, 0, 1, 1, 0, 1, 1, 1, 1, 1, 1, 1, 1, 1, 1, 1, 1, 1, 1, 1, 1, 1, 1, 1, 0, 0, 0, 0, 0, 0, 0, 0, 0, 0, 0, 0, 0, 0, 1, 1, 0, 0, 0, 0, 0, 1, 1, 1, 1, 1, 1, 1, 1, 1, 1, 1, 1, 1, 1, 1, 1, 1, 1, 1, 1, 1, 1, 0, 0, 0, 0, 0, 0, 0, 0, 1, 0, 1, 0, 0, 0, 1, 0, 0, 0, 0, 1, 1, 1, 1, 0, 1, 1, 0, 1, 0, 1, 1, 0, 1, 1, 1, 1, 1, 0, 0, 0, 1, 0, 0, 0, 0]), (0.504444420337677, [0, 0, 1, 1, 0, 0, 0, 0, 0, 1, 1, 1, 1, 1, 1, 1, 0, 1, 0, 0, 1, 0, 1, 1, 0, 1, 0, 0, 0, 1, 1, 1, 1, 1, 1, 1, 1, 1, 1, 1, 1, 1, 1, 1, 1, 0, 0, 0, 0, 0, 0, 0, 0, 0, 0, 0, 0, 0, 0, 0, 0, 0, 0, 0, 1, 1, 0, 0, 0, 0, 0, 0, 1, 0, 1, 0, 0, 0, 0, 0, 1, 0, 0, 1, 0, 1, 1, 1, 1, 1, 1, 1, 0, 1, 1, 0, 0, 0, 0, 0, 1, 1, 0, 0, 1, 0, 0, 0, 1, 1, 1, 0, 0, 1, 1, 0, 0, 0, 1, 0, 1, 1, 0, 1, 1, 1, 1, 1, 0, 1, 1, 1, 1, 1, 1, 0, 1, 0, 0, 0, 1, 0, 1, 0, 0, 1, 1, 1, 0, 0, 1, 1, 0, 1, 1, 1, 0, 1, 1, 0, 0, 1, 1, 1, 1, 1, 1, 1, 1, 1, 1, 1, 1, 1, 1, 1, 1, 1, 1, 1, 1, 0, 1, 0, 0, 1, 1, 0, 1, 0, 1, 0, 0, 1, 1, 1, 1, 1, 1, 1, 0, 0, 0, 1, 1, 0, 1, 1, 1, 0, 1, 1, 1, 1, 1, 0, 1, 1, 0, 1, 1, 1, 0, 1, 0, 0, 1, 1, 0, 0, 1, 1, 0, 0, 0, 0, 0, 0, 1, 0, 1, 1, 0, 0, 1, 1, 1, 0, 1, 1, 1, 0, 1, 1, 1, 1, 1, 0, 1, 0, 0, 0, 0, 1, 1, 1, 1, 1, 1, 1, 1, 0, 0, 0, 0, 0, 0, 0, 0, 0, 0, 0, 0, 0, 0, 0, 1, 0, 0, 0, 0, 0, 1, 0, 1, 0, 0, 1, 0, 0, 0, 0, 0, 0, 0, 1, 0, 0, 0, 0, 1, 0, 0, 0, 0, 0, 0, 1, 1, 1, 0, 1, 0, 1, 0, 1, 1, 1, 0, 0, 1, 1, 0, 1, 0, 1, 1, 1, 0, 0, 1, 1, 1, 1, 1, 1, 0, 1, 0, 0, 0, 1, 1, 1, 1, 1, 1, 1, 1, 1, 0, 0, 0, 0, 0, 0, 0, 1, 0, 0, 1, 0, 1, 1, 1, 1, 1, 1, 0, 0, 1, 0, 0, 0, 0, 0, 0, 1, 1, 1, 1, 1, 0, 1, 1, 0, 1, 1, 1, 1, 1, 0, 0, 0, 0, 1, 1, 1, 1, 0, 0, 0, 1, 0, 0, 0, 0, 0, 1, 0, 1, 0, 0, 0, 0, 0, 1, 0, 0, 1, 0, 0, 1, 0, 0, 0, 1, 1, 1, 1, 1, 1, 1, 1, 0, 1, 1, 1, 1, 1, 0, 1, 1, 1, 1, 1, 0, 1, 0, 1, 1, 1, 1, 1, 0, 1, 0, 1, 1, 1, 1, 1, 1, 0, 1, 0, 1, 1, 0, 0, 0, 1, 1, 1, 1, 1, 0, 1, 1, 0, 1, 0, 1, 0, 1, 0, 0, 1, 1, 1, 1, 1, 1, 1, 1, 1, 1, 1, 1, 0, 1, 0, 1, 1, 1, 0, 1, 1, 1, 1, 1, 1, 1, 1, 1, 1, 1, 1, 0, 1, 0, 1, 1, 1, 1, 1, 1, 1, 1, 1, 1, 0, 0, 0, 0, 0, 1, 0, 0, 0, 1, 0, 0, 0, 1, 1, 0, 1, 1, 0, 1, 1, 1, 0, 0, 0, 1, 0, 1, 0, 1, 0, 0, 1, 1, 0, 0, 0, 1, 0, 1, 0, 0, 1, 1, 0, 0, 0, 0, 0, 0, 0, 0, 1, 0, 0, 0, 1, 1, 1, 0, 0, 0, 0, 0, 0, 0, 0, 1, 1, 1, 1, 1, 1, 1, 1, 1, 0, 1, 1, 1, 1, 1, 1, 1, 1, 1, 1, 1, 1, 0, 1, 0, 0, 0, 0, 0, 0, 0, 0, 1, 0, 0, 0, 0, 0, 1, 0, 1, 1, 0, 0, 1, 1, 0, 0, 0, 0, 0, 0, 0, 1, 0, 0, 1, 1, 1, 1, 1, 0, 0, 0, 1, 1, 1, 0, 1, 1, 1, 1, 1, 0, 0, 0, 1, 0, 1, 1, 0, 0, 0, 1, 0, 1, 1, 1, 0, 0, 1, 0, 1, 0, 1, 1, 1, 1, 1, 0, 1, 1, 0, 0, 0, 0, 1, 1, 1, 1, 1, 1, 0, 1, 0, 0, 0, 0, 0, 0, 1, 0, 1, 0, 0, 0, 0, 0, 1, 0, 0, 1, 0, 1, 0, 1, 0, 0, 0, 0, 0, 1, 0, 1, 1, 0, 1, 1, 0, 0, 1, 0, 1, 1, 0, 0, 0, 0, 0, 0, 1, 1, 0, 0, 0, 0, 0, 0, 0, 0, 0, 0, 0, 0, 0, 0, 0, 0, 0, 0, 1, 0, 1, 1, 0, 0, 0, 1, 0, 0, 0, 1, 0, 0, 1, 1, 0, 1, 1, 1, 1, 1, 1, 0, 0, 0, 0, 0, 0, 0, 1, 0, 1, 0, 0, 0, 0, 1, 0, 1, 0, 0, 0, 1, 1, 1, 1, 0, 1, 1, 0, 0, 1, 0, 1, 0, 1, 1, 0, 0, 1, 1, 1, 1, 1, 1, 1, 0, 0, 0, 0, 0, 1, 0, 1, 1, 1, 1, 1, 1, 1, 1, 1, 1, 1, 1, 0, 1, 1, 1, 1, 1, 1, 1, 1, 1, 1, 1, 1, 1, 1, 1, 0, 0, 1, 1, 1, 1, 1, 1, 1, 1, 0, 0, 1, 0, 1, 0, 0, 0, 0, 0, 0, 0, 0, 0, 0, 0, 0, 0, 0, 0, 0, 0, 0, 1, 0, 0, 1, 0, 0, 0, 0, 0, 0, 0, 0, 0, 1, 0, 0, 0, 0, 0, 0, 1, 1, 1, 0, 1, 1, 0, 1, 0, 0, 1, 0, 0, 0, 0, 0, 1, 1, 0, 0, 0, 0, 0, 0, 1, 1, 1, 1, 1, 1, 1, 1, 0, 0, 0, 1, 1, 1, 1, 0, 1, 1, 1, 1, 1, 1, 1, 0, 1, 1, 1, 1, 0, 0, 1, 1, 1, 1, 0, 1, 0, 1, 1, 1, 1, 1, 1, 1, 0, 0, 0, 1, 1, 0, 1, 1, 1, 1, 1, 1, 1, 1, 1, 1, 1, 1, 0, 1, 1, 1, 1, 1, 0, 0, 0, 0, 0, 0, 0, 0, 0, 0, 0, 1, 1, 0, 0, 1, 0, 0, 0, 0, 0, 0, 1, 1, 1, 0, 0, 0, 1, 1, 1, 1, 0, 0, 1, 1, 1, 1, 1, 1, 1, 1, 1, 1, 1, 1, 1, 0, 1, 1, 0, 0, 1, 1, 1, 1, 0, 0, 0, 0, 0, 1, 1, 0, 0, 1, 1, 1, 1, 0, 1, 1, 1, 1, 1, 0, 0, 1, 0, 1, 1, 1, 1, 0, 0, 0, 1, 1, 1, 1, 0, 0, 0, 1, 1, 1, 1, 1, 1, 1, 1, 1, 1, 0, 1, 1, 1, 1, 1, 1, 0, 1, 1, 0, 1, 1, 1, 1, 1, 1, 1, 1, 1, 1, 1, 1, 1, 1, 1, 1, 1, 1, 1, 1, 0, 0, 0, 0, 0, 0, 0, 0, 1, 1, 0, 0, 0, 0, 0, 0, 0, 1, 0, 0, 1, 0, 0, 0, 0, 1, 0, 0, 1, 1, 1, 1, 1, 0, 1, 1, 1, 1, 1, 1, 1, 1, 1, 1, 1, 1, 1, 0, 0, 0, 1, 0, 0, 0, 0, 0, 0, 0, 1, 0, 1, 1, 1, 0, 0, 1, 0, 0, 1, 1, 1, 0, 0, 0, 1, 0, 1, 1, 1, 1, 0, 1, 1, 0, 0, 0, 1, 1, 1, 1, 1, 0, 1, 1, 0, 0, 0, 0, 0, 0, 0, 0, 0, 0, 0, 0, 0, 0, 0, 0, 0, 0, 0, 0, 0, 0, 1, 0, 0, 0, 0, 1, 1, 1, 1, 1, 1, 1, 1, 1, 1, 1, 1, 1, 1, 1, 0, 0, 0, 0, 0, 1, 0, 1, 1, 0, 0, 0, 0, 0, 0, 1, 0, 1, 0, 0, 1, 0, 1, 1, 1, 1, 1, 1, 1, 1, 1, 1, 1, 1, 1, 1, 1, 1, 1, 1, 1, 1, 1, 1, 1, 0, 0, 0, 0, 1, 0, 0, 0, 0, 0, 0, 0, 0, 0, 0, 0, 0, 1, 1, 1, 1, 0, 0, 1, 1, 1, 1, 1, 1, 1, 1, 1, 1, 1, 1, 1, 1, 1, 1, 1, 1, 1, 1, 1, 1, 0, 0, 0, 0, 0, 0, 0, 0, 0, 0, 0, 0, 0, 0, 0, 0, 0, 0, 0, 1, 1, 1, 1, 1, 1, 1, 1, 1, 1, 1, 1, 1, 1, 1, 1, 1, 1, 1, 1, 1, 1, 1, 1, 1, 1, 1, 1, 0, 0, 0, 0, 0, 0, 0, 0, 0, 0, 0, 0, 0, 0, 0, 0, 0, 0, 1, 1, 0, 0, 0, 1, 1, 0, 0, 1, 1, 0, 1, 1, 0, 0, 1, 0, 0, 0, 1, 1, 1, 0, 1, 0, 0, 0, 0, 0, 0, 0, 0, 0, 1, 1, 0, 0, 1, 0, 0, 1, 1, 1, 1, 1, 1, 1, 0, 0, 1, 1, 1, 1, 1, 1, 1, 1, 1, 1, 1, 1, 1, 1, 1, 1, 1, 1, 1, 1, 0, 0, 0, 0, 0, 0, 0, 1, 1, 1, 0, 0, 0, 0, 1, 0, 0, 0, 1, 1, 1, 0, 0, 1, 1, 1, 1, 1, 1, 1, 1, 1, 1, 1, 1, 1, 1, 1, 1, 1, 1, 1, 1, 1, 1, 1, 0, 0, 0, 0, 0, 0, 0, 0, 1, 1, 1, 1, 1, 0, 0, 1, 0, 1, 1, 1, 1, 1, 1, 1, 1, 1, 1, 1, 1, 1, 1, 1, 1, 1, 1, 1, 1, 1, 1, 1, 1, 1, 1, 1, 0, 1, 1, 0, 0, 0, 0, 0, 1, 0, 0, 0, 0, 0, 0, 0, 0, 0, 1, 0, 0, 1, 0, 1, 0, 0, 1, 1, 0, 1, 0, 1, 1, 1, 1, 1, 1, 1, 1, 1, 1, 1, 1, 1, 1, 0, 1, 1, 0, 0, 0, 0, 0, 0, 0, 0, 0, 0, 0, 0, 0, 0, 0, 1, 0, 0, 1, 0, 0, 1, 0, 1, 1, 1, 1, 1, 0, 1, 1, 1, 1, 1, 1, 1, 1, 1, 1, 1, 1, 1, 0, 1, 0, 0, 0, 0, 0, 0, 0, 0, 0, 0, 0, 0, 1, 1, 1, 1, 1, 1, 1, 1, 1, 1, 1, 1, 1, 1, 1, 1, 1, 1, 1, 1, 1, 1, 1, 1, 1, 1, 1, 1, 1, 1, 1, 0, 1, 0, 0, 0, 0, 0, 0, 0, 0, 0, 0, 0, 0, 1, 0, 0, 0, 0, 0, 1, 1, 1, 1, 1, 1, 1, 1, 1, 1, 1, 1, 1, 1, 1, 1, 1, 1, 1, 1, 1, 1, 1, 1, 1, 0, 1, 0, 0, 0, 0, 0, 0, 0, 0, 0, 0, 0, 0, 0, 0, 0, 0, 0, 0, 0, 0, 0, 0, 0, 0, 0, 0, 0, 0, 0, 1, 1, 1, 1, 1, 1, 1, 1, 1, 1, 1, 1, 1, 1, 0, 0, 0, 0, 0, 0, 0, 0, 0, 0, 0, 0, 0, 1, 0, 1, 0, 0, 1, 1, 1, 0, 0, 1, 0, 1, 1, 1, 1, 1, 1, 1, 1, 1, 1, 1, 1, 1, 1, 1, 1, 1, 1, 1, 1, 0, 0, 0, 0, 0, 0, 0, 0, 0, 0, 0, 1, 0, 0, 0, 0, 0, 0, 0, 0, 0, 0, 0, 0, 0, 0, 1, 0, 1, 1, 1, 0, 0, 0, 0, 1, 0, 1, 1, 1, 1, 1, 1, 1, 1, 0, 0, 0, 0, 0, 0, 0, 0, 1, 1, 1, 1, 1, 0, 1, 1, 0, 0, 1, 1, 1, 1, 1, 1, 1, 1, 1, 1, 1, 1, 1, 1, 1, 1, 1, 1, 1, 1, 1, 1, 1, 1, 1, 1, 1, 1, 0, 0, 0, 0, 0, 0, 0, 0, 0, 0, 0, 0, 0, 0, 0, 0, 0, 0, 0, 1, 0, 0, 0, 0, 0, 0, 0, 0, 1, 0, 0, 0, 0, 0, 0, 0, 1, 1, 1, 1, 1, 1, 1, 1, 0, 0, 0, 0, 0, 0, 0, 0, 0, 0, 0, 0, 0, 0, 0, 0, 0, 0, 0, 0, 1, 0, 0, 0, 0, 0, 0, 1, 1, 1, 1, 1, 1, 1, 1, 1, 1, 1, 1, 1, 1, 1, 1, 1, 1, 0, 0, 0, 0, 0, 0, 0, 0, 0, 0, 1, 0, 0, 0, 0, 0, 0, 0, 0, 0, 1, 0, 0, 0, 0, 1, 0, 0, 1, 1, 1, 1, 1, 1, 1, 1, 1, 1, 1, 1, 1, 1, 1, 1, 1, 0, 0, 0, 0, 0, 0, 0, 1, 0, 0, 0, 1, 0, 1, 1, 1, 0, 0, 0, 0, 0, 0, 0, 0, 0, 1, 1, 0, 0, 0, 1, 1, 1, 1, 1, 1, 1, 1, 1, 1, 1, 1, 1, 1, 1, 0, 0, 1, 0, 0, 0, 0, 1, 1, 1, 1, 1, 0, 0, 0, 1, 0, 0, 0, 0, 1, 0, 1, 1, 1, 0, 0, 1, 1, 1, 1, 1, 1, 1, 1, 1, 1, 1, 1, 1, 1, 1, 1, 1, 1, 0, 0, 0, 1, 1, 0, 0, 0, 0, 0, 0, 0, 0, 0, 0, 0, 1, 1, 0, 0, 1, 1, 1, 1, 1, 1, 1, 1, 1, 1, 1, 1, 1, 1, 1, 1, 1, 1, 1, 1, 1, 1, 1, 1, 1]), (0.5528888702392578, [1, 1, 1, 1, 1, 1, 1, 1, 1, 1, 1, 1, 1, 1, 1, 1, 1, 1, 1, 1, 1, 1, 1, 1, 1, 0, 1, 0, 1, 1, 1, 1, 1, 1, 1, 1, 1, 1, 1, 1, 1, 1, 1, 1, 1, 1, 1, 1, 1, 1, 1, 1, 1, 1, 1, 1, 1, 1, 1, 1, 1, 1, 1, 1, 1, 1, 1, 1, 1, 1, 1, 1, 0, 1, 1, 1, 1, 1, 1, 1, 1, 1, 1, 1, 1, 1, 1, 1, 1, 1, 1, 1, 1, 1, 1, 1, 1, 1, 1, 1, 1, 1, 1, 1, 1, 1, 1, 1, 1, 1, 1, 1, 1, 1, 1, 1, 1, 1, 1, 1, 1, 1, 1, 1, 1, 1, 1, 1, 1, 1, 1, 1, 1, 1, 1, 1, 1, 1, 1, 1, 0, 1, 1, 1, 1, 1, 1, 1, 1, 1, 1, 1, 1, 1, 1, 1, 1, 1, 1, 1, 1, 1, 1, 1, 1, 1, 1, 1, 1, 1, 1, 1, 1, 1, 1, 1, 1, 1, 1, 1, 1, 1, 1, 1, 1, 1, 1, 1, 1, 1, 1, 1, 1, 1, 1, 1, 1, 1, 1, 1, 1, 1, 1, 1, 1, 1, 1, 1, 1, 1, 1, 1, 1, 1, 1, 1, 1, 1, 1, 1, 1, 1, 1, 1, 1, 1, 1, 1, 1, 1, 1, 1, 1, 1, 1, 1, 1, 1, 1, 1, 1, 1, 1, 1, 1, 1, 1, 1, 1, 1, 1, 1, 1, 1, 1, 1, 1, 1, 1, 1, 1, 1, 1, 1, 1, 1, 1, 1, 1, 1, 1, 1, 1, 1, 1, 1, 1, 1, 1, 1, 1, 1, 1, 1, 0, 1, 1, 1, 1, 1, 1, 1, 1, 1, 1, 1, 1, 1, 1, 1, 1, 1, 1, 1, 1, 1, 1, 1, 1, 1, 1, 1, 1, 1, 1, 1, 1, 1, 1, 1, 1, 1, 1, 1, 1, 1, 1, 1, 1, 1, 1, 1, 1, 1, 1, 1, 1, 1, 1, 1, 1, 1, 1, 1, 0, 1, 1, 1, 1, 1, 1, 1, 1, 1, 1, 1, 1, 1, 1, 1, 1, 1, 1, 1, 1, 1, 1, 1, 1, 1, 1, 1, 1, 1, 1, 1, 1, 1, 1, 1, 1, 1, 1, 1, 1, 1, 1, 1, 1, 1, 1, 1, 0, 1, 1, 1, 1, 1, 1, 1, 1, 1, 1, 1, 1, 1, 1, 1, 1, 1, 1, 1, 1, 1, 1, 1, 1, 1, 1, 1, 1, 1, 1, 1, 1, 1, 1, 1, 1, 1, 1, 1, 1, 1, 1, 1, 1, 1, 1, 1, 1, 1, 1, 1, 1, 1, 1, 1, 1, 1, 1, 1, 1, 1, 1, 1, 1, 1, 1, 1, 1, 1, 1, 1, 1, 1, 1, 1, 1, 1, 1, 1, 1, 1, 1, 1, 1, 1, 1, 1, 1, 1, 1, 1, 1, 1, 1, 1, 1, 1, 1, 1, 1, 1, 1, 1, 1, 1, 1, 1, 1, 1, 1, 1, 1, 1, 1, 1, 1, 1, 1, 1, 1, 1, 1, 1, 1, 1, 1, 1, 1, 1, 1, 1, 1, 1, 1, 1, 1, 1, 1, 1, 1, 1, 1, 1, 1, 1, 1, 1, 1, 1, 1, 1, 1, 1, 1, 1, 1, 1, 1, 1, 1, 1, 1, 1, 1, 0, 1, 1, 1, 1, 1, 1, 1, 1, 1, 1, 1, 1, 1, 1, 1, 1, 1, 1, 1, 1, 1, 1, 1, 1, 1, 1, 1, 1, 1, 1, 1, 1, 1, 1, 1, 1, 1, 1, 1, 1, 1, 1, 1, 1, 1, 1, 1, 1, 1, 1, 1, 1, 1, 1, 1, 1, 1, 1, 1, 1, 1, 1, 1, 1, 1, 1, 1, 1, 1, 1, 1, 1, 1, 1, 1, 1, 1, 1, 1, 1, 1, 1, 1, 1, 1, 1, 1, 1, 1, 1, 1, 1, 1, 1, 1, 1, 1, 1, 1, 1, 1, 1, 1, 0, 1, 1, 0, 0, 1, 1, 1, 1, 0, 1, 1, 1, 1, 1, 0, 0, 1, 1, 1, 1, 1, 1, 1, 1, 1, 1, 1, 1, 1, 1, 1, 1, 1, 1, 1, 1, 1, 1, 1, 1, 1, 1, 1, 0, 1, 1, 1, 1, 1, 1, 1, 1, 1, 1, 1, 1, 1, 1, 1, 1, 1, 1, 1, 1, 1, 1, 1, 1, 1, 1, 1, 1, 1, 1, 1, 1, 1, 1, 1, 1, 1, 1, 1, 1, 1, 1, 1, 1, 1, 1, 1, 1, 0, 1, 1, 1, 1, 1, 1, 1, 1, 1, 1, 1, 1, 1, 1, 1, 1, 1, 1, 1, 1, 1, 1, 1, 1, 1, 1, 1, 1, 1, 1, 1, 1, 1, 1, 1, 1, 1, 1, 1, 1, 1, 1, 1, 1, 1, 1, 1, 1, 1, 1, 1, 1, 1, 1, 1, 1, 1, 1, 1, 1, 1, 1, 1, 1, 1, 1, 1, 1, 1, 1, 1, 1, 1, 1, 1, 1, 1, 1, 1, 1, 1, 1, 1, 1, 1, 1, 1, 1, 1, 1, 1, 1, 1, 1, 1, 1, 1, 1, 1, 1, 1, 1, 1, 1, 1, 1, 1, 1, 1, 1, 1, 1, 1, 1, 1, 1, 1, 1, 1, 1, 1, 1, 1, 1, 1, 1, 1, 1, 1, 1, 0, 1, 1, 1, 1, 1, 1, 0, 0, 1, 1, 1, 1, 1, 1, 1, 1, 1, 1, 1, 1, 1, 1, 1, 1, 1, 1, 1, 1, 1, 1, 1, 1, 1, 1, 1, 1, 1, 1, 1, 1, 1, 1, 1, 1, 1, 1, 1, 1, 1, 1, 1, 1, 1, 1, 1, 1, 1, 1, 1, 1, 1, 1, 1, 1, 1, 1, 0, 1, 1, 1, 1, 1, 1, 1, 1, 1, 0, 1, 1, 1, 1, 1, 1, 1, 1, 1, 1, 1, 1, 1, 1, 1, 1, 1, 1, 1, 1, 1, 1, 1, 1, 1, 1, 1, 1, 1, 1, 0, 1, 1, 1, 1, 1, 1, 1, 1, 1, 1, 1, 0, 1, 1, 1, 1, 0, 1, 1, 1, 1, 1, 1, 1, 0, 1, 1, 1, 1, 1, 1, 1, 1, 1, 1, 1, 1, 1, 1, 1, 1, 1, 1, 1, 1, 1, 1, 1, 1, 1, 1, 1, 1, 1, 1, 1, 1, 1, 1, 1, 1, 1, 1, 1, 1, 0, 1, 1, 1, 1, 1, 1, 1, 1, 1, 1, 1, 1, 1, 1, 1, 1, 1, 1, 1, 1, 1, 1, 1, 1, 1, 1, 1, 1, 1, 1, 1, 1, 1, 1, 1, 1, 1, 1, 1, 1, 1, 1, 1, 1, 1, 1, 1, 1, 1, 1, 1, 1, 1, 1, 1, 1, 1, 1, 1, 1, 1, 1, 1, 1, 1, 1, 1, 1, 1, 1, 1, 1, 1, 1, 1, 1, 1, 1, 1, 1, 1, 1, 1, 1, 1, 1, 1, 1, 1, 1, 1, 1, 1, 1, 1, 1, 1, 1, 1, 1, 1, 1, 1, 1, 1, 1, 1, 1, 1, 1, 1, 1, 1, 1, 1, 1, 1, 1, 1, 1, 1, 1, 1, 1, 1, 1, 1, 1, 1, 1, 1, 1, 1, 1, 1, 1, 1, 1, 1, 1, 1, 1, 1, 1, 1, 1, 1, 1, 1, 1, 1, 1, 1, 1, 1, 0, 1, 0, 0, 0, 0, 0, 0, 0, 1, 1, 1, 1, 0, 1, 1, 0, 0, 1, 1, 0, 1, 0, 0, 0, 1, 1, 1, 1, 0, 0, 0, 0, 0, 0, 0, 0, 0, 0, 0, 0, 0, 0, 0, 0, 1, 1, 0, 1, 1, 1, 1, 1, 1, 1, 1, 1, 1, 0, 1, 1, 1, 1, 0, 0, 0, 0, 0, 1, 1, 1, 1, 1, 1, 1, 1, 1, 1, 1, 1, 1, 1, 1, 1, 1, 1, 1, 1, 1, 1, 1, 1, 1, 1, 0, 1, 1, 1, 1, 1, 0, 1, 0, 1, 1, 1, 1, 1, 0, 0, 1, 1, 1, 1, 0, 1, 1, 0, 1, 1, 1, 1, 1, 1, 1, 1, 1, 1, 1, 1, 1, 1, 1, 1, 1, 1, 1, 1, 0, 1, 0, 1, 1, 1, 1, 1, 1, 1, 1, 1, 1, 1, 1, 1, 1, 1, 1, 1, 1, 1, 1, 1, 1, 1, 1, 1, 1, 1, 1, 1, 1, 1, 1, 1, 1, 1, 1, 1, 1, 1, 1, 1, 1, 1, 1, 1, 1, 1, 1, 1, 1, 1, 1, 1, 1, 0, 1, 1, 1, 1, 1, 1, 1, 1, 1, 1, 1, 1, 1, 1, 1, 1, 1, 1, 1, 1, 1, 1, 1, 1, 1, 1, 1, 1, 1, 1, 1, 1, 1, 1, 0, 1, 1, 1, 1, 0, 1, 1, 1, 1, 1, 1, 1, 0, 1, 1, 1, 1, 1, 1, 1, 1, 1, 1, 1, 1, 1, 1, 1, 1, 1, 1, 1, 1, 1, 1, 1, 1, 1, 1, 1, 1, 1, 1, 1, 1, 1, 1, 1, 1, 1, 1, 1, 1, 1, 1, 1, 1, 1, 1, 1, 1, 1, 1, 1, 1, 1, 1, 0, 1, 1, 1, 0, 1, 1, 1, 1, 1, 1, 1, 1, 1, 1, 1, 1, 1, 1, 1, 1, 1, 1, 1, 1, 1, 1, 1, 1, 1, 1, 1, 1, 1, 1, 0, 1, 1, 1, 1, 1, 1, 1, 1, 1, 1, 1, 1, 1, 1, 1, 1, 1, 1, 1, 1, 1, 1, 1, 1, 1, 1, 1, 1, 1, 1, 1, 1, 1, 1, 1, 1, 1, 0, 1, 1, 1, 1, 1, 1, 1, 1, 1, 1, 1, 1, 1, 1, 1, 1, 1, 1, 1, 0, 1, 1, 1, 1, 1, 1, 1, 1, 1, 1, 1, 1, 1, 1, 1, 1, 1, 1, 1, 1, 1, 1, 1, 1, 1, 1, 1, 1, 1, 1, 1, 1, 1, 1, 1, 1, 1, 1, 1, 1, 1, 1, 1, 1, 1, 1, 1, 1, 1, 1, 1, 1, 1, 1, 1, 1, 1, 1, 1, 1, 1, 1, 1, 1, 1, 1, 1, 1, 1, 1, 1, 1, 1, 1, 1, 1, 1, 1, 1, 1, 1, 1, 1, 1, 1, 1, 1, 1, 1, 1, 1, 1, 1, 1, 1, 1, 1, 1, 1, 1, 1, 1, 1, 1, 0, 1, 1, 1, 1, 1, 1, 1, 1, 1, 1, 1, 1, 1, 1, 1, 1, 1, 1, 1, 1, 1, 0, 1, 1, 1, 1, 0, 1, 1, 1, 1, 1, 1, 1, 1, 1, 1, 1, 1, 1, 1, 1, 1, 1, 1, 0, 1, 1, 1, 1, 1, 1, 1, 1, 1, 1, 1, 1, 1, 0, 1, 1, 1, 1, 1, 1, 1, 1, 1, 1, 1, 1, 1, 1, 1, 1, 1, 1, 1, 1, 1, 1, 1, 1, 1, 1, 1, 1, 1, 1, 1, 1, 1, 1, 1, 1, 1, 1, 1, 1, 1, 1, 1, 1, 1, 1, 1, 1, 1, 1, 1, 1, 0, 0, 0, 0, 1, 1, 1, 1, 1, 1, 1, 1, 1, 1, 1, 1, 1, 1, 1, 1, 1, 1, 1, 1, 1, 1, 1, 1, 1, 1, 1, 1, 1, 1, 1, 1, 1, 1, 1, 1, 1, 1, 1, 1, 1, 1, 1, 1, 1, 1, 1, 1, 1, 1, 1, 1, 1, 1, 1, 1, 1, 1, 1, 1, 1, 1, 1, 1, 1, 1, 1, 1, 1, 1, 1, 1, 1, 1, 1, 1, 1, 1, 1, 1, 1, 1, 1, 0, 1, 1, 1, 1, 1, 1, 1, 1, 1, 1, 1, 1, 1, 1, 1, 1, 1, 1, 1, 1, 1, 1, 1, 1, 1, 1, 1, 1, 1, 1, 0, 1, 1, 1, 1, 1, 1, 1, 1, 1, 1, 1, 1, 1, 1, 1, 1, 1, 1, 1, 1, 1, 1, 1, 1, 1, 1, 1, 1, 1, 1, 1, 1, 1, 1, 1, 1, 1, 1, 1, 1, 1, 1, 1, 1, 1, 1, 1, 0, 1, 1, 1, 1, 1, 1, 1, 1, 1, 1, 1, 1, 1, 1, 1, 1, 1, 1, 1, 1, 1, 1, 1, 1, 1, 1, 1, 1, 1, 1, 1, 1, 1, 1, 1, 1, 1, 1, 1, 1, 1, 1, 1, 1, 1, 1, 1, 1, 1, 1, 1, 1, 1, 1, 1, 1, 1, 1, 1, 1, 1, 1, 1, 1, 1, 1, 1, 1, 1, 1, 1, 1, 1, 1, 1, 1, 1, 1, 1, 1, 1, 1, 1, 1, 1, 1, 1, 1, 1, 1, 1, 1, 1, 0, 1, 1, 1, 0, 1, 1, 1, 1, 1, 1, 1, 1, 1, 1, 1, 1, 1, 1, 1, 1, 1, 1, 1, 1, 1, 1, 1, 1, 1, 1, 0, 1, 1, 1, 1, 1, 1, 1, 1, 1, 1, 1, 1, 0, 1, 1, 1, 1, 1, 1, 1, 1, 1, 1, 1, 1, 1, 1, 1, 1, 1, 1, 1, 1, 1, 1, 1, 1, 1, 1, 1, 1, 1, 1, 1, 1, 1, 1, 1, 1, 1, 1, 1, 1, 1, 1, 1, 1, 1, 1, 1, 1, 1, 1, 1, 1, 1, 1, 1, 1, 1, 1, 1, 1, 1, 1, 1, 1, 1, 1, 1, 1, 1, 1, 1, 1, 1, 1, 1, 1, 1, 1, 1, 1, 1, 1, 1, 1, 1, 1, 1, 1, 1, 1, 1, 1, 1, 1, 1, 1, 1, 1, 1, 1, 1, 1, 1, 1, 1, 1, 1, 1, 1, 1, 1, 1, 1, 1, 1, 1, 1, 1, 1, 1, 1]), (0.7671111226081848, [1, 1, 1, 0, 0, 1, 1, 1, 1, 1, 1, 0, 1, 1, 0, 0, 0, 1, 0, 1, 1, 1, 1, 0, 0, 1, 1, 1, 0, 1, 1, 1, 1, 1, 1, 1, 1, 1, 1, 0, 1, 1, 1, 1, 1, 1, 1, 1, 1, 1, 1, 1, 1, 1, 1, 1, 1, 0, 1, 1, 1, 1, 1, 1, 1, 1, 1, 1, 1, 1, 1, 1, 1, 1, 0, 0, 1, 1, 1, 1, 1, 0, 0, 0, 0, 0, 0, 0, 0, 0, 1, 1, 1, 1, 1, 1, 1, 1, 1, 1, 1, 1, 1, 0, 0, 0, 1, 1, 1, 0, 1, 0, 1, 1, 1, 1, 1, 1, 1, 1, 1, 0, 1, 0, 1, 1, 0, 0, 0, 0, 0, 0, 0, 0, 0, 1, 0, 1, 1, 1, 1, 0, 0, 1, 1, 1, 1, 1, 1, 1, 1, 1, 1, 1, 0, 0, 1, 1, 1, 1, 0, 0, 1, 1, 1, 1, 1, 1, 1, 1, 1, 1, 1, 1, 1, 1, 1, 1, 1, 1, 1, 1, 1, 1, 1, 0, 0, 1, 1, 0, 1, 1, 1, 1, 1, 1, 1, 1, 0, 1, 1, 1, 1, 0, 1, 1, 1, 1, 0, 0, 1, 1, 1, 1, 1, 1, 1, 1, 1, 1, 1, 1, 1, 1, 1, 1, 1, 1, 1, 1, 1, 1, 0, 0, 0, 1, 0, 0, 1, 1, 1, 1, 1, 1, 1, 1, 1, 1, 0, 1, 1, 1, 0, 1, 1, 0, 1, 1, 1, 1, 0, 1, 1, 1, 1, 1, 1, 0, 0, 0, 1, 1, 1, 1, 1, 1, 1, 1, 1, 1, 1, 1, 1, 1, 1, 1, 1, 1, 1, 1, 1, 1, 1, 0, 1, 1, 0, 1, 0, 1, 0, 0, 1, 1, 1, 1, 1, 1, 1, 1, 1, 1, 1, 1, 1, 1, 1, 1, 1, 1, 1, 1, 1, 1, 1, 1, 1, 1, 1, 1, 1, 1, 1, 1, 1, 1, 0, 1, 1, 1, 1, 0, 0, 0, 0, 0, 0, 0, 0, 0, 0, 0, 0, 0, 0, 0, 0, 0, 0, 0, 1, 1, 1, 1, 1, 1, 1, 1, 1, 1, 1, 1, 0, 1, 1, 1, 1, 1, 1, 1, 1, 0, 0, 1, 1, 1, 1, 1, 1, 1, 1, 0, 0, 0, 1, 1, 1, 1, 1, 1, 1, 1, 0, 0, 0, 0, 1, 1, 1, 1, 0, 1, 1, 1, 1, 1, 1, 1, 1, 1, 1, 1, 1, 1, 1, 1, 0, 1, 0, 1, 1, 1, 1, 1, 1, 1, 1, 1, 1, 0, 0, 0, 0, 0, 0, 0, 0, 0, 0, 0, 1, 1, 1, 1, 1, 0, 1, 1, 0, 1, 1, 1, 1, 1, 1, 1, 0, 1, 1, 1, 1, 1, 1, 1, 1, 1, 1, 1, 1, 0, 0, 1, 0, 0, 0, 1, 1, 1, 0, 0, 0, 0, 0, 0, 0, 1, 1, 1, 1, 1, 0, 0, 1, 1, 1, 1, 1, 1, 1, 0, 1, 1, 1, 1, 1, 1, 1, 1, 1, 1, 1, 1, 1, 0, 1, 0, 1, 0, 0, 1, 1, 1, 1, 1, 0, 1, 0, 1, 1, 1, 1, 1, 1, 1, 1, 0, 1, 1, 0, 1, 0, 0, 0, 1, 0, 0, 0, 1, 0, 1, 1, 1, 1, 1, 0, 0, 1, 0, 1, 1, 1, 1, 1, 1, 1, 1, 1, 0, 0, 1, 1, 1, 1, 1, 1, 1, 0, 1, 1, 1, 1, 0, 1, 1, 1, 0, 1, 0, 1, 1, 0, 1, 1, 1, 1, 0, 1, 0, 1, 1, 1, 1, 1, 0, 1, 1, 1, 1, 1, 0, 0, 0, 0, 0, 0, 0, 0, 0, 0, 0, 1, 1, 1, 1, 1, 1, 1, 0, 1, 1, 1, 1, 1, 1, 1, 1, 1, 1, 1, 1, 1, 1, 1, 1, 1, 1, 1, 1, 1, 1, 1, 0, 1, 1, 0, 1, 1, 1, 0, 0, 0, 0, 0, 0, 0, 1, 1, 1, 1, 1, 1, 1, 1, 1, 1, 1, 1, 1, 1, 1, 1, 1, 0, 1, 1, 1, 1, 1, 1, 1, 1, 1, 1, 1, 1, 1, 1, 1, 1, 1, 1, 1, 0, 0, 0, 0, 0, 0, 0, 0, 1, 1, 1, 1, 1, 1, 1, 1, 1, 1, 1, 1, 1, 1, 1, 1, 0, 1, 1, 0, 1, 1, 1, 1, 1, 1, 1, 0, 0, 1, 1, 1, 1, 1, 1, 1, 1, 1, 1, 1, 1, 1, 1, 1, 1, 1, 1, 0, 0, 1, 1, 1, 1, 1, 0, 1, 1, 1, 1, 0, 0, 0, 0, 0, 0, 1, 1, 1, 1, 0, 0, 1, 1, 1, 1, 1, 1, 1, 0, 0, 0, 0, 0, 0, 0, 0, 0, 0, 0, 0, 1, 1, 1, 1, 1, 1, 0, 1, 1, 1, 1, 1, 1, 1, 1, 1, 1, 1, 1, 1, 1, 1, 1, 1, 1, 1, 1, 1, 1, 0, 1, 1, 1, 1, 1, 1, 1, 1, 1, 1, 1, 1, 1, 1, 1, 1, 1, 1, 1, 1, 1, 1, 1, 1, 1, 1, 1, 1, 1, 1, 1, 1, 1, 1, 1, 1, 1, 1, 1, 1, 1, 1, 1, 1, 1, 1, 1, 1, 1, 0, 1, 1, 1, 1, 1, 0, 1, 1, 1, 1, 1, 1, 1, 1, 1, 1, 1, 1, 1, 1, 1, 1, 1, 1, 1, 1, 1, 1, 1, 1, 1, 1, 1, 1, 1, 1, 1, 1, 1, 1, 1, 1, 1, 1, 1, 1, 1, 1, 1, 1, 1, 1, 1, 1, 1, 1, 1, 1, 1, 1, 1, 0, 1, 0, 1, 1, 1, 1, 1, 1, 1, 1, 0, 1, 1, 1, 1, 1, 1, 1, 1, 1, 1, 1, 1, 1, 1, 1, 1, 1, 1, 1, 1, 1, 1, 1, 1, 1, 1, 1, 0, 1, 1, 1, 1, 0, 1, 1, 0, 1, 1, 1, 1, 1, 1, 1, 1, 1, 1, 1, 1, 1, 1, 1, 1, 1, 1, 1, 1, 1, 1, 1, 1, 1, 1, 1, 0, 1, 1, 1, 1, 1, 1, 1, 1, 1, 1, 1, 1, 1, 1, 1, 1, 0, 1, 1, 1, 1, 0, 0, 1, 1, 1, 1, 1, 1, 0, 1, 1, 1, 1, 1, 1, 1, 1, 0, 1, 1, 1, 1, 1, 1, 1, 1, 1, 1, 1, 1, 1, 1, 1, 1, 1, 1, 1, 1, 1, 1, 1, 1, 1, 1, 1, 1, 1, 1, 1, 1, 1, 1, 1, 1, 1, 1, 1, 1, 1, 1, 1, 1, 1, 1, 1, 1, 1, 1, 1, 1, 1, 1, 1, 1, 1, 1, 1, 1, 0, 1, 1, 0, 1, 1, 1, 1, 1, 1, 1, 1, 1, 0, 1, 1, 1, 1, 1, 1, 1, 1, 1, 1, 1, 1, 1, 1, 1, 1, 1, 1, 1, 1, 1, 1, 1, 0, 0, 0, 0, 0, 0, 0, 1, 1, 1, 1, 1, 0, 1, 1, 1, 1, 1, 1, 1, 1, 1, 0, 1, 1, 1, 1, 1, 1, 1, 1, 1, 1, 1, 1, 1, 1, 1, 1, 1, 1, 1, 1, 1, 0, 1, 1, 0, 1, 1, 1, 1, 1, 1, 1, 1, 1, 1, 1, 1, 1, 1, 1, 1, 1, 1, 1, 1, 1, 1, 1, 1, 1, 1, 1, 0, 1, 1, 1, 1, 1, 1, 1, 1, 1, 1, 1, 1, 1, 1, 1, 1, 1, 1, 1, 0, 0, 0, 0, 0, 1, 1, 1, 1, 1, 0, 1, 1, 1, 1, 1, 1, 0, 0, 0, 1, 0, 0, 0, 0, 0, 0, 0, 0, 0, 0, 0, 0, 0, 0, 0, 0, 0, 0, 0, 0, 0, 0, 0, 0, 0, 0, 1, 0, 0, 1, 0, 0, 0, 1, 0, 1, 1, 0, 0, 0, 0, 0, 1, 0, 1, 0, 0, 1, 0, 0, 0, 0, 1, 0, 0, 0, 0, 0, 0, 0, 0, 0, 0, 0, 0, 0, 0, 0, 0, 0, 0, 1, 1, 0, 1, 1, 0, 1, 1, 1, 1, 1, 1, 1, 1, 1, 1, 1, 1, 1, 1, 1, 1, 1, 1, 1, 1, 1, 1, 1, 1, 1, 0, 0, 0, 0, 0, 0, 0, 0, 0, 0, 0, 0, 0, 0, 1, 0, 0, 0, 1, 1, 1, 1, 0, 0, 1, 0, 1, 0, 1, 0, 1, 0, 1, 0, 0, 1, 0, 0, 0, 0, 0, 0, 0, 0, 0, 0, 0, 0, 0, 0, 0, 0, 0, 0, 0, 0, 0, 0, 0, 1, 1, 0, 0, 0, 0, 0, 0, 0, 0, 0, 0, 0, 0, 0, 0, 0, 0, 0, 0, 0, 0, 0, 0, 0, 0, 0, 0, 0, 0, 0, 0, 0, 0, 0, 0, 0, 0, 1, 0, 0, 0, 0, 0, 0, 1, 0, 1, 1, 0, 0, 1, 0, 1, 0, 0, 0, 0, 0, 0, 0, 0, 0, 0, 0, 0, 0, 0, 0, 0, 0, 0, 0, 0, 0, 0, 0, 0, 0, 0, 0, 0, 0, 0, 0, 0, 0, 0, 0, 0, 1, 1, 1, 1, 1, 1, 0, 0, 0, 1, 0, 1, 1, 1, 1, 0, 0, 1, 1, 0, 0, 1, 0, 1, 0, 0, 0, 0, 1, 1, 1, 0, 0, 0, 1, 0, 0, 0, 1, 0, 1, 0, 0, 0, 0, 0, 1, 1, 0, 0, 1, 0, 0, 1, 0, 0, 0, 1, 1, 1, 0, 0, 0, 0, 0, 0, 0, 0, 0, 0, 0, 0, 0, 0, 0, 0, 0, 0, 0, 0, 0, 0, 0, 0, 0, 0, 0, 0, 0, 0, 1, 0, 1, 1, 1, 1, 0, 0, 0, 0, 0, 0, 0, 1, 1, 1, 1, 1, 1, 0, 0, 0, 1, 0, 0, 0, 0, 1, 1, 1, 0, 0, 0, 0, 0, 0, 0, 0, 0, 0, 0, 0, 0, 0, 0, 0, 0, 1, 1, 1, 1, 0, 0, 1, 0, 0, 0, 0, 1, 0, 1, 0, 0, 0, 0, 0, 0, 0, 0, 0, 0, 0, 0, 0, 0, 0, 0, 0, 0, 0, 0, 0, 0, 0, 0, 0, 0, 0, 0, 0, 0, 1, 1, 1, 1, 0, 0, 0, 1, 0, 0, 1, 0, 1, 1, 1, 0, 0, 1, 1, 0, 1, 0, 1, 0, 0, 1, 0, 0, 0, 0, 0, 0, 0, 0, 0, 0, 0, 0, 0, 0, 0, 0, 0, 0, 0, 1, 1, 0, 0, 1, 0, 0, 0, 1, 1, 0, 0, 0, 1, 0, 0, 0, 0, 0, 0, 0, 0, 0, 0, 0, 0, 0, 0, 0, 0, 0, 0, 0, 0, 0, 0, 0, 0, 0, 0, 0, 0, 0, 0, 1, 1, 1, 1, 1, 1, 1, 0, 0, 0, 0, 0, 0, 0, 0, 0, 1, 1, 0, 0, 0, 0, 0, 0, 0, 0, 0, 0, 0, 0, 0, 0, 0, 0, 0, 0, 0, 0, 0, 0, 0, 0, 0, 0, 0, 0, 1, 1, 0, 0, 1, 0, 0, 1, 0, 0, 0, 0, 0, 1, 0, 0, 0, 1, 0, 0, 0, 0, 0, 0, 0, 0, 0, 0, 0, 0, 0, 0, 0, 0, 0, 0, 0, 0, 0, 0, 0, 0, 0, 0, 1, 0, 0, 1, 1, 1, 1, 1, 1, 0, 0, 0, 1, 1, 0, 0, 0, 0, 0, 0, 1, 1, 0, 0, 1, 0, 0, 1, 0, 0, 1, 0, 1, 1, 0, 1, 0, 0, 0, 0, 0, 0, 0, 0, 0, 1, 0, 0, 1, 0, 1, 1, 1, 1, 0, 0, 1, 1, 1, 0, 1, 1, 0, 1, 1, 1, 1, 0, 1, 1, 1, 1, 1, 1, 1, 1, 0, 0, 0, 0, 0, 0, 0, 0, 0, 0, 0, 0, 0, 0, 0, 1, 0, 0, 0, 0, 0, 0, 0, 0, 1, 1, 1, 1, 0, 0, 0, 0, 0, 0, 0, 0, 0, 0, 0, 0, 0, 1, 1, 1, 1, 0, 0, 0, 1, 1, 1, 0, 0, 0, 0, 0, 0, 0, 0, 1, 1, 0, 0, 0, 0, 1, 1, 1, 0, 1, 1, 0, 1, 1, 0, 1, 1, 0, 1, 0, 0, 1, 0, 1, 0, 1, 0, 0, 0, 0, 0, 0, 0, 0, 0, 0, 0, 0, 0, 0, 0, 0, 0, 0, 0, 1, 1, 1, 1, 0, 0, 0, 1, 0, 0, 1, 0, 1, 1, 1, 1, 0, 0, 0, 0, 0, 0, 0, 0, 0, 0, 0, 0, 0, 0, 0, 0, 0, 0, 0, 0, 0, 0, 0, 0, 0, 0, 0, 0, 0, 1, 0, 0, 0, 0, 1, 1, 0, 1, 0, 1, 0, 0, 0, 0, 0, 1, 1, 0, 0, 1, 0, 1, 0, 0, 0, 0, 0, 0, 0, 0, 0, 0, 0, 0, 0, 0, 0, 0, 0, 0, 0, 0, 0, 1, 1, 0, 1, 0, 1, 0, 1, 0, 0, 1, 1, 0, 1, 1, 1, 1, 0, 1, 0, 0, 0, 0, 1, 1, 1, 1, 1, 1, 1, 0, 0, 1, 0, 0, 0, 0, 0, 0, 0, 0, 0, 0, 0, 0, 0, 1, 0, 0, 1, 1, 1, 1, 1, 1, 1, 0, 0, 1, 1, 1, 0, 1, 1, 0, 1, 0, 0, 0, 0, 0, 0, 0, 0, 0, 0, 0, 0, 0, 0, 0, 0, 0, 0, 0, 0, 0, 0, 0, 0]), (0.7866666913032532, [1, 1, 1, 1, 1, 1, 1, 1, 1, 1, 1, 1, 1, 1, 1, 1, 1, 1, 1, 1, 1, 1, 1, 1, 1, 1, 1, 1, 1, 1, 1, 1, 1, 1, 1, 1, 1, 1, 1, 0, 1, 1, 1, 1, 1, 1, 1, 1, 1, 1, 1, 0, 1, 1, 0, 1, 1, 1, 0, 1, 1, 1, 1, 1, 1, 1, 1, 1, 1, 1, 1, 1, 1, 1, 1, 1, 1, 1, 1, 1, 1, 1, 0, 1, 1, 1, 1, 1, 1, 1, 1, 1, 1, 1, 1, 1, 1, 1, 1, 1, 1, 1, 1, 1, 1, 1, 1, 1, 1, 1, 1, 1, 1, 1, 1, 1, 1, 0, 1, 1, 0, 1, 1, 1, 1, 1, 1, 1, 1, 1, 1, 1, 1, 1, 1, 1, 1, 1, 0, 1, 1, 1, 1, 1, 1, 0, 1, 1, 1, 1, 1, 1, 1, 1, 1, 1, 1, 1, 1, 1, 1, 1, 1, 1, 1, 1, 1, 1, 1, 1, 1, 1, 1, 1, 1, 1, 1, 1, 1, 1, 1, 1, 1, 1, 1, 1, 1, 1, 1, 1, 1, 1, 1, 1, 1, 1, 1, 1, 1, 1, 1, 1, 1, 1, 1, 1, 1, 1, 0, 1, 1, 1, 1, 1, 1, 1, 1, 1, 1, 1, 0, 1, 1, 1, 1, 1, 1, 1, 1, 1, 1, 1, 1, 1, 1, 1, 1, 1, 1, 1, 1, 1, 1, 1, 1, 1, 1, 0, 1, 1, 1, 1, 1, 1, 1, 1, 1, 1, 1, 1, 1, 1, 1, 1, 1, 1, 1, 1, 1, 1, 1, 1, 1, 1, 1, 1, 1, 1, 1, 1, 1, 1, 1, 1, 1, 1, 1, 1, 1, 1, 1, 1, 1, 1, 1, 1, 1, 1, 1, 1, 1, 1, 0, 1, 1, 1, 1, 1, 1, 1, 1, 1, 1, 1, 1, 1, 1, 1, 1, 1, 1, 1, 1, 1, 1, 1, 1, 1, 1, 1, 1, 1, 1, 1, 1, 1, 1, 1, 1, 1, 1, 1, 1, 1, 1, 1, 1, 1, 1, 1, 1, 1, 1, 1, 1, 1, 1, 0, 1, 1, 1, 1, 1, 1, 1, 1, 1, 1, 1, 1, 1, 1, 1, 1, 1, 1, 1, 1, 1, 1, 1, 1, 1, 1, 1, 1, 1, 1, 1, 1, 1, 1, 1, 1, 1, 1, 1, 1, 1, 1, 0, 1, 1, 1, 1, 1, 1, 1, 1, 1, 1, 1, 1, 1, 1, 1, 1, 1, 1, 1, 1, 1, 1, 1, 1, 1, 1, 1, 1, 1, 1, 1, 0, 1, 1, 1, 1, 1, 1, 1, 0, 1, 1, 1, 1, 1, 1, 1, 1, 1, 1, 1, 0, 1, 1, 1, 1, 1, 1, 1, 1, 1, 1, 1, 1, 1, 1, 1, 1, 1, 1, 1, 0, 1, 1, 0, 1, 1, 1, 1, 1, 1, 1, 1, 1, 1, 1, 1, 1, 1, 1, 1, 1, 1, 1, 1, 1, 1, 1, 1, 1, 1, 1, 1, 1, 0, 1, 1, 1, 1, 1, 1, 1, 1, 1, 1, 1, 1, 1, 1, 1, 1, 1, 1, 1, 1, 1, 1, 1, 1, 1, 1, 1, 1, 1, 1, 1, 1, 1, 1, 1, 1, 0, 1, 1, 1, 1, 0, 1, 1, 0, 1, 1, 0, 1, 1, 1, 1, 1, 1, 1, 0, 1, 0, 1, 1, 1, 1, 1, 1, 1, 1, 0, 1, 1, 1, 1, 1, 1, 1, 1, 1, 1, 1, 1, 1, 1, 1, 1, 1, 1, 1, 1, 1, 1, 1, 1, 0, 1, 1, 1, 1, 1, 0, 1, 1, 1, 1, 1, 1, 1, 1, 1, 1, 1, 1, 1, 1, 1, 1, 1, 1, 1, 1, 1, 1, 1, 1, 1, 0, 1, 1, 1, 1, 1, 1, 1, 1, 1, 1, 1, 1, 1, 1, 1, 1, 1, 1, 1, 1, 1, 1, 1, 1, 1, 1, 1, 1, 1, 1, 1, 1, 1, 1, 1, 1, 1, 1, 1, 1, 1, 1, 1, 1, 1, 0, 1, 1, 1, 1, 1, 1, 0, 1, 1, 1, 1, 1, 1, 1, 1, 1, 1, 1, 0, 1, 1, 1, 1, 1, 1, 1, 1, 1, 1, 1, 1, 1, 1, 1, 1, 1, 1, 0, 1, 1, 1, 1, 1, 1, 1, 1, 1, 0, 1, 1, 1, 1, 1, 0, 1, 1, 1, 1, 0, 1, 1, 1, 1, 1, 1, 1, 1, 1, 1, 1, 1, 1, 1, 1, 1, 1, 1, 1, 1, 1, 1, 1, 0, 1, 1, 1, 1, 1, 1, 1, 1, 1, 1, 1, 1, 1, 1, 1, 1, 1, 1, 0, 1, 1, 1, 1, 0, 1, 1, 1, 1, 1, 1, 0, 1, 1, 1, 1, 1, 1, 1, 1, 1, 1, 1, 1, 1, 1, 1, 1, 1, 1, 1, 1, 1, 1, 1, 1, 1, 1, 1, 1, 1, 1, 1, 1, 1, 0, 1, 1, 1, 1, 1, 1, 0, 1, 1, 1, 1, 1, 0, 1, 0, 1, 1, 1, 1, 1, 1, 1, 1, 1, 1, 1, 1, 1, 1, 0, 1, 1, 1, 0, 1, 1, 1, 1, 1, 1, 1, 0, 0, 0, 1, 0, 1, 1, 1, 1, 1, 1, 1, 1, 1, 1, 1, 1, 1, 1, 0, 1, 1, 1, 1, 1, 1, 1, 1, 1, 1, 1, 1, 1, 1, 1, 1, 1, 1, 1, 1, 1, 0, 1, 1, 1, 1, 1, 1, 1, 1, 0, 1, 1, 1, 0, 1, 1, 1, 0, 1, 1, 0, 0, 1, 1, 1, 1, 1, 1, 1, 1, 1, 1, 1, 0, 1, 1, 1, 1, 1, 1, 1, 1, 1, 0, 1, 1, 1, 1, 1, 0, 1, 0, 1, 1, 1, 1, 0, 1, 0, 1, 1, 1, 1, 1, 1, 1, 1, 1, 1, 1, 0, 0, 1, 0, 0, 1, 1, 1, 1, 1, 1, 0, 1, 1, 1, 0, 1, 1, 0, 1, 1, 1, 1, 1, 1, 1, 1, 1, 1, 1, 1, 1, 1, 1, 1, 1, 1, 1, 1, 1, 1, 1, 1, 1, 1, 1, 1, 1, 1, 0, 1, 1, 1, 1, 1, 1, 1, 1, 1, 1, 1, 1, 0, 1, 1, 1, 1, 0, 1, 1, 1, 1, 1, 1, 1, 1, 1, 1, 1, 1, 1, 1, 1, 1, 1, 1, 0, 1, 1, 1, 1, 1, 1, 1, 1, 1, 1, 1, 1, 1, 1, 1, 1, 1, 1, 1, 0, 1, 1, 0, 0, 0, 1, 1, 0, 1, 0, 1, 0, 1, 0, 1, 1, 0, 1, 0, 1, 1, 1, 1, 1, 1, 0, 0, 0, 1, 0, 0, 0, 0, 0, 1, 0, 1, 1, 1, 0, 1, 0, 1, 1, 1, 1, 1, 0, 1, 1, 1, 1, 1, 1, 1, 1, 0, 1, 1, 1, 0, 0, 0, 1, 1, 1, 1, 1, 1, 1, 0, 1, 1, 1, 0, 1, 1, 1, 1, 0, 1, 0, 1, 1, 0, 1, 1, 1, 1, 1, 1, 1, 1, 1, 1, 1, 1, 1, 1, 1, 1, 1, 1, 1, 1, 1, 1, 1, 1, 1, 1, 1, 1, 1, 1, 1, 1, 1, 1, 1, 1, 1, 1, 1, 1, 1, 1, 1, 1, 1, 1, 1, 1, 1, 1, 1, 1, 1, 1, 1, 1, 1, 1, 1, 1, 1, 0, 0, 0, 1, 1, 1, 1, 1, 1, 1, 1, 1, 0, 1, 1, 1, 0, 1, 1, 1, 1, 1, 1, 1, 0, 0, 1, 1, 0, 1, 1, 1, 1, 0, 0, 0, 0, 0, 0, 1, 1, 0, 0, 0, 0, 0, 0, 1, 1, 1, 0, 1, 0, 0, 1, 1, 0, 1, 1, 1, 1, 0, 1, 1, 1, 1, 1, 1, 1, 1, 1, 1, 1, 1, 1, 1, 1, 1, 1, 0, 1, 1, 1, 1, 0, 1, 1, 1, 0, 1, 1, 1, 1, 1, 0, 1, 1, 1, 0, 0, 1, 0, 1, 0, 1, 0, 0, 1, 0, 0, 1, 1, 0, 1, 1, 0, 1, 1, 1, 1, 1, 0, 1, 1, 0, 1, 0, 1, 0, 0, 0, 0, 0, 0, 1, 0, 0, 1, 1, 0, 0, 0, 0, 0, 1, 0, 1, 0, 0, 0, 0, 1, 1, 0, 1, 0, 0, 0, 0, 0, 1, 1, 1, 1, 1, 1, 1, 0, 1, 0, 0, 0, 0, 1, 0, 0, 0, 0, 0, 1, 0, 0, 0, 0, 0, 1, 0, 1, 1, 1, 0, 0, 0, 1, 0, 0, 0, 0, 0, 0, 0, 0, 0, 0, 0, 0, 0, 0, 0, 0, 0, 0, 0, 1, 0, 0, 0, 0, 0, 0, 0, 0, 0, 0, 0, 0, 0, 0, 0, 0, 0, 0, 0, 0, 0, 0, 0, 0, 1, 1, 1, 1, 0, 1, 1, 0, 0, 0, 1, 1, 0, 1, 1, 0, 0, 0, 0, 1, 1, 0, 0, 0, 1, 1, 1, 1, 0, 0, 0, 0, 0, 0, 0, 0, 0, 0, 0, 1, 0, 0, 0, 1, 1, 0, 0, 0, 0, 0, 0, 1, 0, 0, 0, 0, 0, 0, 0, 0, 1, 0, 0, 1, 1, 0, 0, 0, 0, 0, 0, 0, 0, 0, 0, 0, 0, 0, 0, 0, 0, 0, 0, 0, 0, 0, 0, 0, 0, 0, 0, 0, 0, 0, 0, 0, 0, 0, 0, 0, 0, 0, 0, 1, 1, 1, 1, 1, 0, 0, 1, 0, 0, 0, 1, 0, 1, 0, 0, 0, 0, 0, 0, 0, 0, 0, 0, 0, 0, 0, 0, 0, 0, 0, 1, 0, 0, 0, 0, 1, 0, 0, 0, 0, 0, 0, 0, 1, 0, 0, 1, 0, 0, 1, 0, 0, 1, 0, 0, 0, 0, 0, 1, 0, 0, 0, 0, 0, 0, 0, 0, 0, 0, 0, 0, 0, 0, 0, 0, 0, 0, 1, 0, 0, 0, 0, 0, 0, 0, 0, 0, 0, 1, 1, 1, 1, 1, 1, 0, 0, 0, 0, 0, 0, 0, 1, 1, 0, 0, 0, 0, 0, 0, 0, 0, 0, 0, 0, 0, 0, 0, 0, 0, 0, 0, 0, 1, 0, 0, 0, 0, 0, 0, 0, 0, 0, 0, 0, 0, 1, 0, 0, 0, 0, 1, 1, 0, 0, 0, 1, 1, 0, 1, 0, 0, 1, 1, 1, 0, 0, 0, 1, 1, 0, 1, 1, 1, 0, 1, 1, 1, 1, 0, 0, 1, 1, 1, 1, 1, 1, 1, 0, 1, 1, 0, 1, 1, 1, 0, 0, 1, 0, 1, 0, 0, 1, 0, 0, 0, 1, 0, 1, 1, 0, 0, 0, 0, 0, 0, 0, 0, 1, 0, 1, 0, 0, 0, 0, 1, 0, 0, 0, 0, 0, 0, 0, 0, 0, 0, 0, 1, 0, 0, 0, 0, 1, 1, 0, 0, 1, 0, 0, 0, 0, 1, 0, 0, 0, 0, 0, 0, 0, 0, 1, 1, 0, 0, 1, 0, 0, 0, 1, 0, 0, 0, 0, 0, 1, 1, 0, 0, 0, 0, 1, 0, 0, 0, 0, 1, 0, 0, 1, 1, 0, 0, 1, 1, 1, 1, 1, 0, 1, 1, 1, 1, 1, 0, 0, 0, 1, 1, 1, 1, 0, 0, 0, 1, 1, 1, 1, 0, 1, 1, 1, 0, 0, 1, 1, 1, 1, 1, 1, 1, 0, 0, 0, 0, 0, 0, 0, 0, 0, 0, 0, 0, 0, 1, 0, 0, 0, 0, 1, 1, 0, 0, 0, 0, 0, 1, 0, 1, 0, 0, 1, 0, 0, 0, 0, 1, 0, 0, 0, 1, 0, 0, 0, 1, 0, 0, 0, 0, 0, 0, 0, 0, 0, 1, 0, 1, 0, 0, 1, 0, 1, 0, 0, 0, 0, 1, 1, 0, 0, 1, 0, 1, 0, 0, 0, 0, 0, 0, 1, 1, 1, 1, 1, 1, 1, 1, 1, 1, 1, 1, 0, 0, 0, 0, 0, 0, 0, 0, 0, 0, 0, 0, 0, 0, 0, 0, 0, 0, 0, 0, 0, 0, 0, 0, 0, 0, 0, 0, 0, 0, 0, 0, 1, 0, 1, 0, 1, 0, 0, 1, 1, 1, 1, 1, 1, 0, 0, 0, 0, 0, 0, 0, 1, 1, 0, 1, 0, 1, 0, 1, 1, 0, 1, 0, 1, 1, 1, 1, 1, 1, 1, 1, 1, 1, 0, 0, 0, 0, 0, 1, 0, 1, 1, 0, 1, 1, 1, 1, 1, 1, 1, 0, 0, 0, 1, 0, 1, 0, 0, 1, 0, 0, 0, 1, 0, 0, 0, 0, 1, 0, 0, 0, 0, 0, 0, 0, 0, 0, 1, 0, 0, 0, 0, 0, 0, 0, 0, 0, 0, 0, 0, 0, 0, 1, 1, 0, 1, 1, 1, 1, 0, 1, 1, 0, 1, 1, 1, 1, 1, 1, 1, 1, 1, 1, 1, 1, 1, 1, 1, 1, 1, 1, 1, 1, 1, 1, 1, 1, 0, 1, 1, 1, 1, 1, 1, 1, 1, 1, 1, 1, 0, 0, 1, 0, 0, 0, 0, 0, 0, 0, 0, 0, 0, 0, 0, 0, 0, 0, 0, 0, 0, 0, 0, 0, 0, 0, 0, 0, 0, 0, 0, 0, 1, 0, 0, 0, 0, 0, 0, 1, 1, 1, 1, 1, 1, 0, 0, 1, 1, 0, 1, 0, 0, 0, 1, 0, 0, 1, 0, 1, 1, 1, 0, 0, 0, 1, 1, 1, 1, 0, 0, 0, 1, 0, 0, 0, 1, 1, 0, 1, 1, 1, 1, 1, 1, 1, 1, 1, 1, 1]), (0.718666672706604, [1, 1, 1, 1, 1, 1, 1, 1, 1, 1, 1, 1, 1, 1, 1, 1, 1, 1, 1, 1, 1, 1, 1, 1, 1, 1, 1, 1, 1, 1, 1, 1, 1, 1, 1, 1, 1, 1, 1, 1, 1, 1, 1, 1, 1, 1, 1, 1, 1, 1, 1, 1, 1, 1, 1, 1, 1, 1, 1, 1, 1, 1, 1, 1, 1, 0, 1, 1, 1, 1, 1, 1, 1, 1, 1, 1, 1, 1, 1, 1, 1, 1, 1, 1, 1, 1, 1, 1, 1, 1, 1, 1, 1, 1, 1, 1, 1, 1, 1, 1, 1, 1, 1, 1, 1, 1, 1, 0, 1, 1, 1, 1, 1, 1, 1, 1, 1, 1, 1, 1, 1, 1, 1, 1, 1, 1, 1, 1, 1, 1, 1, 1, 1, 1, 0, 1, 0, 1, 1, 1, 1, 1, 1, 1, 1, 1, 1, 1, 1, 1, 1, 1, 1, 1, 1, 1, 1, 1, 1, 1, 1, 1, 1, 1, 1, 1, 1, 1, 1, 1, 1, 1, 1, 1, 1, 1, 1, 1, 1, 1, 1, 1, 1, 1, 1, 1, 1, 1, 1, 1, 1, 1, 1, 1, 1, 1, 1, 1, 0, 1, 1, 1, 1, 1, 1, 1, 1, 1, 1, 1, 1, 1, 1, 1, 1, 1, 1, 1, 1, 1, 1, 1, 1, 1, 1, 0, 1, 1, 1, 1, 1, 1, 1, 1, 1, 1, 1, 1, 1, 1, 1, 1, 1, 1, 1, 1, 1, 1, 1, 1, 1, 1, 1, 1, 1, 1, 1, 1, 1, 1, 1, 1, 1, 1, 1, 1, 1, 1, 1, 1, 1, 1, 1, 1, 1, 1, 1, 1, 1, 1, 1, 1, 1, 1, 1, 1, 1, 1, 1, 1, 1, 1, 1, 1, 1, 1, 1, 1, 1, 1, 1, 1, 1, 1, 1, 1, 1, 1, 1, 1, 1, 1, 1, 1, 1, 1, 1, 1, 1, 1, 1, 1, 1, 1, 1, 1, 1, 1, 1, 1, 1, 1, 1, 1, 1, 1, 1, 1, 1, 1, 1, 1, 1, 1, 1, 1, 1, 1, 1, 1, 1, 1, 1, 1, 1, 1, 1, 1, 1, 1, 1, 1, 1, 1, 1, 1, 1, 1, 1, 1, 1, 1, 1, 1, 1, 1, 1, 1, 1, 1, 1, 1, 1, 1, 1, 1, 1, 1, 1, 1, 1, 1, 1, 1, 1, 1, 1, 1, 1, 1, 1, 1, 1, 1, 1, 1, 1, 1, 1, 1, 1, 1, 1, 1, 1, 1, 1, 1, 1, 1, 1, 1, 1, 1, 1, 1, 1, 1, 1, 1, 1, 1, 1, 1, 1, 1, 1, 1, 1, 1, 1, 1, 1, 1, 1, 1, 1, 1, 1, 1, 1, 1, 1, 1, 1, 1, 1, 1, 1, 1, 1, 1, 1, 1, 1, 1, 1, 1, 1, 1, 1, 1, 1, 1, 1, 1, 1, 1, 1, 1, 1, 1, 1, 1, 1, 1, 1, 1, 1, 1, 1, 1, 1, 1, 1, 1, 1, 1, 1, 1, 1, 1, 1, 1, 1, 1, 1, 1, 1, 1, 1, 1, 0, 1, 1, 1, 1, 1, 1, 1, 1, 1, 1, 1, 1, 1, 1, 1, 1, 1, 1, 1, 1, 1, 1, 1, 1, 1, 1, 1, 1, 1, 1, 1, 1, 1, 1, 1, 1, 1, 1, 1, 1, 1, 1, 1, 1, 1, 1, 1, 1, 1, 1, 1, 1, 1, 1, 1, 1, 1, 1, 0, 1, 1, 1, 1, 1, 1, 1, 1, 1, 1, 1, 1, 1, 1, 1, 0, 1, 1, 1, 1, 1, 1, 0, 1, 1, 1, 1, 1, 1, 1, 1, 1, 1, 1, 1, 1, 1, 1, 1, 1, 1, 1, 1, 1, 1, 1, 1, 1, 1, 1, 1, 1, 1, 1, 1, 1, 1, 1, 1, 1, 1, 1, 1, 1, 1, 1, 1, 1, 1, 1, 1, 1, 1, 0, 1, 1, 1, 1, 1, 1, 1, 1, 1, 1, 1, 1, 1, 1, 1, 1, 1, 1, 1, 1, 1, 1, 1, 1, 1, 1, 1, 1, 1, 1, 1, 1, 1, 1, 1, 1, 1, 1, 1, 1, 1, 1, 1, 1, 1, 1, 1, 1, 1, 0, 1, 1, 1, 1, 1, 1, 1, 1, 1, 1, 1, 1, 1, 1, 1, 1, 1, 1, 1, 1, 1, 1, 1, 1, 1, 1, 1, 1, 1, 1, 1, 1, 1, 1, 1, 1, 1, 1, 1, 1, 1, 1, 1, 1, 1, 0, 1, 1, 1, 1, 1, 1, 1, 1, 1, 1, 1, 1, 1, 1, 1, 1, 1, 1, 1, 1, 1, 1, 1, 1, 1, 1, 1, 1, 0, 1, 1, 1, 1, 1, 1, 1, 1, 1, 1, 1, 1, 1, 1, 1, 1, 1, 1, 1, 1, 1, 1, 1, 1, 1, 1, 1, 1, 1, 1, 1, 1, 1, 1, 1, 1, 1, 1, 1, 0, 1, 1, 1, 1, 1, 1, 1, 1, 1, 1, 1, 1, 1, 1, 1, 1, 1, 1, 1, 1, 1, 1, 1, 1, 1, 1, 1, 1, 1, 1, 1, 1, 1, 1, 1, 1, 1, 1, 1, 1, 1, 1, 1, 1, 1, 1, 1, 1, 1, 1, 1, 1, 1, 1, 1, 1, 1, 1, 1, 1, 0, 1, 1, 1, 1, 1, 1, 1, 1, 1, 1, 1, 1, 1, 1, 1, 1, 1, 1, 1, 1, 1, 1, 1, 1, 1, 1, 1, 1, 0, 0, 1, 1, 0, 0, 0, 0, 1, 1, 1, 1, 1, 1, 0, 1, 0, 1, 1, 1, 0, 1, 1, 1, 1, 1, 0, 0, 0, 0, 0, 0, 0, 0, 0, 0, 0, 1, 0, 1, 1, 1, 1, 1, 0, 1, 1, 1, 1, 1, 1, 1, 1, 1, 1, 1, 1, 1, 1, 1, 1, 1, 1, 1, 1, 1, 1, 0, 1, 1, 1, 1, 1, 1, 1, 1, 1, 1, 1, 1, 1, 1, 1, 1, 1, 1, 1, 1, 1, 1, 1, 1, 1, 1, 1, 1, 1, 1, 1, 1, 1, 1, 1, 1, 1, 1, 1, 1, 1, 1, 1, 1, 1, 1, 1, 1, 1, 1, 1, 1, 1, 1, 1, 1, 1, 1, 1, 1, 1, 1, 1, 1, 1, 0, 1, 1, 1, 1, 1, 1, 1, 1, 1, 1, 1, 1, 1, 1, 1, 1, 1, 1, 1, 1, 1, 1, 1, 1, 1, 1, 1, 1, 1, 1, 1, 1, 1, 1, 1, 1, 1, 1, 1, 1, 1, 1, 1, 1, 1, 1, 1, 1, 1, 0, 1, 1, 1, 1, 1, 0, 1, 1, 1, 1, 1, 1, 1, 1, 1, 1, 1, 1, 1, 1, 1, 1, 1, 1, 1, 1, 1, 1, 1, 1, 1, 1, 1, 1, 1, 0, 1, 1, 1, 1, 1, 1, 1, 1, 1, 1, 1, 1, 1, 1, 1, 1, 1, 1, 1, 1, 1, 1, 1, 1, 1, 1, 1, 1, 1, 1, 1, 1, 1, 1, 1, 1, 1, 1, 1, 1, 1, 1, 1, 1, 1, 1, 1, 1, 1, 1, 1, 1, 1, 1, 1, 0, 1, 1, 1, 1, 1, 1, 1, 1, 1, 1, 1, 1, 1, 1, 1, 1, 1, 1, 1, 1, 1, 1, 1, 1, 1, 1, 1, 1, 1, 1, 1, 1, 1, 1, 1, 1, 1, 1, 1, 1, 1, 1, 1, 1, 1, 1, 1, 1, 1, 1, 1, 1, 1, 1, 1, 1, 1, 1, 1, 1, 1, 1, 1, 1, 1, 1, 1, 1, 1, 1, 1, 1, 1, 1, 1, 1, 1, 1, 1, 1, 1, 1, 1, 1, 1, 1, 1, 1, 0, 1, 0, 1, 1, 1, 1, 0, 1, 1, 1, 1, 1, 1, 1, 1, 1, 0, 1, 1, 1, 1, 1, 0, 0, 0, 0, 1, 1, 1, 1, 1, 1, 1, 1, 1, 1, 1, 1, 1, 1, 1, 1, 1, 1, 1, 1, 1, 0, 1, 1, 1, 0, 1, 0, 1, 0, 1, 1, 1, 1, 1, 1, 1, 0, 1, 1, 0, 1, 1, 1, 1, 0, 0, 1, 1, 0, 1, 1, 1, 0, 1, 1, 0, 1, 0, 0, 1, 0, 0, 0, 0, 0, 0, 1, 1, 0, 0, 1, 1, 1, 1, 1, 0, 0, 0, 1, 1, 0, 0, 1, 0, 0, 1, 1, 1, 0, 1, 1, 0, 1, 1, 1, 1, 1, 1, 1, 1, 1, 1, 1, 0, 1, 0, 0, 0, 0, 0, 0, 0, 0, 0, 0, 0, 0, 0, 0, 0, 0, 1, 0, 1, 0, 0, 0, 0, 0, 0, 1, 0, 0, 0, 1, 0, 0, 1, 0, 0, 0, 1, 1, 0, 0, 0, 0, 1, 0, 0, 0, 0, 0, 0, 1, 0, 1, 1, 1, 0, 0, 0, 1, 1, 0, 0, 0, 0, 0, 0, 0, 0, 1, 0, 0, 1, 1, 0, 1, 0, 0, 0, 0, 1, 0, 0, 1, 0, 0, 1, 1, 1, 1, 0, 1, 1, 0, 0, 1, 1, 0, 1, 1, 1, 1, 1, 1, 0, 0, 1, 1, 1, 1, 1, 1, 1, 1, 0, 1, 1, 1, 1, 0, 1, 1, 1, 0, 1, 0, 1, 1, 1, 1, 1, 1, 1, 1, 1, 0, 1, 0, 1, 1, 1, 0, 0, 0, 0, 0, 1, 0, 0, 1, 1, 1, 1, 0, 0, 0, 0, 0, 0, 0, 1, 0, 0, 1, 0, 1, 0, 1, 0, 1, 1, 1, 1, 1, 1, 1, 1, 1, 1, 1, 0, 1, 1, 0, 1, 0, 1, 1, 1, 1, 1, 1, 1, 1, 0, 0, 1, 1, 1, 1, 1, 0, 1, 1, 0, 1, 1, 1, 0, 1, 1, 0, 0, 1, 1, 0, 1, 1, 1, 1, 1, 1, 1, 1, 1, 0, 1, 1, 1, 0, 0, 0, 0, 1, 0, 0, 1, 0, 1, 1, 1, 0, 1, 1, 1, 0, 0, 1, 1, 1, 1, 0, 0, 1, 1, 0, 0, 1, 0, 1, 1, 1, 1, 1, 1, 1, 1, 1, 1, 1, 1, 0, 1, 1, 0, 1, 1, 1, 0, 1, 1, 1, 0, 1, 1, 0, 1, 1, 1, 1, 0, 0, 0, 1, 0, 1, 0, 0, 0, 1, 1, 1, 0, 1, 1, 1, 1, 1, 1, 1, 1, 1, 1, 1, 1, 0, 1, 1, 0, 0, 0, 0, 1, 0, 0, 0, 1, 0, 0, 0, 0, 1, 1, 1, 0, 0, 0, 1, 1, 1, 1, 1, 1, 0, 1, 1, 1, 1, 1, 0, 0, 1, 1, 1, 1, 1, 1, 1, 1, 0, 1, 1, 0, 1, 1, 1, 0, 1, 0, 1, 0, 0, 1, 1, 1, 1, 1, 0, 0, 0, 1, 0, 1, 0, 1, 1, 1, 1, 1, 1, 1, 0, 0, 0, 0, 1, 0, 0, 0, 0, 0, 1, 0, 1, 1, 0, 0, 1, 1, 1, 1, 1, 1, 1, 1, 1, 1, 1, 0, 0, 1, 0, 0, 1, 1, 0, 1, 0, 1, 1, 0, 1, 1, 0, 0, 0, 1, 0, 0, 0, 0, 0, 1, 0, 0, 1, 0, 0, 0, 0, 0, 1, 1, 1, 1, 1, 1, 0, 0, 0, 1, 1, 1, 0, 1, 1, 0, 0, 1, 0, 1, 1, 1, 1, 1, 1, 1, 1, 1, 1, 1, 1, 0, 1, 1, 1, 1, 1, 1, 0, 1, 0, 0, 1, 1, 1, 1, 1, 0, 1, 0, 0, 1, 0, 0, 1, 1, 0, 0, 1, 0, 1, 1, 1, 0, 1, 0, 1, 1, 0, 1, 1, 1, 1, 1, 1, 1, 0, 1, 1, 1, 1, 0, 1, 1, 1, 1, 1, 1, 1, 0, 1, 0, 1, 1, 0, 1, 1, 1, 0, 0, 0, 1, 0, 1, 0, 1, 1, 1, 1, 0, 1, 0, 1, 1, 1, 1, 1, 0, 0, 1, 1, 1, 1, 0, 1, 1, 1, 1, 0, 1, 0, 0, 1, 1, 0, 1, 1, 1, 1, 1, 1, 0, 0, 0, 1, 1, 1, 1, 1, 1, 0, 1, 1, 0, 0, 0, 1, 0, 1, 1, 1, 1, 1, 1, 1, 1, 1, 1, 0, 1, 1, 0, 0, 0, 1, 1, 1, 0, 1, 0, 0, 1, 1, 1, 1, 1, 0, 1, 0, 0, 0, 1, 0, 0, 1, 0, 0, 0, 0, 0, 1, 0, 0, 1, 1, 0, 0, 0, 0, 1, 0, 1, 1, 0, 1, 1, 1, 1, 1, 1, 1, 1, 1, 1, 1, 0, 0, 1, 0, 1, 1, 0, 0, 0, 1, 0, 0, 0, 0, 1, 1, 1, 1, 1, 0, 0, 0, 0, 1, 1, 1, 0, 1, 1, 0, 1, 1, 0, 0, 1, 0, 1, 1, 1, 1, 1, 1, 1, 1, 1, 0, 0, 1, 1, 0, 0, 0, 0, 0, 0, 0, 0, 0, 0, 0, 1, 1, 0, 0, 1, 0, 0, 0, 1, 0, 1, 0, 1, 0, 0, 1, 0, 0, 0, 0, 0, 0, 1, 1, 1, 1, 1, 1, 1, 1, 0, 1, 1, 1, 1, 1, 1, 1, 1, 1, 1, 1, 1, 1, 0, 1, 1, 1, 1, 0, 1, 1, 1, 1, 1, 0, 0, 1, 1, 0, 0, 0, 0, 1, 1, 1, 1, 1, 1, 1, 1, 1, 1, 1, 0, 0, 0, 0, 0, 1, 1, 0, 0, 0, 0, 0, 1, 0, 0, 0, 0, 0, 0, 0, 0, 0, 0, 0, 0, 0, 0, 0, 0, 0, 0, 0, 0, 0, 0, 0, 1, 1, 1, 1, 1, 1, 1, 1, 1]), (0.8302222490310669, [1, 1, 1, 1, 1, 1, 1, 1, 1, 1, 1, 1, 1, 0, 1, 1, 1, 1, 1, 1, 1, 1, 1, 1, 1, 1, 1, 1, 1, 1, 1, 1, 1, 1, 1, 1, 1, 1, 1, 1, 1, 1, 1, 1, 1, 1, 1, 1, 1, 1, 1, 0, 1, 1, 1, 1, 1, 1, 1, 0, 1, 1, 1, 1, 1, 1, 1, 0, 1, 1, 1, 1, 1, 1, 1, 1, 1, 1, 1, 1, 1, 1, 1, 1, 1, 1, 1, 1, 1, 1, 0, 1, 1, 1, 1, 0, 1, 1, 1, 1, 1, 1, 1, 1, 1, 1, 1, 1, 1, 1, 1, 1, 0, 1, 1, 1, 1, 1, 1, 0, 1, 1, 0, 0, 1, 1, 1, 1, 1, 1, 1, 1, 0, 0, 0, 1, 1, 1, 1, 1, 1, 1, 1, 1, 1, 1, 1, 1, 1, 1, 0, 1, 0, 1, 1, 0, 1, 1, 1, 1, 1, 1, 1, 1, 1, 1, 1, 0, 1, 0, 1, 0, 1, 0, 1, 1, 1, 1, 1, 1, 1, 1, 1, 1, 0, 1, 1, 1, 0, 1, 1, 1, 1, 0, 1, 1, 0, 1, 1, 1, 1, 1, 1, 1, 1, 1, 1, 1, 1, 1, 1, 1, 1, 1, 1, 1, 1, 1, 1, 1, 1, 1, 1, 1, 1, 1, 1, 1, 1, 1, 1, 1, 1, 0, 1, 1, 1, 1, 1, 1, 1, 1, 1, 1, 0, 1, 1, 1, 1, 1, 1, 1, 1, 1, 1, 1, 1, 1, 1, 1, 0, 0, 1, 1, 1, 1, 1, 1, 1, 0, 1, 1, 1, 1, 1, 1, 1, 1, 1, 1, 1, 1, 1, 1, 1, 1, 1, 1, 1, 1, 1, 1, 1, 1, 1, 1, 1, 1, 1, 1, 1, 1, 1, 1, 1, 1, 1, 1, 1, 1, 1, 1, 1, 1, 1, 1, 1, 1, 1, 1, 1, 1, 1, 1, 0, 1, 1, 1, 1, 1, 1, 1, 1, 1, 1, 0, 1, 1, 1, 1, 1, 1, 1, 1, 1, 1, 1, 1, 1, 1, 1, 1, 1, 1, 1, 1, 1, 1, 1, 1, 1, 1, 1, 1, 1, 1, 0, 1, 1, 1, 1, 0, 1, 1, 0, 1, 1, 1, 1, 0, 0, 1, 1, 1, 1, 0, 1, 1, 1, 1, 1, 1, 1, 1, 1, 1, 1, 1, 1, 1, 1, 1, 1, 1, 1, 1, 0, 1, 1, 1, 1, 1, 1, 1, 1, 1, 0, 1, 1, 1, 1, 1, 1, 1, 1, 1, 1, 1, 1, 0, 1, 1, 1, 1, 0, 1, 0, 1, 1, 0, 1, 1, 1, 1, 1, 1, 1, 1, 1, 1, 1, 1, 1, 1, 1, 1, 1, 1, 1, 1, 1, 1, 1, 1, 1, 1, 1, 0, 1, 1, 1, 1, 0, 1, 1, 1, 1, 1, 1, 1, 1, 1, 1, 0, 1, 1, 1, 1, 1, 1, 1, 1, 1, 1, 1, 1, 1, 1, 1, 0, 1, 1, 1, 1, 1, 1, 1, 1, 1, 1, 1, 1, 0, 1, 1, 1, 1, 1, 1, 1, 1, 1, 1, 1, 1, 1, 1, 1, 1, 1, 1, 1, 1, 1, 1, 1, 1, 1, 1, 1, 1, 1, 1, 1, 1, 1, 1, 1, 1, 1, 1, 1, 1, 1, 1, 1, 0, 1, 1, 1, 1, 1, 1, 1, 1, 1, 1, 1, 1, 1, 1, 1, 1, 1, 1, 1, 1, 1, 1, 1, 1, 1, 1, 1, 1, 1, 1, 1, 1, 1, 1, 1, 1, 1, 1, 1, 1, 1, 1, 1, 1, 1, 1, 1, 1, 1, 1, 1, 1, 1, 1, 1, 1, 1, 1, 1, 1, 1, 1, 1, 1, 0, 1, 1, 1, 1, 1, 1, 1, 1, 1, 1, 1, 1, 1, 1, 1, 1, 1, 1, 1, 1, 1, 1, 1, 1, 1, 1, 1, 1, 1, 1, 1, 1, 1, 1, 1, 1, 1, 1, 1, 0, 1, 1, 1, 1, 0, 1, 1, 1, 1, 1, 1, 1, 1, 1, 1, 1, 1, 1, 1, 1, 0, 1, 1, 0, 1, 0, 1, 1, 1, 1, 1, 1, 1, 1, 0, 0, 0, 1, 0, 0, 1, 1, 1, 1, 1, 0, 1, 1, 1, 1, 0, 1, 0, 1, 1, 1, 1, 1, 1, 1, 1, 1, 1, 1, 1, 1, 1, 1, 1, 1, 1, 1, 1, 1, 1, 1, 1, 1, 1, 1, 1, 1, 1, 1, 1, 1, 1, 1, 1, 1, 1, 1, 1, 1, 1, 1, 1, 1, 1, 1, 1, 1, 1, 1, 1, 0, 1, 1, 1, 1, 1, 1, 1, 1, 1, 0, 1, 1, 1, 1, 0, 1, 1, 1, 0, 1, 1, 1, 1, 0, 1, 1, 1, 0, 1, 1, 1, 1, 1, 1, 1, 1, 1, 1, 1, 1, 1, 1, 1, 0, 1, 1, 1, 1, 1, 1, 1, 1, 1, 1, 1, 1, 0, 1, 1, 1, 1, 1, 1, 1, 1, 1, 1, 1, 1, 1, 1, 1, 1, 1, 1, 1, 1, 1, 1, 1, 0, 1, 1, 1, 1, 1, 1, 1, 1, 1, 0, 1, 1, 1, 1, 1, 1, 1, 1, 1, 1, 1, 1, 1, 1, 1, 1, 1, 1, 1, 1, 1, 1, 1, 1, 1, 1, 1, 0, 0, 1, 1, 1, 1, 1, 1, 1, 1, 1, 1, 1, 1, 1, 1, 1, 1, 1, 1, 0, 1, 1, 1, 1, 1, 1, 1, 1, 1, 1, 1, 1, 1, 1, 0, 1, 0, 1, 0, 1, 1, 1, 1, 1, 1, 1, 1, 1, 1, 1, 1, 1, 1, 1, 1, 1, 1, 1, 1, 1, 1, 1, 1, 1, 1, 1, 1, 0, 1, 1, 0, 0, 1, 1, 1, 0, 1, 1, 1, 0, 1, 1, 1, 1, 1, 1, 1, 1, 1, 1, 1, 1, 1, 1, 1, 1, 1, 1, 1, 1, 1, 1, 1, 1, 0, 1, 1, 1, 1, 1, 1, 1, 1, 1, 1, 1, 1, 0, 0, 1, 0, 1, 1, 1, 1, 1, 1, 1, 1, 1, 1, 1, 1, 1, 1, 1, 1, 1, 1, 1, 1, 1, 1, 1, 1, 1, 1, 1, 1, 1, 1, 0, 1, 1, 1, 0, 1, 1, 0, 1, 0, 0, 1, 0, 1, 1, 1, 0, 1, 1, 1, 1, 1, 0, 1, 0, 1, 1, 0, 0, 1, 1, 1, 1, 1, 1, 1, 1, 1, 1, 1, 1, 1, 1, 1, 1, 1, 1, 1, 1, 1, 1, 1, 1, 0, 1, 1, 1, 1, 1, 1, 1, 1, 1, 1, 1, 0, 1, 1, 1, 1, 1, 1, 1, 1, 1, 1, 1, 0, 1, 1, 1, 1, 0, 1, 1, 1, 1, 1, 1, 1, 0, 1, 0, 0, 1, 0, 1, 1, 1, 1, 1, 1, 1, 1, 0, 1, 1, 1, 1, 1, 1, 1, 1, 1, 1, 1, 1, 1, 1, 1, 1, 1, 0, 1, 1, 1, 1, 1, 1, 1, 1, 1, 1, 1, 1, 1, 1, 1, 1, 1, 1, 0, 1, 1, 1, 1, 1, 1, 1, 1, 1, 1, 0, 1, 0, 0, 1, 1, 1, 0, 0, 1, 1, 1, 1, 1, 1, 1, 1, 1, 1, 1, 1, 1, 1, 1, 1, 1, 1, 1, 1, 1, 1, 1, 1, 1, 1, 1, 1, 1, 1, 1, 1, 1, 1, 1, 1, 1, 1, 1, 1, 1, 1, 0, 1, 1, 1, 1, 1, 1, 1, 1, 1, 1, 1, 1, 1, 1, 1, 1, 1, 1, 0, 0, 0, 0, 0, 0, 0, 1, 0, 0, 0, 0, 0, 0, 0, 0, 0, 0, 0, 0, 0, 0, 0, 0, 1, 0, 0, 1, 0, 0, 0, 1, 0, 0, 0, 1, 0, 0, 0, 1, 0, 0, 0, 0, 0, 0, 0, 0, 0, 0, 0, 0, 0, 0, 0, 0, 0, 0, 0, 0, 0, 0, 0, 0, 0, 0, 0, 0, 0, 0, 0, 0, 0, 0, 0, 0, 0, 0, 0, 0, 0, 0, 1, 0, 1, 0, 0, 0, 0, 0, 0, 0, 0, 0, 0, 1, 1, 0, 0, 0, 0, 0, 0, 0, 0, 1, 1, 0, 0, 0, 0, 1, 0, 0, 0, 0, 0, 0, 0, 0, 0, 0, 0, 0, 0, 0, 0, 0, 0, 0, 0, 1, 0, 1, 1, 1, 0, 0, 0, 0, 0, 0, 0, 0, 1, 0, 1, 0, 0, 0, 0, 0, 0, 0, 0, 0, 0, 0, 0, 0, 0, 0, 0, 0, 0, 0, 0, 0, 0, 0, 1, 1, 1, 0, 0, 0, 1, 1, 1, 1, 0, 0, 0, 0, 1, 1, 0, 0, 0, 0, 1, 0, 0, 0, 0, 0, 0, 0, 0, 0, 0, 0, 0, 0, 0, 1, 0, 0, 0, 0, 0, 0, 0, 0, 1, 0, 0, 0, 0, 0, 1, 1, 1, 1, 1, 0, 0, 0, 0, 0, 0, 0, 0, 1, 0, 0, 0, 0, 0, 0, 0, 0, 0, 1, 0, 1, 0, 0, 1, 1, 0, 0, 0, 1, 1, 1, 1, 1, 0, 0, 0, 0, 0, 1, 1, 1, 1, 1, 1, 1, 0, 1, 0, 0, 0, 0, 0, 1, 0, 0, 0, 0, 1, 0, 0, 0, 0, 0, 0, 1, 0, 0, 0, 0, 0, 0, 0, 0, 0, 0, 0, 0, 0, 0, 0, 0, 1, 1, 1, 0, 1, 0, 0, 1, 1, 0, 0, 0, 0, 0, 0, 0, 0, 0, 0, 0, 0, 0, 0, 0, 0, 0, 0, 0, 0, 0, 0, 0, 0, 0, 0, 1, 0, 0, 0, 0, 0, 0, 0, 1, 1, 1, 1, 1, 1, 1, 1, 1, 1, 1, 0, 0, 0, 0, 0, 0, 0, 0, 0, 0, 0, 0, 1, 0, 0, 0, 0, 0, 0, 0, 0, 0, 0, 0, 1, 0, 1, 0, 0, 1, 1, 1, 0, 0, 1, 0, 1, 0, 0, 1, 0, 1, 1, 1, 1, 0, 0, 0, 0, 0, 0, 0, 0, 0, 0, 0, 0, 0, 0, 0, 0, 0, 0, 0, 0, 1, 1, 1, 0, 0, 0, 0, 1, 0, 0, 1, 1, 0, 0, 1, 1, 1, 1, 1, 1, 1, 1, 1, 1, 1, 0, 0, 0, 0, 0, 0, 0, 0, 0, 0, 0, 0, 0, 0, 0, 0, 1, 0, 0, 0, 0, 0, 0, 0, 0, 0, 0, 0, 0, 1, 0, 0, 0, 0, 0, 0, 1, 1, 0, 0, 1, 1, 1, 1, 1, 0, 0, 0, 1, 0, 1, 1, 0, 0, 0, 0, 0, 0, 0, 0, 0, 0, 0, 0, 0, 0, 0, 0, 1, 0, 0, 0, 0, 0, 1, 0, 0, 1, 0, 0, 0, 0, 0, 0, 0, 0, 1, 1, 1, 0, 0, 0, 0, 0, 1, 0, 0, 0, 0, 0, 0, 0, 0, 0, 0, 0, 0, 0, 0, 0, 0, 0, 0, 0, 0, 0, 0, 1, 1, 0, 1, 1, 1, 1, 0, 0, 0, 0, 0, 0, 1, 0, 0, 0, 1, 1, 0, 0, 0, 0, 0, 0, 0, 0, 0, 0, 0, 0, 0, 0, 1, 1, 1, 1, 0, 0, 0, 0, 0, 1, 1, 1, 1, 1, 0, 1, 1, 0, 0, 1, 1, 1, 1, 1, 1, 1, 1, 1, 1, 1, 0, 0, 0, 0, 0, 1, 0, 0, 0, 1, 0, 0, 0, 0, 0, 0, 0, 0, 0, 0, 0, 0, 0, 0, 1, 0, 0, 0, 1, 1, 0, 0, 0, 0, 0, 0, 0, 0, 1, 0, 0, 0, 1, 1, 1, 0, 0, 1, 1, 1, 0, 0, 0, 0, 1, 0, 0, 0, 0, 0, 0, 0, 0, 0, 0, 0, 0, 0, 0, 0, 0, 0, 0, 0, 1, 0, 1, 1, 1, 1, 1, 0, 1, 1, 1, 1, 1, 1, 1, 1, 0, 0, 0, 0, 0, 1, 1, 1, 1, 1, 0, 0, 0, 1, 1, 0, 0, 0, 0, 0, 0, 0, 0, 0, 1, 0, 0, 1, 0, 0, 0, 0, 0, 0, 1, 0, 1, 0, 0, 1, 1, 1, 1, 1, 1, 0, 0, 0, 0, 0, 0, 0, 0, 0, 0, 0, 0, 0, 0, 0, 0, 0, 0, 0, 1, 1, 1, 0, 0, 0, 0, 0, 0, 0, 0, 1, 0, 0, 1, 1, 1, 0, 0, 0, 1, 1, 1, 1, 1, 1, 0, 0, 0, 0, 0, 1, 0, 0, 1, 0, 1, 0, 0, 1, 0, 0, 1, 1, 0, 1, 1, 0, 1, 1, 1, 0, 0, 1, 1, 0, 1, 0, 1, 1, 0, 0, 0, 0, 0, 1, 0, 0, 1, 1, 1, 0, 0, 0, 0, 0, 0, 0, 0, 0, 0, 0, 1, 1, 1, 0, 0, 0, 0, 1, 0, 0, 0, 0, 0, 0, 0, 0, 0, 0, 1, 0, 0, 0, 0, 0, 0, 0, 0, 0, 0, 0, 0, 0, 0, 0, 1, 0, 0, 1, 0, 0, 0, 0, 0, 0, 0, 1, 0, 0, 0, 0, 0, 0, 0, 0, 0, 0, 0, 0, 0, 0, 0, 1, 0, 0, 0, 0, 0, 0, 0, 1, 0, 1, 1, 1, 1, 1, 1, 1, 1, 0, 0, 0, 0, 0, 0, 0, 0, 0, 0, 0, 1, 0, 1, 0, 0, 0, 0, 1, 0, 0, 1, 0, 0, 0, 0, 0, 1, 0, 1, 0, 0, 0, 0, 1, 0, 1, 1, 1, 1, 1, 1, 1, 1, 1])]\n"
          ],
          "name": "stdout"
        }
      ]
    },
    {
      "cell_type": "code",
      "metadata": {
        "id": "GaOzVmX0Y563",
        "colab_type": "code",
        "colab": {}
      },
      "source": [
        "np.savez('/content/drive/My Drive/Dementia_Audio/Audio_Dementia/2second_disjoint.npz',result=scores)\n"
      ],
      "execution_count": null,
      "outputs": []
    },
    {
      "cell_type": "code",
      "metadata": {
        "id": "V4ggM2M4gbnc",
        "colab_type": "code",
        "colab": {}
      },
      "source": [
        "W=np.load('/content/drive/My Drive/Dementia_Audio/Audio_Dementia/3second_disjoint.npz', allow_pickle=True)\n",
        "scores=W['result']"
      ],
      "execution_count": null,
      "outputs": []
    },
    {
      "cell_type": "code",
      "metadata": {
        "id": "L-ePCLGZF1q7",
        "colab_type": "code",
        "colab": {}
      },
      "source": [
        "from sklearn.model_selection import StratifiedKFold\n",
        "kFold = StratifiedKFold(n_splits=11)\n",
        "TEST=[]\n",
        "for train, test in kFold.split(X, y):\n",
        "  print(len(y[test]),np.count_nonzero(y[test]))\n",
        "  TEST.append(y[test])\n"
      ],
      "execution_count": null,
      "outputs": []
    },
    {
      "cell_type": "code",
      "metadata": {
        "id": "HCnYyR-uQJTz",
        "colab_type": "code",
        "colab": {}
      },
      "source": [
        "#Frame Accuracy\n",
        "F=[]\n",
        "for i in range(11):\n",
        "  F.append(scores[i][0])\n",
        "  print(scores[i][0])"
      ],
      "execution_count": null,
      "outputs": []
    },
    {
      "cell_type": "code",
      "metadata": {
        "id": "ltzE19lWz5JW",
        "colab_type": "code",
        "colab": {}
      },
      "source": [
        "np.mean(F)"
      ],
      "execution_count": null,
      "outputs": []
    },
    {
      "cell_type": "code",
      "metadata": {
        "id": "uAo2xh6qqiGL",
        "colab_type": "code",
        "colab": {}
      },
      "source": [
        "k=9\n",
        "sec=2\n",
        "d=int(90/sec)\n",
        "p=[]\n",
        "for i in range(11):\n",
        "  pp=[]\n",
        "  for j in range(int(len(scores[i][1])/d)):\n",
        "    if np.mean(scores[i][1][j*d:(j+1)*d])>=(0.1*k):\n",
        "      ppp=1\n",
        "    else:\n",
        "      ppp=0\n",
        "    pp.append(ppp)\n",
        "  p.append(pp)\n",
        "\n",
        "from sklearn.metrics import accuracy_score\n",
        "acc9=[]\n",
        "for i in range(11):\n",
        "  acc9.append(accuracy_score(TEST[i], p[i]))"
      ],
      "execution_count": null,
      "outputs": []
    },
    {
      "cell_type": "code",
      "metadata": {
        "id": "pZAoif0K5fJx",
        "colab_type": "code",
        "colab": {}
      },
      "source": [
        "dataset = pd.DataFrame({'Total': F,'T=0.1': acc1, 'T=0.2': acc2, 'T=0.3': acc3, 'T=0.4': acc4, 'T=0.5': acc5, 'T=0.6': acc6, 'T=0.7': acc7, 'T=0.8': acc8, 'T=0.9': acc9})"
      ],
      "execution_count": null,
      "outputs": []
    },
    {
      "cell_type": "code",
      "metadata": {
        "id": "smVE44kg70zi",
        "colab_type": "code",
        "colab": {}
      },
      "source": [
        "dataset.to_csv('/content/drive/My Drive/Dementia_Audio/Audio_Dementia/2second_disjoint.csv')"
      ],
      "execution_count": null,
      "outputs": []
    },
    {
      "cell_type": "code",
      "metadata": {
        "id": "Q2QQv1_F_H09",
        "colab_type": "code",
        "colab": {
          "base_uri": "https://localhost:8080/",
          "height": 34
        },
        "outputId": "fab9a464-7672-4c7d-8923-3597a9742eae"
      },
      "source": [
        "#####K-fold Cross Validation#####\n",
        "from sklearn.model_selection import StratifiedKFold\n",
        "TEST_SPLIT=0.1\n",
        "\n",
        "#X_train, X_test, y_train, y_test= train_test_split(X, y, test_size=TEST_SPLIT, random_state=0, stratify=y)\n",
        "\n",
        "kFold = StratifiedKFold(n_splits=11)\n",
        "scores = []\n",
        "idx = 0\n",
        "for train, test in kFold.split(X, y):\n",
        "  idx = idx+1\n",
        "  print(\"fold:\", idx)\n",
        "  X_trr=X[train]\n",
        "  y_tr=np.repeat(y[train], 119)\n",
        "  X_tr=[]\n",
        "  for audio in X_trr:\n",
        "    audio_chunks=list(split_overlap(audio,16000,8000))\n",
        "    for chunk in audio_chunks[:119]:\n",
        "        X_tr.append(np.array(chunk))\n",
        "  X_te=X[test]\n",
        "  y_test=np.repeat(y[test], 119)\n",
        "  X_test=[]\n",
        "  for audio in X_te:\n",
        "    audio_chunks=list(split_overlap(audio,16000,8000))\n",
        "    for chunk in audio_chunks[:119]:\n",
        "        X_test.append(np.array(chunk))\n",
        "  #X_tr=np.array(X_tr).reshape(len(X_tr),1)\n",
        "  #X_test=np.array(X_test).reshape(len(X_test),1)\n",
        "  X_train, X_val, y_train, y_val= train_test_split(X_tr, y_tr, test_size=TEST_SPLIT, random_state=0, stratify=y_tr)\n",
        "  y_train=to_categorical(y_train, num_classes=2)\n",
        "  y_val=to_categorical(y_val, num_classes=2)\n",
        "  y_test=to_categorical(y_test, num_classes=2)\n",
        "\n",
        "  R=han_model.train_model(checkpoint_path, np.array(X_train), np.array(y_train), np.array(X_val), np.array(y_val), np.array(X_test), np.array(y_test), epochs=10,batch_size=32)\n",
        "  scores.append(R)\n",
        "print(scores)\n",
        "#print(scores.mean())"
      ],
      "execution_count": null,
      "outputs": [
        {
          "output_type": "stream",
          "text": [
            "fold: 1\n"
          ],
          "name": "stdout"
        }
      ]
    },
    {
      "cell_type": "code",
      "metadata": {
        "id": "wTJdBNnHYxZU",
        "colab_type": "code",
        "colab": {}
      },
      "source": [
        "RR=np.array(scores)\n",
        "sss=pd.DataFrame(RR)\n",
        "ssss=sss.to_csv('/content/BEST_Vggish_3stage_5sec_12_length_120_Train on 219 samples, validate on 25 samples_batchsize_20.csv')"
      ],
      "execution_count": null,
      "outputs": []
    },
    {
      "cell_type": "code",
      "metadata": {
        "id": "BgpU3diV6vWh",
        "colab_type": "code",
        "colab": {
          "base_uri": "https://localhost:8080/",
          "height": 187
        },
        "outputId": "d2afc938-1f39-486d-8fe3-0cf4a9597831"
      },
      "source": [
        "scores\n",
        "#one stage whole data no attention"
      ],
      "execution_count": null,
      "outputs": [
        {
          "output_type": "execute_result",
          "data": {
            "text/plain": [
              "[[0.7161642462015152, 0.5535714360220092],\n",
              " [0.6899943511400904, 0.6250000085149493],\n",
              " [0.544226735830307, 0.6909090930765326],\n",
              " [0.5713294256817211, 0.763636361468922],\n",
              " [0.5181488205086101, 0.7636363668875261],\n",
              " [0.3657110333442688, 0.8000000065023248],\n",
              " [0.22319660877639597, 0.9454545432871039],\n",
              " [0.19283794205297122, 0.9454545324498956],\n",
              " [0.22054146060889418, 0.9636363603852012],\n",
              " [0.14177803254940294, 0.9454545432871039]]"
            ]
          },
          "metadata": {
            "tags": []
          },
          "execution_count": 12
        }
      ]
    },
    {
      "cell_type": "code",
      "metadata": {
        "id": "ntW9ol4Y62YK",
        "colab_type": "code",
        "colab": {
          "base_uri": "https://localhost:8080/",
          "height": 34
        },
        "outputId": "8102fa5f-9287-484f-f58b-b51f26a4b255"
      },
      "source": [
        "mean"
      ],
      "execution_count": null,
      "outputs": [
        {
          "output_type": "execute_result",
          "data": {
            "text/plain": [
              "0.7996753251881569"
            ]
          },
          "metadata": {
            "tags": []
          },
          "execution_count": 14
        }
      ]
    },
    {
      "cell_type": "code",
      "metadata": {
        "id": "BUPWKd6w7R3p",
        "colab_type": "code",
        "colab": {
          "base_uri": "https://localhost:8080/",
          "height": 187
        },
        "outputId": "9668c792-bab9-41a4-f160-21481566d4d8"
      },
      "source": [
        "scores\n",
        "#one stage balanced data 99-99"
      ],
      "execution_count": null,
      "outputs": [
        {
          "output_type": "execute_result",
          "data": {
            "text/plain": [
              "[[0.7055569589138031, 0.5999999940395355],\n",
              " [0.5687799975275993, 0.75],\n",
              " [0.3192557618021965, 0.8999999761581421],\n",
              " [0.5573161244392395, 0.7999999821186066],\n",
              " [0.10721722524613142, 0.949999988079071],\n",
              " [0.33060857537202537, 0.949999988079071],\n",
              " [0.013233869569376111, 1.0],\n",
              " [0.49167499179020524, 0.9000000059604645],\n",
              " [0.16151458730823115, 0.9473684241897181],\n",
              " [0.0283720049713003, 1.0]]"
            ]
          },
          "metadata": {
            "tags": []
          },
          "execution_count": 14
        }
      ]
    },
    {
      "cell_type": "code",
      "metadata": {
        "id": "qOHgbFdY7X8_",
        "colab_type": "code",
        "colab": {
          "base_uri": "https://localhost:8080/",
          "height": 34
        },
        "outputId": "3a408807-5b0b-4264-d4fe-8befa196627c"
      },
      "source": [
        "mean"
      ],
      "execution_count": null,
      "outputs": [
        {
          "output_type": "execute_result",
          "data": {
            "text/plain": [
              "0.879736835862461"
            ]
          },
          "metadata": {
            "tags": []
          },
          "execution_count": 16
        }
      ]
    },
    {
      "cell_type": "code",
      "metadata": {
        "id": "auEPpxTX2Sqj",
        "colab_type": "code",
        "colab": {
          "base_uri": "https://localhost:8080/",
          "height": 187
        },
        "outputId": "7e71d6d7-b4cf-4ee5-ecbe-2047ccaca643"
      },
      "source": [
        "scores\n",
        "#one stage whole data"
      ],
      "execution_count": null,
      "outputs": [
        {
          "output_type": "execute_result",
          "data": {
            "text/plain": [
              "[[0.7044272273778915, 0.5892857209380183],\n",
              " [0.6312395366174834, 0.7321428539497512],\n",
              " [0.4268934415145354, 0.8363636298613115],\n",
              " [0.5395892533389005, 0.763636361468922],\n",
              " [0.3502138124948198, 0.8909090865742076],\n",
              " [0.2032083191654899, 0.9272727207704023],\n",
              " [0.12245123348706825, 0.9636363549665972],\n",
              " [0.20962886834009128, 0.9454545487057079],\n",
              " [0.08856807670831172, 0.9636363603852012],\n",
              " [0.044216264452023264, 0.9818181774832986]]"
            ]
          },
          "metadata": {
            "tags": []
          },
          "execution_count": 14
        }
      ]
    },
    {
      "cell_type": "code",
      "metadata": {
        "id": "tBYES2Ui2YMm",
        "colab_type": "code",
        "colab": {
          "base_uri": "https://localhost:8080/",
          "height": 34
        },
        "outputId": "d33b4185-cbe2-4be8-b834-2a4eb3b4e2d6"
      },
      "source": [
        "mean"
      ],
      "execution_count": null,
      "outputs": [
        {
          "output_type": "execute_result",
          "data": {
            "text/plain": [
              "0.8594155815103418"
            ]
          },
          "metadata": {
            "tags": []
          },
          "execution_count": 16
        }
      ]
    },
    {
      "cell_type": "code",
      "metadata": {
        "id": "FC8fmpLmZ2Ty",
        "colab_type": "code",
        "colab": {
          "base_uri": "https://localhost:8080/",
          "height": 187
        },
        "outputId": "81816d18-742c-4beb-9581-af5818d557bf"
      },
      "source": [
        "scores\n",
        "#169 AD 99 H: Train on 217 samples, validate on 25 samples"
      ],
      "execution_count": null,
      "outputs": [
        {
          "output_type": "execute_result",
          "data": {
            "text/plain": [
              "[[0.7079873636916831, 0.5925925981115412],\n",
              " [0.4135951278386293, 0.8518518496442724],\n",
              " [0.37247150308556026, 0.8888888955116272],\n",
              " [0.6628948626694856, 0.814814825852712],\n",
              " [0.39389871181575237, 0.8518518606821696],\n",
              " [0.6761943098433592, 0.88888888447373],\n",
              " [0.06428711668208793, 1.0],\n",
              " [0.1654565988962228, 0.88888888447373],\n",
              " [0.12455897463055757, 0.9615384569534888],\n",
              " [0.016483657384434573, 1.0]]"
            ]
          },
          "metadata": {
            "tags": []
          },
          "execution_count": 14
        }
      ]
    },
    {
      "cell_type": "code",
      "metadata": {
        "id": "28ePxcG6Z89D",
        "colab_type": "code",
        "colab": {
          "base_uri": "https://localhost:8080/",
          "height": 34
        },
        "outputId": "d655653b-a289-46c0-cf19-511b39494c45"
      },
      "source": [
        "mean"
      ],
      "execution_count": null,
      "outputs": [
        {
          "output_type": "execute_result",
          "data": {
            "text/plain": [
              "0.8739316255703272"
            ]
          },
          "metadata": {
            "tags": []
          },
          "execution_count": 16
        }
      ]
    },
    {
      "cell_type": "code",
      "metadata": {
        "id": "xdN6hzqgU-ZV",
        "colab_type": "code",
        "colab": {
          "base_uri": "https://localhost:8080/",
          "height": 187
        },
        "outputId": "d584e8ce-b8ac-4510-a9f2-f8097aad6e76"
      },
      "source": [
        "scores\n",
        "#Maryam_HAN_AUD_Vggish_4 model with 309 AD , 243 H,  no attention in first level"
      ],
      "execution_count": null,
      "outputs": [
        {
          "output_type": "execute_result",
          "data": {
            "text/plain": [
              "[[1.1607725973482486, 0.3333333377484922],\n",
              " [0.9900024698840247, 0.7777777799853572],\n",
              " [0.684132526870127, 0.814814825852712],\n",
              " [0.5071302210843122, 0.7777777799853572],\n",
              " [0.29601521486485444, 0.88888888447373],\n",
              " [0.23662569594603997, 0.9629629651705424],\n",
              " [0.16025464222938926, 0.9259259303410848],\n",
              " [0.18824190094515128, 0.9259259193031876],\n",
              " [0.29971907287836075, 0.923076909322005],\n",
              " [0.05715672631945031, 0.9615384523685162]]"
            ]
          },
          "metadata": {
            "tags": []
          },
          "execution_count": 23
        }
      ]
    },
    {
      "cell_type": "code",
      "metadata": {
        "id": "7j7RJ8fkVFQp",
        "colab_type": "code",
        "colab": {
          "base_uri": "https://localhost:8080/",
          "height": 34
        },
        "outputId": "19339664-0d56-4467-b95b-4e81efbbc102"
      },
      "source": [
        "mean"
      ],
      "execution_count": null,
      "outputs": [
        {
          "output_type": "execute_result",
          "data": {
            "text/plain": [
              "0.8292022784550985"
            ]
          },
          "metadata": {
            "tags": []
          },
          "execution_count": 25
        }
      ]
    },
    {
      "cell_type": "code",
      "metadata": {
        "id": "1mTD32hkQuVr",
        "colab_type": "code",
        "colab": {
          "base_uri": "https://localhost:8080/",
          "height": 187
        },
        "outputId": "f05526ca-6153-45ad-9cbe-0907a1fd7af2"
      },
      "source": [
        "scores\n",
        "#2 stage_HAN_AUD_Vggish model with 309 AD , 243 H,  only attention in second level"
      ],
      "execution_count": null,
      "outputs": [
        {
          "output_type": "execute_result",
          "data": {
            "text/plain": [
              "[[0.758333255137716, 0.6071428560784885],\n",
              " [0.7034249433449337, 0.7500000042574746],\n",
              " [0.5651081935925917, 0.7818181894042275],\n",
              " [0.7742116071961143, 0.8181818181818182],\n",
              " [0.1920474371449514, 0.9272727316076105],\n",
              " [0.40847147975794296, 0.8545454523780129],\n",
              " [0.21830551603555, 0.8727272532202981],\n",
              " [0.3683843456674367, 0.9454545432871039],\n",
              " [0.2794009842486544, 0.9636363603852012],\n",
              " [0.3526898547583683, 0.9454545324498956]]"
            ]
          },
          "metadata": {
            "tags": []
          },
          "execution_count": 15
        }
      ]
    },
    {
      "cell_type": "code",
      "metadata": {
        "id": "yAIrEAsPQwvO",
        "colab_type": "code",
        "colab": {
          "base_uri": "https://localhost:8080/",
          "height": 34
        },
        "outputId": "d587a34d-4674-41fc-9799-62e2a52e20be"
      },
      "source": [
        "mean"
      ],
      "execution_count": null,
      "outputs": [
        {
          "output_type": "execute_result",
          "data": {
            "text/plain": [
              "0.8466233741250132"
            ]
          },
          "metadata": {
            "tags": []
          },
          "execution_count": 17
        }
      ]
    },
    {
      "cell_type": "code",
      "metadata": {
        "id": "XENf6mJqNWeC",
        "colab_type": "code",
        "colab": {
          "base_uri": "https://localhost:8080/",
          "height": 187
        },
        "outputId": "ef33ff7e-18a5-4bdc-9b51-64bf497d9499"
      },
      "source": [
        "scores\n",
        "#2 stage_HAN_AUD_Vggish model with 309 AD , 243 H,  only attention without bidirectional"
      ],
      "execution_count": null,
      "outputs": [
        {
          "output_type": "execute_result",
          "data": {
            "text/plain": [
              "[[1.0389530658721924, 0.42857144081166815],\n",
              " [0.8001879043877125, 0.6428571348743779],\n",
              " [1.0766921612349423, 0.7090909047560259],\n",
              " [0.5382714677940715, 0.8000000065023248],\n",
              " [1.2156867330724543, 0.763636356050318],\n",
              " [0.7558718215335499, 0.7272727272727273],\n",
              " [0.38933771272951906, 0.9090908982537009],\n",
              " [0.6690689741041173, 0.7999999956651167],\n",
              " [0.27500474893233995, 0.9272727207704023],\n",
              " [1.0646307407243347, 0.8181818181818182]]"
            ]
          },
          "metadata": {
            "tags": []
          },
          "execution_count": 13
        }
      ]
    },
    {
      "cell_type": "code",
      "metadata": {
        "id": "yrnZkCKBNhhY",
        "colab_type": "code",
        "colab": {
          "base_uri": "https://localhost:8080/",
          "height": 34
        },
        "outputId": "52def51d-62aa-485a-9ee8-a68dc4ffa362"
      },
      "source": [
        "mean"
      ],
      "execution_count": null,
      "outputs": [
        {
          "output_type": "execute_result",
          "data": {
            "text/plain": [
              "0.7525974003138479"
            ]
          },
          "metadata": {
            "tags": []
          },
          "execution_count": 15
        }
      ]
    },
    {
      "cell_type": "code",
      "metadata": {
        "id": "PvmiJIw9m3p4",
        "colab_type": "code",
        "colab": {
          "base_uri": "https://localhost:8080/",
          "height": 187
        },
        "outputId": "953e0bb2-36e0-4c98-9d12-c305a1057dc9"
      },
      "source": [
        "scores\n",
        "#2 stage_HAN_AUD_Vggish model with 309 AD , 243 H"
      ],
      "execution_count": null,
      "outputs": [
        {
          "output_type": "execute_result",
          "data": {
            "text/plain": [
              "[[0.7367201692291668, 0.5357142801263503],\n",
              " [0.7062466485159737, 0.6428571503077235],\n",
              " [0.5848588970574465, 0.7636363668875261],\n",
              " [0.6592520367015492, 0.6909091093323447],\n",
              " [0.2859180048108101, 0.8909090811556036],\n",
              " [0.4261564693667672, 0.854545457796617],\n",
              " [0.23641812125093897, 0.9454545432871039],\n",
              " [0.21630226191270843, 0.9272727261890065],\n",
              " [0.38584923244674096, 0.9454545487057079],\n",
              " [0.08587489088743248, 0.9818181774832986]]"
            ]
          },
          "metadata": {
            "tags": []
          },
          "execution_count": 13
        }
      ]
    },
    {
      "cell_type": "code",
      "metadata": {
        "id": "AhFvQHkEq25i",
        "colab_type": "code",
        "colab": {
          "base_uri": "https://localhost:8080/",
          "height": 34
        },
        "outputId": "f6324e50-1b29-47a1-916e-cd659ca99a6e"
      },
      "source": [
        "mean\n",
        "#2 stage_HAN_AUD_Vggish model with 309 AD , 243 H"
      ],
      "execution_count": null,
      "outputs": [
        {
          "output_type": "execute_result",
          "data": {
            "text/plain": [
              "0.8178571441271283"
            ]
          },
          "metadata": {
            "tags": []
          },
          "execution_count": 15
        }
      ]
    },
    {
      "cell_type": "code",
      "metadata": {
        "id": "ApJGQ2GoZ7rE",
        "colab_type": "code",
        "colab": {
          "base_uri": "https://localhost:8080/",
          "height": 187
        },
        "outputId": "1d440c5e-f99a-4eb4-f718-c6abccfdb59d"
      },
      "source": [
        "scores\n",
        "#99 AD 99 H: Train on 161 samples, validate on 18 sample"
      ],
      "execution_count": null,
      "outputs": [
        {
          "output_type": "execute_result",
          "data": {
            "text/plain": [
              "[[0.7978907525539398, 0.5000000149011612],\n",
              " [0.6871496438980103, 0.699999988079071],\n",
              " [0.5021384358406067, 0.75],\n",
              " [0.4272589311003685, 0.7999999821186066],\n",
              " [0.40099892020225525, 0.75],\n",
              " [0.8385019153356552, 0.7000000178813934],\n",
              " [0.3079960197210312, 0.9000000059604645],\n",
              " [0.31848144344985485, 0.949999988079071],\n",
              " [0.05703929223512348, 1.0],\n",
              " [0.06559916624897405, 0.9473684085042853]]"
            ]
          },
          "metadata": {
            "tags": []
          },
          "execution_count": 17
        }
      ]
    },
    {
      "cell_type": "code",
      "metadata": {
        "id": "nGJKN1V8a8cm",
        "colab_type": "code",
        "colab": {
          "base_uri": "https://localhost:8080/",
          "height": 34
        },
        "outputId": "204118ce-011e-4bf4-e535-dd5318df64fd"
      },
      "source": [
        "mean\n",
        "#99 AD 99 H: Train on 161 samples, validate on 18 sample"
      ],
      "execution_count": null,
      "outputs": [
        {
          "output_type": "execute_result",
          "data": {
            "text/plain": [
              "0.7997368405524053"
            ]
          },
          "metadata": {
            "tags": []
          },
          "execution_count": 20
        }
      ]
    },
    {
      "cell_type": "code",
      "metadata": {
        "id": "j8o2IdcJUML7",
        "colab_type": "code",
        "colab": {
          "base_uri": "https://localhost:8080/",
          "height": 187
        },
        "outputId": "0d377bdd-d460-46b2-fd77-501111e9230c"
      },
      "source": [
        "scores\n",
        "#169 AD 99 H: Train on 217 samples, validate on 25 sample"
      ],
      "execution_count": null,
      "outputs": [
        {
          "output_type": "execute_result",
          "data": {
            "text/plain": [
              "[[0.8569804098871019, 0.6296296296296297],\n",
              " [0.5515558101512767, 0.7777777799853572],\n",
              " [0.38175353269886086, 0.88888888447373],\n",
              " [0.3531476724202986, 0.8518518606821696],\n",
              " [0.10667601917628888, 0.9629629541326452],\n",
              " [0.27749684342631586, 0.9259259193031876],\n",
              " [0.3157000921114727, 0.9629629541326452],\n",
              " [0.10372332987134103, 0.9629629541326452],\n",
              " [0.427217938292485, 0.9230769047370324],\n",
              " [0.7930960411635729, 0.8461538369839008]]"
            ]
          },
          "metadata": {
            "tags": []
          },
          "execution_count": 14
        }
      ]
    },
    {
      "cell_type": "code",
      "metadata": {
        "id": "TEVPGVlVUOc3",
        "colab_type": "code",
        "colab": {
          "base_uri": "https://localhost:8080/",
          "height": 34
        },
        "outputId": "a0d5802b-086c-4016-dc0f-7bacfb03c38d"
      },
      "source": [
        "mean\n",
        "#169 AD 99 H: Train on 217 samples, validate on 25 samples"
      ],
      "execution_count": null,
      "outputs": [
        {
          "output_type": "execute_result",
          "data": {
            "text/plain": [
              "0.8732193678192942"
            ]
          },
          "metadata": {
            "tags": []
          },
          "execution_count": 16
        }
      ]
    },
    {
      "cell_type": "code",
      "metadata": {
        "id": "rGIYvxNVp8DE",
        "colab_type": "code",
        "colab": {
          "base_uri": "https://localhost:8080/",
          "height": 153
        },
        "outputId": "74afc66d-dac0-4076-9761-a6e068855e67"
      },
      "source": [
        "R"
      ],
      "execution_count": null,
      "outputs": [
        {
          "output_type": "execute_result",
          "data": {
            "text/plain": [
              "([0.165426356411031, 0.9454545324498956],\n",
              " 0.9354838709677419,\n",
              " 0.9666666666666667,\n",
              " 0.9508196721311476,\n",
              " 0.8896321070234113,\n",
              " 0.9946666666666667,\n",
              " array([[23,  2],\n",
              "        [ 1, 29]]))"
            ]
          },
          "metadata": {
            "tags": []
          },
          "execution_count": 22
        }
      ]
    },
    {
      "cell_type": "code",
      "metadata": {
        "id": "EyEFzCc8MkWC",
        "colab_type": "code",
        "colab": {}
      },
      "source": [
        "k=0\n",
        "for i in range(11):\n",
        "  k=k+RR[i][0][1]\n",
        "mean=k/11\n"
      ],
      "execution_count": null,
      "outputs": []
    },
    {
      "cell_type": "code",
      "metadata": {
        "id": "9o37YjSeNV9Q",
        "colab_type": "code",
        "colab": {
          "base_uri": "https://localhost:8080/",
          "height": 34
        },
        "outputId": "03f3ffe3-dad3-403d-9278-0c61d499a2b6"
      },
      "source": [
        "mean"
      ],
      "execution_count": null,
      "outputs": [
        {
          "output_type": "execute_result",
          "data": {
            "text/plain": [
              "0.878181812618718"
            ]
          },
          "metadata": {
            "tags": []
          },
          "execution_count": 17
        }
      ]
    },
    {
      "cell_type": "code",
      "metadata": {
        "id": "cBTAPqT1DZ40",
        "colab_type": "code",
        "colab": {}
      },
      "source": [
        "X_train, X_test, y_train, y_test = train_test_split(X, y, test_size=TEST_SPLIT)"
      ],
      "execution_count": null,
      "outputs": []
    },
    {
      "cell_type": "code",
      "metadata": {
        "id": "toIOBRz7DGaN",
        "colab_type": "code",
        "colab": {}
      },
      "source": [
        "han_model.train_model(checkpoint_path, np.array(X_train), np.array(y_train), np.array(X_test), np.array(y_test),epochs=50,batch_size=20)"
      ],
      "execution_count": null,
      "outputs": []
    },
    {
      "cell_type": "code",
      "metadata": {
        "id": "s9jSc-_RJI5T",
        "colab_type": "code",
        "colab": {
          "base_uri": "https://localhost:8080/",
          "height": 544
        },
        "outputId": "e2310022-1ead-40cf-86d0-1a442f8822bf"
      },
      "source": [
        "han_model.show_sent_attention(X[0])"
      ],
      "execution_count": null,
      "outputs": [
        {
          "output_type": "execute_result",
          "data": {
            "text/plain": [
              "array([[4.49207376e-13, 7.50734544e-12, 4.93533880e-09, 2.52109976e-03,\n",
              "        4.00376711e-11, 1.46210869e-03, 1.97481662e-02, 9.73984718e-01,\n",
              "        2.22077570e-03, 6.31430448e-05, 2.59968083e-08, 6.71469065e-13,\n",
              "        4.22983263e-13, 3.80839810e-13, 3.56785321e-13, 3.43132749e-13,\n",
              "        3.35023648e-13, 3.30050494e-13, 3.27083141e-13, 3.25766351e-13,\n",
              "        3.26705947e-13, 3.34051255e-13, 3.83684810e-13, 2.02814263e-12],\n",
              "       [3.67372222e-02, 3.76638360e-02, 3.76354754e-02, 3.74489389e-02,\n",
              "        3.72217037e-02, 3.69952135e-02, 3.67929712e-02, 3.66203189e-02,\n",
              "        3.64763662e-02, 3.63571756e-02, 3.62583511e-02, 3.61752510e-02,\n",
              "        3.61047350e-02, 3.60434949e-02, 3.59897092e-02, 3.59421670e-02,\n",
              "        3.59014049e-02, 3.58705297e-02, 3.58593129e-02, 3.58924344e-02,\n",
              "        3.60494778e-02, 3.66841480e-02, 4.07515913e-02, 1.56528205e-01],\n",
              "       [5.40194868e-11, 1.34282868e-06, 3.61630367e-03, 6.98284071e-04,\n",
              "        1.90377228e-10, 1.77307508e-03, 3.71982250e-03, 1.04832776e-09,\n",
              "        8.28405246e-05, 1.42619804e-01, 1.97762717e-02, 1.74588665e-01,\n",
              "        5.92169523e-01, 2.47935509e-06, 1.60497241e-02, 4.49010246e-02,\n",
              "        7.74833211e-07, 1.56250050e-14, 1.29659916e-14, 1.16591426e-14,\n",
              "        1.12133000e-14, 1.18339862e-14, 1.80255489e-14, 1.03823352e-12],\n",
              "       [3.67372222e-02, 3.76638360e-02, 3.76354754e-02, 3.74489389e-02,\n",
              "        3.72217037e-02, 3.69952135e-02, 3.67929712e-02, 3.66203189e-02,\n",
              "        3.64763662e-02, 3.63571756e-02, 3.62583511e-02, 3.61752510e-02,\n",
              "        3.61047350e-02, 3.60434949e-02, 3.59897092e-02, 3.59421670e-02,\n",
              "        3.59014049e-02, 3.58705297e-02, 3.58593129e-02, 3.58924344e-02,\n",
              "        3.60494778e-02, 3.66841480e-02, 4.07515913e-02, 1.56528205e-01],\n",
              "       [3.67372222e-02, 3.76638360e-02, 3.76354754e-02, 3.74489389e-02,\n",
              "        3.72217037e-02, 3.69952135e-02, 3.67929712e-02, 3.66203189e-02,\n",
              "        3.64763662e-02, 3.63571756e-02, 3.62583511e-02, 3.61752510e-02,\n",
              "        3.61047350e-02, 3.60434949e-02, 3.59897092e-02, 3.59421670e-02,\n",
              "        3.59014049e-02, 3.58705297e-02, 3.58593129e-02, 3.58924344e-02,\n",
              "        3.60494778e-02, 3.66841480e-02, 4.07515913e-02, 1.56528205e-01]],\n",
              "      dtype=float32)"
            ]
          },
          "metadata": {
            "tags": []
          },
          "execution_count": 22
        }
      ]
    },
    {
      "cell_type": "code",
      "metadata": {
        "id": "bX06I6N_Ie2E",
        "colab_type": "code",
        "colab": {
          "base_uri": "https://localhost:8080/",
          "height": 544
        },
        "outputId": "078e6e2a-a87d-45e6-b7ad-1d3db51b5254"
      },
      "source": [
        "han_model.show_sent_attention(X[0])"
      ],
      "execution_count": null,
      "outputs": [
        {
          "output_type": "execute_result",
          "data": {
            "text/plain": [
              "array([[4.49207376e-13, 7.50734544e-12, 4.93533880e-09, 2.52109976e-03,\n",
              "        4.00376711e-11, 1.46210869e-03, 1.97481662e-02, 9.73984718e-01,\n",
              "        2.22077570e-03, 6.31430448e-05, 2.59968083e-08, 6.71469065e-13,\n",
              "        4.22983263e-13, 3.80839810e-13, 3.56785321e-13, 3.43132749e-13,\n",
              "        3.35023648e-13, 3.30050494e-13, 3.27083141e-13, 3.25766351e-13,\n",
              "        3.26705947e-13, 3.34051255e-13, 3.83684810e-13, 2.02814263e-12],\n",
              "       [3.67372222e-02, 3.76638360e-02, 3.76354754e-02, 3.74489389e-02,\n",
              "        3.72217037e-02, 3.69952135e-02, 3.67929712e-02, 3.66203189e-02,\n",
              "        3.64763662e-02, 3.63571756e-02, 3.62583511e-02, 3.61752510e-02,\n",
              "        3.61047350e-02, 3.60434949e-02, 3.59897092e-02, 3.59421670e-02,\n",
              "        3.59014049e-02, 3.58705297e-02, 3.58593129e-02, 3.58924344e-02,\n",
              "        3.60494778e-02, 3.66841480e-02, 4.07515913e-02, 1.56528205e-01],\n",
              "       [5.40194868e-11, 1.34282868e-06, 3.61630367e-03, 6.98284071e-04,\n",
              "        1.90377228e-10, 1.77307508e-03, 3.71982250e-03, 1.04832776e-09,\n",
              "        8.28405246e-05, 1.42619804e-01, 1.97762717e-02, 1.74588665e-01,\n",
              "        5.92169523e-01, 2.47935509e-06, 1.60497241e-02, 4.49010246e-02,\n",
              "        7.74833211e-07, 1.56250050e-14, 1.29659916e-14, 1.16591426e-14,\n",
              "        1.12133000e-14, 1.18339862e-14, 1.80255489e-14, 1.03823352e-12],\n",
              "       [3.67372222e-02, 3.76638360e-02, 3.76354754e-02, 3.74489389e-02,\n",
              "        3.72217037e-02, 3.69952135e-02, 3.67929712e-02, 3.66203189e-02,\n",
              "        3.64763662e-02, 3.63571756e-02, 3.62583511e-02, 3.61752510e-02,\n",
              "        3.61047350e-02, 3.60434949e-02, 3.59897092e-02, 3.59421670e-02,\n",
              "        3.59014049e-02, 3.58705297e-02, 3.58593129e-02, 3.58924344e-02,\n",
              "        3.60494778e-02, 3.66841480e-02, 4.07515913e-02, 1.56528205e-01],\n",
              "       [3.67372222e-02, 3.76638360e-02, 3.76354754e-02, 3.74489389e-02,\n",
              "        3.72217037e-02, 3.69952135e-02, 3.67929712e-02, 3.66203189e-02,\n",
              "        3.64763662e-02, 3.63571756e-02, 3.62583511e-02, 3.61752510e-02,\n",
              "        3.61047350e-02, 3.60434949e-02, 3.59897092e-02, 3.59421670e-02,\n",
              "        3.59014049e-02, 3.58705297e-02, 3.58593129e-02, 3.58924344e-02,\n",
              "        3.60494778e-02, 3.66841480e-02, 4.07515913e-02, 1.56528205e-01]],\n",
              "      dtype=float32)"
            ]
          },
          "metadata": {
            "tags": []
          },
          "execution_count": 20
        }
      ]
    },
    {
      "cell_type": "code",
      "metadata": {
        "id": "EfE3-xL3qLX0",
        "colab_type": "code",
        "colab": {}
      },
      "source": [
        "doc_attention=han_model.show_doc_attention(X)"
      ],
      "execution_count": null,
      "outputs": []
    },
    {
      "cell_type": "code",
      "metadata": {
        "id": "p7KlpngFVrh-",
        "colab_type": "code",
        "colab": {}
      },
      "source": [
        "sent_att=np.empty((268,5,24),dtype=None)\n",
        "for i in range(len(X)):\n",
        "  sent_att[i]=han_model.show_sent_attention(X[i])"
      ],
      "execution_count": null,
      "outputs": []
    },
    {
      "cell_type": "code",
      "metadata": {
        "id": "4BdVySuSbCnx",
        "colab_type": "code",
        "colab": {}
      },
      "source": [
        "np.savez('/content/doc_sent_att.npz',doc=han_model.show_doc_attention(X), sent=sent_att)\n"
      ],
      "execution_count": null,
      "outputs": []
    },
    {
      "cell_type": "code",
      "metadata": {
        "id": "QVIKOLs-fcYd",
        "colab_type": "code",
        "colab": {}
      },
      "source": [
        "import matplotlib.pyplot as plt\n",
        "from scipy import signal\n",
        "from scipy.io import wavfile\n",
        "\n",
        "sample_rate, samples = wavfile.read('/content/drive/My Drive/Dementia_Audio/Audio_Dementia/AD/001-0.wav')\n",
        "frequencies, times, spectrogram = signal.spectrogram(samples, sample_rate)\n",
        "\n",
        "plt.pcolormesh(times, frequencies, spectrogram)\n",
        "plt.imshow(spectrogram)\n",
        "plt.ylabel('Frequency [Hz]')\n",
        "plt.xlabel('Time [sec]')\n",
        "plt.show()"
      ],
      "execution_count": null,
      "outputs": []
    },
    {
      "cell_type": "code",
      "metadata": {
        "id": "yh3M2ya3wIoT",
        "colab_type": "code",
        "colab": {}
      },
      "source": [
        "import matplotlib.pyplot as plt\n",
        "from scipy import signal\n",
        "from scipy.io import wavfile\n",
        "import scipy.io as sio\n",
        "\n",
        "sample_rate, samples = sio.wavfile.read('/content/drive/My Drive/Dementia_Audio/Audio_Dementia/AD/001-0.wav')\n"
      ],
      "execution_count": null,
      "outputs": []
    },
    {
      "cell_type": "code",
      "metadata": {
        "id": "V_bVk_REvtxU",
        "colab_type": "code",
        "colab": {}
      },
      "source": [
        "import numpy as np\n",
        "X=np.load('/content/doc_sent_att.npz')\n"
      ],
      "execution_count": null,
      "outputs": []
    },
    {
      "cell_type": "code",
      "metadata": {
        "id": "mWXKgPs7lKjf",
        "colab_type": "code",
        "colab": {
          "base_uri": "https://localhost:8080/",
          "height": 279
        },
        "outputId": "c5d6d52e-b393-4be2-a0b5-c6f9ffa59278"
      },
      "source": [
        "import pandas as pd\n",
        "import numpy as np\n",
        "import matplotlib.pyplot as plt\n",
        "\n",
        "X=np.load('/content/doc_sent_att.npz')\n",
        "#df = pd.DataFrame(np.random.rand(10, 5), columns=['A', 'B', 'C', 'D', 'E'])\n",
        "df=X['doc'][:169]\n",
        "df=pd.DataFrame(df)\n",
        "ax = df.plot(kind='box',\n",
        "             color=dict(boxes='r', whiskers='r', medians='r', caps='r'),\n",
        "             boxprops=dict(linestyle='-', linewidth=1.5),\n",
        "             flierprops=dict(linestyle='-', linewidth=1.5),\n",
        "             medianprops=dict(linestyle='-', linewidth=1.5),\n",
        "             whiskerprops=dict(linestyle='-', linewidth=1.5),\n",
        "             capprops=dict(linestyle='-', linewidth=1.5),\n",
        "             showfliers=False, grid=True, rot=0)\n",
        "ax.set_xlabel('Foo')\n",
        "ax.set_ylabel('Bar in X')\n",
        "plt.show()"
      ],
      "execution_count": null,
      "outputs": [
        {
          "output_type": "display_data",
          "data": {
            "image/png": "[encoded data removed]",
            "text/plain": [
              "<Figure size 432x288 with 1 Axes>"
            ]
          },
          "metadata": {
            "tags": []
          }
        }
      ]
    },
    {
      "cell_type": "code",
      "metadata": {
        "id": "Gr4Y8mBHRY39",
        "colab_type": "code",
        "colab": {
          "base_uri": "https://localhost:8080/",
          "height": 279
        },
        "outputId": "d63e16bc-f845-4e5e-d89c-777f1360896e"
      },
      "source": [
        "import pandas as pd\n",
        "import numpy as np\n",
        "import matplotlib.pyplot as plt\n",
        "\n",
        "X=np.load('/content/doc_sent_att.npz')\n",
        "#df = pd.DataFrame(np.random.rand(10, 5), columns=['A', 'B', 'C', 'D', 'E'])\n",
        "df=new_matrix[:169]\n",
        "df=pd.DataFrame(df)\n",
        "ax = df.plot(kind='box',\n",
        "             color=dict(boxes='r', whiskers='r', medians='r', caps='r'),\n",
        "             boxprops=dict(linestyle='-', linewidth=1.5),\n",
        "             flierprops=dict(linestyle='-', linewidth=1.5),\n",
        "             medianprops=dict(linestyle='-', linewidth=1.5),\n",
        "             whiskerprops=dict(linestyle='-', linewidth=1.5),\n",
        "             capprops=dict(linestyle='-', linewidth=1.5),\n",
        "             showfliers=False, grid=True, rot=0)\n",
        "ax.set_xlabel('Foo')\n",
        "ax.set_ylabel('Bar in X')\n",
        "plt.show()"
      ],
      "execution_count": null,
      "outputs": [
        {
          "output_type": "display_data",
          "data": {
            "image/png": "[encoded data removed]",
            "text/plain": [
              "<Figure size 432x288 with 1 Axes>"
            ]
          },
          "metadata": {
            "tags": []
          }
        }
      ]
    },
    {
      "cell_type": "code",
      "metadata": {
        "id": "5fYIVR8rmZn3",
        "colab_type": "code",
        "colab": {
          "base_uri": "https://localhost:8080/",
          "height": 279
        },
        "outputId": "77f9629c-144a-4dfb-8cdc-135adfc76472"
      },
      "source": [
        "import pandas as pd\n",
        "import numpy as np\n",
        "import matplotlib.pyplot as plt\n",
        "\n",
        "X=np.load('/content/doc_sent_att.npz')\n",
        "#df = pd.DataFrame(np.random.rand(10, 5), columns=['A', 'B', 'C', 'D', 'E'])\n",
        "df=X['doc'][169:]\n",
        "df=pd.DataFrame(df)\n",
        "ax = df.plot(kind='box',\n",
        "             color=dict(boxes='r', whiskers='r', medians='r', caps='r'),\n",
        "             boxprops=dict(linestyle='-', linewidth=1.5),\n",
        "             flierprops=dict(linestyle='-', linewidth=1.5),\n",
        "             medianprops=dict(linestyle='-', linewidth=1.5),\n",
        "             whiskerprops=dict(linestyle='-', linewidth=1.5),\n",
        "             capprops=dict(linestyle='-', linewidth=1.5),\n",
        "             showfliers=False, grid=True, rot=0)\n",
        "ax.set_xlabel('Foo')\n",
        "ax.set_ylabel('Bar in X')\n",
        "plt.show()"
      ],
      "execution_count": null,
      "outputs": [
        {
          "output_type": "display_data",
          "data": {
            "image/png": "[encoded data removed]",
            "text/plain": [
              "<Figure size 432x288 with 1 Axes>"
            ]
          },
          "metadata": {
            "tags": []
          }
        }
      ]
    },
    {
      "cell_type": "code",
      "metadata": {
        "id": "xlguffUfRhML",
        "colab_type": "code",
        "colab": {
          "base_uri": "https://localhost:8080/",
          "height": 279
        },
        "outputId": "6ae1c9bb-8b89-4a4b-e917-4b2f1b6a1c9e"
      },
      "source": [
        "import pandas as pd\n",
        "import numpy as np\n",
        "import matplotlib.pyplot as plt\n",
        "\n",
        "X=np.load('/content/doc_sent_att.npz')\n",
        "#df = pd.DataFrame(np.random.rand(10, 5), columns=['A', 'B', 'C', 'D', 'E'])\n",
        "df=new_matrix[169:]\n",
        "df=pd.DataFrame(df)\n",
        "ax = df.plot(kind='box',\n",
        "             color=dict(boxes='r', whiskers='r', medians='r', caps='r'),\n",
        "             boxprops=dict(linestyle='-', linewidth=1.5),\n",
        "             flierprops=dict(linestyle='-', linewidth=1.5),\n",
        "             medianprops=dict(linestyle='-', linewidth=1.5),\n",
        "             whiskerprops=dict(linestyle='-', linewidth=1.5),\n",
        "             capprops=dict(linestyle='-', linewidth=1.5),\n",
        "             showfliers=False, grid=True, rot=0)\n",
        "ax.set_xlabel('Foo')\n",
        "ax.set_ylabel('Bar in X')\n",
        "plt.show()"
      ],
      "execution_count": null,
      "outputs": [
        {
          "output_type": "display_data",
          "data": {
            "image/png": "[encoded data removed]",
            "text/plain": [
              "<Figure size 432x288 with 1 Axes>"
            ]
          },
          "metadata": {
            "tags": []
          }
        }
      ]
    },
    {
      "cell_type": "code",
      "metadata": {
        "id": "_Rzj3IwiHkBV",
        "colab_type": "code",
        "colab": {
          "base_uri": "https://localhost:8080/",
          "height": 281
        },
        "outputId": "c66aaefa-bfbd-414f-bc94-5f0f2bc49fc0"
      },
      "source": [
        "import numpy as np\n",
        "import matplotlib.pyplot as plt\n",
        "\n",
        "fig7, ax7 = plt.subplots()\n",
        "ax7.set_title('Multiple Samples with Different sizes')\n",
        "ax7.boxplot(X['doc'][:169])\n",
        "\n",
        "plt.show()"
      ],
      "execution_count": null,
      "outputs": [
        {
          "output_type": "display_data",
          "data": {
            "image/png": "[encoded data removed]",
            "text/plain": [
              "<Figure size 432x288 with 1 Axes>"
            ]
          },
          "metadata": {
            "tags": []
          }
        }
      ]
    },
    {
      "cell_type": "code",
      "metadata": {
        "id": "4215s0ITH8oa",
        "colab_type": "code",
        "colab": {
          "base_uri": "https://localhost:8080/",
          "height": 281
        },
        "outputId": "9e03912d-ff2b-4502-a651-bebbb14fae79"
      },
      "source": [
        "fig8, ax8 = plt.subplots()\n",
        "ax8.set_title('Multiple Samples with Different sizes')\n",
        "ax8.boxplot(X['doc'][169:])\n",
        "\n",
        "plt.show()"
      ],
      "execution_count": null,
      "outputs": [
        {
          "output_type": "display_data",
          "data": {
            "image/png": "[encoded data removed]",
            "text/plain": [
              "<Figure size 432x288 with 1 Axes>"
            ]
          },
          "metadata": {
            "tags": []
          }
        }
      ]
    },
    {
      "cell_type": "code",
      "metadata": {
        "id": "gzzrDEhE_X5w",
        "colab_type": "code",
        "colab": {
          "base_uri": "https://localhost:8080/",
          "height": 51
        },
        "outputId": "fe10f4a1-8bc2-470a-d970-73349ff2d103"
      },
      "source": [
        "X['doc'][171]"
      ],
      "execution_count": null,
      "outputs": [
        {
          "output_type": "execute_result",
          "data": {
            "text/plain": [
              "array([0.04023547, 0.03835283, 0.0595754 , 0.05484349, 0.8069928 ],\n",
              "      dtype=float32)"
            ]
          },
          "metadata": {
            "tags": []
          },
          "execution_count": 23
        }
      ]
    },
    {
      "cell_type": "code",
      "metadata": {
        "id": "xyLNrLWTCfRA",
        "colab_type": "code",
        "colab": {
          "base_uri": "https://localhost:8080/",
          "height": 51
        },
        "outputId": "d8633bfa-81ad-4f1c-d839-e8a36dcbf616"
      },
      "source": [
        "X['doc'][172]"
      ],
      "execution_count": null,
      "outputs": [
        {
          "output_type": "execute_result",
          "data": {
            "text/plain": [
              "array([0.04332411, 0.11204503, 0.2473117 , 0.29733813, 0.29998103],\n",
              "      dtype=float32)"
            ]
          },
          "metadata": {
            "tags": []
          },
          "execution_count": 22
        }
      ]
    },
    {
      "cell_type": "code",
      "metadata": {
        "id": "1Wp0PgD-17bY",
        "colab_type": "code",
        "colab": {
          "base_uri": "https://localhost:8080/",
          "height": 557
        },
        "outputId": "f167383f-ec59-48aa-fd69-4b3d3f4a0f08"
      },
      "source": [
        "import librosa\n",
        "import matplotlib.pyplot as plt\n",
        "\n",
        "y, sr = librosa.load('/content/drive/My Drive/Dementia_Audio/Audio_Dementia/Control/015-0.wav', sr=8000, mono=True)\n",
        "X=np.load('/content/doc_sent_att.npz')\n",
        "#plt.subplot(210)\n",
        "# plot the first 1024 samples\n",
        "plt.plot(y)\n",
        "# label the axes\n",
        "plt.ylabel(\"Amplitude\")\n",
        "plt.xlabel(\"Sample\")\n",
        "# set the title  \n",
        "plt.title(\"Sample Wav\")\n",
        "# display the plot\n",
        "plt.show()\n",
        "\n",
        "\n",
        "X0=X['sent'][172][0]\n",
        "X0=np.repeat(X0, 40000)\n",
        "plt.plot(X0[:len(y)])\n",
        "plt.xlabel('Sample')\n",
        "plt.ylabel('Attention')\n",
        "plt.show()\n",
        "\n"
      ],
      "execution_count": null,
      "outputs": [
        {
          "output_type": "display_data",
          "data": {
            "image/png": "[encoded data removed]",
            "text/plain": [
              "<Figure size 432x288 with 1 Axes>"
            ]
          },
          "metadata": {
            "tags": []
          }
        },
        {
          "output_type": "display_data",
          "data": {
            "image/png": "[encoded data removed]",
            "text/plain": [
              "<Figure size 432x288 with 1 Axes>"
            ]
          },
          "metadata": {
            "tags": []
          }
        }
      ]
    },
    {
      "cell_type": "code",
      "metadata": {
        "id": "uCsLlviLoo88",
        "colab_type": "code",
        "colab": {
          "base_uri": "https://localhost:8080/",
          "height": 34
        },
        "outputId": "9c00d6b2-8693-43de-d842-8d809fea5a3b"
      },
      "source": [
        "len(y)"
      ],
      "execution_count": null,
      "outputs": [
        {
          "output_type": "execute_result",
          "data": {
            "text/plain": [
              "897150"
            ]
          },
          "metadata": {
            "tags": []
          },
          "execution_count": 34
        }
      ]
    },
    {
      "cell_type": "code",
      "metadata": {
        "id": "9hcQLX91nfYJ",
        "colab_type": "code",
        "colab": {
          "base_uri": "https://localhost:8080/",
          "height": 119
        },
        "outputId": "06675373-601a-44e0-e742-2cdfc3c1e5ee"
      },
      "source": [
        "X['sent'][172][0]"
      ],
      "execution_count": null,
      "outputs": [
        {
          "output_type": "execute_result",
          "data": {
            "text/plain": [
              "array([5.84962148e-11, 1.47700463e-09, 5.95129590e-09, 1.19744728e-10,\n",
              "       9.07304987e-09, 2.11633887e-11, 1.11280674e-09, 1.89390956e-08,\n",
              "       1.48987715e-11, 5.74144376e-09, 2.64352096e-10, 2.55761101e-08,\n",
              "       3.26606559e-12, 1.72978076e-08, 5.03114148e-11, 4.47334281e-13,\n",
              "       3.91764798e-09, 1.33787253e-04, 3.29960073e-07, 1.65447118e-11,\n",
              "       9.86275436e-11, 3.25091569e-05, 1.58800406e-03, 9.98245239e-01])"
            ]
          },
          "metadata": {
            "tags": []
          },
          "execution_count": 45
        }
      ]
    },
    {
      "cell_type": "code",
      "metadata": {
        "id": "e4toBMlpUrs6",
        "colab_type": "code",
        "colab": {
          "base_uri": "https://localhost:8080/",
          "height": 560
        },
        "outputId": "331264a9-1a58-4074-a1ed-5e265ce18a49"
      },
      "source": [
        "import librosa\n",
        "y, sr = librosa.load('/content/drive/My Drive/Dementia_Audio/Audio_Dementia/Control/015-1.wav', sr=8000, mono=True)\n",
        "X=np.load('/content/doc_sent_att.npz')\n",
        "#plt.subplot(210)\n",
        "# plot the first 1024 samples\n",
        "plt.plot(y)\n",
        "# label the axes\n",
        "plt.ylabel(\"Amplitude\")\n",
        "plt.xlabel(\"Sample\")\n",
        "# set the title  \n",
        "plt.title(\"Sample Wav\")\n",
        "# display the plot\n",
        "plt.show()\n",
        "\n",
        "\n",
        "X0=X['sent'][172][1]\n",
        "X0=np.repeat(X0, 40000)\n",
        "plt.plot(X0[:len(y)])\n",
        "plt.xlabel('Sample')\n",
        "plt.ylabel('Attention')\n",
        "plt.show()\n",
        "\n"
      ],
      "execution_count": null,
      "outputs": [
        {
          "output_type": "display_data",
          "data": {
            "image/png": "[encoded data removed]",
            "text/plain": [
              "<Figure size 432x288 with 1 Axes>"
            ]
          },
          "metadata": {
            "tags": []
          }
        },
        {
          "output_type": "display_data",
          "data": {
            "image/png": "[encoded data removed]",
            "text/plain": [
              "<Figure size 432x288 with 1 Axes>"
            ]
          },
          "metadata": {
            "tags": []
          }
        }
      ]
    },
    {
      "cell_type": "code",
      "metadata": {
        "id": "nbWmLX-vwXjJ",
        "colab_type": "code",
        "colab": {
          "base_uri": "https://localhost:8080/",
          "height": 119
        },
        "outputId": "143d7216-e18c-42d8-baab-c9bd04ec0abc"
      },
      "source": [
        "X['sent'][172][1]\n"
      ],
      "execution_count": null,
      "outputs": [
        {
          "output_type": "execute_result",
          "data": {
            "text/plain": [
              "array([1.44212681e-05, 5.74192703e-01, 2.42414679e-02, 6.09092203e-05,\n",
              "       3.72848660e-07, 1.02576564e-06, 1.71952110e-04, 2.80807464e-04,\n",
              "       1.20772468e-02, 1.58513663e-04, 9.39688252e-05, 2.66543031e-03,\n",
              "       1.02110416e-01, 6.03110834e-07, 6.51759619e-05, 1.54689455e-03,\n",
              "       3.38908844e-02, 2.48387739e-01, 9.91385150e-06, 7.82845382e-06,\n",
              "       2.66754313e-07, 3.55369900e-10, 1.19463939e-09, 2.14364572e-05])"
            ]
          },
          "metadata": {
            "tags": []
          },
          "execution_count": 47
        }
      ]
    },
    {
      "cell_type": "code",
      "metadata": {
        "id": "5-L1od57WdDB",
        "colab_type": "code",
        "colab": {
          "base_uri": "https://localhost:8080/",
          "height": 557
        },
        "outputId": "9c16a95f-b53a-4e9e-d79c-b6d270cd7d5f"
      },
      "source": [
        "import librosa\n",
        "y, sr = librosa.load('/content/drive/My Drive/Dementia_Audio/Audio_Dementia/Control/015-2.wav', sr=8000, mono=True)\n",
        "X=np.load('/content/doc_sent_att.npz')\n",
        "#plt.subplot(210)\n",
        "# plot the first 1024 samples\n",
        "plt.plot(y)\n",
        "# label the axes\n",
        "plt.ylabel(\"Amplitude\")\n",
        "plt.xlabel(\"Sample\")\n",
        "# set the title  \n",
        "plt.title(\"Sample Wav\")\n",
        "# display the plot\n",
        "plt.show()\n",
        "\n",
        "\n",
        "X0=X['sent'][172][2]\n",
        "X0=np.repeat(X0, 40000)\n",
        "plt.plot(X0[:len(y)])\n",
        "plt.xlabel('Sample')\n",
        "plt.ylabel('Attention')\n",
        "plt.show()\n",
        "\n"
      ],
      "execution_count": null,
      "outputs": [
        {
          "output_type": "display_data",
          "data": {
            "image/png": "[encoded data removed]",
            "text/plain": [
              "<Figure size 432x288 with 1 Axes>"
            ]
          },
          "metadata": {
            "tags": []
          }
        },
        {
          "output_type": "display_data",
          "data": {
            "image/png": "[encoded data removed]",
            "text/plain": [
              "<Figure size 432x288 with 1 Axes>"
            ]
          },
          "metadata": {
            "tags": []
          }
        }
      ]
    },
    {
      "cell_type": "code",
      "metadata": {
        "id": "Ivg66GOyzLXd",
        "colab_type": "code",
        "colab": {
          "base_uri": "https://localhost:8080/",
          "height": 119
        },
        "outputId": "122a83a5-4bc4-487f-e905-1a325af4d51c"
      },
      "source": [
        "X['sent'][172][2]"
      ],
      "execution_count": null,
      "outputs": [
        {
          "output_type": "execute_result",
          "data": {
            "text/plain": [
              "array([2.73926766e-08, 4.35712608e-03, 1.89240533e-03, 1.94188058e-01,\n",
              "       1.20374560e-03, 1.17602805e-03, 9.78744481e-08, 7.40824316e-06,\n",
              "       1.61402184e-03, 1.62562623e-03, 4.58414579e-05, 1.69063658e-02,\n",
              "       1.33745059e-01, 1.20269551e-05, 7.18259253e-05, 6.69717215e-09,\n",
              "       4.20161435e-08, 6.25647068e-01, 1.87428831e-03, 1.56327989e-02,\n",
              "       6.57432082e-08, 2.13562449e-11, 4.54918672e-11, 2.89231075e-08])"
            ]
          },
          "metadata": {
            "tags": []
          },
          "execution_count": 49
        }
      ]
    },
    {
      "cell_type": "code",
      "metadata": {
        "id": "gHTaxYTsd_Jb",
        "colab_type": "code",
        "colab": {
          "base_uri": "https://localhost:8080/",
          "height": 557
        },
        "outputId": "6435bbce-74df-4e85-e5b2-85f8ba556e3e"
      },
      "source": [
        "import librosa\n",
        "y, sr = librosa.load('/content/drive/My Drive/Dementia_Audio/Audio_Dementia/Control/015-3.wav', sr=8000, mono=True)\n",
        "X=np.load('/content/doc_sent_att.npz')\n",
        "#plt.subplot(210)\n",
        "# plot the first 1024 samples\n",
        "plt.plot(y)\n",
        "# label the axes\n",
        "plt.ylabel(\"Amplitude\")\n",
        "plt.xlabel(\"Sample\")\n",
        "# set the title  \n",
        "plt.title(\"Sample Wav\")\n",
        "# display the plot\n",
        "plt.show()\n",
        "\n",
        "\n",
        "X0=X['sent'][172][3]\n",
        "X0=np.repeat(X0, 40000)\n",
        "plt.plot(X0[:len(y)])\n",
        "plt.xlabel('Sample')\n",
        "plt.ylabel('Attention')\n",
        "plt.show()\n",
        "\n"
      ],
      "execution_count": null,
      "outputs": [
        {
          "output_type": "display_data",
          "data": {
            "image/png": "[encoded data removed]",
            "text/plain": [
              "<Figure size 432x288 with 1 Axes>"
            ]
          },
          "metadata": {
            "tags": []
          }
        },
        {
          "output_type": "display_data",
          "data": {
            "image/png": "[encoded data removed]",
            "text/plain": [
              "<Figure size 432x288 with 1 Axes>"
            ]
          },
          "metadata": {
            "tags": []
          }
        }
      ]
    },
    {
      "cell_type": "code",
      "metadata": {
        "id": "MYsQdnLT2Ppz",
        "colab_type": "code",
        "colab": {
          "base_uri": "https://localhost:8080/",
          "height": 119
        },
        "outputId": "d4151b3e-9d2a-46e0-baf5-936cdf90380c"
      },
      "source": [
        "X['sent'][172][3]"
      ],
      "execution_count": null,
      "outputs": [
        {
          "output_type": "execute_result",
          "data": {
            "text/plain": [
              "array([4.01353282e-06, 1.39412703e-02, 2.10743323e-02, 1.01814680e-02,\n",
              "       1.73525063e-06, 6.44240826e-02, 4.14348304e-01, 1.26671940e-01,\n",
              "       2.85941333e-01, 5.32459840e-02, 7.90511351e-03, 2.26032361e-03,\n",
              "       3.83298220e-11, 1.07295193e-07, 6.16489748e-09, 4.42085322e-17,\n",
              "       1.20039689e-17, 6.52970668e-18, 4.90653844e-18, 4.29594845e-18,\n",
              "       4.10156886e-18, 4.30296790e-18, 6.41497466e-18, 3.36545513e-16])"
            ]
          },
          "metadata": {
            "tags": []
          },
          "execution_count": 51
        }
      ]
    },
    {
      "cell_type": "code",
      "metadata": {
        "id": "oYYE_2-K2PWT",
        "colab_type": "code",
        "colab": {}
      },
      "source": [
        ""
      ],
      "execution_count": null,
      "outputs": []
    },
    {
      "cell_type": "code",
      "metadata": {
        "id": "L3uo4gtqd-Ik",
        "colab_type": "code",
        "colab": {
          "base_uri": "https://localhost:8080/",
          "height": 557
        },
        "outputId": "efb9e7c5-ed71-41fe-b5ad-d5e1deb99216"
      },
      "source": [
        "import librosa\n",
        "y, sr = librosa.load('/content/drive/My Drive/Dementia_Audio/Audio_Dementia/Control/015-4.wav', sr=8000, mono=True)\n",
        "X=np.load('/content/doc_sent_att.npz')\n",
        "#plt.subplot(210)\n",
        "# plot the first 1024 samples\n",
        "plt.plot(y)\n",
        "# label the axes\n",
        "plt.ylabel(\"Amplitude\")\n",
        "plt.xlabel(\"Sample\")\n",
        "# set the title  \n",
        "plt.title(\"Sample Wav\")\n",
        "# display the plot\n",
        "plt.show()\n",
        "\n",
        "\n",
        "X0=X['sent'][172][4]\n",
        "X0=np.repeat(X0, 40000)\n",
        "plt.plot(X0[:len(y)])\n",
        "plt.xlabel('Sample')\n",
        "plt.ylabel('Attention')\n",
        "plt.show()\n",
        "\n"
      ],
      "execution_count": null,
      "outputs": [
        {
          "output_type": "display_data",
          "data": {
            "image/png": "[encoded data removed]",
            "text/plain": [
              "<Figure size 432x288 with 1 Axes>"
            ]
          },
          "metadata": {
            "tags": []
          }
        },
        {
          "output_type": "display_data",
          "data": {
            "image/png": "[encoded data removed]",
            "text/plain": [
              "<Figure size 432x288 with 1 Axes>"
            ]
          },
          "metadata": {
            "tags": []
          }
        }
      ]
    },
    {
      "cell_type": "code",
      "metadata": {
        "id": "1Yj4-Z-346Tz",
        "colab_type": "code",
        "colab": {
          "base_uri": "https://localhost:8080/",
          "height": 119
        },
        "outputId": "65cc757f-6200-4c54-a58a-68e336d20539"
      },
      "source": [
        "X['sent'][172][4]"
      ],
      "execution_count": null,
      "outputs": [
        {
          "output_type": "execute_result",
          "data": {
            "text/plain": [
              "array([1.42162480e-06, 6.74698822e-06, 5.02915820e-04, 8.94504130e-01,\n",
              "       2.71543977e-03, 1.59768406e-02, 1.21125244e-02, 1.45026557e-02,\n",
              "       6.66539740e-11, 1.12441927e-03, 1.62166340e-04, 4.00547009e-07,\n",
              "       5.64739369e-02, 5.80311678e-07, 1.91528082e-03, 5.05769378e-07,\n",
              "       9.80392525e-14, 2.63983705e-15, 7.01218343e-16, 4.05908379e-16,\n",
              "       3.31163889e-16, 3.37207628e-16, 5.75898495e-16, 8.06305774e-14])"
            ]
          },
          "metadata": {
            "tags": []
          },
          "execution_count": 54
        }
      ]
    },
    {
      "cell_type": "code",
      "metadata": {
        "id": "9ZlIFaaIVtmL",
        "colab_type": "code",
        "colab": {
          "base_uri": "https://localhost:8080/",
          "height": 312
        },
        "outputId": "dc7df70b-36cf-40d1-8f94-4168238f94b7"
      },
      "source": [
        "import librosa\n",
        "y0, sr = librosa.load('/content/drive/My Drive/Dementia_Audio/Audio_Dementia/AD/010-0.wav', sr=8000, mono=True)\n",
        "f, ax = plt.subplots(5, 2)\n",
        "                            \n",
        "ax[0,0].plot(y0)\n",
        "# label the axes\n",
        "ax[0,0].set(xlabel='X Values', ylabel='Y Values',\n",
        "       title='Derivative Function of f')\n",
        "\n",
        "y1, sr = librosa.load('/content/drive/My Drive/Dementia_Audio/Audio_Dementia/AD/010-1.wav', sr=8000, mono=True)                          \n",
        "ax[1,0].plot(y1)\n",
        "# label the axes\n",
        "ax[1,0].set(xlabel='X Values', ylabel='Y Values'\n",
        "       )\n",
        "\n",
        "\n",
        "y2, sr = librosa.load('/content/drive/My Drive/Dementia_Audio/Audio_Dementia/AD/010-2.wav', sr=8000, mono=True)                            \n",
        "ax[2,0].plot(y2)\n",
        "# label the axes\n",
        "ax[2,0].set(xlabel='X Values', ylabel='Y Values'\n",
        "       )\n",
        "\n",
        "\n",
        "y3, sr = librosa.load('/content/drive/My Drive/Dementia_Audio/Audio_Dementia/AD/010-3.wav', sr=8000, mono=True)\n",
        "ax[3,0].plot(y3)\n",
        "# label the axes\n",
        "ax[3,0].set(xlabel='X Values', ylabel='Y Values'\n",
        "       )\n",
        "\n",
        "\n",
        "y4, sr = librosa.load('/content/drive/My Drive/Dementia_Audio/Audio_Dementia/AD/010-4.wav', sr=8000, mono=True)\n",
        "ax[4,0].plot(y4)\n",
        "# label the axes\n",
        "ax[4,0].set(xlabel='X Values', ylabel='Y Values'\n",
        "       )\n",
        "\n",
        "\n",
        "k=0\n",
        "X0=X['sent'][4][k]\n",
        "X0=np.repeat(X0, 40000)\n",
        "ax[k,1].plot(X0[:len(y)])\n",
        "ax[k,1].set(xlabel='X Values', ylabel='Y Values',\n",
        "       title='Derivative Function of f')\n",
        "\n",
        "k=1\n",
        "X0=X['sent'][4][k]\n",
        "X0=np.repeat(X0, 40000)\n",
        "ax[k,1].plot(X0[:len(y)])\n",
        "ax[k,1].set(xlabel='X Values', ylabel='Y Values'\n",
        "       )\n",
        "\n",
        "k=2\n",
        "X0=X['sent'][4][k]\n",
        "X0=np.repeat(X0, 40000)\n",
        "ax[k,1].plot(X0[:len(y)])\n",
        "ax[k,1].set(xlabel='X Values', ylabel='Y Values'\n",
        "       )\n",
        "\n",
        "k=3\n",
        "X0=X['sent'][4][k]\n",
        "X0=np.repeat(X0, 40000)\n",
        "ax[k,1].plot(X0[:len(y)])\n",
        "ax[k,1].set(xlabel='X Values', ylabel='Y Values'\n",
        "       )\n",
        "\n",
        "k=4\n",
        "X0=X['sent'][4][k]\n",
        "X0=np.repeat(X0, 40000)\n",
        "ax[k,1].plot(X0[:len(y)])\n",
        "ax[k,1].set(xlabel='X Values', ylabel='Y Values'\n",
        "       )\n"
      ],
      "execution_count": null,
      "outputs": [
        {
          "output_type": "execute_result",
          "data": {
            "text/plain": [
              "[Text(0, 0.5, 'Y Values'), Text(0.5, 0, 'X Values')]"
            ]
          },
          "metadata": {
            "tags": []
          },
          "execution_count": 29
        },
        {
          "output_type": "display_data",
          "data": {
            "image/png": "[encoded data removed]",
            "text/plain": [
              "<Figure size 432x288 with 10 Axes>"
            ]
          },
          "metadata": {
            "tags": []
          }
        }
      ]
    },
    {
      "cell_type": "code",
      "metadata": {
        "id": "0lilFLwuVyzR",
        "colab_type": "code",
        "colab": {
          "base_uri": "https://localhost:8080/",
          "height": 557
        },
        "outputId": "5411ee9d-2252-4610-8d2e-b8972b14da75"
      },
      "source": [
        ""
      ],
      "execution_count": null,
      "outputs": [
        {
          "output_type": "display_data",
          "data": {
            "image/png": "[encoded data removed]",
            "text/plain": [
              "<Figure size 432x288 with 1 Axes>"
            ]
          },
          "metadata": {
            "tags": []
          }
        },
        {
          "output_type": "display_data",
          "data": {
            "image/png": "[encoded data removed]",
            "text/plain": [
              "<Figure size 432x288 with 1 Axes>"
            ]
          },
          "metadata": {
            "tags": []
          }
        }
      ]
    },
    {
      "cell_type": "code",
      "metadata": {
        "id": "AoyOhFjYXKi6",
        "colab_type": "code",
        "colab": {
          "base_uri": "https://localhost:8080/",
          "height": 34
        },
        "outputId": "69ea8292-70c7-4351-8f12-4048e3584129"
      },
      "source": [
        "len(y)"
      ],
      "execution_count": null,
      "outputs": [
        {
          "output_type": "execute_result",
          "data": {
            "text/plain": [
              "448680"
            ]
          },
          "metadata": {
            "tags": []
          },
          "execution_count": 11
        }
      ]
    },
    {
      "cell_type": "code",
      "metadata": {
        "id": "ylxy7YEBb6RJ",
        "colab_type": "code",
        "colab": {
          "base_uri": "https://localhost:8080/",
          "height": 279
        },
        "outputId": "9651776f-57e1-49f8-b2c9-644c053eb66b"
      },
      "source": [
        "plt.magnitude_spectrum(y[:320000], Fs=8000)\n",
        "plt.xlabel('Frequency')\n",
        "\n",
        "plt.ylabel('Magnitude')\n",
        "\n",
        "plt.show()"
      ],
      "execution_count": null,
      "outputs": [
        {
          "output_type": "display_data",
          "data": {
            "image/png": "[encoded data removed]",
            "text/plain": [
              "<Figure size 432x288 with 1 Axes>"
            ]
          },
          "metadata": {
            "tags": []
          }
        }
      ]
    },
    {
      "cell_type": "code",
      "metadata": {
        "id": "7jP1zAnQcVEk",
        "colab_type": "code",
        "colab": {
          "base_uri": "https://localhost:8080/",
          "height": 279
        },
        "outputId": "e7f71594-28d7-42ca-a3cd-ef9fdeea72ce"
      },
      "source": [
        "import librosa\n",
        "y, sr = librosa.load('/content/drive/My Drive/Dementia_Audio/Audio_Dementia/AD/033-0.wav', sr=8000, mono=True)\n",
        "\n",
        "plt.magnitude_spectrum(y, Fs=8000)\n",
        "plt.xlabel('Frequency')\n",
        "\n",
        "plt.ylabel('Magnitude')\n",
        "\n",
        "plt.show()"
      ],
      "execution_count": null,
      "outputs": [
        {
          "output_type": "display_data",
          "data": {
            "image/png": "[encoded data removed]",
            "text/plain": [
              "<Figure size 432x288 with 1 Axes>"
            ]
          },
          "metadata": {
            "tags": []
          }
        }
      ]
    },
    {
      "cell_type": "code",
      "metadata": {
        "id": "V2oZUGLefcMs",
        "colab_type": "code",
        "colab": {
          "base_uri": "https://localhost:8080/",
          "height": 1000
        },
        "outputId": "bcfb30ec-f0ba-473b-a3dd-47dae2993340"
      },
      "source": [
        "k=4\n",
        "from numpy import trapz\n",
        "\n",
        "X0=X['sent'][k][0]\n",
        "X0=np.repeat(X0, 40000)\n",
        "area = trapz(X0[:800000],dx=1)\n",
        "print(\"area =\", area)\n",
        "plt.plot(X0)\n",
        "plt.xlabel('Sample')\n",
        "\n",
        "plt.ylabel('Attention')\n",
        "\n",
        "plt.show()\n",
        "\n",
        "\n",
        "X0=X['sent'][k][1]\n",
        "X0=np.repeat(X0, 40000)\n",
        "plt.plot(X0)\n",
        "plt.xlabel('Sample')\n",
        "\n",
        "plt.ylabel('Attention')\n",
        "\n",
        "plt.show()\n",
        "area = trapz(X0[:800000])\n",
        "print(\"area =\", area)\n",
        "\n",
        "X0=X['sent'][k][2]\n",
        "X0=np.repeat(X0, 40000)\n",
        "plt.plot(X0)\n",
        "plt.xlabel('Sample')\n",
        "\n",
        "plt.ylabel('Attention')\n",
        "\n",
        "plt.show()\n",
        "area = trapz(X0[:800000])\n",
        "print(\"area =\", area)\n",
        "\n",
        "\n",
        "X0=X['sent'][k][3]\n",
        "X0=np.repeat(X0, 40000)\n",
        "plt.plot(X0)\n",
        "plt.xlabel('Sample')\n",
        "\n",
        "plt.ylabel('Attention')\n",
        "\n",
        "plt.show()\n",
        "area = trapz(X0[:800000])\n",
        "print(\"area =\", area)\n",
        "\n",
        "X0=X['sent'][k][4]\n",
        "X0=np.repeat(X0, 40000)\n",
        "plt.plot(X0)\n",
        "plt.xlabel('Sample')\n",
        "\n",
        "plt.ylabel('Attention')\n",
        "\n",
        "plt.show()\n",
        "area = trapz(X0[:800000])\n",
        "print(\"area =\", area)"
      ],
      "execution_count": null,
      "outputs": [
        {
          "output_type": "stream",
          "text": [
            "area = 257.137735583407\n"
          ],
          "name": "stdout"
        },
        {
          "output_type": "display_data",
          "data": {
            "image/png": "[encoded data removed]",
            "text/plain": [
              "<Figure size 432x288 with 1 Axes>"
            ]
          },
          "metadata": {
            "tags": []
          }
        },
        {
          "output_type": "display_data",
          "data": {
            "image/png": "[encoded data removed]",
            "text/plain": [
              "<Figure size 432x288 with 1 Axes>"
            ]
          },
          "metadata": {
            "tags": []
          }
        },
        {
          "output_type": "stream",
          "text": [
            "area = 40000.00020132209\n"
          ],
          "name": "stdout"
        },
        {
          "output_type": "display_data",
          "data": {
            "image/png": "[encoded data removed]",
            "text/plain": [
              "<Figure size 432x288 with 1 Axes>"
            ]
          },
          "metadata": {
            "tags": []
          }
        },
        {
          "output_type": "stream",
          "text": [
            "area = 39993.01960648915\n"
          ],
          "name": "stdout"
        },
        {
          "output_type": "display_data",
          "data": {
            "image/png": "[encoded data removed]",
            "text/plain": [
              "<Figure size 432x288 with 1 Axes>"
            ]
          },
          "metadata": {
            "tags": []
          }
        },
        {
          "output_type": "stream",
          "text": [
            "area = 39999.992112537024\n"
          ],
          "name": "stdout"
        },
        {
          "output_type": "display_data",
          "data": {
            "image/png": "[encoded data removed]",
            "text/plain": [
              "<Figure size 432x288 with 1 Axes>"
            ]
          },
          "metadata": {
            "tags": []
          }
        },
        {
          "output_type": "stream",
          "text": [
            "area = 40000.00292626922\n"
          ],
          "name": "stdout"
        }
      ]
    },
    {
      "cell_type": "code",
      "metadata": {
        "id": "7kkUjUF9gAts",
        "colab_type": "code",
        "colab": {
          "base_uri": "https://localhost:8080/",
          "height": 374
        },
        "outputId": "5d13ac1e-49ec-487d-90a0-4a6f733272f4"
      },
      "source": [
        "X['doc'][:20]"
      ],
      "execution_count": null,
      "outputs": [
        {
          "output_type": "execute_result",
          "data": {
            "text/plain": [
              "array([[0.18784593, 0.17908777, 0.2662115 , 0.17912094, 0.18773387],\n",
              "       [0.21112438, 0.20794992, 0.1930377 , 0.18139492, 0.20649311],\n",
              "       [0.21692154, 0.22301906, 0.19009633, 0.19890419, 0.1710589 ],\n",
              "       [0.23661347, 0.20515099, 0.21254192, 0.17164329, 0.17405032],\n",
              "       [0.16516426, 0.18370843, 0.21049051, 0.22595495, 0.21468186],\n",
              "       [0.26395115, 0.26160523, 0.16041704, 0.1593824 , 0.15464419],\n",
              "       [0.0293961 , 0.22969599, 0.04691314, 0.26290432, 0.43109044],\n",
              "       [0.21072389, 0.21060456, 0.19601971, 0.18279235, 0.19985944],\n",
              "       [0.22727379, 0.23046668, 0.18505184, 0.18796484, 0.16924289],\n",
              "       [0.23390025, 0.20436266, 0.18717706, 0.19803458, 0.17652543],\n",
              "       [0.2610664 , 0.18601348, 0.19301578, 0.17508082, 0.18482348],\n",
              "       [0.21730049, 0.18530776, 0.20731299, 0.18936105, 0.20071767],\n",
              "       [0.06924348, 0.12458949, 0.22528063, 0.28286836, 0.29801798],\n",
              "       [0.21647234, 0.19533613, 0.21720347, 0.19683968, 0.17414846],\n",
              "       [0.22201268, 0.21820949, 0.20231225, 0.18401955, 0.17344606],\n",
              "       [0.20829739, 0.21258928, 0.20611349, 0.19607934, 0.17692041],\n",
              "       [0.23587146, 0.23258498, 0.17732048, 0.17693737, 0.17728572],\n",
              "       [0.21646358, 0.20032297, 0.21096633, 0.19002445, 0.1822227 ],\n",
              "       [0.20956771, 0.21376278, 0.20617907, 0.19473356, 0.17575689],\n",
              "       [0.20870104, 0.18350042, 0.14891641, 0.20536792, 0.2535142 ]],\n",
              "      dtype=float32)"
            ]
          },
          "metadata": {
            "tags": []
          },
          "execution_count": 64
        }
      ]
    },
    {
      "cell_type": "code",
      "metadata": {
        "id": "GZpRwrZy7V9j",
        "colab_type": "code",
        "colab": {}
      },
      "source": [
        "X0=X['sent'][k][0]"
      ],
      "execution_count": null,
      "outputs": []
    },
    {
      "cell_type": "code",
      "metadata": {
        "id": "AgoELmDQx5HZ",
        "colab_type": "code",
        "colab": {
          "base_uri": "https://localhost:8080/",
          "height": 119
        },
        "outputId": "661729f5-545a-4dce-e397-9f75a1944de0"
      },
      "source": [
        "X0"
      ],
      "execution_count": null,
      "outputs": [
        {
          "output_type": "execute_result",
          "data": {
            "text/plain": [
              "array([6.33832526e-12, 7.09371625e-06, 1.94902113e-05, 1.02783503e-07,\n",
              "       1.47518091e-04, 1.76259282e-03, 1.51163121e-07, 3.68816708e-03,\n",
              "       1.40062213e-01, 1.50751192e-02, 8.39196801e-01, 4.07502230e-05,\n",
              "       1.73024369e-14, 1.55985691e-14, 1.44130601e-14, 1.36528065e-14,\n",
              "       1.31704086e-14, 1.28640901e-14, 1.26770729e-14, 1.25874432e-14,\n",
              "       1.26238690e-14, 1.30011875e-14, 1.56218219e-14, 1.30851561e-13])"
            ]
          },
          "metadata": {
            "tags": []
          },
          "execution_count": 57
        }
      ]
    },
    {
      "cell_type": "code",
      "metadata": {
        "id": "u1aUnb24uSQs",
        "colab_type": "code",
        "colab": {}
      },
      "source": [
        "X0=np.repeat(X0[:12], 40000)"
      ],
      "execution_count": null,
      "outputs": []
    },
    {
      "cell_type": "code",
      "metadata": {
        "id": "S2BMDfkZuxJe",
        "colab_type": "code",
        "colab": {
          "base_uri": "https://localhost:8080/",
          "height": 34
        },
        "outputId": "c460baa7-f85e-47a8-bb2a-1c53c2655d62"
      },
      "source": [
        "len(X0)"
      ],
      "execution_count": null,
      "outputs": [
        {
          "output_type": "execute_result",
          "data": {
            "text/plain": [
              "480000"
            ]
          },
          "metadata": {
            "tags": []
          },
          "execution_count": 46
        }
      ]
    },
    {
      "cell_type": "code",
      "metadata": {
        "id": "0bNauGEZtts-",
        "colab_type": "code",
        "colab": {
          "base_uri": "https://localhost:8080/",
          "height": 265
        },
        "outputId": "1feb6a94-61de-4928-c90f-caf309402b58"
      },
      "source": [
        "plt.plot(X0)\n",
        "plt.show()"
      ],
      "execution_count": null,
      "outputs": [
        {
          "output_type": "display_data",
          "data": {
            "image/png": "[encoded data removed]",
            "text/plain": [
              "<Figure size 432x288 with 1 Axes>"
            ]
          },
          "metadata": {
            "tags": []
          }
        }
      ]
    },
    {
      "cell_type": "code",
      "metadata": {
        "id": "owAkj6VMcgO2",
        "colab_type": "code",
        "colab": {
          "base_uri": "https://localhost:8080/",
          "height": 34
        },
        "outputId": "6b291bbb-002d-42f2-d36c-517c5f18674c"
      },
      "source": [
        "sent['y'].shape"
      ],
      "execution_count": null,
      "outputs": [
        {
          "output_type": "execute_result",
          "data": {
            "text/plain": [
              "(268, 5, 24)"
            ]
          },
          "metadata": {
            "tags": []
          },
          "execution_count": 52
        }
      ]
    },
    {
      "cell_type": "code",
      "metadata": {
        "id": "ZG2gvLtaX1tF",
        "colab_type": "code",
        "colab": {}
      },
      "source": [
        "import pandas as pd\n",
        "sent_att=pd.DataFrame(sent_att)\n",
        "doc_att=pd.DataFrame(han_model.show_doc_attention(X))\n",
        "\n",
        "sent_att.to_csv('/content/sent_att.csv')\n",
        "doc_att.to_csv('/content/doc_att.csv')\n"
      ],
      "execution_count": null,
      "outputs": []
    },
    {
      "cell_type": "code",
      "metadata": {
        "id": "ZzEybL75UhX7",
        "colab_type": "code",
        "colab": {
          "base_uri": "https://localhost:8080/",
          "height": 238
        },
        "outputId": "80c1ce5b-cef9-4c4e-d3a2-f0b392628ec6"
      },
      "source": [
        "han_model.show_doc_attention(X)"
      ],
      "execution_count": null,
      "outputs": [
        {
          "output_type": "execute_result",
          "data": {
            "text/plain": [
              "array([[4.28344786e-01, 9.97687000e-09, 5.71655214e-01, 1.18803669e-08,\n",
              "        1.16093650e-08],\n",
              "       [9.99832153e-01, 3.96743490e-05, 3.72490686e-05, 4.20096185e-05,\n",
              "        4.88153164e-05],\n",
              "       [1.66532373e-05, 1.54510388e-07, 9.99982715e-01, 1.85681444e-07,\n",
              "        1.88643455e-07],\n",
              "       ...,\n",
              "       [1.00000000e+00, 3.09147707e-11, 1.91529206e-11, 2.01582605e-11,\n",
              "        2.17221519e-11],\n",
              "       [1.00000000e+00, 6.53517657e-11, 1.38674046e-11, 1.44218266e-11,\n",
              "        1.55135852e-11],\n",
              "       [5.51880767e-05, 1.06056419e-09, 9.99944806e-01, 2.11388147e-11,\n",
              "        1.43421395e-11]], dtype=float32)"
            ]
          },
          "metadata": {
            "tags": []
          },
          "execution_count": 19
        }
      ]
    },
    {
      "cell_type": "code",
      "metadata": {
        "id": "Z0bxKLuZeK9R",
        "colab_type": "code",
        "colab": {}
      },
      "source": [
        "X[5,2]"
      ],
      "execution_count": null,
      "outputs": []
    },
    {
      "cell_type": "code",
      "metadata": {
        "id": "0MBUej8odlHM",
        "colab_type": "code",
        "colab": {
          "base_uri": "https://localhost:8080/",
          "height": 68
        },
        "outputId": "f3f73f4d-6e43-4d43-f96c-e2de3bb8eefe"
      },
      "source": [
        "han_model.show_sent_attention(X[0])[2]"
      ],
      "execution_count": null,
      "outputs": [
        {
          "output_type": "execute_result",
          "data": {
            "text/plain": [
              "array([0.919394  , 0.05504532, 0.0050072 , 0.00320946, 0.00231385,\n",
              "       0.00243928, 0.00235019, 0.0022221 , 0.00197761, 0.00196938,\n",
              "       0.00200235, 0.00206926], dtype=float32)"
            ]
          },
          "metadata": {
            "tags": []
          },
          "execution_count": 19
        }
      ]
    },
    {
      "cell_type": "code",
      "metadata": {
        "id": "j16NgT7TdVko",
        "colab_type": "code",
        "colab": {
          "base_uri": "https://localhost:8080/",
          "height": 51
        },
        "outputId": "87dacf20-e78b-4d57-d165-55dfbeb9e20b"
      },
      "source": [
        "han_model.show_doc_attention(X)[0]"
      ],
      "execution_count": null,
      "outputs": [
        {
          "output_type": "execute_result",
          "data": {
            "text/plain": [
              "array([0.24371406, 0.17326117, 0.4336014 , 0.07949234, 0.06993096],\n",
              "      dtype=float32)"
            ]
          },
          "metadata": {
            "tags": []
          },
          "execution_count": 18
        }
      ]
    },
    {
      "cell_type": "code",
      "metadata": {
        "id": "f3g2KiLOW6Q7",
        "colab_type": "code",
        "colab": {}
      },
      "source": [
        "han_model.predict"
      ],
      "execution_count": null,
      "outputs": []
    },
    {
      "cell_type": "markdown",
      "metadata": {
        "id": "0lnvl8PwS0xy",
        "colab_type": "text"
      },
      "source": [
        "**Cross Validation**"
      ]
    },
    {
      "cell_type": "code",
      "metadata": {
        "id": "tntLaeyPS4lf",
        "colab_type": "code",
        "colab": {}
      },
      "source": [
        "from sklearn.model_selection import StratifiedKFold\n",
        "def newest(path):\n",
        "    files = os.listdir(path)\n",
        "    paths = [os.path.join(path, basename) for basename in files]\n",
        "    return max(paths, key=os.path.getctime)\n",
        "\n",
        "Y_C=np.ones(99)\n",
        "Y_D=np.zeros(99)\n",
        "Y=np.concatenate((Y_D,Y_C))\n",
        "skf = StratifiedKFold(11)\n",
        "acc= []\n",
        "i=0\n",
        "for train, test in skf.split(X,Y):\n",
        "        i=i+1\n",
        "        xt, xv, yt, yv = X[train, :], X[test, :], Y[train], Y[test]\n",
        "        yt=to_categorical(yt, num_classes=2)\n",
        "        yv=to_categorical(yv, num_classes=2)\n",
        "        checkpoint_path='/content/model.{epoch:02d}-{val_loss:.2f}.hdf5'\n",
        "        han_model.train_model(checkpoint_path, np.array(xt), np.array(yt), np.array(xv), np.array(yv),epochs=10,batch_size=20)\n",
        "        # load weights\n",
        "        han_model.load_weights(newest('/content/'))\n",
        "        # Compile model (required to make predictions)\n",
        "        han_model.compile(loss='categorical_crossentropy', optimizer='adam', metrics=['accuracy'])\n",
        "        yhat=han_model.predict(xv)\n",
        "        accuracy=accuracy_score(list(map(lambda x: np.argmax(x), yv)), list(map(lambda x: np.argmax(x), yhat)))\n",
        "        print('accuracy=',accuracy)\n",
        "        acc.append(accuracy)\n",
        "        del history"
      ],
      "execution_count": null,
      "outputs": []
    },
    {
      "cell_type": "markdown",
      "metadata": {
        "id": "leqEOJrDafd1",
        "colab_type": "text"
      },
      "source": [
        "**Vggish Embedding Classification with DNN**"
      ]
    },
    {
      "cell_type": "markdown",
      "metadata": {
        "id": "fMPVahI0vxq_",
        "colab_type": "text"
      },
      "source": [
        "**Simple DNN**"
      ]
    },
    {
      "cell_type": "code",
      "metadata": {
        "id": "YSK6lhBB7s4p",
        "colab_type": "code",
        "colab": {}
      },
      "source": [
        "from keras.callbacks import ReduceLROnPlateau\n",
        "from keras.utils.np_utils import to_categorical\n",
        "import keras.backend as K\n",
        "from keras import regularizers\n",
        "from keras.layers import Lambda\n",
        "from sklearn.model_selection import train_test_split\n",
        "from keras.layers.convolutional import Conv1D, MaxPooling1D\n",
        "from keras.layers.core import Activation, Dense\n",
        "from keras.layers.normalization import BatchNormalization\n",
        "from keras.layers import TimeDistributed, Flatten, LSTM, GRU, Bidirectional\n",
        "from keras.models import Sequential\n",
        "from sklearn.metrics import accuracy_score\n",
        "from sklearn.model_selection import StratifiedKFold\n",
        "from keras.callbacks import ModelCheckpoint\n",
        "import numpy as np\n",
        "import pickle\n",
        "import os\n",
        "from glob import iglob\n",
        "import glob\n",
        "import re\n",
        "\n",
        "\n",
        "k=120\n",
        "def m5(num_classes=2):\n",
        "    print('Using Model M5')\n",
        "    m = Sequential()\n",
        "    m.add(Dense(100,input_shape=[k,128]))\n",
        "    #m.add(LSTM(units=128,return_sequences=True,input_shape=[k,128]))\n",
        "    #m.add(LSTM(units=128,input_shape=[k,128]))\n",
        "    #m.add(LSTM(units=64))\n",
        "    m.add(Flatten())\n",
        "    m.add(Dense(num_classes, activation='softmax'))\n",
        "    return m\n",
        "\n"
      ],
      "execution_count": null,
      "outputs": []
    },
    {
      "cell_type": "code",
      "metadata": {
        "id": "nlw3-bFX8UiK",
        "colab_type": "code",
        "colab": {}
      },
      "source": [
        ""
      ],
      "execution_count": null,
      "outputs": []
    },
    {
      "cell_type": "markdown",
      "metadata": {
        "id": "GpEHGTjIv2XQ",
        "colab_type": "text"
      },
      "source": [
        "**Bidirectional LSTM**"
      ]
    },
    {
      "cell_type": "code",
      "metadata": {
        "id": "kTSwTgetv1qq",
        "colab_type": "code",
        "colab": {
          "base_uri": "https://localhost:8080/",
          "height": 34
        },
        "outputId": "b81deb25-f0a3-400a-efb0-b33f6ea7f67d"
      },
      "source": [
        "from keras.callbacks import ReduceLROnPlateau\n",
        "from keras.utils.np_utils import to_categorical\n",
        "import keras.backend as K\n",
        "from keras import regularizers\n",
        "from keras.layers import Lambda\n",
        "from sklearn.model_selection import train_test_split\n",
        "from keras.layers.convolutional import Conv1D, MaxPooling1D\n",
        "from keras.layers.core import Activation, Dense\n",
        "from keras.layers.normalization import BatchNormalization\n",
        "from keras.layers import TimeDistributed, Flatten, LSTM, GRU, Bidirectional\n",
        "from keras.models import Sequential\n",
        "from sklearn.metrics import accuracy_score\n",
        "from sklearn.model_selection import StratifiedKFold\n",
        "from keras.callbacks import ModelCheckpoint\n",
        "import numpy as np\n",
        "import pickle\n",
        "import os\n",
        "from glob import iglob\n",
        "import glob\n",
        "import re\n",
        "\n",
        "\n",
        "k=120\n",
        "def m5(num_classes=2):\n",
        "    print('Using Model M5')\n",
        "    m = Sequential()\n",
        "    m.add(Bidirectional(LSTM (units=128),input_shape=(k,128)))\n",
        "    #m.add(LSTM(units=128,input_shape=[k,128]))\n",
        "    #m.add(LSTM(units=64))\n",
        "    #m.add(Flatten())\n",
        "    m.add(Dense(num_classes, activation='softmax'))\n",
        "    return m\n",
        "\n"
      ],
      "execution_count": null,
      "outputs": [
        {
          "output_type": "stream",
          "text": [
            "Using TensorFlow backend.\n"
          ],
          "name": "stderr"
        }
      ]
    },
    {
      "cell_type": "markdown",
      "metadata": {
        "id": "F_zPyx1ADd-d",
        "colab_type": "text"
      },
      "source": [
        "**Attention- BLSTM**"
      ]
    },
    {
      "cell_type": "code",
      "metadata": {
        "id": "tDBvVixCDcnt",
        "colab_type": "code",
        "colab": {}
      },
      "source": [
        "from keras import backend as K\n",
        "from keras.engine.topology import Layer\n",
        "from keras import initializers, regularizers, constraints\n",
        "\n",
        "\n",
        "class Attention(Layer):\n",
        "    def __init__(self, step_dim,\n",
        "                 W_regularizer=None, b_regularizer=None,\n",
        "                 W_constraint=None, b_constraint=None,\n",
        "                 bias=True, **kwargs):\n",
        "        self.supports_masking = True\n",
        "        self.init = initializers.get('glorot_uniform')\n",
        "\n",
        "        self.W_regularizer = regularizers.get(W_regularizer)\n",
        "        self.b_regularizer = regularizers.get(b_regularizer)\n",
        "\n",
        "        self.W_constraint = constraints.get(W_constraint)\n",
        "        self.b_constraint = constraints.get(b_constraint)\n",
        "\n",
        "        self.bias = bias\n",
        "        self.step_dim = step_dim\n",
        "        self.features_dim = 0\n",
        "        super(Attention, self).__init__(**kwargs)\n",
        "\n",
        "    def build(self, input_shape):\n",
        "        assert len(input_shape) == 3\n",
        "\n",
        "        self.W = self.add_weight((input_shape[-1],),\n",
        "                                 initializer=self.init,\n",
        "                                 name='{}_W'.format(self.name),\n",
        "                                 regularizer=self.W_regularizer,\n",
        "                                 constraint=self.W_constraint)\n",
        "        self.features_dim = input_shape[-1]\n",
        "\n",
        "        if self.bias:\n",
        "            self.b = self.add_weight((input_shape[1],),\n",
        "                                     initializer='zero',\n",
        "                                     name='{}_b'.format(self.name),\n",
        "                                     regularizer=self.b_regularizer,\n",
        "                                     constraint=self.b_constraint)\n",
        "        else:\n",
        "            self.b = None\n",
        "\n",
        "        self.built = True\n",
        "\n",
        "    def compute_mask(self, input, input_mask=None):\n",
        "        return None\n",
        "\n",
        "    def call(self, x, mask=None):\n",
        "        features_dim = self.features_dim\n",
        "        step_dim = self.step_dim\n",
        "\n",
        "        eij = K.reshape(K.dot(K.reshape(x, (-1, features_dim)),\n",
        "                        K.reshape(self.W, (features_dim, 1))), (-1, step_dim))\n",
        "\n",
        "        if self.bias:\n",
        "            eij += self.b\n",
        "\n",
        "        eij = K.tanh(eij)\n",
        "\n",
        "        a = K.exp(eij)\n",
        "\n",
        "        if mask is not None:\n",
        "            a *= K.cast(mask, K.floatx())\n",
        "\n",
        "        a /= K.cast(K.sum(a, axis=1, keepdims=True) + K.epsilon(), K.floatx())\n",
        "\n",
        "        a = K.expand_dims(a)\n",
        "        weighted_input = x * a\n",
        "        return K.sum(weighted_input, axis=1)\n",
        "\n",
        "    def compute_output_shape(self, input_shape):\n",
        "        return input_shape[0],  self.features_dim\n",
        "\n"
      ],
      "execution_count": null,
      "outputs": []
    },
    {
      "cell_type": "code",
      "metadata": {
        "id": "5B-wo5wQEkai",
        "colab_type": "code",
        "colab": {}
      },
      "source": [
        "from keras.callbacks import ReduceLROnPlateau\n",
        "from keras.utils.np_utils import to_categorical\n",
        "import keras.backend as K\n",
        "from keras import regularizers\n",
        "from keras.layers import Lambda\n",
        "from sklearn.model_selection import train_test_split\n",
        "from keras.layers.convolutional import Conv1D, MaxPooling1D\n",
        "from keras.layers.core import Activation, Dense\n",
        "from keras.layers.normalization import BatchNormalization\n",
        "from keras.layers import TimeDistributed, Flatten, LSTM, GRU, Bidirectional,  Dropout\n",
        "from keras.models import Sequential\n",
        "from sklearn.metrics import accuracy_score\n",
        "from sklearn.model_selection import StratifiedKFold\n",
        "from keras.callbacks import ModelCheckpoint\n",
        "import numpy as np\n",
        "import pickle\n",
        "import os\n",
        "from glob import iglob\n",
        "import glob\n",
        "import re\n",
        "\n",
        "\n",
        "k=120\n",
        "def m5(num_classes=2):\n",
        "    print('Using Model M5')\n",
        "    m = Sequential()\n",
        "    m.add(Bidirectional(LSTM(64, return_sequences=True),input_shape=(k,128)))\n",
        "    m.add(Bidirectional(LSTM(32, return_sequences=True)))\n",
        "    m.add(Attention(120))\n",
        "    #x = Dense(256, activation=\"relu\")(x)\n",
        "    m.add(Dropout(0.25))\n",
        "    m.add(Dense(2, activation=\"softmax\"))\n",
        "    return m\n"
      ],
      "execution_count": null,
      "outputs": []
    },
    {
      "cell_type": "code",
      "metadata": {
        "id": "kqHkSl7-w2w4",
        "colab_type": "code",
        "colab": {}
      },
      "source": [
        "from keras.callbacks import ReduceLROnPlateau\n",
        "from keras.utils.np_utils import to_categorical\n",
        "import keras.backend as K\n",
        "from keras import regularizers\n",
        "from keras.layers import Lambda\n",
        "from sklearn.model_selection import train_test_split\n",
        "from keras.layers.convolutional import Conv1D, MaxPooling1D\n",
        "from keras.layers.core import Activation, Dense\n",
        "from keras.layers.normalization import BatchNormalization\n",
        "from keras.layers import TimeDistributed, Flatten, LSTM, GRU, Bidirectional,  Dropout\n",
        "from keras.models import Sequential\n",
        "from sklearn.metrics import accuracy_score\n",
        "from sklearn.model_selection import StratifiedKFold\n",
        "from keras.callbacks import ModelCheckpoint\n",
        "import numpy as np\n",
        "import pickle\n",
        "import os\n",
        "from glob import iglob\n",
        "import glob\n",
        "import re\n",
        "from han.attention import Attention\n",
        "\n",
        "\n",
        "k=120\n",
        "def m5(num_classes=2):\n",
        "    print('Using Model M5')\n",
        "    m = Sequential()\n",
        "    m.add(TimeDistributed(Bidirectional(LSTM(64, return_sequences=True)),input_shape=(12,10,128)))\n",
        "    #m.add(Bidirectional(LSTM(32, return_sequences=True)))\n",
        "    doc_att = Attention(name='sent_attention')(dense_text)\n",
        "    m.add(Attention(120))\n",
        "    #x = Dense(256, activation=\"relu\")(x)\n",
        "    m.add(Dropout(0.25))\n",
        "    m.add(Dense(2, activation=\"softmax\"))\n",
        "    return m\n"
      ],
      "execution_count": null,
      "outputs": []
    },
    {
      "cell_type": "code",
      "metadata": {
        "id": "ViwlbReAxsov",
        "colab_type": "code",
        "colab": {
          "base_uri": "https://localhost:8080/",
          "height": 351
        },
        "outputId": "cffefe4c-61f7-4217-f34c-f862dde5676e"
      },
      "source": [
        "model = m5(num_classes=2)\n",
        "#model.build(input_shape=[30,128])\n",
        "\n",
        "print(model.summary())"
      ],
      "execution_count": null,
      "outputs": [
        {
          "output_type": "stream",
          "text": [
            "Using Model M5\n"
          ],
          "name": "stdout"
        },
        {
          "output_type": "error",
          "ename": "NameError",
          "evalue": "ignored",
          "traceback": [
            "\u001b[0;31m---------------------------------------------------------------------------\u001b[0m",
            "\u001b[0;31mNameError\u001b[0m                                 Traceback (most recent call last)",
            "\u001b[0;32m<ipython-input-13-b0efe37b53bf>\u001b[0m in \u001b[0;36m<module>\u001b[0;34m()\u001b[0m\n\u001b[0;32m----> 1\u001b[0;31m \u001b[0mmodel\u001b[0m \u001b[0;34m=\u001b[0m \u001b[0mm5\u001b[0m\u001b[0;34m(\u001b[0m\u001b[0mnum_classes\u001b[0m\u001b[0;34m=\u001b[0m\u001b[0;36m2\u001b[0m\u001b[0;34m)\u001b[0m\u001b[0;34m\u001b[0m\u001b[0;34m\u001b[0m\u001b[0m\n\u001b[0m\u001b[1;32m      2\u001b[0m \u001b[0;31m#model.build(input_shape=[30,128])\u001b[0m\u001b[0;34m\u001b[0m\u001b[0;34m\u001b[0m\u001b[0;34m\u001b[0m\u001b[0m\n\u001b[1;32m      3\u001b[0m \u001b[0;34m\u001b[0m\u001b[0m\n\u001b[1;32m      4\u001b[0m \u001b[0mprint\u001b[0m\u001b[0;34m(\u001b[0m\u001b[0mmodel\u001b[0m\u001b[0;34m.\u001b[0m\u001b[0msummary\u001b[0m\u001b[0;34m(\u001b[0m\u001b[0;34m)\u001b[0m\u001b[0;34m)\u001b[0m\u001b[0;34m\u001b[0m\u001b[0;34m\u001b[0m\u001b[0m\n",
            "\u001b[0;32m<ipython-input-12-380ecea1c2ee>\u001b[0m in \u001b[0;36mm5\u001b[0;34m(num_classes)\u001b[0m\n\u001b[1;32m     27\u001b[0m     \u001b[0mm\u001b[0m\u001b[0;34m.\u001b[0m\u001b[0madd\u001b[0m\u001b[0;34m(\u001b[0m\u001b[0mBidirectional\u001b[0m\u001b[0;34m(\u001b[0m\u001b[0mLSTM\u001b[0m\u001b[0;34m(\u001b[0m\u001b[0;36m64\u001b[0m\u001b[0;34m,\u001b[0m \u001b[0mreturn_sequences\u001b[0m\u001b[0;34m=\u001b[0m\u001b[0;32mTrue\u001b[0m\u001b[0;34m)\u001b[0m\u001b[0;34m,\u001b[0m\u001b[0minput_shape\u001b[0m\u001b[0;34m=\u001b[0m\u001b[0;34m(\u001b[0m\u001b[0mk\u001b[0m\u001b[0;34m,\u001b[0m\u001b[0;36m128\u001b[0m\u001b[0;34m)\u001b[0m\u001b[0;34m)\u001b[0m\u001b[0;34m)\u001b[0m\u001b[0;34m\u001b[0m\u001b[0;34m\u001b[0m\u001b[0m\n\u001b[1;32m     28\u001b[0m     \u001b[0mm\u001b[0m\u001b[0;34m.\u001b[0m\u001b[0madd\u001b[0m\u001b[0;34m(\u001b[0m\u001b[0mBidirectional\u001b[0m\u001b[0;34m(\u001b[0m\u001b[0mLSTM\u001b[0m\u001b[0;34m(\u001b[0m\u001b[0;36m32\u001b[0m\u001b[0;34m,\u001b[0m \u001b[0mreturn_sequences\u001b[0m\u001b[0;34m=\u001b[0m\u001b[0;32mTrue\u001b[0m\u001b[0;34m)\u001b[0m\u001b[0;34m)\u001b[0m\u001b[0;34m)\u001b[0m\u001b[0;34m\u001b[0m\u001b[0;34m\u001b[0m\u001b[0m\n\u001b[0;32m---> 29\u001b[0;31m     \u001b[0mm\u001b[0m\u001b[0;34m.\u001b[0m\u001b[0madd\u001b[0m\u001b[0;34m(\u001b[0m\u001b[0mAttention\u001b[0m\u001b[0;34m(\u001b[0m\u001b[0;36m120\u001b[0m\u001b[0;34m)\u001b[0m\u001b[0;34m)\u001b[0m\u001b[0;34m\u001b[0m\u001b[0;34m\u001b[0m\u001b[0m\n\u001b[0m\u001b[1;32m     30\u001b[0m     \u001b[0;31m#x = Dense(256, activation=\"relu\")(x)\u001b[0m\u001b[0;34m\u001b[0m\u001b[0;34m\u001b[0m\u001b[0;34m\u001b[0m\u001b[0m\n\u001b[1;32m     31\u001b[0m     \u001b[0mm\u001b[0m\u001b[0;34m.\u001b[0m\u001b[0madd\u001b[0m\u001b[0;34m(\u001b[0m\u001b[0mDropout\u001b[0m\u001b[0;34m(\u001b[0m\u001b[0;36m0.25\u001b[0m\u001b[0;34m)\u001b[0m\u001b[0;34m)\u001b[0m\u001b[0;34m\u001b[0m\u001b[0;34m\u001b[0m\u001b[0m\n",
            "\u001b[0;31mNameError\u001b[0m: name 'Attention' is not defined"
          ]
        }
      ]
    },
    {
      "cell_type": "code",
      "metadata": {
        "id": "HGR5QP_BpUac",
        "colab_type": "code",
        "colab": {
          "base_uri": "https://localhost:8080/",
          "height": 306
        },
        "outputId": "9362decd-16fb-4231-a80d-94cd0aaa3dfb"
      },
      "source": [
        "###for reshaping X to 10 sec epochs\n",
        "\n",
        "\n",
        "from keras.callbacks import ReduceLROnPlateau\n",
        "from keras.utils.np_utils import to_categorical\n",
        "import keras.backend as K\n",
        "from keras import regularizers\n",
        "from keras.layers import Lambda\n",
        "from sklearn.model_selection import train_test_split\n",
        "from keras.layers.convolutional import Conv1D, MaxPooling1D\n",
        "from keras.layers.core import Activation, Dense\n",
        "from keras.layers.normalization import BatchNormalization\n",
        "from keras.layers import TimeDistributed, Flatten, LSTM, GRU, Bidirectional,  Dropout, Input\n",
        "from keras.models import Sequential\n",
        "from sklearn.metrics import accuracy_score\n",
        "from sklearn.model_selection import StratifiedKFold\n",
        "from keras.callbacks import ModelCheckpoint\n",
        "from keras.models import Model\n",
        "import numpy as np\n",
        "import pickle\n",
        "import os\n",
        "from glob import iglob\n",
        "import glob\n",
        "import re\n",
        "from han.attention import Attention\n",
        "\n",
        "text_input = Input(shape=(12, 10,128), dtype='float32')\n",
        "        #masked2=Masking(mask_value=Special_value)(text_input)\n",
        "        # encode sentences into a single vector per sentence\n",
        "        #self.model_word = self.build_word_encoder()\n",
        "        # time distribute word model to accept text input\n",
        "sent_encoder = TimeDistributed(Dense(128))(text_input)\n",
        "x1=TimeDistributed(Bidirectional(LSTM(64, return_sequences=True)))(sent_encoder)\n",
        "dense_text=TimeDistributed(Dense(128))(x1)\n",
        "#doc_att = Attention()(dense_text)\n",
        "#x18=(Attention(120))(x1)\n",
        "model = Model(inputs=text_input, outputs=dense_text)\n",
        "print(model.summary())\n",
        "\n",
        "\n"
      ],
      "execution_count": null,
      "outputs": [
        {
          "output_type": "stream",
          "text": [
            "Model: \"model_1\"\n",
            "_________________________________________________________________\n",
            "Layer (type)                 Output Shape              Param #   \n",
            "=================================================================\n",
            "input_3 (InputLayer)         (None, 12, 10, 128)       0         \n",
            "_________________________________________________________________\n",
            "time_distributed_7 (TimeDist (None, 12, 10, 128)       16512     \n",
            "_________________________________________________________________\n",
            "time_distributed_8 (TimeDist (None, 12, 10, 128)       98816     \n",
            "_________________________________________________________________\n",
            "time_distributed_9 (TimeDist (None, 12, 10, 128)       16512     \n",
            "=================================================================\n",
            "Total params: 131,840\n",
            "Trainable params: 131,840\n",
            "Non-trainable params: 0\n",
            "_________________________________________________________________\n",
            "None\n"
          ],
          "name": "stdout"
        }
      ]
    },
    {
      "cell_type": "code",
      "metadata": {
        "id": "BdPEgOuP87-h",
        "colab_type": "code",
        "colab": {
          "base_uri": "https://localhost:8080/",
          "height": 408
        },
        "outputId": "38bf5812-98a1-4be6-8763-199748ae2c00"
      },
      "source": [
        "from keras.layers import Input, Dense\n",
        "from keras.models import Model\n",
        "from keras.callbacks import ReduceLROnPlateau\n",
        "from keras.utils.np_utils import to_categorical\n",
        "import keras.backend as K\n",
        "from keras import regularizers\n",
        "from keras.layers import Lambda\n",
        "from sklearn.model_selection import train_test_split\n",
        "from keras.layers.convolutional import Conv1D, MaxPooling1D\n",
        "from keras.layers.core import Activation, Dense\n",
        "from keras.layers.normalization import BatchNormalization\n",
        "from keras.layers import TimeDistributed, Flatten, LSTM, GRU, Bidirectional,  Dropout\n",
        "from keras.models import Sequential\n",
        "from sklearn.metrics import accuracy_score\n",
        "from sklearn.model_selection import StratifiedKFold\n",
        "from keras.callbacks import ModelCheckpoint\n",
        "import numpy as np\n",
        "import pickle\n",
        "import os\n",
        "from glob import iglob\n",
        "import glob\n",
        "import re\n",
        "\n",
        "# This returns a tensor\n",
        "text_input = Input(shape=(None, 10,128), dtype='float32')\n",
        "        #masked2=Masking(mask_value=Special_value)(text_input)\n",
        "        # encode sentences into a single vector per sentence\n",
        "        #self.model_word = self.build_word_encoder()\n",
        "        # time distribute word model to accept text input\n",
        "        #sent_encoder = TimeDistributed(self.model_word)(text_input)\n",
        "x1=TimeDistributed(Conv1D(128,\n",
        "                 #input_shape=[AUDIO_LENGTH, 1],\n",
        "                 kernel_size=80,\n",
        "                 strides=4,\n",
        "                 padding='same',\n",
        "                 kernel_initializer='glorot_uniform',\n",
        "                 kernel_regularizer=regularizers.l2(l=0.0001)))(text_input)\n",
        "x2=TimeDistributed(BatchNormalization())(x1)\n",
        "x3=TimeDistributed(Activation('relu'))(x2)\n",
        "x4=TimeDistributed(MaxPooling1D(pool_size=2, strides=None))(x3)\n",
        "x17=TimeDistributed(Lambda(lambda x: K.mean(x, axis=1)))(x4)\n",
        "x18=TimeDistributed(Flatten())(x17)\n",
        "model = Model(inputs=text_input, outputs=x18)\n",
        "print(model.summary())"
      ],
      "execution_count": null,
      "outputs": [
        {
          "output_type": "stream",
          "text": [
            "Model: \"model_25\"\n",
            "_________________________________________________________________\n",
            "Layer (type)                 Output Shape              Param #   \n",
            "=================================================================\n",
            "input_5 (InputLayer)         (None, None, 10, 128)     0         \n",
            "_________________________________________________________________\n",
            "time_distributed_10 (TimeDis (None, None, 3, 128)      1310848   \n",
            "_________________________________________________________________\n",
            "time_distributed_11 (TimeDis (None, None, 3, 128)      512       \n",
            "_________________________________________________________________\n",
            "time_distributed_12 (TimeDis (None, None, 3, 128)      0         \n",
            "_________________________________________________________________\n",
            "time_distributed_13 (TimeDis (None, None, 1, 128)      0         \n",
            "_________________________________________________________________\n",
            "time_distributed_14 (TimeDis (None, None, 128)         0         \n",
            "_________________________________________________________________\n",
            "time_distributed_15 (TimeDis (None, None, 128)         0         \n",
            "=================================================================\n",
            "Total params: 1,311,360\n",
            "Trainable params: 1,311,104\n",
            "Non-trainable params: 256\n",
            "_________________________________________________________________\n",
            "None\n"
          ],
          "name": "stdout"
        }
      ]
    },
    {
      "cell_type": "code",
      "metadata": {
        "id": "kF3qywjT8ztI",
        "colab_type": "code",
        "colab": {
          "base_uri": "https://localhost:8080/",
          "height": 354
        },
        "outputId": "f1337a0d-2ac9-42a3-f461-e404151ac9f1"
      },
      "source": [
        "model = m5(num_classes=2)\n",
        "#model.build(input_shape=[30,128])\n",
        "\n",
        "print(model.summary())"
      ],
      "execution_count": null,
      "outputs": [
        {
          "output_type": "stream",
          "text": [
            "Using Model M5\n"
          ],
          "name": "stdout"
        },
        {
          "output_type": "error",
          "ename": "ValueError",
          "evalue": "ignored",
          "traceback": [
            "\u001b[0;31m---------------------------------------------------------------------------\u001b[0m",
            "\u001b[0;31mValueError\u001b[0m                                Traceback (most recent call last)",
            "\u001b[0;32m<ipython-input-12-b0efe37b53bf>\u001b[0m in \u001b[0;36m<module>\u001b[0;34m()\u001b[0m\n\u001b[1;32m      2\u001b[0m \u001b[0;31m#model.build(input_shape=[30,128])\u001b[0m\u001b[0;34m\u001b[0m\u001b[0;34m\u001b[0m\u001b[0;34m\u001b[0m\u001b[0m\n\u001b[1;32m      3\u001b[0m \u001b[0;34m\u001b[0m\u001b[0m\n\u001b[0;32m----> 4\u001b[0;31m \u001b[0mprint\u001b[0m\u001b[0;34m(\u001b[0m\u001b[0mmodel\u001b[0m\u001b[0;34m.\u001b[0m\u001b[0msummary\u001b[0m\u001b[0;34m(\u001b[0m\u001b[0;34m)\u001b[0m\u001b[0;34m)\u001b[0m\u001b[0;34m\u001b[0m\u001b[0;34m\u001b[0m\u001b[0m\n\u001b[0m",
            "\u001b[0;32m/usr/local/lib/python3.6/dist-packages/keras/engine/network.py\u001b[0m in \u001b[0;36msummary\u001b[0;34m(self, line_length, positions, print_fn)\u001b[0m\n\u001b[1;32m   1305\u001b[0m         \u001b[0;32mif\u001b[0m \u001b[0;32mnot\u001b[0m \u001b[0mself\u001b[0m\u001b[0;34m.\u001b[0m\u001b[0mbuilt\u001b[0m\u001b[0;34m:\u001b[0m\u001b[0;34m\u001b[0m\u001b[0;34m\u001b[0m\u001b[0m\n\u001b[1;32m   1306\u001b[0m             raise ValueError(\n\u001b[0;32m-> 1307\u001b[0;31m                 \u001b[0;34m'This model has not yet been built. '\u001b[0m\u001b[0;34m\u001b[0m\u001b[0;34m\u001b[0m\u001b[0m\n\u001b[0m\u001b[1;32m   1308\u001b[0m                 \u001b[0;34m'Build the model first by calling build() '\u001b[0m\u001b[0;34m\u001b[0m\u001b[0;34m\u001b[0m\u001b[0m\n\u001b[1;32m   1309\u001b[0m                 \u001b[0;34m'or calling fit() with some data. '\u001b[0m\u001b[0;34m\u001b[0m\u001b[0;34m\u001b[0m\u001b[0m\n",
            "\u001b[0;31mValueError\u001b[0m: This model has not yet been built. Build the model first by calling build() or calling fit() with some data. Or specify input_shape or batch_input_shape in the first layer for automatic build. "
          ]
        }
      ]
    },
    {
      "cell_type": "code",
      "metadata": {
        "id": "uex1AXF-WvXD",
        "colab_type": "code",
        "colab": {
          "base_uri": "https://localhost:8080/",
          "height": 130
        },
        "outputId": "369cdbe8-d92b-43f0-c131-4297a85e8f22"
      },
      "source": [
        "from sklearn.model_selection import StratifiedKFold\n",
        "if __name__ == '__main__':\n",
        "    \n",
        "    num_classes = 2\n",
        "    #crf = CRF(num_classes)\n",
        "    model = m5(num_classes=num_classes)\n",
        "\n",
        "    if model is None:\n",
        "        exit('Something went wrong!!')\n",
        "\n",
        "    model.compile(optimizer='adam',\n",
        "                  loss='categorical_crossentropy',\n",
        "                  metrics=['accuracy'])\n",
        "    #model.compile(optimizer=\"adam\", loss=crf.loss_function, metrics=[crf.accuracy])\n",
        "    print(model.summary())\n",
        "\n",
        "    filepath=\"weights.best.hdf5\"\n",
        "    checkpoint = ModelCheckpoint(filepath, monitor='val_accuracy', verbose=1, save_best_only=True, mode='max')\n",
        "    callbacks_list = [checkpoint]\n",
        "\n",
        "    #OUTPUT_DIR_AD = '/content/drive/My Drive/Dementia_Audio/Audio_Dementia/AD'\n",
        "    #OUTPUT_DIR_Control = '/content/drive/My Drive/Dementia_Audio/Audio_Dementia/Control'\n",
        "\n",
        "    AD_files = glob.glob('/content/drive/My Drive/Dementia_Audio/Audio_Dementia/AD/*.npz')\n",
        "    Control_files=glob.glob('/content/drive/My Drive/Dementia_Audio/Audio_Dementia/Control/*.npz')\n",
        "    \n",
        "    \n",
        "    x_AD = create_tensor(AD_files,k)\n",
        "    y_AD=np.ones(309)\n",
        "    #y_AD=np.ones((99,9))\n",
        "    y_AD = to_categorical(y_AD, num_classes=num_classes)\n",
        "    \n",
        "    x_Control = create_tensor(Control_files,k)\n",
        "    y_Control=np.zeros(243)\n",
        "    #y_Control=np.zeros((99,9))\n",
        "    y_Control = to_categorical(y_Control, num_classes=num_classes)\n",
        "    \n",
        "    x_total=np.concatenate((x_AD,x_Control))  \n",
        "    y_total=np.concatenate((y_AD,y_Control))\n",
        "\n",
        "    filepath='/content/model.{epoch:02d}-{val_loss:.2f}.hdf5'\n",
        "    checkpoint = ModelCheckpoint(filepath, monitor='val_acc', verbose=1, save_best_only=True, mode='max')\n",
        "    callbacks_list = [checkpoint]\n",
        "    \n",
        "    TEST_SPLIT = 0.1\n",
        "\n",
        "\n",
        "    #Do cross validation on both DNN and SVM\n",
        "    x_tr, x_te, y_tr, y_te= train_test_split(x_total, y_total, test_size=TEST_SPLIT, random_state=0, stratify=y_total)\n",
        "\n",
        "    \n",
        "\n",
        "    # if the accuracy does not increase over 10 epochs, reduce the learning rate by half.\n",
        "    #reduce_lr = ReduceLROnPlateau(monitor='val_acc', factor=0.5, patience=10, min_lr=0.0001, verbose=1)\n",
        "    #batch_size = 10\n",
        "    \n",
        "    #n_steps, n_length = 9, 80000\n",
        "   # x_tr=np.concatenate((x_AD[:89], x_Control[:89]))\n",
        "    #x_te=np.concatenate((x_AD[89:99], x_Control[89:99]))\n",
        "    #x_tr =x_tr.reshape((178, n_steps, n_length,1))\n",
        "    #x_te = x_te.reshape((20, n_steps, n_length,1))\n",
        "    #y_tr=np.concatenate((y_AD[:89], y_Control[:89]))\n",
        "    #y_te=np.concatenate((y_AD[89:99], y_Control[89:99]))\n",
        "    #y_tr=np.array(list(map(lambda el:[el]*9, y_tr)))\n",
        "    #y_te=np.array(list(map(lambda el:[el]*9, y_te)))\n",
        "    \n",
        "\n",
        "\n",
        "    print('x_tr.shape =', x_tr.shape)\n",
        "    print('y_tr.shape =', y_tr.shape)\n",
        "    print('x_te.shape =', x_te.shape)\n",
        "    print('y_te.shape =', y_te.shape)\n",
        "\n",
        "    history = model.fit(x_tr, y_tr, batch_size=20, epochs=10,\n",
        "                    validation_split=0.1, verbose=1,callbacks=callbacks_list,shuffle=False)\n",
        "    \n",
        "    def newest(path):\n",
        "    files = os.listdir(path)\n",
        "    paths = [os.path.join(path, basename) for basename in files]\n",
        "    return max(paths, key=os.path.getctime)\n",
        "\n",
        "    model.load_weights(newest('/content/'))\n",
        "        # Compile model (required to make predictions)\n",
        "    model.compile(loss='categorical_crossentropy', optimizer='adam', metrics=['accuracy'])\n",
        "    yhat=model.predict(x_te)\n",
        "    accuracy=accuracy_score(list(map(lambda x: np.argmax(x), y_te)), list(map(lambda x: np.argmax(x), yhat)))"
      ],
      "execution_count": null,
      "outputs": [
        {
          "output_type": "error",
          "ename": "IndentationError",
          "evalue": "ignored",
          "traceback": [
            "\u001b[0;36m  File \u001b[0;32m\"<ipython-input-5-dec611c7d0df>\"\u001b[0;36m, line \u001b[0;32m78\u001b[0m\n\u001b[0;31m    files = os.listdir(path)\u001b[0m\n\u001b[0m        ^\u001b[0m\n\u001b[0;31mIndentationError\u001b[0m\u001b[0;31m:\u001b[0m expected an indented block\n"
          ]
        }
      ]
    },
    {
      "cell_type": "markdown",
      "metadata": {
        "id": "-D3Fhjo8a0HC",
        "colab_type": "text"
      },
      "source": [
        "**K-Fold cross validation**"
      ]
    },
    {
      "cell_type": "code",
      "metadata": {
        "id": "-Yw-s2jRWqDR",
        "colab_type": "code",
        "colab": {
          "base_uri": "https://localhost:8080/",
          "height": 1000
        },
        "outputId": "50bd3883-4a37-458a-ffc4-d358eceefc69"
      },
      "source": [
        "def newest(path):\n",
        "    files = os.listdir(path)\n",
        "    paths = [os.path.join(path, basename) for basename in files]\n",
        "    return max(paths, key=os.path.getctime)\n",
        "\n",
        "if __name__ == '__main__':\n",
        "    \n",
        "    num_classes = 2\n",
        "    #crf = CRF(num_classes)\n",
        "    model = m5(num_classes=num_classes)\n",
        "\n",
        "    if model is None:\n",
        "        exit('Something went wrong!!')\n",
        "\n",
        "    model.compile(optimizer='adam',\n",
        "                  loss='categorical_crossentropy',\n",
        "                  metrics=['accuracy'])\n",
        "    #model.compile(optimizer=\"adam\", loss=crf.loss_function, metrics=[crf.accuracy])\n",
        "    print(model.summary())\n",
        "    \n",
        "\n",
        "    #OUTPUT_DIR_AD = '/content/drive/My Drive/Dementia_Audio/Audio_Dementia/AD'\n",
        "    #OUTPUT_DIR_Control = '/content/drive/My Drive/Dementia_Audio/Audio_Dementia/Control'\n",
        "\n",
        "    AD_files = glob.glob('/content/drive/My Drive/Dementia_Audio/Audio_Dementia/AD/*.npz')\n",
        "    Control_files=glob.glob('/content/drive/My Drive/Dementia_Audio/Audio_Dementia/Control/*.npz')\n",
        "    \n",
        "    \n",
        "    x_AD = create_tensor(AD_files,k)   \n",
        "    y_AD=np.ones(309)\n",
        "    #y_AD=np.ones((99,9))\n",
        "    y_AD = to_categorical(y_AD, num_classes=num_classes)\n",
        "    \n",
        "    x_Control = create_tensor(Control_files,k)\n",
        "    y_Control=np.zeros(243)\n",
        "    #y_Control=np.zeros((99,9))\n",
        "    y_Control = to_categorical(y_Control, num_classes=num_classes)\n",
        "    \n",
        "    X=np.concatenate((x_AD,x_Control))  \n",
        "    #Y=np.concatenate((y_AD,y_Control))\n",
        "    Y_D=np.ones(309)\n",
        "    Y_C=np.zeros(243)\n",
        "    Y=np.concatenate((Y_D,Y_C))\n",
        "    skf = StratifiedKFold(2)\n",
        "    acc= []\n",
        "    i=0\n",
        "    for train, test in skf.split(X,Y):\n",
        "        i=i+1\n",
        "        xt, xv, yt, yv = X[train, :], X[test, :], Y[train], Y[test]\n",
        "        yt=to_categorical(yt, num_classes=2)\n",
        "        yv=to_categorical(yv, num_classes=2)\n",
        "        filepath='/content/model.{epoch:02d}-{val_loss:.2f}.hdf5'\n",
        "        checkpoint = ModelCheckpoint(filepath, monitor='val_acc', verbose=1, save_best_only=True, mode='max')\n",
        "        callbacks_list = [checkpoint]\n",
        "        history=model.fit(xt, yt, batch_size=32, epochs=30,\n",
        "                    validation_split=0.1, verbose=1,callbacks=callbacks_list,shuffle=False)\n",
        "        \n",
        "        # load weights\n",
        "        model.load_weights(newest('/content/'))\n",
        "        # Compile model (required to make predictions)\n",
        "        model.compile(loss='categorical_crossentropy', optimizer='adam', metrics=['accuracy'])\n",
        "        yhat=model.predict(xv)\n",
        "        results=model.evaluate(xv, yv, batch_size=32)\n",
        "        print('test loss, test acc:', results)\n",
        "        #accuracy=accuracy_score(list(map(lambda x: np.argmax(x), yv)), list(map(lambda x: np.argmax(x), yhat)))\n",
        "        #print(accuracy)\n",
        "        acc.append(results)\n",
        "        del history"
      ],
      "execution_count": null,
      "outputs": [
        {
          "output_type": "stream",
          "text": [
            "Using Model M5\n",
            "Model: \"sequential_3\"\n",
            "_________________________________________________________________\n",
            "Layer (type)                 Output Shape              Param #   \n",
            "=================================================================\n",
            "bidirectional_6 (Bidirection (None, 120, 128)          98816     \n",
            "_________________________________________________________________\n",
            "bidirectional_7 (Bidirection (None, 120, 64)           41216     \n",
            "_________________________________________________________________\n",
            "attention_1 (Attention)      (None, 64)                184       \n",
            "_________________________________________________________________\n",
            "dropout_1 (Dropout)          (None, 64)                0         \n",
            "_________________________________________________________________\n",
            "dense_1 (Dense)              (None, 2)                 130       \n",
            "=================================================================\n",
            "Total params: 140,346\n",
            "Trainable params: 140,346\n",
            "Non-trainable params: 0\n",
            "_________________________________________________________________\n",
            "None\n",
            "Train on 248 samples, validate on 28 samples\n",
            "Epoch 1/30\n",
            "248/248 [==============================] - 7s 29ms/step - loss: 0.9231 - acc: 0.5968 - val_loss: 1.6574 - val_acc: 0.0000e+00\n",
            "\n",
            "Epoch 00001: val_acc improved from -inf to 0.00000, saving model to /content/model.01-1.66.hdf5\n",
            "Epoch 2/30\n",
            "248/248 [==============================] - 2s 9ms/step - loss: 0.6049 - acc: 0.6210 - val_loss: 1.2624 - val_acc: 0.0000e+00\n",
            "\n",
            "Epoch 00002: val_acc did not improve from 0.00000\n",
            "Epoch 3/30\n",
            "248/248 [==============================] - 2s 9ms/step - loss: 0.5904 - acc: 0.6210 - val_loss: 1.0411 - val_acc: 0.0000e+00\n",
            "\n",
            "Epoch 00003: val_acc did not improve from 0.00000\n",
            "Epoch 4/30\n",
            "248/248 [==============================] - 2s 9ms/step - loss: 0.6014 - acc: 0.6250 - val_loss: 0.9639 - val_acc: 0.0000e+00\n",
            "\n",
            "Epoch 00004: val_acc did not improve from 0.00000\n",
            "Epoch 5/30\n",
            "248/248 [==============================] - 2s 9ms/step - loss: 0.6103 - acc: 0.6290 - val_loss: 0.9649 - val_acc: 0.0000e+00\n",
            "\n",
            "Epoch 00005: val_acc did not improve from 0.00000\n",
            "Epoch 6/30\n",
            "248/248 [==============================] - 3s 10ms/step - loss: 0.6062 - acc: 0.6411 - val_loss: 0.9942 - val_acc: 0.0000e+00\n",
            "\n",
            "Epoch 00006: val_acc did not improve from 0.00000\n",
            "Epoch 7/30\n",
            "248/248 [==============================] - 2s 10ms/step - loss: 0.6089 - acc: 0.6492 - val_loss: 1.0181 - val_acc: 0.0000e+00\n",
            "\n",
            "Epoch 00007: val_acc did not improve from 0.00000\n",
            "Epoch 8/30\n",
            "248/248 [==============================] - 2s 10ms/step - loss: 0.5858 - acc: 0.6815 - val_loss: 1.0150 - val_acc: 0.0000e+00\n",
            "\n",
            "Epoch 00008: val_acc did not improve from 0.00000\n",
            "Epoch 9/30\n",
            "248/248 [==============================] - 2s 9ms/step - loss: 0.5957 - acc: 0.7016 - val_loss: 1.0000 - val_acc: 0.0000e+00\n",
            "\n",
            "Epoch 00009: val_acc did not improve from 0.00000\n",
            "Epoch 10/30\n",
            "248/248 [==============================] - 2s 10ms/step - loss: 0.5818 - acc: 0.7500 - val_loss: 0.9657 - val_acc: 0.0000e+00\n",
            "\n",
            "Epoch 00010: val_acc did not improve from 0.00000\n",
            "Epoch 11/30\n",
            "248/248 [==============================] - 2s 10ms/step - loss: 0.5812 - acc: 0.7581 - val_loss: 0.9199 - val_acc: 0.0357\n",
            "\n",
            "Epoch 00011: val_acc improved from 0.00000 to 0.03571, saving model to /content/model.11-0.92.hdf5\n",
            "Epoch 12/30\n",
            "248/248 [==============================] - 2s 9ms/step - loss: 0.5741 - acc: 0.7863 - val_loss: 0.8843 - val_acc: 0.1429\n",
            "\n",
            "Epoch 00012: val_acc improved from 0.03571 to 0.14286, saving model to /content/model.12-0.88.hdf5\n",
            "Epoch 13/30\n",
            "248/248 [==============================] - 2s 9ms/step - loss: 0.5701 - acc: 0.7742 - val_loss: 0.8840 - val_acc: 0.2500\n",
            "\n",
            "Epoch 00013: val_acc improved from 0.14286 to 0.25000, saving model to /content/model.13-0.88.hdf5\n",
            "Epoch 14/30\n",
            "248/248 [==============================] - 2s 9ms/step - loss: 0.5624 - acc: 0.7702 - val_loss: 0.8835 - val_acc: 0.3214\n",
            "\n",
            "Epoch 00014: val_acc improved from 0.25000 to 0.32143, saving model to /content/model.14-0.88.hdf5\n",
            "Epoch 15/30\n",
            "248/248 [==============================] - 2s 8ms/step - loss: 0.5463 - acc: 0.7863 - val_loss: 0.8652 - val_acc: 0.3929\n",
            "\n",
            "Epoch 00015: val_acc improved from 0.32143 to 0.39286, saving model to /content/model.15-0.87.hdf5\n",
            "Epoch 16/30\n",
            "248/248 [==============================] - 2s 9ms/step - loss: 0.5462 - acc: 0.7500 - val_loss: 0.9005 - val_acc: 0.3929\n",
            "\n",
            "Epoch 00016: val_acc did not improve from 0.39286\n",
            "Epoch 17/30\n",
            "248/248 [==============================] - 2s 9ms/step - loss: 0.5292 - acc: 0.7661 - val_loss: 0.9045 - val_acc: 0.3929\n",
            "\n",
            "Epoch 00017: val_acc did not improve from 0.39286\n",
            "Epoch 18/30\n",
            "248/248 [==============================] - 2s 9ms/step - loss: 0.5249 - acc: 0.7742 - val_loss: 0.9014 - val_acc: 0.3929\n",
            "\n",
            "Epoch 00018: val_acc did not improve from 0.39286\n",
            "Epoch 19/30\n",
            "248/248 [==============================] - 2s 9ms/step - loss: 0.5169 - acc: 0.7782 - val_loss: 0.8859 - val_acc: 0.3929\n",
            "\n",
            "Epoch 00019: val_acc did not improve from 0.39286\n",
            "Epoch 20/30\n",
            "248/248 [==============================] - 2s 9ms/step - loss: 0.5113 - acc: 0.7702 - val_loss: 0.9401 - val_acc: 0.2857\n",
            "\n",
            "Epoch 00020: val_acc did not improve from 0.39286\n",
            "Epoch 21/30\n",
            "248/248 [==============================] - 2s 8ms/step - loss: 0.4882 - acc: 0.7944 - val_loss: 0.9061 - val_acc: 0.3571\n",
            "\n",
            "Epoch 00021: val_acc did not improve from 0.39286\n",
            "Epoch 22/30\n",
            "248/248 [==============================] - 2s 8ms/step - loss: 0.4840 - acc: 0.7863 - val_loss: 0.8181 - val_acc: 0.3571\n",
            "\n",
            "Epoch 00022: val_acc did not improve from 0.39286\n",
            "Epoch 23/30\n",
            "248/248 [==============================] - 2s 9ms/step - loss: 0.6162 - acc: 0.6976 - val_loss: 1.2106 - val_acc: 0.1071\n",
            "\n",
            "Epoch 00023: val_acc did not improve from 0.39286\n",
            "Epoch 24/30\n",
            "248/248 [==============================] - 2s 9ms/step - loss: 0.4911 - acc: 0.8105 - val_loss: 1.1349 - val_acc: 0.2143\n",
            "\n",
            "Epoch 00024: val_acc did not improve from 0.39286\n",
            "Epoch 25/30\n",
            "248/248 [==============================] - 2s 9ms/step - loss: 0.4334 - acc: 0.8427 - val_loss: 0.7377 - val_acc: 0.4643\n",
            "\n",
            "Epoch 00025: val_acc improved from 0.39286 to 0.46429, saving model to /content/model.25-0.74.hdf5\n",
            "Epoch 26/30\n",
            "248/248 [==============================] - 2s 9ms/step - loss: 0.4960 - acc: 0.7863 - val_loss: 1.0059 - val_acc: 0.2857\n",
            "\n",
            "Epoch 00026: val_acc did not improve from 0.46429\n",
            "Epoch 27/30\n",
            "248/248 [==============================] - 2s 9ms/step - loss: 0.4216 - acc: 0.8185 - val_loss: 0.9517 - val_acc: 0.2857\n",
            "\n",
            "Epoch 00027: val_acc did not improve from 0.46429\n",
            "Epoch 28/30\n",
            "248/248 [==============================] - 2s 8ms/step - loss: 0.4161 - acc: 0.8226 - val_loss: 0.9814 - val_acc: 0.3571\n",
            "\n",
            "Epoch 00028: val_acc did not improve from 0.46429\n",
            "Epoch 29/30\n",
            "248/248 [==============================] - 2s 8ms/step - loss: 0.3996 - acc: 0.8548 - val_loss: 1.1004 - val_acc: 0.2500\n",
            "\n",
            "Epoch 00029: val_acc did not improve from 0.46429\n",
            "Epoch 30/30\n",
            "248/248 [==============================] - 2s 9ms/step - loss: 0.3895 - acc: 0.8266 - val_loss: 1.3104 - val_acc: 0.2857\n",
            "\n",
            "Epoch 00030: val_acc did not improve from 0.46429\n",
            "276/276 [==============================] - 1s 5ms/step\n",
            "test loss, test acc: [0.8139634572941324, 0.43840579537377844]\n",
            "Train on 248 samples, validate on 28 samples\n",
            "Epoch 1/30\n"
          ],
          "name": "stdout"
        },
        {
          "output_type": "error",
          "ename": "KeyboardInterrupt",
          "evalue": "ignored",
          "traceback": [
            "\u001b[0;31m---------------------------------------------------------------------------\u001b[0m",
            "\u001b[0;31mKeyboardInterrupt\u001b[0m                         Traceback (most recent call last)",
            "\u001b[0;32m<ipython-input-16-22243a2eafd5>\u001b[0m in \u001b[0;36m<module>\u001b[0;34m()\u001b[0m\n\u001b[1;32m     54\u001b[0m         \u001b[0mcallbacks_list\u001b[0m \u001b[0;34m=\u001b[0m \u001b[0;34m[\u001b[0m\u001b[0mcheckpoint\u001b[0m\u001b[0;34m]\u001b[0m\u001b[0;34m\u001b[0m\u001b[0;34m\u001b[0m\u001b[0m\n\u001b[1;32m     55\u001b[0m         history=model.fit(xt, yt, batch_size=32, epochs=30,\n\u001b[0;32m---> 56\u001b[0;31m                     validation_split=0.1, verbose=1,callbacks=callbacks_list,shuffle=False)\n\u001b[0m\u001b[1;32m     57\u001b[0m \u001b[0;34m\u001b[0m\u001b[0m\n\u001b[1;32m     58\u001b[0m         \u001b[0;31m# load weights\u001b[0m\u001b[0;34m\u001b[0m\u001b[0;34m\u001b[0m\u001b[0;34m\u001b[0m\u001b[0m\n",
            "\u001b[0;32m/usr/local/lib/python3.6/dist-packages/keras/engine/training.py\u001b[0m in \u001b[0;36mfit\u001b[0;34m(self, x, y, batch_size, epochs, verbose, callbacks, validation_split, validation_data, shuffle, class_weight, sample_weight, initial_epoch, steps_per_epoch, validation_steps, validation_freq, max_queue_size, workers, use_multiprocessing, **kwargs)\u001b[0m\n\u001b[1;32m   1176\u001b[0m                                         \u001b[0msteps_per_epoch\u001b[0m\u001b[0;34m=\u001b[0m\u001b[0msteps_per_epoch\u001b[0m\u001b[0;34m,\u001b[0m\u001b[0;34m\u001b[0m\u001b[0;34m\u001b[0m\u001b[0m\n\u001b[1;32m   1177\u001b[0m                                         \u001b[0mvalidation_steps\u001b[0m\u001b[0;34m=\u001b[0m\u001b[0mvalidation_steps\u001b[0m\u001b[0;34m,\u001b[0m\u001b[0;34m\u001b[0m\u001b[0;34m\u001b[0m\u001b[0m\n\u001b[0;32m-> 1178\u001b[0;31m                                         validation_freq=validation_freq)\n\u001b[0m\u001b[1;32m   1179\u001b[0m \u001b[0;34m\u001b[0m\u001b[0m\n\u001b[1;32m   1180\u001b[0m     def evaluate(self,\n",
            "\u001b[0;32m/usr/local/lib/python3.6/dist-packages/keras/engine/training_arrays.py\u001b[0m in \u001b[0;36mfit_loop\u001b[0;34m(model, fit_function, fit_inputs, out_labels, batch_size, epochs, verbose, callbacks, val_function, val_inputs, shuffle, callback_metrics, initial_epoch, steps_per_epoch, validation_steps, validation_freq)\u001b[0m\n\u001b[1;32m    202\u001b[0m                     \u001b[0mins_batch\u001b[0m\u001b[0;34m[\u001b[0m\u001b[0mi\u001b[0m\u001b[0;34m]\u001b[0m \u001b[0;34m=\u001b[0m \u001b[0mins_batch\u001b[0m\u001b[0;34m[\u001b[0m\u001b[0mi\u001b[0m\u001b[0;34m]\u001b[0m\u001b[0;34m.\u001b[0m\u001b[0mtoarray\u001b[0m\u001b[0;34m(\u001b[0m\u001b[0;34m)\u001b[0m\u001b[0;34m\u001b[0m\u001b[0;34m\u001b[0m\u001b[0m\n\u001b[1;32m    203\u001b[0m \u001b[0;34m\u001b[0m\u001b[0m\n\u001b[0;32m--> 204\u001b[0;31m                 \u001b[0mouts\u001b[0m \u001b[0;34m=\u001b[0m \u001b[0mfit_function\u001b[0m\u001b[0;34m(\u001b[0m\u001b[0mins_batch\u001b[0m\u001b[0;34m)\u001b[0m\u001b[0;34m\u001b[0m\u001b[0;34m\u001b[0m\u001b[0m\n\u001b[0m\u001b[1;32m    205\u001b[0m                 \u001b[0mouts\u001b[0m \u001b[0;34m=\u001b[0m \u001b[0mto_list\u001b[0m\u001b[0;34m(\u001b[0m\u001b[0mouts\u001b[0m\u001b[0;34m)\u001b[0m\u001b[0;34m\u001b[0m\u001b[0;34m\u001b[0m\u001b[0m\n\u001b[1;32m    206\u001b[0m                 \u001b[0;32mfor\u001b[0m \u001b[0ml\u001b[0m\u001b[0;34m,\u001b[0m \u001b[0mo\u001b[0m \u001b[0;32min\u001b[0m \u001b[0mzip\u001b[0m\u001b[0;34m(\u001b[0m\u001b[0mout_labels\u001b[0m\u001b[0;34m,\u001b[0m \u001b[0mouts\u001b[0m\u001b[0;34m)\u001b[0m\u001b[0;34m:\u001b[0m\u001b[0;34m\u001b[0m\u001b[0;34m\u001b[0m\u001b[0m\n",
            "\u001b[0;32m/usr/local/lib/python3.6/dist-packages/keras/backend/tensorflow_backend.py\u001b[0m in \u001b[0;36m__call__\u001b[0;34m(self, inputs)\u001b[0m\n\u001b[1;32m   2977\u001b[0m                     \u001b[0;32mreturn\u001b[0m \u001b[0mself\u001b[0m\u001b[0;34m.\u001b[0m\u001b[0m_legacy_call\u001b[0m\u001b[0;34m(\u001b[0m\u001b[0minputs\u001b[0m\u001b[0;34m)\u001b[0m\u001b[0;34m\u001b[0m\u001b[0;34m\u001b[0m\u001b[0m\n\u001b[1;32m   2978\u001b[0m \u001b[0;34m\u001b[0m\u001b[0m\n\u001b[0;32m-> 2979\u001b[0;31m             \u001b[0;32mreturn\u001b[0m \u001b[0mself\u001b[0m\u001b[0;34m.\u001b[0m\u001b[0m_call\u001b[0m\u001b[0;34m(\u001b[0m\u001b[0minputs\u001b[0m\u001b[0;34m)\u001b[0m\u001b[0;34m\u001b[0m\u001b[0;34m\u001b[0m\u001b[0m\n\u001b[0m\u001b[1;32m   2980\u001b[0m         \u001b[0;32melse\u001b[0m\u001b[0;34m:\u001b[0m\u001b[0;34m\u001b[0m\u001b[0;34m\u001b[0m\u001b[0m\n\u001b[1;32m   2981\u001b[0m             \u001b[0;32mif\u001b[0m \u001b[0mpy_any\u001b[0m\u001b[0;34m(\u001b[0m\u001b[0mis_tensor\u001b[0m\u001b[0;34m(\u001b[0m\u001b[0mx\u001b[0m\u001b[0;34m)\u001b[0m \u001b[0;32mfor\u001b[0m \u001b[0mx\u001b[0m \u001b[0;32min\u001b[0m \u001b[0minputs\u001b[0m\u001b[0;34m)\u001b[0m\u001b[0;34m:\u001b[0m\u001b[0;34m\u001b[0m\u001b[0;34m\u001b[0m\u001b[0m\n",
            "\u001b[0;32m/usr/local/lib/python3.6/dist-packages/keras/backend/tensorflow_backend.py\u001b[0m in \u001b[0;36m_call\u001b[0;34m(self, inputs)\u001b[0m\n\u001b[1;32m   2931\u001b[0m                                 \u001b[0mfeed_symbols\u001b[0m\u001b[0;34m,\u001b[0m\u001b[0;34m\u001b[0m\u001b[0;34m\u001b[0m\u001b[0m\n\u001b[1;32m   2932\u001b[0m                                 \u001b[0msymbol_vals\u001b[0m\u001b[0;34m,\u001b[0m\u001b[0;34m\u001b[0m\u001b[0;34m\u001b[0m\u001b[0m\n\u001b[0;32m-> 2933\u001b[0;31m                                 session)\n\u001b[0m\u001b[1;32m   2934\u001b[0m         \u001b[0;32mif\u001b[0m \u001b[0mself\u001b[0m\u001b[0;34m.\u001b[0m\u001b[0mrun_metadata\u001b[0m\u001b[0;34m:\u001b[0m\u001b[0;34m\u001b[0m\u001b[0;34m\u001b[0m\u001b[0m\n\u001b[1;32m   2935\u001b[0m             \u001b[0mfetched\u001b[0m \u001b[0;34m=\u001b[0m \u001b[0mself\u001b[0m\u001b[0;34m.\u001b[0m\u001b[0m_callable_fn\u001b[0m\u001b[0;34m(\u001b[0m\u001b[0;34m*\u001b[0m\u001b[0marray_vals\u001b[0m\u001b[0;34m,\u001b[0m \u001b[0mrun_metadata\u001b[0m\u001b[0;34m=\u001b[0m\u001b[0mself\u001b[0m\u001b[0;34m.\u001b[0m\u001b[0mrun_metadata\u001b[0m\u001b[0;34m)\u001b[0m\u001b[0;34m\u001b[0m\u001b[0;34m\u001b[0m\u001b[0m\n",
            "\u001b[0;32m/usr/local/lib/python3.6/dist-packages/keras/backend/tensorflow_backend.py\u001b[0m in \u001b[0;36m_make_callable\u001b[0;34m(self, feed_arrays, feed_symbols, symbol_vals, session)\u001b[0m\n\u001b[1;32m   2883\u001b[0m             \u001b[0mcallable_opts\u001b[0m\u001b[0;34m.\u001b[0m\u001b[0mrun_options\u001b[0m\u001b[0;34m.\u001b[0m\u001b[0mCopyFrom\u001b[0m\u001b[0;34m(\u001b[0m\u001b[0mself\u001b[0m\u001b[0;34m.\u001b[0m\u001b[0mrun_options\u001b[0m\u001b[0;34m)\u001b[0m\u001b[0;34m\u001b[0m\u001b[0;34m\u001b[0m\u001b[0m\n\u001b[1;32m   2884\u001b[0m         \u001b[0;31m# Create callable.\u001b[0m\u001b[0;34m\u001b[0m\u001b[0;34m\u001b[0m\u001b[0;34m\u001b[0m\u001b[0m\n\u001b[0;32m-> 2885\u001b[0;31m         \u001b[0mcallable_fn\u001b[0m \u001b[0;34m=\u001b[0m \u001b[0msession\u001b[0m\u001b[0;34m.\u001b[0m\u001b[0m_make_callable_from_options\u001b[0m\u001b[0;34m(\u001b[0m\u001b[0mcallable_opts\u001b[0m\u001b[0;34m)\u001b[0m\u001b[0;34m\u001b[0m\u001b[0;34m\u001b[0m\u001b[0m\n\u001b[0m\u001b[1;32m   2886\u001b[0m         \u001b[0;31m# Cache parameters corresponding to the generated callable, so that\u001b[0m\u001b[0;34m\u001b[0m\u001b[0;34m\u001b[0m\u001b[0;34m\u001b[0m\u001b[0m\n\u001b[1;32m   2887\u001b[0m         \u001b[0;31m# we can detect future mismatches and refresh the callable.\u001b[0m\u001b[0;34m\u001b[0m\u001b[0;34m\u001b[0m\u001b[0;34m\u001b[0m\u001b[0m\n",
            "\u001b[0;32m/usr/local/lib/python3.6/dist-packages/tensorflow_core/python/client/session.py\u001b[0m in \u001b[0;36m_make_callable_from_options\u001b[0;34m(self, callable_options)\u001b[0m\n\u001b[1;32m   1503\u001b[0m     \"\"\"\n\u001b[1;32m   1504\u001b[0m     \u001b[0mself\u001b[0m\u001b[0;34m.\u001b[0m\u001b[0m_extend_graph\u001b[0m\u001b[0;34m(\u001b[0m\u001b[0;34m)\u001b[0m\u001b[0;34m\u001b[0m\u001b[0;34m\u001b[0m\u001b[0m\n\u001b[0;32m-> 1505\u001b[0;31m     \u001b[0;32mreturn\u001b[0m \u001b[0mBaseSession\u001b[0m\u001b[0;34m.\u001b[0m\u001b[0m_Callable\u001b[0m\u001b[0;34m(\u001b[0m\u001b[0mself\u001b[0m\u001b[0;34m,\u001b[0m \u001b[0mcallable_options\u001b[0m\u001b[0;34m)\u001b[0m\u001b[0;34m\u001b[0m\u001b[0;34m\u001b[0m\u001b[0m\n\u001b[0m\u001b[1;32m   1506\u001b[0m \u001b[0;34m\u001b[0m\u001b[0m\n\u001b[1;32m   1507\u001b[0m \u001b[0;34m\u001b[0m\u001b[0m\n",
            "\u001b[0;32m/usr/local/lib/python3.6/dist-packages/tensorflow_core/python/client/session.py\u001b[0m in \u001b[0;36m__init__\u001b[0;34m(self, session, callable_options)\u001b[0m\n\u001b[1;32m   1458\u001b[0m       \u001b[0;32mtry\u001b[0m\u001b[0;34m:\u001b[0m\u001b[0;34m\u001b[0m\u001b[0;34m\u001b[0m\u001b[0m\n\u001b[1;32m   1459\u001b[0m         self._handle = tf_session.TF_SessionMakeCallable(\n\u001b[0;32m-> 1460\u001b[0;31m             session._session, options_ptr)\n\u001b[0m\u001b[1;32m   1461\u001b[0m       \u001b[0;32mfinally\u001b[0m\u001b[0;34m:\u001b[0m\u001b[0;34m\u001b[0m\u001b[0;34m\u001b[0m\u001b[0m\n\u001b[1;32m   1462\u001b[0m         \u001b[0mtf_session\u001b[0m\u001b[0;34m.\u001b[0m\u001b[0mTF_DeleteBuffer\u001b[0m\u001b[0;34m(\u001b[0m\u001b[0moptions_ptr\u001b[0m\u001b[0;34m)\u001b[0m\u001b[0;34m\u001b[0m\u001b[0;34m\u001b[0m\u001b[0m\n",
            "\u001b[0;31mKeyboardInterrupt\u001b[0m: "
          ]
        }
      ]
    },
    {
      "cell_type": "code",
      "metadata": {
        "id": "ICCcuXKaKShW",
        "colab_type": "code",
        "colab": {}
      },
      "source": [
        "yhat=model.predict(xv)"
      ],
      "execution_count": null,
      "outputs": []
    },
    {
      "cell_type": "code",
      "metadata": {
        "id": "pEU6HiC2LNg_",
        "colab_type": "code",
        "colab": {}
      },
      "source": [
        "pppp=[0,0,1,1]"
      ],
      "execution_count": null,
      "outputs": []
    },
    {
      "cell_type": "code",
      "metadata": {
        "id": "gdpO0lWSLV4q",
        "colab_type": "code",
        "colab": {}
      },
      "source": [
        "p=to_categorical(pppp)"
      ],
      "execution_count": null,
      "outputs": []
    },
    {
      "cell_type": "code",
      "metadata": {
        "id": "mXD1_wgXLYuA",
        "colab_type": "code",
        "colab": {
          "base_uri": "https://localhost:8080/",
          "height": 34
        },
        "outputId": "09781787-2474-4fbd-f63b-1e18439664e0"
      },
      "source": [
        "p[:,1]"
      ],
      "execution_count": null,
      "outputs": [
        {
          "output_type": "execute_result",
          "data": {
            "text/plain": [
              "array([0., 0., 1., 1.], dtype=float32)"
            ]
          },
          "metadata": {
            "tags": []
          },
          "execution_count": 31
        }
      ]
    },
    {
      "cell_type": "code",
      "metadata": {
        "id": "HQB90lCPKnFG",
        "colab_type": "code",
        "colab": {
          "base_uri": "https://localhost:8080/",
          "height": 1000
        },
        "outputId": "9adcba2e-806e-4bf2-b7f7-c61e636ff3ee"
      },
      "source": [
        "yhat"
      ],
      "execution_count": null,
      "outputs": [
        {
          "output_type": "execute_result",
          "data": {
            "text/plain": [
              "array([[0.37347397, 0.62652606],\n",
              "       [0.48197562, 0.5180244 ],\n",
              "       [0.26783478, 0.7321652 ],\n",
              "       [0.4985214 , 0.5014786 ],\n",
              "       [0.4857547 , 0.51424533],\n",
              "       [0.05049588, 0.94950414],\n",
              "       [0.33693057, 0.6630694 ],\n",
              "       [0.45684564, 0.54315436],\n",
              "       [0.3781664 , 0.6218336 ],\n",
              "       [0.55787224, 0.44212773],\n",
              "       [0.38605353, 0.6139465 ],\n",
              "       [0.06913956, 0.93086046],\n",
              "       [0.40657118, 0.59342873],\n",
              "       [0.07339969, 0.9266003 ],\n",
              "       [0.21938664, 0.78061336],\n",
              "       [0.08476057, 0.91523945],\n",
              "       [0.4416519 , 0.55834806],\n",
              "       [0.08527716, 0.91472286],\n",
              "       [0.24207133, 0.7579287 ],\n",
              "       [0.05799916, 0.94200087],\n",
              "       [0.5159789 , 0.48402107],\n",
              "       [0.4848064 , 0.5151937 ],\n",
              "       [0.34193176, 0.65806824],\n",
              "       [0.19561258, 0.8043874 ],\n",
              "       [0.3821834 , 0.6178166 ],\n",
              "       [0.31677258, 0.6832275 ],\n",
              "       [0.5768395 , 0.4231605 ],\n",
              "       [0.2623337 , 0.7376663 ],\n",
              "       [0.11017307, 0.8898269 ],\n",
              "       [0.38942057, 0.61057943],\n",
              "       [0.36467174, 0.6353283 ],\n",
              "       [0.3613328 , 0.6386672 ],\n",
              "       [0.32936645, 0.6706335 ],\n",
              "       [0.37879232, 0.6212077 ],\n",
              "       [0.15095627, 0.8490437 ],\n",
              "       [0.5168185 , 0.48318145],\n",
              "       [0.32545224, 0.6745478 ],\n",
              "       [0.2533458 , 0.7466542 ],\n",
              "       [0.30234134, 0.69765866],\n",
              "       [0.33701774, 0.6629822 ],\n",
              "       [0.5148642 , 0.48513582],\n",
              "       [0.09570448, 0.90429556],\n",
              "       [0.0388248 , 0.96117514],\n",
              "       [0.55838156, 0.44161844],\n",
              "       [0.41420388, 0.5857961 ],\n",
              "       [0.06638171, 0.9336183 ],\n",
              "       [0.06445272, 0.9355473 ],\n",
              "       [0.20057063, 0.79942936],\n",
              "       [0.08602855, 0.9139714 ],\n",
              "       [0.6502138 , 0.34978625],\n",
              "       [0.4057993 , 0.5942007 ],\n",
              "       [0.59342116, 0.40657884],\n",
              "       [0.26606598, 0.73393404],\n",
              "       [0.03657912, 0.9634209 ],\n",
              "       [0.1019705 , 0.89802957],\n",
              "       [0.44262204, 0.55737793],\n",
              "       [0.39227486, 0.60772514],\n",
              "       [0.46449   , 0.53551   ],\n",
              "       [0.14364585, 0.8563541 ],\n",
              "       [0.5532289 , 0.44677106],\n",
              "       [0.0534742 , 0.9465259 ],\n",
              "       [0.03739313, 0.9626069 ],\n",
              "       [0.05308414, 0.9469158 ],\n",
              "       [0.07403349, 0.92596644],\n",
              "       [0.13527471, 0.86472523],\n",
              "       [0.24966086, 0.7503391 ],\n",
              "       [0.55312485, 0.44687524],\n",
              "       [0.5672612 , 0.43273872],\n",
              "       [0.15168664, 0.8483134 ],\n",
              "       [0.35163084, 0.64836913],\n",
              "       [0.0610182 , 0.9389818 ],\n",
              "       [0.14008844, 0.8599115 ],\n",
              "       [0.06663945, 0.9333606 ],\n",
              "       [0.36380073, 0.6361993 ],\n",
              "       [0.11868094, 0.88131905],\n",
              "       [0.5744529 , 0.42554706],\n",
              "       [0.73334813, 0.2666519 ],\n",
              "       [0.19751073, 0.8024893 ],\n",
              "       [0.05951601, 0.9404839 ],\n",
              "       [0.10920557, 0.89079446],\n",
              "       [0.06399919, 0.9360008 ],\n",
              "       [0.04506459, 0.9549354 ],\n",
              "       [0.206382  , 0.79361796],\n",
              "       [0.06899904, 0.93100095],\n",
              "       [0.51152587, 0.48847407],\n",
              "       [0.35524464, 0.64475536],\n",
              "       [0.05362948, 0.9463706 ],\n",
              "       [0.05384019, 0.9461598 ],\n",
              "       [0.05412691, 0.9458731 ],\n",
              "       [0.5309148 , 0.46908513],\n",
              "       [0.24242973, 0.75757027],\n",
              "       [0.09994902, 0.90005094],\n",
              "       [0.33096728, 0.66903275],\n",
              "       [0.17590554, 0.82409453],\n",
              "       [0.06200363, 0.9379963 ],\n",
              "       [0.09734137, 0.90265864],\n",
              "       [0.18088453, 0.81911546],\n",
              "       [0.37053338, 0.6294666 ],\n",
              "       [0.42283276, 0.5771673 ],\n",
              "       [0.0616863 , 0.9383137 ],\n",
              "       [0.18437126, 0.81562877],\n",
              "       [0.46178865, 0.5382114 ],\n",
              "       [0.27329057, 0.7267095 ],\n",
              "       [0.22487915, 0.7751209 ],\n",
              "       [0.08500131, 0.91499865],\n",
              "       [0.11306765, 0.8869324 ],\n",
              "       [0.51539516, 0.48460487],\n",
              "       [0.41175008, 0.58824986],\n",
              "       [0.37928638, 0.6207136 ],\n",
              "       [0.33041453, 0.66958547],\n",
              "       [0.4781107 , 0.5218893 ],\n",
              "       [0.4393521 , 0.56064785],\n",
              "       [0.318669  , 0.681331  ],\n",
              "       [0.627446  , 0.37255397],\n",
              "       [0.35609394, 0.643906  ],\n",
              "       [0.078412  , 0.921588  ],\n",
              "       [0.2942897 , 0.70571035],\n",
              "       [0.41090158, 0.58909845],\n",
              "       [0.03977356, 0.9602264 ],\n",
              "       [0.49491647, 0.5050835 ],\n",
              "       [0.08824104, 0.91175896],\n",
              "       [0.38407084, 0.6159292 ],\n",
              "       [0.22473021, 0.77526975],\n",
              "       [0.10320031, 0.8967997 ],\n",
              "       [0.51607287, 0.4839271 ],\n",
              "       [0.30350098, 0.69649905],\n",
              "       [0.38382182, 0.6161782 ],\n",
              "       [0.5271202 , 0.47287986],\n",
              "       [0.31396317, 0.6860368 ],\n",
              "       [0.42058724, 0.5794128 ],\n",
              "       [0.62688345, 0.3731166 ],\n",
              "       [0.37789315, 0.62210685],\n",
              "       [0.22377834, 0.77622163],\n",
              "       [0.6726757 , 0.32732427],\n",
              "       [0.43730235, 0.5626976 ],\n",
              "       [0.41836846, 0.58163154],\n",
              "       [0.38947833, 0.6105217 ],\n",
              "       [0.2723708 , 0.7276291 ],\n",
              "       [0.5636914 , 0.43630865],\n",
              "       [0.25229692, 0.7477031 ],\n",
              "       [0.45596835, 0.54403156],\n",
              "       [0.06411482, 0.93588513],\n",
              "       [0.49753377, 0.50246626],\n",
              "       [0.6771061 , 0.32289392],\n",
              "       [0.16276824, 0.8372318 ],\n",
              "       [0.16355173, 0.8364483 ],\n",
              "       [0.12486424, 0.8751358 ],\n",
              "       [0.4221663 , 0.5778338 ],\n",
              "       [0.50768155, 0.49231845],\n",
              "       [0.6079291 , 0.39207086],\n",
              "       [0.09368845, 0.9063116 ],\n",
              "       [0.3882056 , 0.6117944 ],\n",
              "       [0.5639671 , 0.4360329 ],\n",
              "       [0.455304  , 0.54469603],\n",
              "       [0.7893995 , 0.21060053],\n",
              "       [0.67819995, 0.32180005],\n",
              "       [0.82428   , 0.17571999],\n",
              "       [0.69396293, 0.30603707],\n",
              "       [0.53120995, 0.46879002],\n",
              "       [0.7430769 , 0.25692305],\n",
              "       [0.58917814, 0.41082177],\n",
              "       [0.75285906, 0.24714094],\n",
              "       [0.75676167, 0.24323833],\n",
              "       [0.6142688 , 0.38573125],\n",
              "       [0.5570796 , 0.44292045],\n",
              "       [0.7843242 , 0.21567576],\n",
              "       [0.6905229 , 0.309477  ],\n",
              "       [0.5965962 , 0.40340382],\n",
              "       [0.7043439 , 0.29565606],\n",
              "       [0.7856595 , 0.21434051],\n",
              "       [0.7103512 , 0.2896488 ],\n",
              "       [0.4058704 , 0.59412956],\n",
              "       [0.787163  , 0.21283698],\n",
              "       [0.5104795 , 0.48952052],\n",
              "       [0.7741055 , 0.22589454],\n",
              "       [0.70534456, 0.2946554 ],\n",
              "       [0.8075217 , 0.19247828],\n",
              "       [0.69873023, 0.30126977],\n",
              "       [0.5947811 , 0.40521893],\n",
              "       [0.702763  , 0.29723695],\n",
              "       [0.7199087 , 0.28009135],\n",
              "       [0.7946752 , 0.20532483],\n",
              "       [0.7924929 , 0.20750707],\n",
              "       [0.76126236, 0.23873764],\n",
              "       [0.7558296 , 0.24417044],\n",
              "       [0.67229414, 0.32770586],\n",
              "       [0.8174476 , 0.1825524 ],\n",
              "       [0.7582387 , 0.24176131],\n",
              "       [0.73201436, 0.26798567],\n",
              "       [0.6824951 , 0.31750494],\n",
              "       [0.52347744, 0.4765225 ],\n",
              "       [0.704283  , 0.29571694],\n",
              "       [0.26218262, 0.73781747],\n",
              "       [0.78893924, 0.21106079],\n",
              "       [0.7516103 , 0.24838978],\n",
              "       [0.7932875 , 0.20671245],\n",
              "       [0.68893707, 0.31106296],\n",
              "       [0.75013626, 0.24986374],\n",
              "       [0.726929  , 0.27307102],\n",
              "       [0.78419906, 0.21580096],\n",
              "       [0.78515756, 0.21484238],\n",
              "       [0.81579804, 0.18420193],\n",
              "       [0.58288294, 0.4171171 ],\n",
              "       [0.6902357 , 0.3097644 ],\n",
              "       [0.49321502, 0.506785  ],\n",
              "       [0.7640313 , 0.23596875],\n",
              "       [0.73656374, 0.26343626],\n",
              "       [0.6480387 , 0.3519613 ],\n",
              "       [0.7062912 , 0.29370877],\n",
              "       [0.7332666 , 0.26673344],\n",
              "       [0.6732444 , 0.32675558],\n",
              "       [0.30948067, 0.6905193 ],\n",
              "       [0.2762644 , 0.7237356 ],\n",
              "       [0.8507761 , 0.14922392],\n",
              "       [0.3001795 , 0.69982046],\n",
              "       [0.7143577 , 0.2856423 ],\n",
              "       [0.8563573 , 0.14364272],\n",
              "       [0.7296099 , 0.2703901 ],\n",
              "       [0.3838916 , 0.6161084 ],\n",
              "       [0.06296746, 0.9370326 ],\n",
              "       [0.41029006, 0.58970994],\n",
              "       [0.89603204, 0.10396793],\n",
              "       [0.9236543 , 0.07634573],\n",
              "       [0.55668813, 0.4433118 ],\n",
              "       [0.1762154 , 0.82378465],\n",
              "       [0.80427444, 0.1957256 ],\n",
              "       [0.51499206, 0.48500788],\n",
              "       [0.48949832, 0.5105017 ],\n",
              "       [0.5008555 , 0.49914452],\n",
              "       [0.5465115 , 0.4534885 ],\n",
              "       [0.8271221 , 0.17287786],\n",
              "       [0.7489473 , 0.25105265],\n",
              "       [0.54012245, 0.45987752],\n",
              "       [0.31895787, 0.68104213],\n",
              "       [0.5224251 , 0.4775749 ],\n",
              "       [0.31574368, 0.6842563 ],\n",
              "       [0.6977984 , 0.30220163],\n",
              "       [0.46541092, 0.5345891 ],\n",
              "       [0.6413364 , 0.35866365],\n",
              "       [0.75975394, 0.2402461 ],\n",
              "       [0.64165574, 0.35834432],\n",
              "       [0.74185264, 0.25814736],\n",
              "       [0.10713226, 0.8928677 ],\n",
              "       [0.55857503, 0.44142494],\n",
              "       [0.80612946, 0.19387059],\n",
              "       [0.3892131 , 0.61078686],\n",
              "       [0.29994267, 0.7000573 ],\n",
              "       [0.49352667, 0.5064733 ],\n",
              "       [0.25277957, 0.7472204 ],\n",
              "       [0.4977795 , 0.5022205 ],\n",
              "       [0.47168335, 0.5283167 ],\n",
              "       [0.83233505, 0.16766496],\n",
              "       [0.5792308 , 0.4207692 ],\n",
              "       [0.58644426, 0.4135557 ],\n",
              "       [0.27185002, 0.72814995],\n",
              "       [0.46170875, 0.53829134],\n",
              "       [0.8407588 , 0.15924114],\n",
              "       [0.46416333, 0.5358367 ],\n",
              "       [0.5035329 , 0.49646714],\n",
              "       [0.40540907, 0.59459096],\n",
              "       [0.572509  , 0.42749107],\n",
              "       [0.7565084 , 0.24349159],\n",
              "       [0.31836817, 0.68163186],\n",
              "       [0.5596794 , 0.44032064],\n",
              "       [0.4380699 , 0.5619302 ],\n",
              "       [0.66471136, 0.3352887 ],\n",
              "       [0.371539  , 0.628461  ],\n",
              "       [0.59569037, 0.40430966],\n",
              "       [0.21033086, 0.78966916],\n",
              "       [0.63799286, 0.3620071 ],\n",
              "       [0.36079583, 0.63920414],\n",
              "       [0.4151891 , 0.58481085],\n",
              "       [0.42967328, 0.57032675],\n",
              "       [0.32885852, 0.67114145],\n",
              "       [0.72895306, 0.27104697],\n",
              "       [0.61980534, 0.3801946 ]], dtype=float32)"
            ]
          },
          "metadata": {
            "tags": []
          },
          "execution_count": 18
        }
      ]
    },
    {
      "cell_type": "code",
      "metadata": {
        "id": "FuLBkDkaKaIH",
        "colab_type": "code",
        "colab": {}
      },
      "source": [
        "yhat_classes=list(map(lambda x: np.argmax(x), yhat))"
      ],
      "execution_count": null,
      "outputs": []
    },
    {
      "cell_type": "code",
      "metadata": {
        "id": "hpwobJ-PKcoq",
        "colab_type": "code",
        "colab": {}
      },
      "source": [
        "yhat_probs = yhat[:, 1]"
      ],
      "execution_count": null,
      "outputs": []
    },
    {
      "cell_type": "code",
      "metadata": {
        "id": "KQh6qf2wKpsH",
        "colab_type": "code",
        "colab": {}
      },
      "source": [
        "yhat_probs"
      ],
      "execution_count": null,
      "outputs": []
    },
    {
      "cell_type": "code",
      "metadata": {
        "id": "_FI9Q-mElXt3",
        "colab_type": "code",
        "colab": {
          "base_uri": "https://localhost:8080/",
          "height": 187
        },
        "outputId": "0fa029e3-b010-4b8d-fd16-cbc04d7b8484"
      },
      "source": [
        "acc"
      ],
      "execution_count": null,
      "outputs": [
        {
          "output_type": "execute_result",
          "data": {
            "text/plain": [
              "[[0.7987998468535287, 0.5000000085149493],\n",
              " [0.6986056353364672, 0.5714285799435207],\n",
              " [0.4704401438886469, 0.7272727213122628],\n",
              " [0.5113964958624406, 0.7090909090909091],\n",
              " [0.39613733291625974, 0.763636361468922],\n",
              " [0.354986893046986, 0.7818181709809737],\n",
              " [0.23516252095049078, 0.8181818116794933],\n",
              " [0.19099983085285532, 0.9454545335336165],\n",
              " [0.7978284380652688, 0.6909090898253701],\n",
              " [1.3030447786504573, 0.6363636333834041]]"
            ]
          },
          "metadata": {
            "tags": []
          },
          "execution_count": 13
        }
      ]
    },
    {
      "cell_type": "code",
      "metadata": {
        "id": "ozFaaxakiRDj",
        "colab_type": "code",
        "colab": {
          "base_uri": "https://localhost:8080/",
          "height": 204
        },
        "outputId": "3673f725-0534-4f15-917a-0fd825105b14"
      },
      "source": [
        "acc\n",
        "#Attention BiLSTM with 99-99: 64-32 BLSTM"
      ],
      "execution_count": null,
      "outputs": [
        {
          "output_type": "execute_result",
          "data": {
            "text/plain": [
              "[0.5555555555555556,\n",
              " 0.5,\n",
              " 0.6111111111111112,\n",
              " 0.6111111111111112,\n",
              " 0.7777777777777778,\n",
              " 0.8333333333333334,\n",
              " 0.6111111111111112,\n",
              " 0.5555555555555556,\n",
              " 0.8333333333333334,\n",
              " 0.7777777777777778,\n",
              " 0.8333333333333334]"
            ]
          },
          "metadata": {
            "tags": []
          },
          "execution_count": 10
        }
      ]
    },
    {
      "cell_type": "code",
      "metadata": {
        "id": "izYvCdYPiSwC",
        "colab_type": "code",
        "colab": {
          "base_uri": "https://localhost:8080/",
          "height": 34
        },
        "outputId": "88e2f9d4-1b34-412a-f7a2-b53a3ee8e985"
      },
      "source": [
        "np.mean(acc)"
      ],
      "execution_count": null,
      "outputs": [
        {
          "output_type": "execute_result",
          "data": {
            "text/plain": [
              "0.6818181818181818"
            ]
          },
          "metadata": {
            "tags": []
          },
          "execution_count": 11
        }
      ]
    },
    {
      "cell_type": "code",
      "metadata": {
        "id": "qChxgilHeuRL",
        "colab_type": "code",
        "colab": {
          "base_uri": "https://localhost:8080/",
          "height": 204
        },
        "outputId": "c1888425-e6f3-4cbd-8306-bbb6c6429289"
      },
      "source": [
        "acc"
      ],
      "execution_count": null,
      "outputs": [
        {
          "output_type": "execute_result",
          "data": {
            "text/plain": [
              "[0.5,\n",
              " 0.6111111111111112,\n",
              " 0.7222222222222222,\n",
              " 0.8333333333333334,\n",
              " 0.9444444444444444,\n",
              " 0.9444444444444444,\n",
              " 1.0,\n",
              " 1.0,\n",
              " 1.0,\n",
              " 0.7222222222222222,\n",
              " 0.6111111111111112]"
            ]
          },
          "metadata": {
            "tags": []
          },
          "execution_count": 6
        }
      ]
    },
    {
      "cell_type": "code",
      "metadata": {
        "id": "6bMh89b-nU52",
        "colab_type": "code",
        "colab": {
          "base_uri": "https://localhost:8080/",
          "height": 34
        },
        "outputId": "7b5fb0ec-3447-482b-e310-2d0727a468e5"
      },
      "source": [
        "np.mean(acc)"
      ],
      "execution_count": null,
      "outputs": [
        {
          "output_type": "execute_result",
          "data": {
            "text/plain": [
              "0.808080808080808"
            ]
          },
          "metadata": {
            "tags": []
          },
          "execution_count": 7
        }
      ]
    },
    {
      "cell_type": "code",
      "metadata": {
        "id": "xLHmUedGagIi",
        "colab_type": "code",
        "colab": {
          "base_uri": "https://localhost:8080/",
          "height": 204
        },
        "outputId": "42f6979e-b54b-4a09-c48a-52b7cbee789f"
      },
      "source": [
        "acc"
      ],
      "execution_count": null,
      "outputs": [
        {
          "output_type": "execute_result",
          "data": {
            "text/plain": [
              "[0.5294117647058824,\n",
              " 0.7450980392156863,\n",
              " 0.9,\n",
              " 0.96,\n",
              " 0.44,\n",
              " 0.86,\n",
              " 0.9,\n",
              " 1.0,\n",
              " 0.9,\n",
              " 0.72,\n",
              " 0.72]"
            ]
          },
          "metadata": {
            "tags": []
          },
          "execution_count": 7
        }
      ]
    },
    {
      "cell_type": "code",
      "metadata": {
        "id": "u-ISNAnpakhy",
        "colab_type": "code",
        "colab": {
          "base_uri": "https://localhost:8080/",
          "height": 34
        },
        "outputId": "2476721c-1946-4180-b495-67ab63855c5c"
      },
      "source": [
        "np.mean(acc)"
      ],
      "execution_count": null,
      "outputs": [
        {
          "output_type": "execute_result",
          "data": {
            "text/plain": [
              "0.7885918003565062"
            ]
          },
          "metadata": {
            "tags": []
          },
          "execution_count": 8
        }
      ]
    },
    {
      "cell_type": "code",
      "metadata": {
        "id": "M2qRdkvj9S7f",
        "colab_type": "code",
        "colab": {
          "base_uri": "https://localhost:8080/",
          "height": 204
        },
        "outputId": "6fe66f5e-5a2f-4c44-9640-db13797611a9"
      },
      "source": [
        "acc"
      ],
      "execution_count": null,
      "outputs": [
        {
          "output_type": "execute_result",
          "data": {
            "text/plain": [
              "[0.49019607843137253,\n",
              " 0.6274509803921569,\n",
              " 0.66,\n",
              " 0.76,\n",
              " 0.98,\n",
              " 0.94,\n",
              " 0.88,\n",
              " 1.0,\n",
              " 0.88,\n",
              " 0.76,\n",
              " 0.72]"
            ]
          },
          "metadata": {
            "tags": []
          },
          "execution_count": 7
        }
      ]
    },
    {
      "cell_type": "code",
      "metadata": {
        "id": "PSzESvyK9VSv",
        "colab_type": "code",
        "colab": {
          "base_uri": "https://localhost:8080/",
          "height": 34
        },
        "outputId": "018fbcf4-4746-4e11-ebf7-e93e20c2bca4"
      },
      "source": [
        "np.mean(acc)"
      ],
      "execution_count": null,
      "outputs": [
        {
          "output_type": "execute_result",
          "data": {
            "text/plain": [
              "0.7906951871657754"
            ]
          },
          "metadata": {
            "tags": []
          },
          "execution_count": 9
        }
      ]
    },
    {
      "cell_type": "code",
      "metadata": {
        "id": "O2jX7SlNt7Y3",
        "colab_type": "code",
        "colab": {
          "base_uri": "https://localhost:8080/",
          "height": 34
        },
        "outputId": "9792143f-fd71-4803-cacd-b2867cf5590c"
      },
      "source": [
        "len(x_AD)"
      ],
      "execution_count": null,
      "outputs": [
        {
          "output_type": "execute_result",
          "data": {
            "text/plain": [
              "309"
            ]
          },
          "metadata": {
            "tags": []
          },
          "execution_count": 7
        }
      ]
    },
    {
      "cell_type": "code",
      "metadata": {
        "id": "2eIV-ifAtyVZ",
        "colab_type": "code",
        "colab": {
          "base_uri": "https://localhost:8080/",
          "height": 34
        },
        "outputId": "30a4d1b6-ef25-4251-acfc-c96a3198ad48"
      },
      "source": [
        "len(X)"
      ],
      "execution_count": null,
      "outputs": [
        {
          "output_type": "execute_result",
          "data": {
            "text/plain": [
              "552"
            ]
          },
          "metadata": {
            "tags": []
          },
          "execution_count": 10
        }
      ]
    },
    {
      "cell_type": "code",
      "metadata": {
        "id": "CK7HsZJqqEj1",
        "colab_type": "code",
        "colab": {
          "base_uri": "https://localhost:8080/",
          "height": 34
        },
        "outputId": "c44681dd-8d05-4128-e677-f954914ba879"
      },
      "source": [
        "len(Y)"
      ],
      "execution_count": null,
      "outputs": [
        {
          "output_type": "execute_result",
          "data": {
            "text/plain": [
              "552"
            ]
          },
          "metadata": {
            "tags": []
          },
          "execution_count": 9
        }
      ]
    },
    {
      "cell_type": "code",
      "metadata": {
        "id": "cUXNssSXvlZ7",
        "colab_type": "code",
        "colab": {
          "base_uri": "https://localhost:8080/",
          "height": 204
        },
        "outputId": "4b1b1f93-bc30-420c-8687-4cbcdd35c59a"
      },
      "source": [
        "acc"
      ],
      "execution_count": null,
      "outputs": [
        {
          "output_type": "execute_result",
          "data": {
            "text/plain": [
              "[0.6111111111111112,\n",
              " 0.7222222222222222,\n",
              " 0.8333333333333334,\n",
              " 1.0,\n",
              " 1.0,\n",
              " 1.0,\n",
              " 1.0,\n",
              " 1.0,\n",
              " 0.9444444444444444,\n",
              " 0.8888888888888888,\n",
              " 0.7222222222222222]"
            ]
          },
          "metadata": {
            "tags": []
          },
          "execution_count": 7
        }
      ]
    },
    {
      "cell_type": "code",
      "metadata": {
        "id": "ZWbha9PyvrPW",
        "colab_type": "code",
        "colab": {
          "base_uri": "https://localhost:8080/",
          "height": 34
        },
        "outputId": "22d60c7a-d55d-40a8-b7ea-1b1aca0ace24"
      },
      "source": [
        "np.mean(acc)"
      ],
      "execution_count": null,
      "outputs": [
        {
          "output_type": "execute_result",
          "data": {
            "text/plain": [
              "0.8838383838383838"
            ]
          },
          "metadata": {
            "tags": []
          },
          "execution_count": 8
        }
      ]
    },
    {
      "cell_type": "code",
      "metadata": {
        "id": "pO04l16bp60h",
        "colab_type": "code",
        "colab": {
          "base_uri": "https://localhost:8080/",
          "height": 187
        },
        "outputId": "586c0426-28ab-4e78-8877-db2f45dc6805"
      },
      "source": [
        "acc"
      ],
      "execution_count": null,
      "outputs": [
        {
          "output_type": "execute_result",
          "data": {
            "text/plain": [
              "[0.44642857142857145,\n",
              " 0.44642857142857145,\n",
              " 0.43636363636363634,\n",
              " 0.45454545454545453,\n",
              " 0.43636363636363634,\n",
              " 0.43636363636363634,\n",
              " 0.43636363636363634,\n",
              " 0.43636363636363634,\n",
              " 0.43636363636363634,\n",
              " 0.45454545454545453]"
            ]
          },
          "metadata": {
            "tags": []
          },
          "execution_count": 8
        }
      ]
    },
    {
      "cell_type": "code",
      "metadata": {
        "id": "R6RkNNUjqoTa",
        "colab_type": "code",
        "colab": {
          "base_uri": "https://localhost:8080/",
          "height": 204
        },
        "outputId": "7a69fb9f-1f59-41b8-e925-c252a41f7d0b"
      },
      "source": [
        "acc"
      ],
      "execution_count": null,
      "outputs": [
        {
          "output_type": "execute_result",
          "data": {
            "text/plain": [
              "[0.5,\n",
              " 0.5555555555555556,\n",
              " 0.6111111111111112,\n",
              " 0.5,\n",
              " 0.7777777777777778,\n",
              " 0.6666666666666666,\n",
              " 0.8333333333333334,\n",
              " 0.7777777777777778,\n",
              " 0.6111111111111112,\n",
              " 0.5,\n",
              " 0.7777777777777778]"
            ]
          },
          "metadata": {
            "tags": []
          },
          "execution_count": 13
        }
      ]
    },
    {
      "cell_type": "code",
      "metadata": {
        "id": "0m6q1r2XDD8P",
        "colab_type": "code",
        "colab": {
          "base_uri": "https://localhost:8080/",
          "height": 34
        },
        "outputId": "649ea0ba-3a8d-4592-e91c-d27e9d54b3ac"
      },
      "source": [
        "np.mean(acc)"
      ],
      "execution_count": null,
      "outputs": [
        {
          "output_type": "execute_result",
          "data": {
            "text/plain": [
              "0.6464646464646465"
            ]
          },
          "metadata": {
            "tags": []
          },
          "execution_count": 14
        }
      ]
    },
    {
      "cell_type": "code",
      "metadata": {
        "id": "GRSnNr-cZ5I3",
        "colab_type": "code",
        "colab": {
          "base_uri": "https://localhost:8080/",
          "height": 204
        },
        "outputId": "1baaa373-2249-4c98-832a-ed609c501452"
      },
      "source": [
        "acc"
      ],
      "execution_count": null,
      "outputs": [
        {
          "output_type": "execute_result",
          "data": {
            "text/plain": [
              "[0.5555555555555556,\n",
              " 0.8888888888888888,\n",
              " 0.8888888888888888,\n",
              " 1.0,\n",
              " 1.0,\n",
              " 1.0,\n",
              " 1.0,\n",
              " 1.0,\n",
              " 1.0,\n",
              " 0.8333333333333334,\n",
              " 0.7222222222222222]"
            ]
          },
          "metadata": {
            "tags": []
          },
          "execution_count": 6
        }
      ]
    },
    {
      "cell_type": "markdown",
      "metadata": {
        "id": "-Pj25EVobFIw",
        "colab_type": "text"
      },
      "source": [
        "**SVM Cross Validation**"
      ]
    },
    {
      "cell_type": "code",
      "metadata": {
        "id": "QHIKDPf_FI8t",
        "colab_type": "code",
        "colab": {}
      },
      "source": [
        "from sklearn.model_selection import train_test_split\n",
        "from sklearn.svm import LinearSVC\n",
        "from sklearn.metrics import accuracy_score\n",
        "#from nltk.classify.scikitlearn import SklearnClassifier\n",
        "from sklearn.model_selection import StratifiedKFold\n",
        "from sklearn import metrics\n",
        "from sklearn.metrics import accuracy_score\n",
        "from sklearn.metrics import precision_score\n",
        "from sklearn.metrics import recall_score\n",
        "from sklearn.metrics import f1_score\n",
        "from sklearn.metrics import cohen_kappa_score\n",
        "from sklearn.metrics import roc_auc_score\n",
        "from sklearn.metrics import confusion_matrix\n",
        "#results, precision, recall, f1, kappa, auc, matrix\n",
        "#X=x_total.reshape(len(X),-1)\n",
        "X=X.reshape(len(X),-1)\n",
        "Y_D=np.ones(len(XA))\n",
        "Y_C=np.zeros(len(XC))\n",
        "Y=np.concatenate((Y_D,Y_C))\n",
        "skf = StratifiedKFold(11)\n",
        "#clf=SklearnClassifier(SVC(kernel='linear',probability=True))\n",
        "clf = LinearSVC(random_state=1, tol=1e-5)\n",
        "R = []\n",
        "for train, test in skf.split(X,Y):\n",
        "        xt, xv, yt, yv = X[train, :], X[test, :], Y[train], Y[test]\n",
        "        clf.fit(xt, yt)\n",
        "        yhat = clf.predict(xv)\n",
        "        #proba = clf.predict_proba(xv)\n",
        "        acc=np.mean(yhat == yv)\n",
        "        #acc.append(np.mean(yhat == yv))\n",
        "        #f=metrics.classification_report(yv, yhat)\n",
        "        #print(f)\n",
        "        #auc.append(f)\n",
        "        r0=metrics.accuracy_score(yv, yhat)\n",
        "        r1=metrics.precision_score(yv, yhat)\n",
        "        r2=metrics.recall_score(yv, yhat)\n",
        "        r3=metrics.f1_score(yv, yhat)\n",
        "        r4=metrics.cohen_kappa_score(yv, yhat)\n",
        "        r5=metrics.roc_auc_score(yv, yhat)\n",
        "        r6=metrics.confusion_matrix(yv, yhat)\n",
        "        s=r0,r1,r2,r3,r4,r5,r6\n",
        "        R.append(s)\n",
        "        #precision = precision_score(y_test[:,1], yhat_classes)\n",
        "        #print('Precision: %f' % precision)\n",
        "        # recall: tp / (tp + fn)\n",
        "        #recall = recall_score(y_test[:,1], yhat_classes)\n",
        "        #print('Recall: %f' % recall)\n",
        "        # f1: 2 tp / (2 tp + fp + fn)\n",
        "        #f1 = f1_score(y_test[:,1], yhat_classes)\n",
        "        #print('F1 score: %f' % f1)\n",
        " \n",
        "        # kappa\n",
        "        #kappa = cohen_kappa_score(y_test[:,1], yhat_classes)\n",
        "        #print('Cohens kappa: %f' % kappa)\n",
        "        # ROC AUC\n",
        "        #auc = roc_auc_score(y_test[:,1], yhat_probs)\n",
        "        #print('ROC AUC: %f' % auc)\n",
        "        # confusion matrix\n",
        "        #matrix = confusion_matrix(y_test[:,1], yhat_classes)\n",
        "        #print('test loss, test acc:', results)\n",
        "\n",
        "        #auc.append(roc_auc_score(yv, proba))"
      ],
      "execution_count": null,
      "outputs": []
    },
    {
      "cell_type": "code",
      "metadata": {
        "id": "O5WptJKieuO1",
        "colab_type": "code",
        "colab": {}
      },
      "source": [
        "RR=np.array(R)\n",
        "sss=pd.DataFrame(RR)\n",
        "ssss=sss.to_csv('/content/drive/My Drive/Dementia_Audio/Audio_Dementia/NEW_SVM_11_Vggish.csv')"
      ],
      "execution_count": null,
      "outputs": []
    },
    {
      "cell_type": "code",
      "metadata": {
        "id": "fTudLetKUehk",
        "colab_type": "code",
        "colab": {}
      },
      "source": [
        "metrics.recall_score"
      ],
      "execution_count": null,
      "outputs": []
    },
    {
      "cell_type": "code",
      "metadata": {
        "id": "EIlnIzLAzHwk",
        "colab_type": "code",
        "colab": {}
      },
      "source": [
        "yhat"
      ],
      "execution_count": null,
      "outputs": []
    },
    {
      "cell_type": "code",
      "metadata": {
        "id": "YoYBjLsTfSzD",
        "colab_type": "code",
        "colab": {}
      },
      "source": [
        "R"
      ],
      "execution_count": null,
      "outputs": []
    },
    {
      "cell_type": "code",
      "metadata": {
        "colab_type": "code",
        "id": "R2m3-HZGbaZN",
        "colab": {
          "base_uri": "https://localhost:8080/",
          "height": 204
        },
        "outputId": "6e30731d-5383-4086-eead-b8d93b915061"
      },
      "source": [
        "acc"
      ],
      "execution_count": null,
      "outputs": [
        {
          "output_type": "execute_result",
          "data": {
            "text/plain": [
              "[0.5,\n",
              " 0.8333333333333334,\n",
              " 0.3333333333333333,\n",
              " 0.5555555555555556,\n",
              " 0.7222222222222222,\n",
              " 0.5555555555555556,\n",
              " 0.7222222222222222,\n",
              " 0.6666666666666666,\n",
              " 0.5555555555555556,\n",
              " 0.6666666666666666,\n",
              " 0.6666666666666666]"
            ]
          },
          "metadata": {
            "tags": []
          },
          "execution_count": 39
        }
      ]
    },
    {
      "cell_type": "code",
      "metadata": {
        "colab_type": "code",
        "id": "6xnyykqUbZuP",
        "colab": {
          "base_uri": "https://localhost:8080/",
          "height": 34
        },
        "outputId": "42492f01-3ad2-444d-9564-a9005461d748"
      },
      "source": [
        ""
      ],
      "execution_count": null,
      "outputs": [
        {
          "output_type": "execute_result",
          "data": {
            "text/plain": [
              "0.6161616161616162"
            ]
          },
          "metadata": {
            "tags": []
          },
          "execution_count": 41
        }
      ]
    },
    {
      "cell_type": "markdown",
      "metadata": {
        "id": "P_SrLvcNbeC6",
        "colab_type": "text"
      },
      "source": [
        "**Traditional Partitioning for Cross Validation**"
      ]
    },
    {
      "cell_type": "code",
      "metadata": {
        "id": "XdX1_TI2OLhq",
        "colab_type": "code",
        "colab": {
          "base_uri": "https://localhost:8080/",
          "height": 204
        },
        "outputId": "ff1c740e-5423-4aca-f5fa-2abb928f2561"
      },
      "source": [
        "from sklearn.model_selection import train_test_split\n",
        "from sklearn.svm import LinearSVC\n",
        "from sklearn.metrics import accuracy_score\n",
        "\n",
        "acc_SVM=[]\n",
        "for i in range(11):\n",
        "  h1=9*i\n",
        "  h2=9*i+9 \n",
        "  if i==11:\n",
        "    h2=99\n",
        "  X_train=np.concatenate((x_total[:h1], x_total[h2:99], x_total[99:99+h1], x_total[h2+99:])) \n",
        "  X_test=np.concatenate((x_total[h1:h2],x_total[h1+99:h2+99]))\n",
        "  X_train=X_train.reshape(len(X_train),-1)\n",
        "  X_test=X_test.reshape(len(X_test),-1)\n",
        "  y_train=np.concatenate((y[:h1], y[h2:99], y[99:99+h1], y[h2+99:]))\n",
        "  y_test=np.concatenate((y[h1:h2],y[h1+99:h2+99]))\n",
        "  #X_train, X_test, y_train, y_test = train_test_split(X, y, test_size=0.10, stratify=y)\n",
        "\n",
        "  clf = LinearSVC(random_state=1, tol=1e-5)\n",
        "  clf.fit(X_train, y_train)\n",
        "\n",
        "  predicted = clf.predict(X_test)\n",
        "  result=accuracy_score(y_test, predicted)\n",
        "# get the accuracy\n",
        "  print (accuracy_score(y_test, predicted))\n",
        "  acc_SVM.append(result)"
      ],
      "execution_count": null,
      "outputs": [
        {
          "output_type": "stream",
          "text": [
            "0.5\n",
            "0.8333333333333334\n",
            "0.3333333333333333\n",
            "0.5555555555555556\n",
            "0.7222222222222222\n",
            "0.5555555555555556\n",
            "0.7222222222222222\n",
            "0.6666666666666666\n",
            "0.5555555555555556\n",
            "0.6666666666666666\n",
            "0.6666666666666666\n"
          ],
          "name": "stdout"
        }
      ]
    },
    {
      "cell_type": "code",
      "metadata": {
        "id": "VJzbHcQ-equo",
        "colab_type": "code",
        "colab": {}
      },
      "source": [
        "input_list='/content/drive/My Drive/Dementia_Audio/Audio_Dementia_5_sec_chunks/Control/002-0/002-0_0.wav'"
      ],
      "execution_count": null,
      "outputs": []
    },
    {
      "cell_type": "markdown",
      "metadata": {
        "id": "Im-xQtWofN3u",
        "colab_type": "text"
      },
      "source": [
        "**Vggish Demo: Don't use this for extracting Vggish Embeddings**"
      ]
    },
    {
      "cell_type": "code",
      "metadata": {
        "id": "mx6RgR8DZMuD",
        "colab_type": "code",
        "colab": {}
      },
      "source": [
        "import vggish_slim\n",
        "import vggish_params\n",
        "import vggish_input\n",
        "\n",
        "def CreateVGGishNetwork(hop_size=0.96):   # Hop size is in seconds.\n",
        "  \"\"\"Define VGGish model, load the checkpoint, and return a dictionary that points\n",
        "  to the different tensors defined by the model.\n",
        "  \"\"\"\n",
        "  vggish_slim.define_vggish_slim()\n",
        "  checkpoint_path = 'vggish_model.ckpt'\n",
        "  vggish_params.EXAMPLE_HOP_SECONDS = hop_size\n",
        "  \n",
        "  vggish_slim.load_vggish_slim_checkpoint(sess, checkpoint_path)\n",
        "\n",
        "  features_tensor = sess.graph.get_tensor_by_name(\n",
        "      vggish_params.INPUT_TENSOR_NAME)\n",
        "  embedding_tensor = sess.graph.get_tensor_by_name(\n",
        "      vggish_params.OUTPUT_TENSOR_NAME)\n",
        "\n",
        "  layers = {'conv1': 'vggish/conv1/Relu',\n",
        "            'pool1': 'vggish/pool1/MaxPool',\n",
        "            'conv2': 'vggish/conv2/Relu',\n",
        "            'pool2': 'vggish/pool2/MaxPool',\n",
        "            'conv3': 'vggish/conv3/conv3_2/Relu',\n",
        "            'pool3': 'vggish/pool3/MaxPool',\n",
        "            'conv4': 'vggish/conv4/conv4_2/Relu',\n",
        "            'pool4': 'vggish/pool4/MaxPool',\n",
        "            'fc1': 'vggish/fc1/fc1_2/Relu',\n",
        "            'fc2': 'vggish/fc2/Relu',\n",
        "            'embedding': 'vggish/embedding',\n",
        "            'features': 'vggish/input_features',\n",
        "         }\n",
        "  g = tf.get_default_graph()\n",
        "  for k in layers:\n",
        "    layers[k] = g.get_tensor_by_name( layers[k] + ':0')\n",
        "    \n",
        "  return {'features': features_tensor,\n",
        "          'embedding': embedding_tensor,\n",
        "          'layers': layers,\n",
        "         }"
      ],
      "execution_count": null,
      "outputs": []
    },
    {
      "cell_type": "code",
      "metadata": {
        "id": "Vpoourri5PSy",
        "colab_type": "code",
        "colab": {}
      },
      "source": [
        "import soundfile as sf\n",
        "\n",
        "def wav_read(wav_file):\n",
        "    wav_data, sr = sf.read(wav_file, dtype='int16')\n",
        "    wav_data=wav_data/32768.0\n",
        "    return wav_data"
      ],
      "execution_count": null,
      "outputs": []
    },
    {
      "cell_type": "code",
      "metadata": {
        "id": "WH_qkN2HFV6E",
        "colab_type": "code",
        "colab": {}
      },
      "source": [
        "import librosa\n",
        "y, sr = librosa.load(input_list, mono=True)\n",
        "y = librosa.util.normalize(y)"
      ],
      "execution_count": null,
      "outputs": []
    },
    {
      "cell_type": "code",
      "metadata": {
        "id": "sr1S7bhZFhGh",
        "colab_type": "code",
        "colab": {
          "base_uri": "https://localhost:8080/",
          "height": 34
        },
        "outputId": "a5836ab2-b82b-476b-a3e8-336c748dc1c3"
      },
      "source": [
        "sr"
      ],
      "execution_count": null,
      "outputs": [
        {
          "output_type": "execute_result",
          "data": {
            "text/plain": [
              "22050"
            ]
          },
          "metadata": {
            "tags": []
          },
          "execution_count": 32
        }
      ]
    },
    {
      "cell_type": "code",
      "metadata": {
        "id": "F50H4fjTZW8_",
        "colab_type": "code",
        "colab": {}
      },
      "source": [
        "def ProcessWithVGGish(vgg, x, sr):\n",
        "  '''Run the VGGish model, starting with a sound (x) at sample rate\n",
        "  (sr). Return a whitened version of the embeddings. Sound must be scaled to be\n",
        "  floats between -1 and +1.'''\n",
        "\n",
        "  # Produce a batch of log mel spectrogram examples.\n",
        "  input_batch = vggish_input.waveform_to_examples(x, sr)\n",
        "  print('Log Mel Spectrogram example: ', input_batch[0])\n",
        "\n",
        "  [embedding_batch] = sess.run([vgg['embedding']],\n",
        "                               feed_dict={vgg['features']: input_batch})\n",
        "\n",
        "  # Postprocess the results to produce whitened quantized embeddings.\n",
        "  pca_params_path = 'vggish_pca_params.npz'\n",
        "\n",
        "  pproc = vggish_postprocess.Postprocessor(pca_params_path)\n",
        "  postprocessed_batch = pproc.postprocess(embedding_batch)\n",
        "  # print('Postprocessed VGGish embedding: ', postprocessed_batch[0])\n",
        "  return postprocessed_batch[0], input_batch[0]\n"
      ],
      "execution_count": null,
      "outputs": []
    },
    {
      "cell_type": "code",
      "metadata": {
        "id": "9nmHLopDZXxZ",
        "colab_type": "code",
        "colab": {
          "base_uri": "https://localhost:8080/",
          "height": 34
        },
        "outputId": "38f78f3b-f280-4244-f631-ef1188899b80"
      },
      "source": [
        "# Test these new functions with the original test.\n",
        "import tensorflow as tf\n",
        "tf.reset_default_graph()\n",
        "sess = tf.Session()\n",
        "\n",
        "vgg = CreateVGGishNetwork(0.01)\n",
        "\n",
        "# Generate a 1 kHz sine wave at 44.1 kHz (we use a high sampling rate\n",
        "# to test resampling to 16 kHz during feature extraction).\n",
        "#num_secs = 5\n",
        "#freq = 1000\n",
        "#sr = 44100\n",
        "#sr=1000\n",
        "#x=x_AD[1].reshape(720000)\n",
        "#t = np.linspace(0, num_secs, int(num_secs * sr))\n",
        "#x = np.sin(2 * np.pi * freq * t)  # Unit amplitude input signal\n",
        "\n",
        "#postprocessed_batch = ProcessWithVGGish(vgg, x, sr)\n",
        "\n",
        "# print('Postprocessed VGGish embedding: ', postprocessed_batch[0])\n",
        "#expected_postprocessed_mean = 123.0\n",
        "#expected_postprocessed_std = 75.0\n",
        "#np.testing.assert_allclose(\n",
        "    #[np.mean(postprocessed_batch), np.std(postprocessed_batch)],\n",
        "    #[expected_postprocessed_mean, expected_postprocessed_std],\n",
        "    #rtol=rel_error)\n"
      ],
      "execution_count": null,
      "outputs": [
        {
          "output_type": "stream",
          "text": [
            "INFO:tensorflow:Restoring parameters from vggish_model.ckpt\n"
          ],
          "name": "stdout"
        }
      ]
    },
    {
      "cell_type": "code",
      "metadata": {
        "id": "0rs-ebskZbzv",
        "colab_type": "code",
        "colab": {}
      },
      "source": [
        "def EmbeddingsFromVGGish(vgg, x, sr):\n",
        "  '''Run the VGGish model, starting with a sound (x) at sample rate\n",
        "  (sr). Return a dictionary of embeddings from the different layers\n",
        "  of the model.'''\n",
        "  # Produce a batch of log mel spectrogram examples.\n",
        "  input_batch = vggish_input.waveform_to_examples(x, sr)\n",
        "  print('Log Mel Spectrogram example: ', input_batch[0])\n",
        "\n",
        "  layer_names = vgg['layers'].keys()\n",
        "  tensors = [vgg['layers'][k] for k in layer_names]\n",
        "  \n",
        "  results = sess.run(tensors,\n",
        "                     feed_dict={vgg['features']: input_batch})\n",
        "\n",
        "  resdict = {}\n",
        "  for i, k in enumerate(layer_names):\n",
        "    resdict[k] = results[i]\n",
        "    \n",
        "  return resdict, input_batch[0]"
      ],
      "execution_count": null,
      "outputs": []
    },
    {
      "cell_type": "code",
      "metadata": {
        "id": "lTrjg3vgZh4Y",
        "colab_type": "code",
        "colab": {}
      },
      "source": [
        "sr=8000\n",
        "x_AD.reshape(len(x_AD), 720000)\n",
        "embedings_AD= np.zeros(shape=(len(x_AD),18,403,128))\n",
        "for i in range (21,99):\n",
        "  for j in range(18):\n",
        "    x=x_AD[i][j*40000:(j+1)*40000]\n",
        "  #postprocessed_batch = ProcessWithVGGish(vgg, x, sr)\n",
        "    embedings_AD[i,j]=EmbeddingsFromVGGish(vgg, x, sr)['embedding']"
      ],
      "execution_count": null,
      "outputs": []
    },
    {
      "cell_type": "code",
      "metadata": {
        "id": "rh5C-80pyScQ",
        "colab_type": "code",
        "colab": {}
      },
      "source": [
        "sr=8000\n",
        "x_Control.reshape(len(x_Control), 720000)\n",
        "embedings_Control= np.zeros(shape=(len(x_Control),18,403,128))\n",
        "for i in range (10):\n",
        "  for j in range(18):\n",
        "    x=x_Control[i][j*40000:(j+1)*40000]\n",
        "  #postprocessed_batch = ProcessWithVGGish(vgg, x, sr)\n",
        "    embedings_Control[i,j]=EmbeddingsFromVGGish(vgg, x, sr)['embedding']"
      ],
      "execution_count": null,
      "outputs": []
    },
    {
      "cell_type": "code",
      "metadata": {
        "id": "oNZrjB4gPoCm",
        "colab_type": "code",
        "colab": {}
      },
      "source": [
        "from keras.utils import to_categorical\n",
        "Y_C=np.zeros((10))\n",
        "Y_AD=np.ones((10))\n",
        "Y_AD=to_categorical(Y_AD, num_classes=2)\n",
        "Y_C=to_categorical(Y_C, num_classes=2)\n",
        "y=np.concatenate((Y_C,Y_AD))"
      ],
      "execution_count": null,
      "outputs": []
    },
    {
      "cell_type": "code",
      "metadata": {
        "id": "w7f9aOo7QEr1",
        "colab_type": "code",
        "colab": {}
      },
      "source": [
        "from sklearn.model_selection import train_test_split\n",
        "from sklearn.svm import LinearSVC\n",
        "from sklearn.metrics import accuracy_score\n",
        "\n",
        "X_train, X_test, y_train, y_test = train_test_split(X, y, test_size=0.30, random_state=80, stratify=y)\n",
        "\n",
        "clf = LinearSVC(random_state=1, tol=1e-5)\n",
        "clf.fit(X_train, y_train)\n",
        "\n",
        "predicted = clf.predict(X_test)\n",
        "\n",
        "# get the accuracy\n",
        "print (accuracy_score(y_test, predicted))"
      ],
      "execution_count": null,
      "outputs": []
    },
    {
      "cell_type": "code",
      "metadata": {
        "id": "eACkx2euQM4Q",
        "colab_type": "code",
        "colab": {}
      },
      "source": [
        "from sklearn.model_selection import train_test_split\n",
        "from numpy import array\n",
        "from keras.models import Sequential\n",
        "from keras.layers import LSTM\n",
        "from keras.layers import Dense\n",
        "from keras.layers import Flatten\n",
        "from keras.layers import TimeDistributed\n",
        "from keras.layers.convolutional import Conv1D\n",
        "from keras.layers.convolutional import MaxPooling1D\n",
        "model = Sequential()\n",
        "\n",
        "#model.add(LSTM(100, activation='relu', input_shape=(None, 403, 128),dropout=0.2,return_sequences=True))\n",
        "#model.add(LSTM(100, activation='relu',dropout=0.2,return_sequences=True))\n",
        "model.add(LSTM(100, activation='relu',dropout=0.2, input_shape=(403, 128)))\n",
        "model.add(Dense(2, activation='softmax'))\n",
        "model.compile(loss='categorical_crossentropy', optimizer='adam', metrics=['accuracy'])\n",
        "\n",
        "X_train, X_test, y_train, y_test = train_test_split(X, y, test_size=0.10, random_state=42, stratify=y)\n",
        "\n",
        "# fit model\n",
        "model.fit(X_train, y_train, epochs=20, batch_size=10,validation_split=0.1, verbose=1,shuffle=True)"
      ],
      "execution_count": null,
      "outputs": []
    },
    {
      "cell_type": "code",
      "metadata": {
        "id": "uKrwYWcyFugZ",
        "colab_type": "code",
        "colab": {
          "base_uri": "https://localhost:8080/",
          "height": 238
        },
        "outputId": "f211fc92-5d58-49bc-8248-6a9c1410f7b4"
      },
      "source": [
        "resdict, mfcc=EmbeddingsFromVGGish(vgg, y, sr)"
      ],
      "execution_count": null,
      "outputs": [
        {
          "output_type": "stream",
          "text": [
            "Log Mel Spectrogram example:  [[-4.53223186 -4.54017722 -4.45597159 ... -3.2225904  -3.49991984\n",
            "  -3.31361217]\n",
            " [-3.31909418 -3.11775572 -2.85512524 ... -1.5442239  -1.57882056\n",
            "  -0.93717676]\n",
            " [-1.2115765  -1.01745413 -1.17641331 ... -0.88772746 -1.20680836\n",
            "  -0.51585308]\n",
            " ...\n",
            " [-1.0235414  -0.82033893 -1.17892233 ... -0.61147473 -0.70950149\n",
            "  -0.44471359]\n",
            " [-1.52851996 -1.13226476 -1.19452234 ... -0.80295262 -0.84248497\n",
            "  -0.68740194]\n",
            " [-0.56566763 -0.48619565 -0.78828106 ... -1.26036457 -1.02003436\n",
            "  -0.743999  ]]\n"
          ],
          "name": "stdout"
        }
      ]
    },
    {
      "cell_type": "code",
      "metadata": {
        "id": "LzVitBVAZkbG",
        "colab_type": "code",
        "colab": {
          "base_uri": "https://localhost:8080/",
          "height": 221
        },
        "outputId": "779a126c-6721-4645-b3d5-11a2f8d026e8"
      },
      "source": [
        "for k in resdict:\n",
        "  print (k, resdict[k].shape)"
      ],
      "execution_count": null,
      "outputs": [
        {
          "output_type": "stream",
          "text": [
            "conv1 (403, 96, 64, 64)\n",
            "pool1 (403, 48, 32, 64)\n",
            "conv2 (403, 48, 32, 128)\n",
            "pool2 (403, 24, 16, 128)\n",
            "conv3 (403, 24, 16, 256)\n",
            "pool3 (403, 12, 8, 256)\n",
            "conv4 (403, 12, 8, 512)\n",
            "pool4 (403, 6, 4, 512)\n",
            "fc1 (403, 4096)\n",
            "fc2 (403, 128)\n",
            "embedding (403, 128)\n",
            "features (403, 96, 64)\n"
          ],
          "name": "stdout"
        }
      ]
    },
    {
      "cell_type": "code",
      "metadata": {
        "id": "aQaZiCRWJr7B",
        "colab_type": "code",
        "colab": {
          "base_uri": "https://localhost:8080/",
          "height": 238
        },
        "outputId": "624f8c5c-fef2-4b8b-b9bd-afa73bbe5d8c"
      },
      "source": [
        "resdict['embedding']"
      ],
      "execution_count": null,
      "outputs": [
        {
          "output_type": "execute_result",
          "data": {
            "text/plain": [
              "array([[0.        , 0.11972736, 0.15579608, ..., 0.        , 0.        ,\n",
              "        0.        ],\n",
              "       [0.        , 0.07697538, 0.17021197, ..., 0.        , 0.        ,\n",
              "        0.        ],\n",
              "       [0.        , 0.10193285, 0.13133094, ..., 0.        , 0.        ,\n",
              "        0.        ],\n",
              "       ...,\n",
              "       [0.        , 0.        , 0.22157854, ..., 0.        , 0.        ,\n",
              "        0.14549986],\n",
              "       [0.        , 0.        , 0.19137514, ..., 0.        , 0.        ,\n",
              "        0.16914344],\n",
              "       [0.        , 0.        , 0.21483588, ..., 0.        , 0.        ,\n",
              "        0.20468265]], dtype=float32)"
            ]
          },
          "metadata": {
            "tags": []
          },
          "execution_count": 32
        }
      ]
    },
    {
      "cell_type": "code",
      "metadata": {
        "id": "7y5UrMW0DDFR",
        "colab_type": "code",
        "colab": {
          "base_uri": "https://localhost:8080/",
          "height": 34
        },
        "outputId": "a75f92a4-158a-4853-b5b6-c8ff1f8cff7f"
      },
      "source": [
        "sr"
      ],
      "execution_count": null,
      "outputs": [
        {
          "output_type": "execute_result",
          "data": {
            "text/plain": [
              "22050"
            ]
          },
          "metadata": {
            "tags": []
          },
          "execution_count": 60
        }
      ]
    },
    {
      "cell_type": "code",
      "metadata": {
        "id": "8J6issgHC9ml",
        "colab_type": "code",
        "colab": {
          "base_uri": "https://localhost:8080/",
          "height": 34
        },
        "outputId": "2c0c94a7-6947-417a-8915-2600729db47d"
      },
      "source": [
        "len(y)"
      ],
      "execution_count": null,
      "outputs": [
        {
          "output_type": "execute_result",
          "data": {
            "text/plain": [
              "110250"
            ]
          },
          "metadata": {
            "tags": []
          },
          "execution_count": 59
        }
      ]
    },
    {
      "cell_type": "code",
      "metadata": {
        "id": "P4jkg0V-BCLL",
        "colab_type": "code",
        "colab": {
          "base_uri": "https://localhost:8080/",
          "height": 279
        },
        "outputId": "db3f1571-8a92-479e-8c7e-92dc3b5533a5"
      },
      "source": [
        "plt.plot(y)\n",
        "# label the axes\n",
        "plt.ylabel(\"Amplitude\")\n",
        "plt.xlabel(\"Sample\")\n",
        "# set the title  \n",
        "#plt.title(\"Sample Wav\")\n",
        "# display the plot\n",
        "plt.show()"
      ],
      "execution_count": null,
      "outputs": [
        {
          "output_type": "display_data",
          "data": {
            "image/png": "[encoded data removed]",
            "text/plain": [
              "<Figure size 432x288 with 1 Axes>"
            ]
          },
          "metadata": {
            "tags": []
          }
        }
      ]
    },
    {
      "cell_type": "code",
      "metadata": {
        "id": "cR0txr28Zm1C",
        "colab_type": "code",
        "colab": {
          "base_uri": "https://localhost:8080/",
          "height": 283
        },
        "outputId": "24949247-ed2b-491c-a23c-cee5fc5ec3f6"
      },
      "source": [
        "import matplotlib.pyplot as plt\n",
        "plt.imshow(resdict['embedding'], \n",
        "           aspect='auto')\n",
        "plt.xlabel('Embedding Dimension')\n",
        "plt.ylabel('Time (frame number)')\n",
        "#plt.title('Embedded Representation for Sinusoid Test Signal')\n",
        "plt.grid(False);"
      ],
      "execution_count": null,
      "outputs": [
        {
          "output_type": "display_data",
          "data": {
            "image/png": "[encoded data removed]",
            "text/plain": [
              "<Figure size 432x288 with 1 Axes>"
            ]
          },
          "metadata": {
            "tags": []
          }
        }
      ]
    },
    {
      "cell_type": "code",
      "metadata": {
        "id": "xVxIxFZ60bA2",
        "colab_type": "code",
        "colab": {
          "base_uri": "https://localhost:8080/",
          "height": 282
        },
        "outputId": "b072edb1-84c9-4a85-e305-b050b2ddf3f1"
      },
      "source": [
        "import matplotlib.pyplot as plt\n",
        "plt.imshow(mfcc, \n",
        "           aspect='auto')\n",
        "plt.xlabel('Time')\n",
        "plt.ylabel('Frequency')\n",
        "#plt.title('Mel Frequency Cepstral Coefficients (MFCC)')\n",
        "plt.grid(False);"
      ],
      "execution_count": null,
      "outputs": [
        {
          "output_type": "display_data",
          "data": {
            "image/png": "[encoded data removed]",
            "text/plain": [
              "<Figure size 432x288 with 1 Axes>"
            ]
          },
          "metadata": {
            "tags": []
          }
        }
      ]
    },
    {
      "cell_type": "code",
      "metadata": {
        "id": "xrWszwpEzyya",
        "colab_type": "code",
        "colab": {
          "base_uri": "https://localhost:8080/",
          "height": 353
        },
        "outputId": "c19b58af-0706-41f0-f72e-e8953368c588"
      },
      "source": [
        "plt.figure(figsize = (10, ))\n",
        "plt.imshow(resdict['embedding'])\n",
        "plt.title('Log Spectrogram')"
      ],
      "execution_count": null,
      "outputs": [
        {
          "output_type": "execute_result",
          "data": {
            "text/plain": [
              "Text(0.5, 1.0, 'Log Spectrogram')"
            ]
          },
          "metadata": {
            "tags": []
          },
          "execution_count": 41
        },
        {
          "output_type": "display_data",
          "data": {
            "image/png": "[encoded data removed]",
            "text/plain": [
              "<Figure size 720x360 with 1 Axes>"
            ]
          },
          "metadata": {
            "tags": []
          }
        }
      ]
    },
    {
      "cell_type": "code",
      "metadata": {
        "id": "A3Oa-b69zTe5",
        "colab_type": "code",
        "colab": {
          "base_uri": "https://localhost:8080/",
          "height": 353
        },
        "outputId": "ed3a5da9-1c2b-4696-db34-737daaa1cb86"
      },
      "source": [
        "plt.figure(figsize = (5, 5))\n",
        "plt.imshow(mfcc)\n",
        "plt.title('Log Spectrogram')"
      ],
      "execution_count": null,
      "outputs": [
        {
          "output_type": "execute_result",
          "data": {
            "text/plain": [
              "Text(0.5, 1.0, 'Log Spectrogram')"
            ]
          },
          "metadata": {
            "tags": []
          },
          "execution_count": 35
        },
        {
          "output_type": "display_data",
          "data": {
            "image/png": "[encoded data removed]",
            "text/plain": [
              "<Figure size 360x360 with 1 Axes>"
            ]
          },
          "metadata": {
            "tags": []
          }
        }
      ]
    },
    {
      "cell_type": "code",
      "metadata": {
        "id": "xtQlzjSnGkel",
        "colab_type": "code",
        "colab": {
          "base_uri": "https://localhost:8080/",
          "height": 232
        },
        "outputId": "219fc377-dd9e-4cae-fb5d-dc286a5fcefa"
      },
      "source": [
        "plt.imshow(input_batch[0], \n",
        "           aspect='auto', cmap='binary')\n",
        "plt.xlabel('MFCC')\n",
        "plt.ylabel('Time (frame number)')\n",
        "plt.title('MFCC')\n",
        "plt.grid(False);"
      ],
      "execution_count": null,
      "outputs": [
        {
          "output_type": "error",
          "ename": "NameError",
          "evalue": "ignored",
          "traceback": [
            "\u001b[0;31m---------------------------------------------------------------------------\u001b[0m",
            "\u001b[0;31mNameError\u001b[0m                                 Traceback (most recent call last)",
            "\u001b[0;32m<ipython-input-1-90f5d4915707>\u001b[0m in \u001b[0;36m<module>\u001b[0;34m()\u001b[0m\n\u001b[0;32m----> 1\u001b[0;31m plt.imshow(input_batch[0], \n\u001b[0m\u001b[1;32m      2\u001b[0m            aspect='auto', cmap='binary')\n\u001b[1;32m      3\u001b[0m \u001b[0mplt\u001b[0m\u001b[0;34m.\u001b[0m\u001b[0mxlabel\u001b[0m\u001b[0;34m(\u001b[0m\u001b[0;34m'MFCC'\u001b[0m\u001b[0;34m)\u001b[0m\u001b[0;34m\u001b[0m\u001b[0;34m\u001b[0m\u001b[0m\n\u001b[1;32m      4\u001b[0m \u001b[0mplt\u001b[0m\u001b[0;34m.\u001b[0m\u001b[0mylabel\u001b[0m\u001b[0;34m(\u001b[0m\u001b[0;34m'Time (frame number)'\u001b[0m\u001b[0;34m)\u001b[0m\u001b[0;34m\u001b[0m\u001b[0;34m\u001b[0m\u001b[0m\n\u001b[1;32m      5\u001b[0m \u001b[0mplt\u001b[0m\u001b[0;34m.\u001b[0m\u001b[0mtitle\u001b[0m\u001b[0;34m(\u001b[0m\u001b[0;34m'MFCC'\u001b[0m\u001b[0;34m)\u001b[0m\u001b[0;34m\u001b[0m\u001b[0;34m\u001b[0m\u001b[0m\n",
            "\u001b[0;31mNameError\u001b[0m: name 'plt' is not defined"
          ]
        }
      ]
    },
    {
      "cell_type": "code",
      "metadata": {
        "id": "tqrQ42GDZqrq",
        "colab_type": "code",
        "colab": {}
      },
      "source": [
        "# Note : Tested with Chrome 66 -- might not work with all browsers :-(\n",
        "\n",
        "# Let's visualize our graph!\n",
        "# Tip: to make your graph more readable you can add a\n",
        "# name=\"...\" parameter to the individual Ops.\n",
        "\n",
        "# src: https://github.com/tensorflow/tensorflow/blob/master/tensorflow/examples/tutorials/deepdream/deepdream.ipynb\n",
        "\n",
        "import numpy as np\n",
        "import tensorflow as tf\n",
        "from IPython.display import clear_output, Image, display, HTML\n",
        "\n",
        "def strip_consts(graph_def, max_const_size=32):\n",
        "    \"\"\"Strip large constant values from graph_def.\"\"\"\n",
        "    strip_def = tf.GraphDef()\n",
        "    for n0 in graph_def.node:\n",
        "        n = strip_def.node.add() \n",
        "        n.MergeFrom(n0)\n",
        "        if n.op == 'Const':\n",
        "            tensor = n.attr['value'].tensor\n",
        "            size = len(tensor.tensor_content)\n",
        "            if size > max_const_size:\n",
        "                tensor.tensor_content = \"<stripped %d bytes>\"%size\n",
        "    return strip_def\n",
        "\n",
        "def show_graph(graph_def, max_const_size=32):\n",
        "    \"\"\"Visualize TensorFlow graph.\"\"\"\n",
        "    if hasattr(graph_def, 'as_graph_def'):\n",
        "        graph_def = graph_def.as_graph_def()\n",
        "    strip_def = strip_consts(graph_def, max_const_size=max_const_size)\n",
        "    code = \"\"\"\n",
        "        <script>\n",
        "          function load() {{\n",
        "            document.getElementById(\"{id}\").pbtxt = {data};\n",
        "          }}\n",
        "        </script>\n",
        "        <link rel=\"import\" href=\"https://tensorboard.appspot.com/tf-graph-basic.build.html\" onload=load()>\n",
        "        <div style=\"height:600px\">\n",
        "          <tf-graph-basic id=\"{id}\"></tf-graph-basic>\n",
        "        </div>\n",
        "    \"\"\".format(data=repr(str(strip_def)), id='graph'+str(np.random.rand()))\n",
        "\n",
        "    iframe = \"\"\"\n",
        "        <iframe seamless style=\"width:1200px;height:620px;border:0\" srcdoc=\"{}\"></iframe>\n",
        "    \"\"\".format(code.replace('\"', '&quot;'))\n",
        "    display(HTML(iframe))"
      ],
      "execution_count": null,
      "outputs": []
    }
  ]
}